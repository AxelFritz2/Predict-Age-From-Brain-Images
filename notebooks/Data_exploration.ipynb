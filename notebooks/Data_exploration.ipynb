{
 "cells": [
  {
   "cell_type": "code",
   "execution_count": 114,
   "id": "initial_id",
   "metadata": {
    "collapsed": true,
    "ExecuteTime": {
     "end_time": "2024-02-04T08:33:46.752704Z",
     "start_time": "2024-02-04T08:33:46.464401Z"
    }
   },
   "outputs": [],
   "source": [
    "import sys\n",
    "import statsmodels.api as sm\n",
    "from sklearn.metrics import root_mean_squared_error\n",
    "from sklearn.ensemble import GradientBoostingRegressor\n",
    "from xgboost import XGBRegressor\n",
    "import pandas as pd\n",
    "import numpy as np\n",
    "sys.path.append('./')\n",
    "import problem"
   ]
  },
  {
   "cell_type": "markdown",
   "source": [
    "# Import des données"
   ],
   "metadata": {
    "collapsed": false
   },
   "id": "1ba5cbccbd236c15"
  },
  {
   "cell_type": "code",
   "execution_count": 80,
   "outputs": [],
   "source": [
    "X_train, y_train = problem.get_train_data(True)\n",
    "X_test, y_test = problem.get_test_data(True)\n",
    "\n",
    "assert X_train.shape[1] == 284 + 331695"
   ],
   "metadata": {
    "collapsed": false,
    "ExecuteTime": {
     "end_time": "2024-02-04T08:24:23.759963Z",
     "start_time": "2024-02-04T08:24:13.353387Z"
    }
   },
   "id": "c310f24576545657"
  },
  {
   "cell_type": "markdown",
   "source": [
    "# Récupération des ROI"
   ],
   "metadata": {
    "collapsed": false
   },
   "id": "2d5dcdeb12014872"
  },
  {
   "cell_type": "code",
   "execution_count": 228,
   "outputs": [],
   "source": [
    "ROI_train = pd.read_csv(\"../data/train_rois.csv\")\n",
    "ROI_test = pd.read_csv(\"../data/test_rois.csv\")"
   ],
   "metadata": {
    "collapsed": false,
    "ExecuteTime": {
     "end_time": "2024-02-04T16:19:14.448210Z",
     "start_time": "2024-02-04T16:19:14.408385Z"
    }
   },
   "id": "f3e3f6a31b08b72"
  },
  {
   "cell_type": "code",
   "execution_count": 229,
   "outputs": [
    {
     "data": {
      "text/plain": "     participant_id     CSF_Vol      GM_Vol      WM_Vol  l3thVen_GM_Vol  \\\n0               651  334.031002  603.083565  560.465707        0.046239   \n1               431  300.991328  603.101354  594.425495        0.052599   \n2               398  252.410342  641.965684  604.320324        0.063052   \n3               419  402.533442  604.978032  490.709738        0.043962   \n4               627  409.460047  579.029937  509.311974        0.042226   \n..              ...         ...         ...         ...             ...   \n352             126  354.368717  603.612277  538.287176        0.039361   \n353             278  202.368505  726.632802  570.416514        0.075745   \n354             142  347.532891  619.916238  531.700721        0.042164   \n355             486  376.885243  557.122676  564.244986        0.077834   \n356             292  240.494261  713.561284  544.447354        0.149486   \n\n     r3thVen_GM_Vol  l4thVen_GM_Vol  r4thVen_GM_Vol  lAcc_GM_Vol  rAcc_GM_Vol  \\\n0          0.052240        0.063827        0.068097     0.419533     0.427702   \n1          0.047901        0.088186        0.105241     0.373451     0.377817   \n2          0.051575        0.083113        0.076834     0.447264     0.465415   \n3          0.041684        0.089264        0.083791     0.391540     0.388656   \n4          0.036072        0.073829        0.081725     0.339043     0.358513   \n..              ...             ...             ...          ...          ...   \n352        0.039335        0.060274        0.057841     0.431451     0.417681   \n353        0.044148        0.074403        0.063508     0.455139     0.451087   \n354        0.036127        0.068018        0.056144     0.375827     0.397191   \n355        0.041442        0.081778        0.092392     0.466365     0.467192   \n356        0.105400        0.080640        0.079728     0.506300     0.508516   \n\n     ...  lSupParLo_CSF_Vol  rSupParLo_CSF_Vol  lSupTemGy_CSF_Vol  \\\n0    ...           9.417022           8.434683           2.347495   \n1    ...           7.536400           9.255206           1.916260   \n2    ...           4.173962           4.718189           1.629146   \n3    ...           9.709334           8.910621           2.647267   \n4    ...           9.136128           9.851541           3.001734   \n..   ...                ...                ...                ...   \n352  ...           8.160665           9.731094           2.176555   \n353  ...           4.303661           4.670829           1.475882   \n354  ...           8.357738           8.542951           2.464557   \n355  ...           9.664075          10.025763           2.232142   \n356  ...           4.627744           4.707579           1.808898   \n\n     rSupTemGy_CSF_Vol  lTemPo_CSF_Vol  rTemPo_CSF_Vol  lInfFroAngGy_CSF_Vol  \\\n0             2.171560        5.581092        5.706735              1.890379   \n1             2.486424        4.316001        4.436970              1.498470   \n2             2.401178        4.425915        5.277551              1.237723   \n3             2.810882        5.631827        6.304696              2.004819   \n4             2.822341        6.769050        6.473654              2.135641   \n..                 ...             ...             ...                   ...   \n352           2.282556        4.437240        4.504228              1.635577   \n353           1.404434        3.198998        3.017578              1.199771   \n354           2.947965        5.786969        6.389739              1.739823   \n355           2.967895        5.573102        5.070158              1.794367   \n356           2.281597        4.192093        5.280839              1.361957   \n\n     rInfFroAngGy_CSF_Vol  lTemTraGy_CSF_Vol  rTemTraGy_CSF_Vol  \n0                1.612733           0.282384           0.266220  \n1                1.539997           0.353374           0.321598  \n2                1.587169           0.268964           0.222488  \n3                1.836838           0.414907           0.470546  \n4                2.037486           0.418933           0.439689  \n..                    ...                ...                ...  \n352              1.413291           0.353791           0.299222  \n353              1.163728           0.072432           0.095027  \n354              1.873484           0.292447           0.436121  \n355              1.665238           0.270916           0.268293  \n356              1.447199           0.235381           0.247071  \n\n[357 rows x 288 columns]",
      "text/html": "<div>\n<style scoped>\n    .dataframe tbody tr th:only-of-type {\n        vertical-align: middle;\n    }\n\n    .dataframe tbody tr th {\n        vertical-align: top;\n    }\n\n    .dataframe thead th {\n        text-align: right;\n    }\n</style>\n<table border=\"1\" class=\"dataframe\">\n  <thead>\n    <tr style=\"text-align: right;\">\n      <th></th>\n      <th>participant_id</th>\n      <th>CSF_Vol</th>\n      <th>GM_Vol</th>\n      <th>WM_Vol</th>\n      <th>l3thVen_GM_Vol</th>\n      <th>r3thVen_GM_Vol</th>\n      <th>l4thVen_GM_Vol</th>\n      <th>r4thVen_GM_Vol</th>\n      <th>lAcc_GM_Vol</th>\n      <th>rAcc_GM_Vol</th>\n      <th>...</th>\n      <th>lSupParLo_CSF_Vol</th>\n      <th>rSupParLo_CSF_Vol</th>\n      <th>lSupTemGy_CSF_Vol</th>\n      <th>rSupTemGy_CSF_Vol</th>\n      <th>lTemPo_CSF_Vol</th>\n      <th>rTemPo_CSF_Vol</th>\n      <th>lInfFroAngGy_CSF_Vol</th>\n      <th>rInfFroAngGy_CSF_Vol</th>\n      <th>lTemTraGy_CSF_Vol</th>\n      <th>rTemTraGy_CSF_Vol</th>\n    </tr>\n  </thead>\n  <tbody>\n    <tr>\n      <th>0</th>\n      <td>651</td>\n      <td>334.031002</td>\n      <td>603.083565</td>\n      <td>560.465707</td>\n      <td>0.046239</td>\n      <td>0.052240</td>\n      <td>0.063827</td>\n      <td>0.068097</td>\n      <td>0.419533</td>\n      <td>0.427702</td>\n      <td>...</td>\n      <td>9.417022</td>\n      <td>8.434683</td>\n      <td>2.347495</td>\n      <td>2.171560</td>\n      <td>5.581092</td>\n      <td>5.706735</td>\n      <td>1.890379</td>\n      <td>1.612733</td>\n      <td>0.282384</td>\n      <td>0.266220</td>\n    </tr>\n    <tr>\n      <th>1</th>\n      <td>431</td>\n      <td>300.991328</td>\n      <td>603.101354</td>\n      <td>594.425495</td>\n      <td>0.052599</td>\n      <td>0.047901</td>\n      <td>0.088186</td>\n      <td>0.105241</td>\n      <td>0.373451</td>\n      <td>0.377817</td>\n      <td>...</td>\n      <td>7.536400</td>\n      <td>9.255206</td>\n      <td>1.916260</td>\n      <td>2.486424</td>\n      <td>4.316001</td>\n      <td>4.436970</td>\n      <td>1.498470</td>\n      <td>1.539997</td>\n      <td>0.353374</td>\n      <td>0.321598</td>\n    </tr>\n    <tr>\n      <th>2</th>\n      <td>398</td>\n      <td>252.410342</td>\n      <td>641.965684</td>\n      <td>604.320324</td>\n      <td>0.063052</td>\n      <td>0.051575</td>\n      <td>0.083113</td>\n      <td>0.076834</td>\n      <td>0.447264</td>\n      <td>0.465415</td>\n      <td>...</td>\n      <td>4.173962</td>\n      <td>4.718189</td>\n      <td>1.629146</td>\n      <td>2.401178</td>\n      <td>4.425915</td>\n      <td>5.277551</td>\n      <td>1.237723</td>\n      <td>1.587169</td>\n      <td>0.268964</td>\n      <td>0.222488</td>\n    </tr>\n    <tr>\n      <th>3</th>\n      <td>419</td>\n      <td>402.533442</td>\n      <td>604.978032</td>\n      <td>490.709738</td>\n      <td>0.043962</td>\n      <td>0.041684</td>\n      <td>0.089264</td>\n      <td>0.083791</td>\n      <td>0.391540</td>\n      <td>0.388656</td>\n      <td>...</td>\n      <td>9.709334</td>\n      <td>8.910621</td>\n      <td>2.647267</td>\n      <td>2.810882</td>\n      <td>5.631827</td>\n      <td>6.304696</td>\n      <td>2.004819</td>\n      <td>1.836838</td>\n      <td>0.414907</td>\n      <td>0.470546</td>\n    </tr>\n    <tr>\n      <th>4</th>\n      <td>627</td>\n      <td>409.460047</td>\n      <td>579.029937</td>\n      <td>509.311974</td>\n      <td>0.042226</td>\n      <td>0.036072</td>\n      <td>0.073829</td>\n      <td>0.081725</td>\n      <td>0.339043</td>\n      <td>0.358513</td>\n      <td>...</td>\n      <td>9.136128</td>\n      <td>9.851541</td>\n      <td>3.001734</td>\n      <td>2.822341</td>\n      <td>6.769050</td>\n      <td>6.473654</td>\n      <td>2.135641</td>\n      <td>2.037486</td>\n      <td>0.418933</td>\n      <td>0.439689</td>\n    </tr>\n    <tr>\n      <th>...</th>\n      <td>...</td>\n      <td>...</td>\n      <td>...</td>\n      <td>...</td>\n      <td>...</td>\n      <td>...</td>\n      <td>...</td>\n      <td>...</td>\n      <td>...</td>\n      <td>...</td>\n      <td>...</td>\n      <td>...</td>\n      <td>...</td>\n      <td>...</td>\n      <td>...</td>\n      <td>...</td>\n      <td>...</td>\n      <td>...</td>\n      <td>...</td>\n      <td>...</td>\n      <td>...</td>\n    </tr>\n    <tr>\n      <th>352</th>\n      <td>126</td>\n      <td>354.368717</td>\n      <td>603.612277</td>\n      <td>538.287176</td>\n      <td>0.039361</td>\n      <td>0.039335</td>\n      <td>0.060274</td>\n      <td>0.057841</td>\n      <td>0.431451</td>\n      <td>0.417681</td>\n      <td>...</td>\n      <td>8.160665</td>\n      <td>9.731094</td>\n      <td>2.176555</td>\n      <td>2.282556</td>\n      <td>4.437240</td>\n      <td>4.504228</td>\n      <td>1.635577</td>\n      <td>1.413291</td>\n      <td>0.353791</td>\n      <td>0.299222</td>\n    </tr>\n    <tr>\n      <th>353</th>\n      <td>278</td>\n      <td>202.368505</td>\n      <td>726.632802</td>\n      <td>570.416514</td>\n      <td>0.075745</td>\n      <td>0.044148</td>\n      <td>0.074403</td>\n      <td>0.063508</td>\n      <td>0.455139</td>\n      <td>0.451087</td>\n      <td>...</td>\n      <td>4.303661</td>\n      <td>4.670829</td>\n      <td>1.475882</td>\n      <td>1.404434</td>\n      <td>3.198998</td>\n      <td>3.017578</td>\n      <td>1.199771</td>\n      <td>1.163728</td>\n      <td>0.072432</td>\n      <td>0.095027</td>\n    </tr>\n    <tr>\n      <th>354</th>\n      <td>142</td>\n      <td>347.532891</td>\n      <td>619.916238</td>\n      <td>531.700721</td>\n      <td>0.042164</td>\n      <td>0.036127</td>\n      <td>0.068018</td>\n      <td>0.056144</td>\n      <td>0.375827</td>\n      <td>0.397191</td>\n      <td>...</td>\n      <td>8.357738</td>\n      <td>8.542951</td>\n      <td>2.464557</td>\n      <td>2.947965</td>\n      <td>5.786969</td>\n      <td>6.389739</td>\n      <td>1.739823</td>\n      <td>1.873484</td>\n      <td>0.292447</td>\n      <td>0.436121</td>\n    </tr>\n    <tr>\n      <th>355</th>\n      <td>486</td>\n      <td>376.885243</td>\n      <td>557.122676</td>\n      <td>564.244986</td>\n      <td>0.077834</td>\n      <td>0.041442</td>\n      <td>0.081778</td>\n      <td>0.092392</td>\n      <td>0.466365</td>\n      <td>0.467192</td>\n      <td>...</td>\n      <td>9.664075</td>\n      <td>10.025763</td>\n      <td>2.232142</td>\n      <td>2.967895</td>\n      <td>5.573102</td>\n      <td>5.070158</td>\n      <td>1.794367</td>\n      <td>1.665238</td>\n      <td>0.270916</td>\n      <td>0.268293</td>\n    </tr>\n    <tr>\n      <th>356</th>\n      <td>292</td>\n      <td>240.494261</td>\n      <td>713.561284</td>\n      <td>544.447354</td>\n      <td>0.149486</td>\n      <td>0.105400</td>\n      <td>0.080640</td>\n      <td>0.079728</td>\n      <td>0.506300</td>\n      <td>0.508516</td>\n      <td>...</td>\n      <td>4.627744</td>\n      <td>4.707579</td>\n      <td>1.808898</td>\n      <td>2.281597</td>\n      <td>4.192093</td>\n      <td>5.280839</td>\n      <td>1.361957</td>\n      <td>1.447199</td>\n      <td>0.235381</td>\n      <td>0.247071</td>\n    </tr>\n  </tbody>\n</table>\n<p>357 rows × 288 columns</p>\n</div>"
     },
     "execution_count": 229,
     "metadata": {},
     "output_type": "execute_result"
    }
   ],
   "source": [
    "ROI_train"
   ],
   "metadata": {
    "collapsed": false,
    "ExecuteTime": {
     "end_time": "2024-02-04T16:19:20.220606Z",
     "start_time": "2024-02-04T16:19:20.205084Z"
    }
   },
   "id": "2ef5272d4584eb42"
  },
  {
   "cell_type": "code",
   "execution_count": 89,
   "outputs": [],
   "source": [
    "ROI_train = ROI_train.loc[:, 'l3thVen_GM_Vol':]\n",
    "ROI_test = ROI_test.loc[:, 'l3thVen_GM_Vol':]"
   ],
   "metadata": {
    "collapsed": false,
    "ExecuteTime": {
     "end_time": "2024-02-04T08:26:07.935783Z",
     "start_time": "2024-02-04T08:26:07.924878Z"
    }
   },
   "id": "29dc264230f1fde0"
  },
  {
   "cell_type": "code",
   "execution_count": 90,
   "outputs": [],
   "source": [
    "GM_features = [x for x in ROI_train.columns if 'GM' in x ]\n",
    "WM_features = [x for x in ROI_train.columns if 'WM' in x ]\n",
    "CSF_features = [x for x in ROI_train.columns if 'CSF' in x ]"
   ],
   "metadata": {
    "collapsed": false,
    "ExecuteTime": {
     "end_time": "2024-02-04T08:26:08.440659Z",
     "start_time": "2024-02-04T08:26:08.433479Z"
    }
   },
   "id": "ec133e6229123eb3"
  },
  {
   "cell_type": "markdown",
   "source": [
    "# Régression Linéaire"
   ],
   "metadata": {
    "collapsed": false
   },
   "id": "8cf669c6ccc4d565"
  },
  {
   "cell_type": "code",
   "execution_count": 70,
   "outputs": [],
   "source": [
    "ROI_train = sm.add_constant(ROI_train)\n",
    "\n",
    "model_stats = sm.OLS(y_train, ROI_train)\n",
    "\n",
    "results = model_stats.fit()"
   ],
   "metadata": {
    "collapsed": false,
    "ExecuteTime": {
     "end_time": "2024-02-03T19:13:08.664640Z",
     "start_time": "2024-02-03T19:13:07.933502Z"
    }
   },
   "id": "bcaea6c60beeddc1"
  },
  {
   "cell_type": "code",
   "execution_count": 71,
   "outputs": [
    {
     "name": "stdout",
     "output_type": "stream",
     "text": [
      "                            OLS Regression Results                            \n",
      "==============================================================================\n",
      "Dep. Variable:                      y   R-squared:                       0.973\n",
      "Model:                            OLS   Adj. R-squared:                  0.872\n",
      "Method:                 Least Squares   F-statistic:                     9.650\n",
      "Date:                Sat, 03 Feb 2024   Prob (F-statistic):           6.65e-23\n",
      "Time:                        20:13:08   Log-Likelihood:                -855.62\n",
      "No. Observations:                 357   AIC:                             2273.\n",
      "Df Residuals:                      76   BIC:                             3363.\n",
      "Df Model:                         280                                         \n",
      "Covariance Type:            nonrobust                                         \n",
      "=========================================================================================\n",
      "                            coef    std err          t      P>|t|      [0.025      0.975]\n",
      "-----------------------------------------------------------------------------------------\n",
      "const                   157.9014     34.165      4.622      0.000      89.855     225.947\n",
      "l3thVen_GM_Vol           70.3023     96.843      0.726      0.470    -122.577     263.181\n",
      "r3thVen_GM_Vol         -114.0655    144.575     -0.789      0.433    -402.012     173.881\n",
      "l4thVen_GM_Vol           38.5740    118.043      0.327      0.745    -196.529     273.677\n",
      "r4thVen_GM_Vol         -124.8401    101.163     -1.234      0.221    -326.324      76.644\n",
      "lAcc_GM_Vol             -28.1345     30.359     -0.927      0.357     -88.599      32.331\n",
      "rAcc_GM_Vol             -21.7171     30.044     -0.723      0.472     -81.554      38.120\n",
      "lAmy_GM_Vol               7.4478     17.381      0.428      0.670     -27.170      42.066\n",
      "rAmy_GM_Vol             -13.9682     20.997     -0.665      0.508     -55.788      27.851\n",
      "lBst_GM_Vol              18.6247     14.590      1.277      0.206     -10.433      47.683\n",
      "rBst_GM_Vol              -1.7546     11.577     -0.152      0.880     -24.812      21.302\n",
      "lCau_GM_Vol             -10.1898      5.717     -1.782      0.079     -21.577       1.197\n",
      "rCau_GM_Vol               6.8168      5.611      1.215      0.228      -4.359      17.993\n",
      "lExtCbe_GM_Vol           -0.3815      0.699     -0.546      0.587      -1.773       1.010\n",
      "rExtCbe_GM_Vol            0.0716      0.761      0.094      0.925      -1.444       1.587\n",
      "lCbeWM_GM_Vol            -3.5131     10.511     -0.334      0.739     -24.447      17.421\n",
      "rCbeWM_GM_Vol             5.0603     11.015      0.459      0.647     -16.878      26.999\n",
      "lCbrWM_GM_Vol             2.5517      3.118      0.818      0.416      -3.658       8.761\n",
      "rCbrWM_GM_Vol             4.0775      3.641      1.120      0.266      -3.174      11.329\n",
      "lCSF_GM_Vol              -2.2973     25.254     -0.091      0.928     -52.594      48.000\n",
      "rCSF_GM_Vol              -6.2437     27.494     -0.227      0.821     -61.003      48.516\n",
      "lHip_GM_Vol             -10.2829      6.624     -1.552      0.125     -23.476       2.911\n",
      "rHip_GM_Vol               6.9619      5.913      1.177      0.243      -4.814      18.738\n",
      "lInfLatVen_GM_Vol      1.216e-10   3.38e-10      0.360      0.720   -5.52e-10    7.95e-10\n",
      "rInfLatVen_GM_Vol       963.0413    619.791      1.554      0.124    -271.379    2197.462\n",
      "lLatVen_GM_Vol          -17.9613      9.456     -1.899      0.061     -36.795       0.872\n",
      "rLatVen_GM_Vol          -18.0072     12.472     -1.444      0.153     -42.848       6.833\n",
      "lPal_GM_Vol              -4.0168     16.007     -0.251      0.803     -35.897      27.864\n",
      "rPal_GM_Vol               1.4368     15.981      0.090      0.929     -30.391      33.265\n",
      "lPut_GM_Vol               3.1366      4.541      0.691      0.492      -5.908      12.181\n",
      "rPut_GM_Vol              -5.7137      4.547     -1.257      0.213     -14.770       3.342\n",
      "lThaPro_GM_Vol            2.3675      2.489      0.951      0.344      -2.589       7.324\n",
      "rThaPro_GM_Vol            0.4743      2.432      0.195      0.846      -4.369       5.318\n",
      "lVenVen_GM_Vol          -18.3780     18.817     -0.977      0.332     -55.855      19.099\n",
      "rVenVen_GM_Vol           41.5629     18.143      2.291      0.025       5.429      77.697\n",
      "lOC_GM_Vol            -1.159e-10   9.12e-11     -1.271      0.208   -2.97e-10    6.57e-11\n",
      "rOC_GM_Vol             -601.7878    235.646     -2.554      0.013   -1071.118    -132.457\n",
      "lCbeLoCbe1-5_GM_Vol       6.2193     10.553      0.589      0.557     -14.799      27.237\n",
      "rCbeLoCbe1-5_GM_Vol      -3.9706     11.663     -0.340      0.734     -27.200      19.259\n",
      "lCbeLoCbe6-7_GM_Vol     -17.4655     21.849     -0.799      0.427     -60.982      26.051\n",
      "rCbeLoCbe6-7_GM_Vol       2.4467     23.112      0.106      0.916     -43.585      48.479\n",
      "lCbeLoCbe8-10_GM_Vol    -13.2361     14.893     -0.889      0.377     -42.899      16.427\n",
      "rCbeLoCbe8-10_GM_Vol     22.5393     19.454      1.159      0.250     -16.207      61.286\n",
      "lBasCbr+FobBr_GM_Vol     -2.7507     23.244     -0.118      0.906     -49.044      43.543\n",
      "rBasCbr+FobBr_GM_Vol     -5.0894     23.262     -0.219      0.827     -51.420      41.241\n",
      "lAntCinGy_GM_Vol         -4.0901      2.635     -1.552      0.125      -9.337       1.157\n",
      "rAntCinGy_GM_Vol          5.0626      2.474      2.047      0.044       0.136       9.990\n",
      "lAntIns_GM_Vol            3.9539      3.872      1.021      0.310      -3.757      11.665\n",
      "rAntIns_GM_Vol           -4.4305      3.966     -1.117      0.267     -12.329       3.468\n",
      "lAntOrbGy_GM_Vol          1.9556      5.723      0.342      0.733      -9.442      13.353\n",
      "rAntOrbGy_GM_Vol         -8.8179      6.148     -1.434      0.156     -21.063       3.427\n",
      "lAngGy_GM_Vol             1.3871      1.306      1.062      0.292      -1.215       3.989\n",
      "rAngGy_GM_Vol             0.4617      1.118      0.413      0.681      -1.765       2.688\n",
      "lCal+Cbr_GM_Vol           0.7937      2.317      0.343      0.733      -3.821       5.409\n",
      "rCal+Cbr_GM_Vol           0.6340      2.964      0.214      0.831      -5.270       6.538\n",
      "lCenOpe_GM_Vol            1.8670      2.827      0.660      0.511      -3.763       7.497\n",
      "rCenOpe_GM_Vol           -5.0501      3.012     -1.677      0.098     -11.049       0.949\n",
      "lCun_GM_Vol              -3.6851      2.314     -1.592      0.115      -8.294       0.924\n",
      "rCun_GM_Vol               3.1451      2.422      1.299      0.198      -1.678       7.968\n",
      "lEnt_GM_Vol              -0.6067      7.334     -0.083      0.934     -15.213      14.000\n",
      "rEnt_GM_Vol              -8.4960      7.424     -1.144      0.256     -23.282       6.290\n",
      "lFroOpe_GM_Vol           -6.7786      4.803     -1.411      0.162     -16.345       2.788\n",
      "rFroOpe_GM_Vol            5.7070      4.906      1.163      0.248      -4.063      15.477\n",
      "lFroPo_GM_Vol            -8.9318      4.474     -1.996      0.049     -17.843      -0.021\n",
      "rFroPo_GM_Vol             1.1800      2.977      0.396      0.693      -4.749       7.109\n",
      "lFusGy_GM_Vol            -2.7770      1.916     -1.449      0.151      -6.593       1.039\n",
      "rFusGy_GM_Vol             2.3114      1.852      1.248      0.216      -1.378       6.001\n",
      "lRecGy_GM_Vol            -1.7042      6.186     -0.276      0.784     -14.024      10.615\n",
      "rRecGy_GM_Vol           -14.7697      7.302     -2.023      0.047     -29.312      -0.227\n",
      "lInfOccGy_GM_Vol          0.7298      1.919      0.380      0.705      -3.091       4.551\n",
      "rInfOccGy_GM_Vol          2.9621      1.972      1.502      0.137      -0.966       6.891\n",
      "lInfTemGy_GM_Vol         -1.6843      1.429     -1.178      0.242      -4.531       1.162\n",
      "rInfTemGy_GM_Vol          0.2722      1.457      0.187      0.852      -2.630       3.175\n",
      "lLinGy_GM_Vol            -0.7331      1.801     -0.407      0.685      -4.320       2.854\n",
      "rLinGy_GM_Vol            -0.0167      1.775     -0.009      0.993      -3.552       3.518\n",
      "lLatOrbGy_GM_Vol          1.0283      5.581      0.184      0.854     -10.086      12.143\n",
      "rLatOrbGy_GM_Vol         -1.4551      4.902     -0.297      0.767     -11.218       8.308\n",
      "lMidCinGy_GM_Vol         -2.1671      2.702     -0.802      0.425      -7.549       3.215\n",
      "rMidCinGy_GM_Vol         -2.9359      2.798     -1.049      0.297      -8.509       2.637\n",
      "lMedFroCbr_GM_Vol        -8.0442      5.196     -1.548      0.126     -18.392       2.304\n",
      "rMedFroCbr_GM_Vol         2.3549      5.275      0.446      0.657      -8.151      12.861\n",
      "lMidFroGy_GM_Vol          1.0729      1.181      0.909      0.366      -1.279       3.425\n",
      "rMidFroGy_GM_Vol          1.2206      0.916      1.332      0.187      -0.605       3.046\n",
      "lMidOccGy_GM_Vol          1.1620      1.996      0.582      0.562      -2.813       5.137\n",
      "rMidOccGy_GM_Vol          1.8495      2.209      0.837      0.405      -2.550       6.249\n",
      "lMedOrbGy_GM_Vol         -1.9070      4.238     -0.450      0.654     -10.348       6.534\n",
      "rMedOrbGy_GM_Vol          6.4257      4.019      1.599      0.114      -1.580      14.431\n",
      "lMedPoCGy_GM_Vol         -5.7182      5.843     -0.979      0.331     -17.355       5.919\n",
      "rMedPoCGy_GM_Vol          6.6302      6.479      1.023      0.309      -6.274      19.535\n",
      "lMedPrcGy_GM_Vol          2.9606      3.597      0.823      0.413      -4.203      10.124\n",
      "rMedPrcGy_GM_Vol          1.7229      3.365      0.512      0.610      -4.979       8.425\n",
      "lSupMedFroGy_GM_Vol      -1.5152      2.255     -0.672      0.504      -6.007       2.976\n",
      "rSupMedFroGy_GM_Vol       4.6651      2.257      2.067      0.042       0.171       9.159\n",
      "lMidTemGy_GM_Vol         -1.4234      1.313     -1.084      0.282      -4.039       1.193\n",
      "rMidTemGy_GM_Vol         -0.7279      1.184     -0.615      0.541      -3.087       1.631\n",
      "lOccPo_GM_Vol            -4.8045      2.528     -1.900      0.061      -9.840       0.231\n",
      "rOccPo_GM_Vol             2.1305      2.850      0.747      0.457      -3.546       7.807\n",
      "lOccFusGy_GM_Vol          1.6799      3.146      0.534      0.595      -4.586       7.946\n",
      "rOccFusGy_GM_Vol         -1.3134      2.863     -0.459      0.648      -7.016       4.389\n",
      "lInfFroGy_GM_Vol         -4.2394      2.638     -1.607      0.112      -9.493       1.014\n",
      "rInfFroGy_GM_Vol         -1.6047      2.382     -0.674      0.503      -6.348       3.139\n",
      "lInfFroOrbGy_GM_Vol       6.7488      5.469      1.234      0.221      -4.143      17.640\n",
      "rInfFroOrbGy_GM_Vol       2.8894      5.604      0.516      0.608      -8.272      14.051\n",
      "lPosCinGy_GM_Vol          0.9788      3.205      0.305      0.761      -5.404       7.362\n",
      "rPosCinGy_GM_Vol         -4.6517      3.353     -1.387      0.169     -11.331       2.027\n",
      "lPCu_GM_Vol              -2.4510      1.363     -1.799      0.076      -5.165       0.263\n",
      "rPCu_GM_Vol               3.3049      1.629      2.029      0.046       0.061       6.549\n",
      "lParHipGy_GM_Vol         10.0444      5.958      1.686      0.096      -1.823      21.912\n",
      "rParHipGy_GM_Vol         -2.1887      4.883     -0.448      0.655     -11.915       7.537\n",
      "lPosIns_GM_Vol           -0.5371      6.695     -0.080      0.936     -13.872      12.798\n",
      "rPosIns_GM_Vol            0.1060      5.057      0.021      0.983      -9.965      10.177\n",
      "lParOpe_GM_Vol            2.9341      3.396      0.864      0.390      -3.829       9.697\n",
      "rParOpe_GM_Vol           -3.9527      4.541     -0.870      0.387     -12.996       5.091\n",
      "lPoCGy_GM_Vol            -0.4790      1.184     -0.405      0.687      -2.838       1.880\n",
      "rPoCGy_GM_Vol            -1.4046      1.234     -1.139      0.258      -3.861       1.052\n",
      "lPosOrbGy_GM_Vol         -5.2805      4.260     -1.240      0.219     -13.765       3.204\n",
      "rPosOrbGy_GM_Vol         -4.6818      4.911     -0.953      0.343     -14.464       5.100\n",
      "lPla_GM_Vol              -3.3314      5.199     -0.641      0.524     -13.685       7.022\n",
      "rPla_GM_Vol              -4.8032      6.976     -0.689      0.493     -18.697       9.091\n",
      "lPrcGy_GM_Vol            -1.1178      1.393     -0.802      0.425      -3.893       1.657\n",
      "rPrcGy_GM_Vol            -0.4585      1.231     -0.372      0.711      -2.910       1.993\n",
      "lTem_GM_Vol              -2.2617      3.339     -0.677      0.500      -8.911       4.388\n",
      "rTem_GM_Vol              -1.5238      5.752     -0.265      0.792     -12.980       9.933\n",
      "lSCA_GM_Vol              13.4034      9.745      1.375      0.173      -6.006      32.813\n",
      "rSCA_GM_Vol               0.8487     10.025      0.085      0.933     -19.118      20.816\n",
      "lSupFroGy_GM_Vol          1.6890      1.114      1.516      0.134      -0.530       3.908\n",
      "rSupFroGy_GM_Vol         -0.6159      1.025     -0.601      0.550      -2.657       1.425\n",
      "lCbr+Mot_GM_Vol          -4.7725      2.354     -2.028      0.046      -9.460      -0.085\n",
      "rCbr+Mot_GM_Vol           1.3134      2.643      0.497      0.621      -3.951       6.578\n",
      "lSupMarGy_GM_Vol         -0.4524      1.434     -0.315      0.753      -3.309       2.404\n",
      "rSupMarGy_GM_Vol          0.5190      1.625      0.319      0.750      -2.717       3.755\n",
      "lSupOccGy_GM_Vol         -0.2877      2.445     -0.118      0.907      -5.158       4.583\n",
      "rSupOccGy_GM_Vol          1.4024      2.282      0.615      0.541      -3.143       5.948\n",
      "lSupParLo_GM_Vol          0.4203      1.176      0.357      0.722      -1.921       2.762\n",
      "rSupParLo_GM_Vol         -0.6286      1.196     -0.526      0.601      -3.010       1.753\n",
      "lSupTemGy_GM_Vol         -0.4577      1.713     -0.267      0.790      -3.869       2.953\n",
      "rSupTemGy_GM_Vol          0.5979      1.670      0.358      0.721      -2.729       3.924\n",
      "lTemPo_GM_Vol             1.7039      1.593      1.070      0.288      -1.469       4.877\n",
      "rTemPo_GM_Vol            -0.6249      1.992     -0.314      0.755      -4.592       3.342\n",
      "lInfFroAngGy_GM_Vol       1.4850      2.609      0.569      0.571      -3.711       6.681\n",
      "rInfFroAngGy_GM_Vol      -4.0855      2.929     -1.395      0.167      -9.918       1.747\n",
      "lTemTraGy_GM_Vol         -6.9250      6.074     -1.140      0.258     -19.023       5.173\n",
      "rTemTraGy_GM_Vol         16.1189      7.631      2.112      0.038       0.921      31.317\n",
      "l3thVen_CSF_Vol         111.1899     65.333      1.702      0.093     -18.932     241.312\n",
      "r3thVen_CSF_Vol        -107.8114     99.167     -1.087      0.280    -305.321      89.698\n",
      "l4thVen_CSF_Vol          27.2067     23.562      1.155      0.252     -19.722      74.135\n",
      "r4thVen_CSF_Vol         -42.9219     23.070     -1.861      0.067     -88.870       3.026\n",
      "lAcc_CSF_Vol            135.5761    604.249      0.224      0.823   -1067.890    1339.042\n",
      "rAcc_CSF_Vol           -851.2357    572.426     -1.487      0.141   -1991.320     288.849\n",
      "lAmy_CSF_Vol             38.4295     80.911      0.475      0.636    -122.718     199.577\n",
      "rAmy_CSF_Vol           -107.8217     66.955     -1.610      0.111    -241.174      25.530\n",
      "lBst_CSF_Vol             -1.7325      4.757     -0.364      0.717     -11.207       7.742\n",
      "rBst_CSF_Vol              2.6988      2.744      0.984      0.328      -2.765       8.163\n",
      "lCau_CSF_Vol             -7.9149     29.511     -0.268      0.789     -66.690      50.861\n",
      "rCau_CSF_Vol            -53.6464     22.212     -2.415      0.018     -97.885      -9.408\n",
      "lExtCbe_CSF_Vol           0.4789      0.953      0.502      0.617      -1.420       2.378\n",
      "rExtCbe_CSF_Vol           1.2438      0.932      1.335      0.186      -0.612       3.099\n",
      "lCbeWM_CSF_Vol          -16.7108     11.790     -1.417      0.160     -40.193       6.771\n",
      "rCbeWM_CSF_Vol            1.6893     16.362      0.103      0.918     -30.898      34.277\n",
      "lCbrWM_CSF_Vol            0.3762      6.074      0.062      0.951     -11.721      12.473\n",
      "rCbrWM_CSF_Vol            7.9511      6.234      1.276      0.206      -4.464      20.366\n",
      "lCSF_CSF_Vol            -23.7916     26.310     -0.904      0.369     -76.192      28.609\n",
      "rCSF_CSF_Vol             13.4762     25.128      0.536      0.593     -36.570      63.523\n",
      "lHip_CSF_Vol             18.6189     16.053      1.160      0.250     -13.354      50.591\n",
      "rHip_CSF_Vol            -18.7246     15.474     -1.210      0.230     -49.543      12.094\n",
      "lInfLatVen_CSF_Vol    -1.068e-11   1.04e-11     -1.032      0.305   -3.13e-11    9.94e-12\n",
      "rInfLatVen_CSF_Vol       64.1687    267.336      0.240      0.811    -468.277     596.614\n",
      "lLatVen_CSF_Vol           0.3118      1.789      0.174      0.862      -3.250       3.874\n",
      "rLatVen_CSF_Vol           0.2679      1.842      0.145      0.885      -3.400       3.936\n",
      "lPal_CSF_Vol           -378.4035    240.506     -1.573      0.120    -857.413     100.605\n",
      "rPal_CSF_Vol            571.0138    385.710      1.480      0.143    -197.193    1339.221\n",
      "lPut_CSF_Vol             23.6874     62.377      0.380      0.705    -100.546     147.921\n",
      "rPut_CSF_Vol              3.1264     85.074      0.037      0.971    -166.312     172.565\n",
      "lThaPro_CSF_Vol         -46.5810     26.074     -1.786      0.078     -98.513       5.351\n",
      "rThaPro_CSF_Vol          46.3596     25.688      1.805      0.075      -4.803      97.522\n",
      "lVenVen_CSF_Vol         -30.9435     17.475     -1.771      0.081     -65.749       3.862\n",
      "rVenVen_CSF_Vol          28.6338     20.382      1.405      0.164     -11.960      69.228\n",
      "lOC_CSF_Vol            9.413e-12   8.25e-12      1.141      0.257   -7.02e-12    2.58e-11\n",
      "rOC_CSF_Vol              13.9786     60.246      0.232      0.817    -106.011     133.968\n",
      "lCbeLoCbe1-5_CSF_Vol     16.1839     12.362      1.309      0.194      -8.437      40.805\n",
      "rCbeLoCbe1-5_CSF_Vol      5.9423     15.369      0.387      0.700     -24.668      36.553\n",
      "lCbeLoCbe6-7_CSF_Vol    -22.4318     28.572     -0.785      0.435     -79.337      34.473\n",
      "rCbeLoCbe6-7_CSF_Vol      1.0579     31.209      0.034      0.973     -61.101      63.216\n",
      "lCbeLoCbe8-10_CSF_Vol   -39.7980     22.057     -1.804      0.075     -83.728       4.132\n",
      "rCbeLoCbe8-10_CSF_Vol    44.7137     33.140      1.349      0.181     -21.290     110.717\n",
      "lBasCbr+FobBr_CSF_Vol   -39.8849     28.709     -1.389      0.169     -97.064      17.294\n",
      "rBasCbr+FobBr_CSF_Vol    48.4338     26.055      1.859      0.067      -3.459     100.327\n",
      "lAntCinGy_CSF_Vol        -7.9078      7.853     -1.007      0.317     -23.549       7.733\n",
      "rAntCinGy_CSF_Vol        -3.8813      7.117     -0.545      0.587     -18.057      10.294\n",
      "lAntIns_CSF_Vol         -15.8361      6.658     -2.378      0.020     -29.097      -2.575\n",
      "rAntIns_CSF_Vol          13.4467      6.553      2.052      0.044       0.395      26.499\n",
      "lAntOrbGy_CSF_Vol         0.6242     11.941      0.052      0.958     -23.157      24.406\n",
      "rAntOrbGy_CSF_Vol        -4.1794     13.086     -0.319      0.750     -30.243      21.885\n",
      "lAngGy_CSF_Vol           -1.5203      2.071     -0.734      0.465      -5.645       2.604\n",
      "rAngGy_CSF_Vol            1.0945      2.090      0.524      0.602      -3.067       5.256\n",
      "lCal+Cbr_CSF_Vol          2.7623      3.118      0.886      0.378      -3.447       8.971\n",
      "rCal+Cbr_CSF_Vol         -6.5010      3.902     -1.666      0.100     -14.273       1.271\n",
      "lCenOpe_CSF_Vol           3.5227      8.943      0.394      0.695     -14.289      21.335\n",
      "rCenOpe_CSF_Vol          -2.0073      8.116     -0.247      0.805     -18.171      14.157\n",
      "lCun_CSF_Vol             -6.6454      4.469     -1.487      0.141     -15.545       2.254\n",
      "rCun_CSF_Vol             -6.2506      4.816     -1.298      0.198     -15.843       3.341\n",
      "lEnt_CSF_Vol              3.6145      5.473      0.660      0.511      -7.286      14.515\n",
      "rEnt_CSF_Vol             -5.3727      5.897     -0.911      0.365     -17.119       6.373\n",
      "lFroOpe_CSF_Vol          16.5211      9.774      1.690      0.095      -2.945      35.987\n",
      "rFroOpe_CSF_Vol         -12.6788     10.415     -1.217      0.227     -33.422       8.064\n",
      "lFroPo_CSF_Vol            2.9610      3.116      0.950      0.345      -3.245       9.167\n",
      "rFroPo_CSF_Vol           -0.9123      2.726     -0.335      0.739      -6.341       4.517\n",
      "lFusGy_CSF_Vol            0.8929      4.720      0.189      0.850      -8.508      10.294\n",
      "rFusGy_CSF_Vol            0.0855      5.558      0.015      0.988     -10.984      11.155\n",
      "lRecGy_CSF_Vol          -10.9006     10.478     -1.040      0.302     -31.770       9.969\n",
      "rRecGy_CSF_Vol            2.7065      9.746      0.278      0.782     -16.705      22.118\n",
      "lInfOccGy_CSF_Vol        -0.1362      3.976     -0.034      0.973      -8.055       7.783\n",
      "rInfOccGy_CSF_Vol        -3.0191      3.737     -0.808      0.422     -10.462       4.424\n",
      "lInfTemGy_CSF_Vol        -0.1779      3.140     -0.057      0.955      -6.432       6.076\n",
      "rInfTemGy_CSF_Vol        -3.2060      2.962     -1.083      0.282      -9.104       2.692\n",
      "lLinGy_CSF_Vol           -2.6202      3.744     -0.700      0.486     -10.076       4.836\n",
      "rLinGy_CSF_Vol           -3.5978      4.090     -0.880      0.382     -11.743       4.548\n",
      "lLatOrbGy_CSF_Vol        -0.5280      8.209     -0.064      0.949     -16.878      15.822\n",
      "rLatOrbGy_CSF_Vol         4.0089      9.963      0.402      0.689     -15.834      23.852\n",
      "lMidCinGy_CSF_Vol        -0.2551      6.030     -0.042      0.966     -12.265      11.755\n",
      "rMidCinGy_CSF_Vol        11.8734     10.050      1.181      0.241      -8.144      31.890\n",
      "lMedFroCbr_CSF_Vol       32.7865     17.092      1.918      0.059      -1.255      66.828\n",
      "rMedFroCbr_CSF_Vol       -7.1354     13.971     -0.511      0.611     -34.962      20.691\n",
      "lMidFroGy_CSF_Vol         1.1990      1.552      0.772      0.442      -1.892       4.290\n",
      "rMidFroGy_CSF_Vol        -2.3017      1.452     -1.586      0.117      -5.193       0.590\n",
      "lMidOccGy_CSF_Vol        -0.6688      3.107     -0.215      0.830      -6.858       5.520\n",
      "rMidOccGy_CSF_Vol         3.5030      4.484      0.781      0.437      -5.427      12.433\n",
      "lMedOrbGy_CSF_Vol        -5.5660      6.094     -0.913      0.364     -17.704       6.572\n",
      "rMedOrbGy_CSF_Vol        16.0983      7.174      2.244      0.028       1.809      30.387\n",
      "lMedPoCGy_CSF_Vol        -1.2089      6.658     -0.182      0.856     -14.469      12.051\n",
      "rMedPoCGy_CSF_Vol         5.6013      5.929      0.945      0.348      -6.207      17.410\n",
      "lMedPrcGy_CSF_Vol        -7.3576      7.777     -0.946      0.347     -22.847       8.132\n",
      "rMedPrcGy_CSF_Vol         4.6178     10.570      0.437      0.663     -16.434      25.670\n",
      "lSupMedFroGy_CSF_Vol      0.2660      5.103      0.052      0.959      -9.898      10.430\n",
      "rSupMedFroGy_CSF_Vol     -0.2762      6.096     -0.045      0.964     -12.418      11.866\n",
      "lMidTemGy_CSF_Vol         2.4684      2.898      0.852      0.397      -3.304       8.241\n",
      "rMidTemGy_CSF_Vol        -3.9888      3.788     -1.053      0.296     -11.533       3.555\n",
      "lOccPo_CSF_Vol            3.4997      2.800      1.250      0.215      -2.077       9.077\n",
      "rOccPo_CSF_Vol           -2.7372      3.338     -0.820      0.415      -9.385       3.911\n",
      "lOccFusGy_CSF_Vol         2.0878      7.359      0.284      0.777     -12.569      16.745\n",
      "rOccFusGy_CSF_Vol         8.8773      6.696      1.326      0.189      -4.460      22.214\n",
      "lInfFroGy_CSF_Vol         4.7481      4.601      1.032      0.305      -4.416      13.912\n",
      "rInfFroGy_CSF_Vol         1.2703      4.270      0.298      0.767      -7.234       9.775\n",
      "lInfFroOrbGy_CSF_Vol      5.3230      9.457      0.563      0.575     -13.513      24.159\n",
      "rInfFroOrbGy_CSF_Vol     -3.3702     10.515     -0.321      0.749     -24.313      17.572\n",
      "lPosCinGy_CSF_Vol         5.5073      9.618      0.573      0.569     -13.648      24.662\n",
      "rPosCinGy_CSF_Vol       -18.0230     13.166     -1.369      0.175     -44.245       8.199\n",
      "lPCu_CSF_Vol              6.4065      2.921      2.194      0.031       0.590      12.223\n",
      "rPCu_CSF_Vol             -2.2321      3.641     -0.613      0.542      -9.484       5.020\n",
      "lParHipGy_CSF_Vol        16.3191      9.144      1.785      0.078      -1.893      34.531\n",
      "rParHipGy_CSF_Vol         1.8610      6.436      0.289      0.773     -10.958      14.680\n",
      "lPosIns_CSF_Vol         -26.7424     11.611     -2.303      0.024     -49.867      -3.618\n",
      "rPosIns_CSF_Vol         -15.9187     12.850     -1.239      0.219     -41.511       9.674\n",
      "lParOpe_CSF_Vol          11.3848     12.036      0.946      0.347     -12.587      35.357\n",
      "rParOpe_CSF_Vol          -8.6605     10.263     -0.844      0.401     -29.101      11.780\n",
      "lPoCGy_CSF_Vol            0.1666      1.478      0.113      0.911      -2.776       3.110\n",
      "rPoCGy_CSF_Vol            0.3695      1.599      0.231      0.818      -2.815       3.554\n",
      "lPosOrbGy_CSF_Vol        -1.7768      9.306     -0.191      0.849     -20.311      16.758\n",
      "rPosOrbGy_CSF_Vol        -8.5937      8.119     -1.058      0.293     -24.764       7.577\n",
      "lPla_CSF_Vol             30.9487     15.213      2.034      0.045       0.650      61.247\n",
      "rPla_CSF_Vol             16.1500     11.755      1.374      0.174      -7.262      39.562\n",
      "lPrcGy_CSF_Vol            3.0318      2.119      1.431      0.157      -1.189       7.253\n",
      "rPrcGy_CSF_Vol            0.4831      1.950      0.248      0.805      -3.400       4.366\n",
      "lTem_CSF_Vol              0.4441     14.999      0.030      0.976     -29.430      30.318\n",
      "rTem_CSF_Vol             10.1130     17.756      0.570      0.571     -25.251      45.477\n",
      "lSCA_CSF_Vol              5.6068      9.492      0.591      0.556     -13.298      24.512\n",
      "rSCA_CSF_Vol            -16.8522     13.103     -1.286      0.202     -42.950       9.245\n",
      "lSupFroGy_CSF_Vol        -4.5372      1.537     -2.952      0.004      -7.598      -1.476\n",
      "rSupFroGy_CSF_Vol         4.5964      1.416      3.245      0.002       1.775       7.417\n",
      "lCbr+Mot_CSF_Vol         -6.3188      6.151     -1.027      0.308     -18.570       5.932\n",
      "rCbr+Mot_CSF_Vol          4.4584      7.168      0.622      0.536      -9.818      18.735\n",
      "lSupMarGy_CSF_Vol        -3.8915      2.342     -1.662      0.101      -8.556       0.773\n",
      "rSupMarGy_CSF_Vol         1.1740      2.111      0.556      0.580      -3.031       5.379\n",
      "lSupOccGy_CSF_Vol        -0.4391      3.228     -0.136      0.892      -6.869       5.991\n",
      "rSupOccGy_CSF_Vol        -4.9260      3.247     -1.517      0.133     -11.392       1.540\n",
      "lSupParLo_CSF_Vol        -1.1596      1.290     -0.899      0.371      -3.728       1.409\n",
      "rSupParLo_CSF_Vol         0.8779      1.233      0.712      0.479      -1.578       3.334\n",
      "lSupTemGy_CSF_Vol         1.5443      4.520      0.342      0.734      -7.458      10.547\n",
      "rSupTemGy_CSF_Vol        -4.0930      3.956     -1.035      0.304     -11.973       3.787\n",
      "lTemPo_CSF_Vol           -1.5734      2.583     -0.609      0.544      -6.718       3.571\n",
      "rTemPo_CSF_Vol           -2.3105      2.183     -1.059      0.293      -6.658       2.037\n",
      "lInfFroAngGy_CSF_Vol    -11.6566      5.227     -2.230      0.029     -22.067      -1.246\n",
      "rInfFroAngGy_CSF_Vol      7.7483      5.209      1.487      0.141      -2.626      18.123\n",
      "lTemTraGy_CSF_Vol         3.8005     17.798      0.214      0.831     -31.647      39.248\n",
      "rTemTraGy_CSF_Vol        31.6051     21.242      1.488      0.141     -10.701      73.912\n",
      "==============================================================================\n",
      "Omnibus:                        0.841   Durbin-Watson:                   1.938\n",
      "Prob(Omnibus):                  0.657   Jarque-Bera (JB):                0.609\n",
      "Skew:                          -0.057   Prob(JB):                        0.738\n",
      "Kurtosis:                       3.167   Cond. No.                     1.00e+16\n",
      "==============================================================================\n",
      "\n",
      "Notes:\n",
      "[1] Standard Errors assume that the covariance matrix of the errors is correctly specified.\n",
      "[2] The smallest eigenvalue is 3.16e-26. This might indicate that there are\n",
      "strong multicollinearity problems or that the design matrix is singular.\n"
     ]
    }
   ],
   "source": [
    "print(results.summary())"
   ],
   "metadata": {
    "collapsed": false,
    "ExecuteTime": {
     "end_time": "2024-02-03T19:13:08.788921Z",
     "start_time": "2024-02-03T19:13:08.668272Z"
    }
   },
   "id": "45fb1d6432f32451"
  },
  {
   "cell_type": "code",
   "execution_count": 72,
   "outputs": [
    {
     "name": "stdout",
     "output_type": "stream",
     "text": [
      "Variables significatives à 5% : const                   0.000015\n",
      "rVenVen_GM_Vol          0.024742\n",
      "rOC_GM_Vol              0.012658\n",
      "rAntCinGy_GM_Vol        0.044161\n",
      "lFroPo_GM_Vol           0.049482\n",
      "rRecGy_GM_Vol           0.046610\n",
      "rSupMedFroGy_GM_Vol     0.042101\n",
      "rPCu_GM_Vol             0.045959\n",
      "lCbr+Mot_GM_Vol         0.046109\n",
      "rTemTraGy_GM_Vol        0.037940\n",
      "rCau_CSF_Vol            0.018128\n",
      "lAntIns_CSF_Vol         0.019902\n",
      "rAntIns_CSF_Vol         0.043623\n",
      "rMedOrbGy_CSF_Vol       0.027753\n",
      "lPCu_CSF_Vol            0.031325\n",
      "lPosIns_CSF_Vol         0.024001\n",
      "lPla_CSF_Vol            0.045399\n",
      "lSupFroGy_CSF_Vol       0.004199\n",
      "rSupFroGy_CSF_Vol       0.001747\n",
      "lInfFroAngGy_CSF_Vol    0.028692\n",
      "dtype: float64\n"
     ]
    }
   ],
   "source": [
    "significant_variables = results.pvalues[results.pvalues < 0.05]\n",
    "\n",
    "print(\"Variables significatives à 5% :\", significant_variables)"
   ],
   "metadata": {
    "collapsed": false,
    "ExecuteTime": {
     "end_time": "2024-02-03T19:13:09.254976Z",
     "start_time": "2024-02-03T19:13:09.246977Z"
    }
   },
   "id": "f7628ae62313debd"
  },
  {
   "cell_type": "markdown",
   "source": [
    "### On remarque qu'on obtient que des features liées à la matière grise ou au liquide CSF. "
   ],
   "metadata": {
    "collapsed": false
   },
   "id": "9991c80490bfb65f"
  },
  {
   "cell_type": "markdown",
   "source": [
    "# Boosting"
   ],
   "metadata": {
    "collapsed": false
   },
   "id": "8e182e79d0b1a8e5"
  },
  {
   "cell_type": "code",
   "execution_count": 144,
   "outputs": [],
   "source": [
    "model = XGBRegressor(n_estimators=1000, random_state=42)\n",
    "model_GM = XGBRegressor(n_estimators=1000, random_state=42)\n",
    "model_GM_CSF = XGBRegressor(n_estimators=1000, random_state=42)"
   ],
   "metadata": {
    "collapsed": false,
    "ExecuteTime": {
     "end_time": "2024-02-04T15:27:22.659185Z",
     "start_time": "2024-02-04T15:27:22.653599Z"
    }
   },
   "id": "bca8b3488a524ffd"
  },
  {
   "cell_type": "code",
   "execution_count": 145,
   "outputs": [
    {
     "data": {
      "text/plain": "XGBRegressor(base_score=None, booster=None, callbacks=None,\n             colsample_bylevel=None, colsample_bynode=None,\n             colsample_bytree=None, device=None, early_stopping_rounds=None,\n             enable_categorical=False, eval_metric=None, feature_types=None,\n             gamma=None, grow_policy=None, importance_type=None,\n             interaction_constraints=None, learning_rate=None, max_bin=None,\n             max_cat_threshold=None, max_cat_to_onehot=None,\n             max_delta_step=None, max_depth=None, max_leaves=None,\n             min_child_weight=None, missing=nan, monotone_constraints=None,\n             multi_strategy=None, n_estimators=1000, n_jobs=None,\n             num_parallel_tree=None, random_state=42, ...)",
      "text/html": "<style>#sk-container-id-9 {\n  /* Definition of color scheme common for light and dark mode */\n  --sklearn-color-text: black;\n  --sklearn-color-line: gray;\n  /* Definition of color scheme for unfitted estimators */\n  --sklearn-color-unfitted-level-0: #fff5e6;\n  --sklearn-color-unfitted-level-1: #f6e4d2;\n  --sklearn-color-unfitted-level-2: #ffe0b3;\n  --sklearn-color-unfitted-level-3: chocolate;\n  /* Definition of color scheme for fitted estimators */\n  --sklearn-color-fitted-level-0: #f0f8ff;\n  --sklearn-color-fitted-level-1: #d4ebff;\n  --sklearn-color-fitted-level-2: #b3dbfd;\n  --sklearn-color-fitted-level-3: cornflowerblue;\n\n  /* Specific color for light theme */\n  --sklearn-color-text-on-default-background: var(--sg-text-color, var(--theme-code-foreground, var(--jp-content-font-color1, black)));\n  --sklearn-color-background: var(--sg-background-color, var(--theme-background, var(--jp-layout-color0, white)));\n  --sklearn-color-border-box: var(--sg-text-color, var(--theme-code-foreground, var(--jp-content-font-color1, black)));\n  --sklearn-color-icon: #696969;\n\n  @media (prefers-color-scheme: dark) {\n    /* Redefinition of color scheme for dark theme */\n    --sklearn-color-text-on-default-background: var(--sg-text-color, var(--theme-code-foreground, var(--jp-content-font-color1, white)));\n    --sklearn-color-background: var(--sg-background-color, var(--theme-background, var(--jp-layout-color0, #111)));\n    --sklearn-color-border-box: var(--sg-text-color, var(--theme-code-foreground, var(--jp-content-font-color1, white)));\n    --sklearn-color-icon: #878787;\n  }\n}\n\n#sk-container-id-9 {\n  color: var(--sklearn-color-text);\n}\n\n#sk-container-id-9 pre {\n  padding: 0;\n}\n\n#sk-container-id-9 input.sk-hidden--visually {\n  border: 0;\n  clip: rect(1px 1px 1px 1px);\n  clip: rect(1px, 1px, 1px, 1px);\n  height: 1px;\n  margin: -1px;\n  overflow: hidden;\n  padding: 0;\n  position: absolute;\n  width: 1px;\n}\n\n#sk-container-id-9 div.sk-dashed-wrapped {\n  border: 1px dashed var(--sklearn-color-line);\n  margin: 0 0.4em 0.5em 0.4em;\n  box-sizing: border-box;\n  padding-bottom: 0.4em;\n  background-color: var(--sklearn-color-background);\n}\n\n#sk-container-id-9 div.sk-container {\n  /* jupyter's `normalize.less` sets `[hidden] { display: none; }`\n     but bootstrap.min.css set `[hidden] { display: none !important; }`\n     so we also need the `!important` here to be able to override the\n     default hidden behavior on the sphinx rendered scikit-learn.org.\n     See: https://github.com/scikit-learn/scikit-learn/issues/21755 */\n  display: inline-block !important;\n  position: relative;\n}\n\n#sk-container-id-9 div.sk-text-repr-fallback {\n  display: none;\n}\n\ndiv.sk-parallel-item,\ndiv.sk-serial,\ndiv.sk-item {\n  /* draw centered vertical line to link estimators */\n  background-image: linear-gradient(var(--sklearn-color-text-on-default-background), var(--sklearn-color-text-on-default-background));\n  background-size: 2px 100%;\n  background-repeat: no-repeat;\n  background-position: center center;\n}\n\n/* Parallel-specific style estimator block */\n\n#sk-container-id-9 div.sk-parallel-item::after {\n  content: \"\";\n  width: 100%;\n  border-bottom: 2px solid var(--sklearn-color-text-on-default-background);\n  flex-grow: 1;\n}\n\n#sk-container-id-9 div.sk-parallel {\n  display: flex;\n  align-items: stretch;\n  justify-content: center;\n  background-color: var(--sklearn-color-background);\n  position: relative;\n}\n\n#sk-container-id-9 div.sk-parallel-item {\n  display: flex;\n  flex-direction: column;\n}\n\n#sk-container-id-9 div.sk-parallel-item:first-child::after {\n  align-self: flex-end;\n  width: 50%;\n}\n\n#sk-container-id-9 div.sk-parallel-item:last-child::after {\n  align-self: flex-start;\n  width: 50%;\n}\n\n#sk-container-id-9 div.sk-parallel-item:only-child::after {\n  width: 0;\n}\n\n/* Serial-specific style estimator block */\n\n#sk-container-id-9 div.sk-serial {\n  display: flex;\n  flex-direction: column;\n  align-items: center;\n  background-color: var(--sklearn-color-background);\n  padding-right: 1em;\n  padding-left: 1em;\n}\n\n\n/* Toggleable style: style used for estimator/Pipeline/ColumnTransformer box that is\nclickable and can be expanded/collapsed.\n- Pipeline and ColumnTransformer use this feature and define the default style\n- Estimators will overwrite some part of the style using the `sk-estimator` class\n*/\n\n/* Pipeline and ColumnTransformer style (default) */\n\n#sk-container-id-9 div.sk-toggleable {\n  /* Default theme specific background. It is overwritten whether we have a\n  specific estimator or a Pipeline/ColumnTransformer */\n  background-color: var(--sklearn-color-background);\n}\n\n/* Toggleable label */\n#sk-container-id-9 label.sk-toggleable__label {\n  cursor: pointer;\n  display: block;\n  width: 100%;\n  margin-bottom: 0;\n  padding: 0.5em;\n  box-sizing: border-box;\n  text-align: center;\n}\n\n#sk-container-id-9 label.sk-toggleable__label-arrow:before {\n  /* Arrow on the left of the label */\n  content: \"▸\";\n  float: left;\n  margin-right: 0.25em;\n  color: var(--sklearn-color-icon);\n}\n\n#sk-container-id-9 label.sk-toggleable__label-arrow:hover:before {\n  color: var(--sklearn-color-text);\n}\n\n/* Toggleable content - dropdown */\n\n#sk-container-id-9 div.sk-toggleable__content {\n  max-height: 0;\n  max-width: 0;\n  overflow: hidden;\n  text-align: left;\n  /* unfitted */\n  background-color: var(--sklearn-color-unfitted-level-0);\n}\n\n#sk-container-id-9 div.sk-toggleable__content.fitted {\n  /* fitted */\n  background-color: var(--sklearn-color-fitted-level-0);\n}\n\n#sk-container-id-9 div.sk-toggleable__content pre {\n  margin: 0.2em;\n  border-radius: 0.25em;\n  color: var(--sklearn-color-text);\n  /* unfitted */\n  background-color: var(--sklearn-color-unfitted-level-0);\n}\n\n#sk-container-id-9 div.sk-toggleable__content.fitted pre {\n  /* unfitted */\n  background-color: var(--sklearn-color-fitted-level-0);\n}\n\n#sk-container-id-9 input.sk-toggleable__control:checked~div.sk-toggleable__content {\n  /* Expand drop-down */\n  max-height: 200px;\n  max-width: 100%;\n  overflow: auto;\n}\n\n#sk-container-id-9 input.sk-toggleable__control:checked~label.sk-toggleable__label-arrow:before {\n  content: \"▾\";\n}\n\n/* Pipeline/ColumnTransformer-specific style */\n\n#sk-container-id-9 div.sk-label input.sk-toggleable__control:checked~label.sk-toggleable__label {\n  color: var(--sklearn-color-text);\n  background-color: var(--sklearn-color-unfitted-level-2);\n}\n\n#sk-container-id-9 div.sk-label.fitted input.sk-toggleable__control:checked~label.sk-toggleable__label {\n  background-color: var(--sklearn-color-fitted-level-2);\n}\n\n/* Estimator-specific style */\n\n/* Colorize estimator box */\n#sk-container-id-9 div.sk-estimator input.sk-toggleable__control:checked~label.sk-toggleable__label {\n  /* unfitted */\n  background-color: var(--sklearn-color-unfitted-level-2);\n}\n\n#sk-container-id-9 div.sk-estimator.fitted input.sk-toggleable__control:checked~label.sk-toggleable__label {\n  /* fitted */\n  background-color: var(--sklearn-color-fitted-level-2);\n}\n\n#sk-container-id-9 div.sk-label label.sk-toggleable__label,\n#sk-container-id-9 div.sk-label label {\n  /* The background is the default theme color */\n  color: var(--sklearn-color-text-on-default-background);\n}\n\n/* On hover, darken the color of the background */\n#sk-container-id-9 div.sk-label:hover label.sk-toggleable__label {\n  color: var(--sklearn-color-text);\n  background-color: var(--sklearn-color-unfitted-level-2);\n}\n\n/* Label box, darken color on hover, fitted */\n#sk-container-id-9 div.sk-label.fitted:hover label.sk-toggleable__label.fitted {\n  color: var(--sklearn-color-text);\n  background-color: var(--sklearn-color-fitted-level-2);\n}\n\n/* Estimator label */\n\n#sk-container-id-9 div.sk-label label {\n  font-family: monospace;\n  font-weight: bold;\n  display: inline-block;\n  line-height: 1.2em;\n}\n\n#sk-container-id-9 div.sk-label-container {\n  text-align: center;\n}\n\n/* Estimator-specific */\n#sk-container-id-9 div.sk-estimator {\n  font-family: monospace;\n  border: 1px dotted var(--sklearn-color-border-box);\n  border-radius: 0.25em;\n  box-sizing: border-box;\n  margin-bottom: 0.5em;\n  /* unfitted */\n  background-color: var(--sklearn-color-unfitted-level-0);\n}\n\n#sk-container-id-9 div.sk-estimator.fitted {\n  /* fitted */\n  background-color: var(--sklearn-color-fitted-level-0);\n}\n\n/* on hover */\n#sk-container-id-9 div.sk-estimator:hover {\n  /* unfitted */\n  background-color: var(--sklearn-color-unfitted-level-2);\n}\n\n#sk-container-id-9 div.sk-estimator.fitted:hover {\n  /* fitted */\n  background-color: var(--sklearn-color-fitted-level-2);\n}\n\n/* Specification for estimator info (e.g. \"i\" and \"?\") */\n\n/* Common style for \"i\" and \"?\" */\n\n.sk-estimator-doc-link,\na:link.sk-estimator-doc-link,\na:visited.sk-estimator-doc-link {\n  float: right;\n  font-size: smaller;\n  line-height: 1em;\n  font-family: monospace;\n  background-color: var(--sklearn-color-background);\n  border-radius: 1em;\n  height: 1em;\n  width: 1em;\n  text-decoration: none !important;\n  margin-left: 1ex;\n  /* unfitted */\n  border: var(--sklearn-color-unfitted-level-1) 1pt solid;\n  color: var(--sklearn-color-unfitted-level-1);\n}\n\n.sk-estimator-doc-link.fitted,\na:link.sk-estimator-doc-link.fitted,\na:visited.sk-estimator-doc-link.fitted {\n  /* fitted */\n  border: var(--sklearn-color-fitted-level-1) 1pt solid;\n  color: var(--sklearn-color-fitted-level-1);\n}\n\n/* On hover */\ndiv.sk-estimator:hover .sk-estimator-doc-link:hover,\n.sk-estimator-doc-link:hover,\ndiv.sk-label-container:hover .sk-estimator-doc-link:hover,\n.sk-estimator-doc-link:hover {\n  /* unfitted */\n  background-color: var(--sklearn-color-unfitted-level-3);\n  color: var(--sklearn-color-background);\n  text-decoration: none;\n}\n\ndiv.sk-estimator.fitted:hover .sk-estimator-doc-link.fitted:hover,\n.sk-estimator-doc-link.fitted:hover,\ndiv.sk-label-container:hover .sk-estimator-doc-link.fitted:hover,\n.sk-estimator-doc-link.fitted:hover {\n  /* fitted */\n  background-color: var(--sklearn-color-fitted-level-3);\n  color: var(--sklearn-color-background);\n  text-decoration: none;\n}\n\n/* Span, style for the box shown on hovering the info icon */\n.sk-estimator-doc-link span {\n  display: none;\n  z-index: 9999;\n  position: relative;\n  font-weight: normal;\n  right: .2ex;\n  padding: .5ex;\n  margin: .5ex;\n  width: min-content;\n  min-width: 20ex;\n  max-width: 50ex;\n  color: var(--sklearn-color-text);\n  box-shadow: 2pt 2pt 4pt #999;\n  /* unfitted */\n  background: var(--sklearn-color-unfitted-level-0);\n  border: .5pt solid var(--sklearn-color-unfitted-level-3);\n}\n\n.sk-estimator-doc-link.fitted span {\n  /* fitted */\n  background: var(--sklearn-color-fitted-level-0);\n  border: var(--sklearn-color-fitted-level-3);\n}\n\n.sk-estimator-doc-link:hover span {\n  display: block;\n}\n\n/* \"?\"-specific style due to the `<a>` HTML tag */\n\n#sk-container-id-9 a.estimator_doc_link {\n  float: right;\n  font-size: 1rem;\n  line-height: 1em;\n  font-family: monospace;\n  background-color: var(--sklearn-color-background);\n  border-radius: 1rem;\n  height: 1rem;\n  width: 1rem;\n  text-decoration: none;\n  /* unfitted */\n  color: var(--sklearn-color-unfitted-level-1);\n  border: var(--sklearn-color-unfitted-level-1) 1pt solid;\n}\n\n#sk-container-id-9 a.estimator_doc_link.fitted {\n  /* fitted */\n  border: var(--sklearn-color-fitted-level-1) 1pt solid;\n  color: var(--sklearn-color-fitted-level-1);\n}\n\n/* On hover */\n#sk-container-id-9 a.estimator_doc_link:hover {\n  /* unfitted */\n  background-color: var(--sklearn-color-unfitted-level-3);\n  color: var(--sklearn-color-background);\n  text-decoration: none;\n}\n\n#sk-container-id-9 a.estimator_doc_link.fitted:hover {\n  /* fitted */\n  background-color: var(--sklearn-color-fitted-level-3);\n}\n</style><div id=\"sk-container-id-9\" class=\"sk-top-container\"><div class=\"sk-text-repr-fallback\"><pre>XGBRegressor(base_score=None, booster=None, callbacks=None,\n             colsample_bylevel=None, colsample_bynode=None,\n             colsample_bytree=None, device=None, early_stopping_rounds=None,\n             enable_categorical=False, eval_metric=None, feature_types=None,\n             gamma=None, grow_policy=None, importance_type=None,\n             interaction_constraints=None, learning_rate=None, max_bin=None,\n             max_cat_threshold=None, max_cat_to_onehot=None,\n             max_delta_step=None, max_depth=None, max_leaves=None,\n             min_child_weight=None, missing=nan, monotone_constraints=None,\n             multi_strategy=None, n_estimators=1000, n_jobs=None,\n             num_parallel_tree=None, random_state=42, ...)</pre><b>In a Jupyter environment, please rerun this cell to show the HTML representation or trust the notebook. <br />On GitHub, the HTML representation is unable to render, please try loading this page with nbviewer.org.</b></div><div class=\"sk-container\" hidden><div class=\"sk-item\"><div class=\"sk-estimator fitted sk-toggleable\"><input class=\"sk-toggleable__control sk-hidden--visually\" id=\"sk-estimator-id-9\" type=\"checkbox\" checked><label for=\"sk-estimator-id-9\" class=\"sk-toggleable__label fitted sk-toggleable__label-arrow fitted\">&nbsp;XGBRegressor<span class=\"sk-estimator-doc-link fitted\">i<span>Fitted</span></span></label><div class=\"sk-toggleable__content fitted\"><pre>XGBRegressor(base_score=None, booster=None, callbacks=None,\n             colsample_bylevel=None, colsample_bynode=None,\n             colsample_bytree=None, device=None, early_stopping_rounds=None,\n             enable_categorical=False, eval_metric=None, feature_types=None,\n             gamma=None, grow_policy=None, importance_type=None,\n             interaction_constraints=None, learning_rate=None, max_bin=None,\n             max_cat_threshold=None, max_cat_to_onehot=None,\n             max_delta_step=None, max_depth=None, max_leaves=None,\n             min_child_weight=None, missing=nan, monotone_constraints=None,\n             multi_strategy=None, n_estimators=1000, n_jobs=None,\n             num_parallel_tree=None, random_state=42, ...)</pre></div> </div></div></div></div>"
     },
     "execution_count": 145,
     "metadata": {},
     "output_type": "execute_result"
    }
   ],
   "source": [
    "model.fit(ROI_train, y_train)"
   ],
   "metadata": {
    "collapsed": false,
    "ExecuteTime": {
     "end_time": "2024-02-04T15:27:26.311547Z",
     "start_time": "2024-02-04T15:27:23.198786Z"
    }
   },
   "id": "fc1f89aff78a19c8"
  },
  {
   "cell_type": "code",
   "execution_count": 146,
   "outputs": [],
   "source": [
    "y_pred = model.predict(ROI_test)"
   ],
   "metadata": {
    "collapsed": false,
    "ExecuteTime": {
     "end_time": "2024-02-04T15:27:27.474763Z",
     "start_time": "2024-02-04T15:27:27.468970Z"
    }
   },
   "id": "c82bde9949f9c860"
  },
  {
   "cell_type": "code",
   "execution_count": 147,
   "outputs": [
    {
     "data": {
      "text/plain": "8.823513875526318"
     },
     "execution_count": 147,
     "metadata": {},
     "output_type": "execute_result"
    }
   ],
   "source": [
    "root_mean_squared_error(y_test, y_pred)"
   ],
   "metadata": {
    "collapsed": false,
    "ExecuteTime": {
     "end_time": "2024-02-04T15:27:29.466449Z",
     "start_time": "2024-02-04T15:27:29.457216Z"
    }
   },
   "id": "fa5b38fff60c8b7c"
  },
  {
   "cell_type": "code",
   "execution_count": 148,
   "outputs": [
    {
     "data": {
      "text/plain": "XGBRegressor(base_score=None, booster=None, callbacks=None,\n             colsample_bylevel=None, colsample_bynode=None,\n             colsample_bytree=None, device=None, early_stopping_rounds=None,\n             enable_categorical=False, eval_metric=None, feature_types=None,\n             gamma=None, grow_policy=None, importance_type=None,\n             interaction_constraints=None, learning_rate=None, max_bin=None,\n             max_cat_threshold=None, max_cat_to_onehot=None,\n             max_delta_step=None, max_depth=None, max_leaves=None,\n             min_child_weight=None, missing=nan, monotone_constraints=None,\n             multi_strategy=None, n_estimators=1000, n_jobs=None,\n             num_parallel_tree=None, random_state=42, ...)",
      "text/html": "<style>#sk-container-id-10 {\n  /* Definition of color scheme common for light and dark mode */\n  --sklearn-color-text: black;\n  --sklearn-color-line: gray;\n  /* Definition of color scheme for unfitted estimators */\n  --sklearn-color-unfitted-level-0: #fff5e6;\n  --sklearn-color-unfitted-level-1: #f6e4d2;\n  --sklearn-color-unfitted-level-2: #ffe0b3;\n  --sklearn-color-unfitted-level-3: chocolate;\n  /* Definition of color scheme for fitted estimators */\n  --sklearn-color-fitted-level-0: #f0f8ff;\n  --sklearn-color-fitted-level-1: #d4ebff;\n  --sklearn-color-fitted-level-2: #b3dbfd;\n  --sklearn-color-fitted-level-3: cornflowerblue;\n\n  /* Specific color for light theme */\n  --sklearn-color-text-on-default-background: var(--sg-text-color, var(--theme-code-foreground, var(--jp-content-font-color1, black)));\n  --sklearn-color-background: var(--sg-background-color, var(--theme-background, var(--jp-layout-color0, white)));\n  --sklearn-color-border-box: var(--sg-text-color, var(--theme-code-foreground, var(--jp-content-font-color1, black)));\n  --sklearn-color-icon: #696969;\n\n  @media (prefers-color-scheme: dark) {\n    /* Redefinition of color scheme for dark theme */\n    --sklearn-color-text-on-default-background: var(--sg-text-color, var(--theme-code-foreground, var(--jp-content-font-color1, white)));\n    --sklearn-color-background: var(--sg-background-color, var(--theme-background, var(--jp-layout-color0, #111)));\n    --sklearn-color-border-box: var(--sg-text-color, var(--theme-code-foreground, var(--jp-content-font-color1, white)));\n    --sklearn-color-icon: #878787;\n  }\n}\n\n#sk-container-id-10 {\n  color: var(--sklearn-color-text);\n}\n\n#sk-container-id-10 pre {\n  padding: 0;\n}\n\n#sk-container-id-10 input.sk-hidden--visually {\n  border: 0;\n  clip: rect(1px 1px 1px 1px);\n  clip: rect(1px, 1px, 1px, 1px);\n  height: 1px;\n  margin: -1px;\n  overflow: hidden;\n  padding: 0;\n  position: absolute;\n  width: 1px;\n}\n\n#sk-container-id-10 div.sk-dashed-wrapped {\n  border: 1px dashed var(--sklearn-color-line);\n  margin: 0 0.4em 0.5em 0.4em;\n  box-sizing: border-box;\n  padding-bottom: 0.4em;\n  background-color: var(--sklearn-color-background);\n}\n\n#sk-container-id-10 div.sk-container {\n  /* jupyter's `normalize.less` sets `[hidden] { display: none; }`\n     but bootstrap.min.css set `[hidden] { display: none !important; }`\n     so we also need the `!important` here to be able to override the\n     default hidden behavior on the sphinx rendered scikit-learn.org.\n     See: https://github.com/scikit-learn/scikit-learn/issues/21755 */\n  display: inline-block !important;\n  position: relative;\n}\n\n#sk-container-id-10 div.sk-text-repr-fallback {\n  display: none;\n}\n\ndiv.sk-parallel-item,\ndiv.sk-serial,\ndiv.sk-item {\n  /* draw centered vertical line to link estimators */\n  background-image: linear-gradient(var(--sklearn-color-text-on-default-background), var(--sklearn-color-text-on-default-background));\n  background-size: 2px 100%;\n  background-repeat: no-repeat;\n  background-position: center center;\n}\n\n/* Parallel-specific style estimator block */\n\n#sk-container-id-10 div.sk-parallel-item::after {\n  content: \"\";\n  width: 100%;\n  border-bottom: 2px solid var(--sklearn-color-text-on-default-background);\n  flex-grow: 1;\n}\n\n#sk-container-id-10 div.sk-parallel {\n  display: flex;\n  align-items: stretch;\n  justify-content: center;\n  background-color: var(--sklearn-color-background);\n  position: relative;\n}\n\n#sk-container-id-10 div.sk-parallel-item {\n  display: flex;\n  flex-direction: column;\n}\n\n#sk-container-id-10 div.sk-parallel-item:first-child::after {\n  align-self: flex-end;\n  width: 50%;\n}\n\n#sk-container-id-10 div.sk-parallel-item:last-child::after {\n  align-self: flex-start;\n  width: 50%;\n}\n\n#sk-container-id-10 div.sk-parallel-item:only-child::after {\n  width: 0;\n}\n\n/* Serial-specific style estimator block */\n\n#sk-container-id-10 div.sk-serial {\n  display: flex;\n  flex-direction: column;\n  align-items: center;\n  background-color: var(--sklearn-color-background);\n  padding-right: 1em;\n  padding-left: 1em;\n}\n\n\n/* Toggleable style: style used for estimator/Pipeline/ColumnTransformer box that is\nclickable and can be expanded/collapsed.\n- Pipeline and ColumnTransformer use this feature and define the default style\n- Estimators will overwrite some part of the style using the `sk-estimator` class\n*/\n\n/* Pipeline and ColumnTransformer style (default) */\n\n#sk-container-id-10 div.sk-toggleable {\n  /* Default theme specific background. It is overwritten whether we have a\n  specific estimator or a Pipeline/ColumnTransformer */\n  background-color: var(--sklearn-color-background);\n}\n\n/* Toggleable label */\n#sk-container-id-10 label.sk-toggleable__label {\n  cursor: pointer;\n  display: block;\n  width: 100%;\n  margin-bottom: 0;\n  padding: 0.5em;\n  box-sizing: border-box;\n  text-align: center;\n}\n\n#sk-container-id-10 label.sk-toggleable__label-arrow:before {\n  /* Arrow on the left of the label */\n  content: \"▸\";\n  float: left;\n  margin-right: 0.25em;\n  color: var(--sklearn-color-icon);\n}\n\n#sk-container-id-10 label.sk-toggleable__label-arrow:hover:before {\n  color: var(--sklearn-color-text);\n}\n\n/* Toggleable content - dropdown */\n\n#sk-container-id-10 div.sk-toggleable__content {\n  max-height: 0;\n  max-width: 0;\n  overflow: hidden;\n  text-align: left;\n  /* unfitted */\n  background-color: var(--sklearn-color-unfitted-level-0);\n}\n\n#sk-container-id-10 div.sk-toggleable__content.fitted {\n  /* fitted */\n  background-color: var(--sklearn-color-fitted-level-0);\n}\n\n#sk-container-id-10 div.sk-toggleable__content pre {\n  margin: 0.2em;\n  border-radius: 0.25em;\n  color: var(--sklearn-color-text);\n  /* unfitted */\n  background-color: var(--sklearn-color-unfitted-level-0);\n}\n\n#sk-container-id-10 div.sk-toggleable__content.fitted pre {\n  /* unfitted */\n  background-color: var(--sklearn-color-fitted-level-0);\n}\n\n#sk-container-id-10 input.sk-toggleable__control:checked~div.sk-toggleable__content {\n  /* Expand drop-down */\n  max-height: 200px;\n  max-width: 100%;\n  overflow: auto;\n}\n\n#sk-container-id-10 input.sk-toggleable__control:checked~label.sk-toggleable__label-arrow:before {\n  content: \"▾\";\n}\n\n/* Pipeline/ColumnTransformer-specific style */\n\n#sk-container-id-10 div.sk-label input.sk-toggleable__control:checked~label.sk-toggleable__label {\n  color: var(--sklearn-color-text);\n  background-color: var(--sklearn-color-unfitted-level-2);\n}\n\n#sk-container-id-10 div.sk-label.fitted input.sk-toggleable__control:checked~label.sk-toggleable__label {\n  background-color: var(--sklearn-color-fitted-level-2);\n}\n\n/* Estimator-specific style */\n\n/* Colorize estimator box */\n#sk-container-id-10 div.sk-estimator input.sk-toggleable__control:checked~label.sk-toggleable__label {\n  /* unfitted */\n  background-color: var(--sklearn-color-unfitted-level-2);\n}\n\n#sk-container-id-10 div.sk-estimator.fitted input.sk-toggleable__control:checked~label.sk-toggleable__label {\n  /* fitted */\n  background-color: var(--sklearn-color-fitted-level-2);\n}\n\n#sk-container-id-10 div.sk-label label.sk-toggleable__label,\n#sk-container-id-10 div.sk-label label {\n  /* The background is the default theme color */\n  color: var(--sklearn-color-text-on-default-background);\n}\n\n/* On hover, darken the color of the background */\n#sk-container-id-10 div.sk-label:hover label.sk-toggleable__label {\n  color: var(--sklearn-color-text);\n  background-color: var(--sklearn-color-unfitted-level-2);\n}\n\n/* Label box, darken color on hover, fitted */\n#sk-container-id-10 div.sk-label.fitted:hover label.sk-toggleable__label.fitted {\n  color: var(--sklearn-color-text);\n  background-color: var(--sklearn-color-fitted-level-2);\n}\n\n/* Estimator label */\n\n#sk-container-id-10 div.sk-label label {\n  font-family: monospace;\n  font-weight: bold;\n  display: inline-block;\n  line-height: 1.2em;\n}\n\n#sk-container-id-10 div.sk-label-container {\n  text-align: center;\n}\n\n/* Estimator-specific */\n#sk-container-id-10 div.sk-estimator {\n  font-family: monospace;\n  border: 1px dotted var(--sklearn-color-border-box);\n  border-radius: 0.25em;\n  box-sizing: border-box;\n  margin-bottom: 0.5em;\n  /* unfitted */\n  background-color: var(--sklearn-color-unfitted-level-0);\n}\n\n#sk-container-id-10 div.sk-estimator.fitted {\n  /* fitted */\n  background-color: var(--sklearn-color-fitted-level-0);\n}\n\n/* on hover */\n#sk-container-id-10 div.sk-estimator:hover {\n  /* unfitted */\n  background-color: var(--sklearn-color-unfitted-level-2);\n}\n\n#sk-container-id-10 div.sk-estimator.fitted:hover {\n  /* fitted */\n  background-color: var(--sklearn-color-fitted-level-2);\n}\n\n/* Specification for estimator info (e.g. \"i\" and \"?\") */\n\n/* Common style for \"i\" and \"?\" */\n\n.sk-estimator-doc-link,\na:link.sk-estimator-doc-link,\na:visited.sk-estimator-doc-link {\n  float: right;\n  font-size: smaller;\n  line-height: 1em;\n  font-family: monospace;\n  background-color: var(--sklearn-color-background);\n  border-radius: 1em;\n  height: 1em;\n  width: 1em;\n  text-decoration: none !important;\n  margin-left: 1ex;\n  /* unfitted */\n  border: var(--sklearn-color-unfitted-level-1) 1pt solid;\n  color: var(--sklearn-color-unfitted-level-1);\n}\n\n.sk-estimator-doc-link.fitted,\na:link.sk-estimator-doc-link.fitted,\na:visited.sk-estimator-doc-link.fitted {\n  /* fitted */\n  border: var(--sklearn-color-fitted-level-1) 1pt solid;\n  color: var(--sklearn-color-fitted-level-1);\n}\n\n/* On hover */\ndiv.sk-estimator:hover .sk-estimator-doc-link:hover,\n.sk-estimator-doc-link:hover,\ndiv.sk-label-container:hover .sk-estimator-doc-link:hover,\n.sk-estimator-doc-link:hover {\n  /* unfitted */\n  background-color: var(--sklearn-color-unfitted-level-3);\n  color: var(--sklearn-color-background);\n  text-decoration: none;\n}\n\ndiv.sk-estimator.fitted:hover .sk-estimator-doc-link.fitted:hover,\n.sk-estimator-doc-link.fitted:hover,\ndiv.sk-label-container:hover .sk-estimator-doc-link.fitted:hover,\n.sk-estimator-doc-link.fitted:hover {\n  /* fitted */\n  background-color: var(--sklearn-color-fitted-level-3);\n  color: var(--sklearn-color-background);\n  text-decoration: none;\n}\n\n/* Span, style for the box shown on hovering the info icon */\n.sk-estimator-doc-link span {\n  display: none;\n  z-index: 9999;\n  position: relative;\n  font-weight: normal;\n  right: .2ex;\n  padding: .5ex;\n  margin: .5ex;\n  width: min-content;\n  min-width: 20ex;\n  max-width: 50ex;\n  color: var(--sklearn-color-text);\n  box-shadow: 2pt 2pt 4pt #999;\n  /* unfitted */\n  background: var(--sklearn-color-unfitted-level-0);\n  border: .5pt solid var(--sklearn-color-unfitted-level-3);\n}\n\n.sk-estimator-doc-link.fitted span {\n  /* fitted */\n  background: var(--sklearn-color-fitted-level-0);\n  border: var(--sklearn-color-fitted-level-3);\n}\n\n.sk-estimator-doc-link:hover span {\n  display: block;\n}\n\n/* \"?\"-specific style due to the `<a>` HTML tag */\n\n#sk-container-id-10 a.estimator_doc_link {\n  float: right;\n  font-size: 1rem;\n  line-height: 1em;\n  font-family: monospace;\n  background-color: var(--sklearn-color-background);\n  border-radius: 1rem;\n  height: 1rem;\n  width: 1rem;\n  text-decoration: none;\n  /* unfitted */\n  color: var(--sklearn-color-unfitted-level-1);\n  border: var(--sklearn-color-unfitted-level-1) 1pt solid;\n}\n\n#sk-container-id-10 a.estimator_doc_link.fitted {\n  /* fitted */\n  border: var(--sklearn-color-fitted-level-1) 1pt solid;\n  color: var(--sklearn-color-fitted-level-1);\n}\n\n/* On hover */\n#sk-container-id-10 a.estimator_doc_link:hover {\n  /* unfitted */\n  background-color: var(--sklearn-color-unfitted-level-3);\n  color: var(--sklearn-color-background);\n  text-decoration: none;\n}\n\n#sk-container-id-10 a.estimator_doc_link.fitted:hover {\n  /* fitted */\n  background-color: var(--sklearn-color-fitted-level-3);\n}\n</style><div id=\"sk-container-id-10\" class=\"sk-top-container\"><div class=\"sk-text-repr-fallback\"><pre>XGBRegressor(base_score=None, booster=None, callbacks=None,\n             colsample_bylevel=None, colsample_bynode=None,\n             colsample_bytree=None, device=None, early_stopping_rounds=None,\n             enable_categorical=False, eval_metric=None, feature_types=None,\n             gamma=None, grow_policy=None, importance_type=None,\n             interaction_constraints=None, learning_rate=None, max_bin=None,\n             max_cat_threshold=None, max_cat_to_onehot=None,\n             max_delta_step=None, max_depth=None, max_leaves=None,\n             min_child_weight=None, missing=nan, monotone_constraints=None,\n             multi_strategy=None, n_estimators=1000, n_jobs=None,\n             num_parallel_tree=None, random_state=42, ...)</pre><b>In a Jupyter environment, please rerun this cell to show the HTML representation or trust the notebook. <br />On GitHub, the HTML representation is unable to render, please try loading this page with nbviewer.org.</b></div><div class=\"sk-container\" hidden><div class=\"sk-item\"><div class=\"sk-estimator fitted sk-toggleable\"><input class=\"sk-toggleable__control sk-hidden--visually\" id=\"sk-estimator-id-10\" type=\"checkbox\" checked><label for=\"sk-estimator-id-10\" class=\"sk-toggleable__label fitted sk-toggleable__label-arrow fitted\">&nbsp;XGBRegressor<span class=\"sk-estimator-doc-link fitted\">i<span>Fitted</span></span></label><div class=\"sk-toggleable__content fitted\"><pre>XGBRegressor(base_score=None, booster=None, callbacks=None,\n             colsample_bylevel=None, colsample_bynode=None,\n             colsample_bytree=None, device=None, early_stopping_rounds=None,\n             enable_categorical=False, eval_metric=None, feature_types=None,\n             gamma=None, grow_policy=None, importance_type=None,\n             interaction_constraints=None, learning_rate=None, max_bin=None,\n             max_cat_threshold=None, max_cat_to_onehot=None,\n             max_delta_step=None, max_depth=None, max_leaves=None,\n             min_child_weight=None, missing=nan, monotone_constraints=None,\n             multi_strategy=None, n_estimators=1000, n_jobs=None,\n             num_parallel_tree=None, random_state=42, ...)</pre></div> </div></div></div></div>"
     },
     "execution_count": 148,
     "metadata": {},
     "output_type": "execute_result"
    }
   ],
   "source": [
    "model_GM.fit(ROI_train[GM_features], y_train)"
   ],
   "metadata": {
    "collapsed": false,
    "ExecuteTime": {
     "end_time": "2024-02-04T15:27:33.792661Z",
     "start_time": "2024-02-04T15:27:31.823006Z"
    }
   },
   "id": "7826e28c88c136ac"
  },
  {
   "cell_type": "code",
   "execution_count": 149,
   "outputs": [],
   "source": [
    "y_pred_GM = model_GM.predict(ROI_test[GM_features])"
   ],
   "metadata": {
    "collapsed": false,
    "ExecuteTime": {
     "end_time": "2024-02-04T15:27:33.822862Z",
     "start_time": "2024-02-04T15:27:33.785585Z"
    }
   },
   "id": "92da18689dcfabf0"
  },
  {
   "cell_type": "code",
   "execution_count": 150,
   "outputs": [
    {
     "data": {
      "text/plain": "8.47868384240385"
     },
     "execution_count": 150,
     "metadata": {},
     "output_type": "execute_result"
    }
   ],
   "source": [
    "root_mean_squared_error(y_test, y_pred_GM)"
   ],
   "metadata": {
    "collapsed": false,
    "ExecuteTime": {
     "end_time": "2024-02-04T15:27:34.063233Z",
     "start_time": "2024-02-04T15:27:34.055359Z"
    }
   },
   "id": "e511589f96301103"
  },
  {
   "cell_type": "markdown",
   "source": [
    "# Optimisation XGBOOST"
   ],
   "metadata": {
    "collapsed": false
   },
   "id": "298a807749c3dce3"
  },
  {
   "cell_type": "code",
   "execution_count": 192,
   "outputs": [
    {
     "name": "stdout",
     "output_type": "stream",
     "text": [
      "Fitting 3 folds for each of 27 candidates, totalling 81 fits\n"
     ]
    },
    {
     "name": "stderr",
     "output_type": "stream",
     "text": [
      "A worker stopped while some jobs were given to the executor. This can be caused by a too short worker timeout or by a memory leak.\n"
     ]
    },
    {
     "name": "stdout",
     "output_type": "stream",
     "text": [
      "Meilleurs paramètres:  {'learning_rate': 0.01, 'max_depth': 5, 'n_estimators': 1000}\n",
      "Meilleur score:  0.6646653805375388\n"
     ]
    }
   ],
   "source": [
    "from sklearn.model_selection import GridSearchCV\n",
    "\n",
    "xgbmodel = XGBRegressor(eval_metric = \"rmse\")\n",
    "param_grid = {\n",
    "    'n_estimators': [500, 1000, 750],\n",
    "    'learning_rate': [0.001, 0.01, 0.003],\n",
    "    'max_depth': [5, 10, 15],\n",
    "}\n",
    "\n",
    "# Configurer la recherche par grille avec validation croisée\n",
    "grid_search = GridSearchCV(estimator=xgbmodel, param_grid=param_grid, cv=3, n_jobs=-1, verbose=1)\n",
    "\n",
    "# Lancer la recherche£\n",
    "grid_search.fit(ROI_train[GM_features], y_train)\n",
    "\n",
    "# Afficher les meilleurs paramètres et le score correspondant\n",
    "print(\"Meilleurs paramètres: \", grid_search.best_params_)\n",
    "print(\"Meilleur score: \", grid_search.best_score_)"
   ],
   "metadata": {
    "collapsed": false,
    "ExecuteTime": {
     "end_time": "2024-02-04T15:47:21.926647Z",
     "start_time": "2024-02-04T15:37:23.761539Z"
    }
   },
   "id": "4cc791f5575f5b8e"
  },
  {
   "cell_type": "code",
   "execution_count": 221,
   "outputs": [],
   "source": [
    "model = GradientBoostingRegressor(learning_rate = 0.01, max_depth= 3, n_estimators= 1000)"
   ],
   "metadata": {
    "collapsed": false,
    "ExecuteTime": {
     "end_time": "2024-02-04T15:49:56.067687Z",
     "start_time": "2024-02-04T15:49:56.050553Z"
    }
   },
   "id": "87d1a40130cd1389"
  },
  {
   "cell_type": "code",
   "execution_count": 222,
   "outputs": [
    {
     "data": {
      "text/plain": "GradientBoostingRegressor(learning_rate=0.01, n_estimators=1000)",
      "text/html": "<style>#sk-container-id-26 {\n  /* Definition of color scheme common for light and dark mode */\n  --sklearn-color-text: black;\n  --sklearn-color-line: gray;\n  /* Definition of color scheme for unfitted estimators */\n  --sklearn-color-unfitted-level-0: #fff5e6;\n  --sklearn-color-unfitted-level-1: #f6e4d2;\n  --sklearn-color-unfitted-level-2: #ffe0b3;\n  --sklearn-color-unfitted-level-3: chocolate;\n  /* Definition of color scheme for fitted estimators */\n  --sklearn-color-fitted-level-0: #f0f8ff;\n  --sklearn-color-fitted-level-1: #d4ebff;\n  --sklearn-color-fitted-level-2: #b3dbfd;\n  --sklearn-color-fitted-level-3: cornflowerblue;\n\n  /* Specific color for light theme */\n  --sklearn-color-text-on-default-background: var(--sg-text-color, var(--theme-code-foreground, var(--jp-content-font-color1, black)));\n  --sklearn-color-background: var(--sg-background-color, var(--theme-background, var(--jp-layout-color0, white)));\n  --sklearn-color-border-box: var(--sg-text-color, var(--theme-code-foreground, var(--jp-content-font-color1, black)));\n  --sklearn-color-icon: #696969;\n\n  @media (prefers-color-scheme: dark) {\n    /* Redefinition of color scheme for dark theme */\n    --sklearn-color-text-on-default-background: var(--sg-text-color, var(--theme-code-foreground, var(--jp-content-font-color1, white)));\n    --sklearn-color-background: var(--sg-background-color, var(--theme-background, var(--jp-layout-color0, #111)));\n    --sklearn-color-border-box: var(--sg-text-color, var(--theme-code-foreground, var(--jp-content-font-color1, white)));\n    --sklearn-color-icon: #878787;\n  }\n}\n\n#sk-container-id-26 {\n  color: var(--sklearn-color-text);\n}\n\n#sk-container-id-26 pre {\n  padding: 0;\n}\n\n#sk-container-id-26 input.sk-hidden--visually {\n  border: 0;\n  clip: rect(1px 1px 1px 1px);\n  clip: rect(1px, 1px, 1px, 1px);\n  height: 1px;\n  margin: -1px;\n  overflow: hidden;\n  padding: 0;\n  position: absolute;\n  width: 1px;\n}\n\n#sk-container-id-26 div.sk-dashed-wrapped {\n  border: 1px dashed var(--sklearn-color-line);\n  margin: 0 0.4em 0.5em 0.4em;\n  box-sizing: border-box;\n  padding-bottom: 0.4em;\n  background-color: var(--sklearn-color-background);\n}\n\n#sk-container-id-26 div.sk-container {\n  /* jupyter's `normalize.less` sets `[hidden] { display: none; }`\n     but bootstrap.min.css set `[hidden] { display: none !important; }`\n     so we also need the `!important` here to be able to override the\n     default hidden behavior on the sphinx rendered scikit-learn.org.\n     See: https://github.com/scikit-learn/scikit-learn/issues/21755 */\n  display: inline-block !important;\n  position: relative;\n}\n\n#sk-container-id-26 div.sk-text-repr-fallback {\n  display: none;\n}\n\ndiv.sk-parallel-item,\ndiv.sk-serial,\ndiv.sk-item {\n  /* draw centered vertical line to link estimators */\n  background-image: linear-gradient(var(--sklearn-color-text-on-default-background), var(--sklearn-color-text-on-default-background));\n  background-size: 2px 100%;\n  background-repeat: no-repeat;\n  background-position: center center;\n}\n\n/* Parallel-specific style estimator block */\n\n#sk-container-id-26 div.sk-parallel-item::after {\n  content: \"\";\n  width: 100%;\n  border-bottom: 2px solid var(--sklearn-color-text-on-default-background);\n  flex-grow: 1;\n}\n\n#sk-container-id-26 div.sk-parallel {\n  display: flex;\n  align-items: stretch;\n  justify-content: center;\n  background-color: var(--sklearn-color-background);\n  position: relative;\n}\n\n#sk-container-id-26 div.sk-parallel-item {\n  display: flex;\n  flex-direction: column;\n}\n\n#sk-container-id-26 div.sk-parallel-item:first-child::after {\n  align-self: flex-end;\n  width: 50%;\n}\n\n#sk-container-id-26 div.sk-parallel-item:last-child::after {\n  align-self: flex-start;\n  width: 50%;\n}\n\n#sk-container-id-26 div.sk-parallel-item:only-child::after {\n  width: 0;\n}\n\n/* Serial-specific style estimator block */\n\n#sk-container-id-26 div.sk-serial {\n  display: flex;\n  flex-direction: column;\n  align-items: center;\n  background-color: var(--sklearn-color-background);\n  padding-right: 1em;\n  padding-left: 1em;\n}\n\n\n/* Toggleable style: style used for estimator/Pipeline/ColumnTransformer box that is\nclickable and can be expanded/collapsed.\n- Pipeline and ColumnTransformer use this feature and define the default style\n- Estimators will overwrite some part of the style using the `sk-estimator` class\n*/\n\n/* Pipeline and ColumnTransformer style (default) */\n\n#sk-container-id-26 div.sk-toggleable {\n  /* Default theme specific background. It is overwritten whether we have a\n  specific estimator or a Pipeline/ColumnTransformer */\n  background-color: var(--sklearn-color-background);\n}\n\n/* Toggleable label */\n#sk-container-id-26 label.sk-toggleable__label {\n  cursor: pointer;\n  display: block;\n  width: 100%;\n  margin-bottom: 0;\n  padding: 0.5em;\n  box-sizing: border-box;\n  text-align: center;\n}\n\n#sk-container-id-26 label.sk-toggleable__label-arrow:before {\n  /* Arrow on the left of the label */\n  content: \"▸\";\n  float: left;\n  margin-right: 0.25em;\n  color: var(--sklearn-color-icon);\n}\n\n#sk-container-id-26 label.sk-toggleable__label-arrow:hover:before {\n  color: var(--sklearn-color-text);\n}\n\n/* Toggleable content - dropdown */\n\n#sk-container-id-26 div.sk-toggleable__content {\n  max-height: 0;\n  max-width: 0;\n  overflow: hidden;\n  text-align: left;\n  /* unfitted */\n  background-color: var(--sklearn-color-unfitted-level-0);\n}\n\n#sk-container-id-26 div.sk-toggleable__content.fitted {\n  /* fitted */\n  background-color: var(--sklearn-color-fitted-level-0);\n}\n\n#sk-container-id-26 div.sk-toggleable__content pre {\n  margin: 0.2em;\n  border-radius: 0.25em;\n  color: var(--sklearn-color-text);\n  /* unfitted */\n  background-color: var(--sklearn-color-unfitted-level-0);\n}\n\n#sk-container-id-26 div.sk-toggleable__content.fitted pre {\n  /* unfitted */\n  background-color: var(--sklearn-color-fitted-level-0);\n}\n\n#sk-container-id-26 input.sk-toggleable__control:checked~div.sk-toggleable__content {\n  /* Expand drop-down */\n  max-height: 200px;\n  max-width: 100%;\n  overflow: auto;\n}\n\n#sk-container-id-26 input.sk-toggleable__control:checked~label.sk-toggleable__label-arrow:before {\n  content: \"▾\";\n}\n\n/* Pipeline/ColumnTransformer-specific style */\n\n#sk-container-id-26 div.sk-label input.sk-toggleable__control:checked~label.sk-toggleable__label {\n  color: var(--sklearn-color-text);\n  background-color: var(--sklearn-color-unfitted-level-2);\n}\n\n#sk-container-id-26 div.sk-label.fitted input.sk-toggleable__control:checked~label.sk-toggleable__label {\n  background-color: var(--sklearn-color-fitted-level-2);\n}\n\n/* Estimator-specific style */\n\n/* Colorize estimator box */\n#sk-container-id-26 div.sk-estimator input.sk-toggleable__control:checked~label.sk-toggleable__label {\n  /* unfitted */\n  background-color: var(--sklearn-color-unfitted-level-2);\n}\n\n#sk-container-id-26 div.sk-estimator.fitted input.sk-toggleable__control:checked~label.sk-toggleable__label {\n  /* fitted */\n  background-color: var(--sklearn-color-fitted-level-2);\n}\n\n#sk-container-id-26 div.sk-label label.sk-toggleable__label,\n#sk-container-id-26 div.sk-label label {\n  /* The background is the default theme color */\n  color: var(--sklearn-color-text-on-default-background);\n}\n\n/* On hover, darken the color of the background */\n#sk-container-id-26 div.sk-label:hover label.sk-toggleable__label {\n  color: var(--sklearn-color-text);\n  background-color: var(--sklearn-color-unfitted-level-2);\n}\n\n/* Label box, darken color on hover, fitted */\n#sk-container-id-26 div.sk-label.fitted:hover label.sk-toggleable__label.fitted {\n  color: var(--sklearn-color-text);\n  background-color: var(--sklearn-color-fitted-level-2);\n}\n\n/* Estimator label */\n\n#sk-container-id-26 div.sk-label label {\n  font-family: monospace;\n  font-weight: bold;\n  display: inline-block;\n  line-height: 1.2em;\n}\n\n#sk-container-id-26 div.sk-label-container {\n  text-align: center;\n}\n\n/* Estimator-specific */\n#sk-container-id-26 div.sk-estimator {\n  font-family: monospace;\n  border: 1px dotted var(--sklearn-color-border-box);\n  border-radius: 0.25em;\n  box-sizing: border-box;\n  margin-bottom: 0.5em;\n  /* unfitted */\n  background-color: var(--sklearn-color-unfitted-level-0);\n}\n\n#sk-container-id-26 div.sk-estimator.fitted {\n  /* fitted */\n  background-color: var(--sklearn-color-fitted-level-0);\n}\n\n/* on hover */\n#sk-container-id-26 div.sk-estimator:hover {\n  /* unfitted */\n  background-color: var(--sklearn-color-unfitted-level-2);\n}\n\n#sk-container-id-26 div.sk-estimator.fitted:hover {\n  /* fitted */\n  background-color: var(--sklearn-color-fitted-level-2);\n}\n\n/* Specification for estimator info (e.g. \"i\" and \"?\") */\n\n/* Common style for \"i\" and \"?\" */\n\n.sk-estimator-doc-link,\na:link.sk-estimator-doc-link,\na:visited.sk-estimator-doc-link {\n  float: right;\n  font-size: smaller;\n  line-height: 1em;\n  font-family: monospace;\n  background-color: var(--sklearn-color-background);\n  border-radius: 1em;\n  height: 1em;\n  width: 1em;\n  text-decoration: none !important;\n  margin-left: 1ex;\n  /* unfitted */\n  border: var(--sklearn-color-unfitted-level-1) 1pt solid;\n  color: var(--sklearn-color-unfitted-level-1);\n}\n\n.sk-estimator-doc-link.fitted,\na:link.sk-estimator-doc-link.fitted,\na:visited.sk-estimator-doc-link.fitted {\n  /* fitted */\n  border: var(--sklearn-color-fitted-level-1) 1pt solid;\n  color: var(--sklearn-color-fitted-level-1);\n}\n\n/* On hover */\ndiv.sk-estimator:hover .sk-estimator-doc-link:hover,\n.sk-estimator-doc-link:hover,\ndiv.sk-label-container:hover .sk-estimator-doc-link:hover,\n.sk-estimator-doc-link:hover {\n  /* unfitted */\n  background-color: var(--sklearn-color-unfitted-level-3);\n  color: var(--sklearn-color-background);\n  text-decoration: none;\n}\n\ndiv.sk-estimator.fitted:hover .sk-estimator-doc-link.fitted:hover,\n.sk-estimator-doc-link.fitted:hover,\ndiv.sk-label-container:hover .sk-estimator-doc-link.fitted:hover,\n.sk-estimator-doc-link.fitted:hover {\n  /* fitted */\n  background-color: var(--sklearn-color-fitted-level-3);\n  color: var(--sklearn-color-background);\n  text-decoration: none;\n}\n\n/* Span, style for the box shown on hovering the info icon */\n.sk-estimator-doc-link span {\n  display: none;\n  z-index: 9999;\n  position: relative;\n  font-weight: normal;\n  right: .2ex;\n  padding: .5ex;\n  margin: .5ex;\n  width: min-content;\n  min-width: 20ex;\n  max-width: 50ex;\n  color: var(--sklearn-color-text);\n  box-shadow: 2pt 2pt 4pt #999;\n  /* unfitted */\n  background: var(--sklearn-color-unfitted-level-0);\n  border: .5pt solid var(--sklearn-color-unfitted-level-3);\n}\n\n.sk-estimator-doc-link.fitted span {\n  /* fitted */\n  background: var(--sklearn-color-fitted-level-0);\n  border: var(--sklearn-color-fitted-level-3);\n}\n\n.sk-estimator-doc-link:hover span {\n  display: block;\n}\n\n/* \"?\"-specific style due to the `<a>` HTML tag */\n\n#sk-container-id-26 a.estimator_doc_link {\n  float: right;\n  font-size: 1rem;\n  line-height: 1em;\n  font-family: monospace;\n  background-color: var(--sklearn-color-background);\n  border-radius: 1rem;\n  height: 1rem;\n  width: 1rem;\n  text-decoration: none;\n  /* unfitted */\n  color: var(--sklearn-color-unfitted-level-1);\n  border: var(--sklearn-color-unfitted-level-1) 1pt solid;\n}\n\n#sk-container-id-26 a.estimator_doc_link.fitted {\n  /* fitted */\n  border: var(--sklearn-color-fitted-level-1) 1pt solid;\n  color: var(--sklearn-color-fitted-level-1);\n}\n\n/* On hover */\n#sk-container-id-26 a.estimator_doc_link:hover {\n  /* unfitted */\n  background-color: var(--sklearn-color-unfitted-level-3);\n  color: var(--sklearn-color-background);\n  text-decoration: none;\n}\n\n#sk-container-id-26 a.estimator_doc_link.fitted:hover {\n  /* fitted */\n  background-color: var(--sklearn-color-fitted-level-3);\n}\n</style><div id=\"sk-container-id-26\" class=\"sk-top-container\"><div class=\"sk-text-repr-fallback\"><pre>GradientBoostingRegressor(learning_rate=0.01, n_estimators=1000)</pre><b>In a Jupyter environment, please rerun this cell to show the HTML representation or trust the notebook. <br />On GitHub, the HTML representation is unable to render, please try loading this page with nbviewer.org.</b></div><div class=\"sk-container\" hidden><div class=\"sk-item\"><div class=\"sk-estimator fitted sk-toggleable\"><input class=\"sk-toggleable__control sk-hidden--visually\" id=\"sk-estimator-id-26\" type=\"checkbox\" checked><label for=\"sk-estimator-id-26\" class=\"sk-toggleable__label fitted sk-toggleable__label-arrow fitted\">&nbsp;&nbsp;GradientBoostingRegressor<a class=\"sk-estimator-doc-link fitted\" rel=\"noreferrer\" target=\"_blank\" href=\"https://scikit-learn.org/1.4/modules/generated/sklearn.ensemble.GradientBoostingRegressor.html\">?<span>Documentation for GradientBoostingRegressor</span></a><span class=\"sk-estimator-doc-link fitted\">i<span>Fitted</span></span></label><div class=\"sk-toggleable__content fitted\"><pre>GradientBoostingRegressor(learning_rate=0.01, n_estimators=1000)</pre></div> </div></div></div></div>"
     },
     "execution_count": 222,
     "metadata": {},
     "output_type": "execute_result"
    }
   ],
   "source": [
    "model.fit(ROI_train[GM_features], y_train)"
   ],
   "metadata": {
    "collapsed": false,
    "ExecuteTime": {
     "end_time": "2024-02-04T15:50:11.344399Z",
     "start_time": "2024-02-04T15:49:56.252851Z"
    }
   },
   "id": "fd5fb5f6fbfadc32"
  },
  {
   "cell_type": "code",
   "execution_count": 223,
   "outputs": [],
   "source": [
    "y_pred = model.predict(ROI_test[GM_features])"
   ],
   "metadata": {
    "collapsed": false,
    "ExecuteTime": {
     "end_time": "2024-02-04T15:50:11.351998Z",
     "start_time": "2024-02-04T15:50:11.344731Z"
    }
   },
   "id": "92cefda9fc7f3a6f"
  },
  {
   "cell_type": "code",
   "execution_count": 224,
   "outputs": [
    {
     "data": {
      "text/plain": "7.66834781099084"
     },
     "execution_count": 224,
     "metadata": {},
     "output_type": "execute_result"
    }
   ],
   "source": [
    "root_mean_squared_error(y_pred, y_test)"
   ],
   "metadata": {
    "collapsed": false,
    "ExecuteTime": {
     "end_time": "2024-02-04T15:50:11.356997Z",
     "start_time": "2024-02-04T15:50:11.353617Z"
    }
   },
   "id": "5810b33cb8273050"
  },
  {
   "cell_type": "code",
   "execution_count": 227,
   "outputs": [
    {
     "data": {
      "text/plain": "142"
     },
     "execution_count": 227,
     "metadata": {},
     "output_type": "execute_result"
    }
   ],
   "source": [
    "len(GM_features)"
   ],
   "metadata": {
    "collapsed": false,
    "ExecuteTime": {
     "end_time": "2024-02-04T15:53:11.562042Z",
     "start_time": "2024-02-04T15:53:11.546402Z"
    }
   },
   "id": "de8f95c0909ce455"
  },
  {
   "cell_type": "code",
   "execution_count": 226,
   "outputs": [
    {
     "data": {
      "text/plain": "     participant_id     CSF_Vol      GM_Vol      WM_Vol  l3thVen_GM_Vol  \\\n0               651  334.031002  603.083565  560.465707        0.046239   \n1               431  300.991328  603.101354  594.425495        0.052599   \n2               398  252.410342  641.965684  604.320324        0.063052   \n3               419  402.533442  604.978032  490.709738        0.043962   \n4               627  409.460047  579.029937  509.311974        0.042226   \n..              ...         ...         ...         ...             ...   \n352             126  354.368717  603.612277  538.287176        0.039361   \n353             278  202.368505  726.632802  570.416514        0.075745   \n354             142  347.532891  619.916238  531.700721        0.042164   \n355             486  376.885243  557.122676  564.244986        0.077834   \n356             292  240.494261  713.561284  544.447354        0.149486   \n\n     r3thVen_GM_Vol  l4thVen_GM_Vol  r4thVen_GM_Vol  lAcc_GM_Vol  rAcc_GM_Vol  \\\n0          0.052240        0.063827        0.068097     0.419533     0.427702   \n1          0.047901        0.088186        0.105241     0.373451     0.377817   \n2          0.051575        0.083113        0.076834     0.447264     0.465415   \n3          0.041684        0.089264        0.083791     0.391540     0.388656   \n4          0.036072        0.073829        0.081725     0.339043     0.358513   \n..              ...             ...             ...          ...          ...   \n352        0.039335        0.060274        0.057841     0.431451     0.417681   \n353        0.044148        0.074403        0.063508     0.455139     0.451087   \n354        0.036127        0.068018        0.056144     0.375827     0.397191   \n355        0.041442        0.081778        0.092392     0.466365     0.467192   \n356        0.105400        0.080640        0.079728     0.506300     0.508516   \n\n     ...  lSupParLo_CSF_Vol  rSupParLo_CSF_Vol  lSupTemGy_CSF_Vol  \\\n0    ...           9.417022           8.434683           2.347495   \n1    ...           7.536400           9.255206           1.916260   \n2    ...           4.173962           4.718189           1.629146   \n3    ...           9.709334           8.910621           2.647267   \n4    ...           9.136128           9.851541           3.001734   \n..   ...                ...                ...                ...   \n352  ...           8.160665           9.731094           2.176555   \n353  ...           4.303661           4.670829           1.475882   \n354  ...           8.357738           8.542951           2.464557   \n355  ...           9.664075          10.025763           2.232142   \n356  ...           4.627744           4.707579           1.808898   \n\n     rSupTemGy_CSF_Vol  lTemPo_CSF_Vol  rTemPo_CSF_Vol  lInfFroAngGy_CSF_Vol  \\\n0             2.171560        5.581092        5.706735              1.890379   \n1             2.486424        4.316001        4.436970              1.498470   \n2             2.401178        4.425915        5.277551              1.237723   \n3             2.810882        5.631827        6.304696              2.004819   \n4             2.822341        6.769050        6.473654              2.135641   \n..                 ...             ...             ...                   ...   \n352           2.282556        4.437240        4.504228              1.635577   \n353           1.404434        3.198998        3.017578              1.199771   \n354           2.947965        5.786969        6.389739              1.739823   \n355           2.967895        5.573102        5.070158              1.794367   \n356           2.281597        4.192093        5.280839              1.361957   \n\n     rInfFroAngGy_CSF_Vol  lTemTraGy_CSF_Vol  rTemTraGy_CSF_Vol  \n0                1.612733           0.282384           0.266220  \n1                1.539997           0.353374           0.321598  \n2                1.587169           0.268964           0.222488  \n3                1.836838           0.414907           0.470546  \n4                2.037486           0.418933           0.439689  \n..                    ...                ...                ...  \n352              1.413291           0.353791           0.299222  \n353              1.163728           0.072432           0.095027  \n354              1.873484           0.292447           0.436121  \n355              1.665238           0.270916           0.268293  \n356              1.447199           0.235381           0.247071  \n\n[357 rows x 288 columns]",
      "text/html": "<div>\n<style scoped>\n    .dataframe tbody tr th:only-of-type {\n        vertical-align: middle;\n    }\n\n    .dataframe tbody tr th {\n        vertical-align: top;\n    }\n\n    .dataframe thead th {\n        text-align: right;\n    }\n</style>\n<table border=\"1\" class=\"dataframe\">\n  <thead>\n    <tr style=\"text-align: right;\">\n      <th></th>\n      <th>participant_id</th>\n      <th>CSF_Vol</th>\n      <th>GM_Vol</th>\n      <th>WM_Vol</th>\n      <th>l3thVen_GM_Vol</th>\n      <th>r3thVen_GM_Vol</th>\n      <th>l4thVen_GM_Vol</th>\n      <th>r4thVen_GM_Vol</th>\n      <th>lAcc_GM_Vol</th>\n      <th>rAcc_GM_Vol</th>\n      <th>...</th>\n      <th>lSupParLo_CSF_Vol</th>\n      <th>rSupParLo_CSF_Vol</th>\n      <th>lSupTemGy_CSF_Vol</th>\n      <th>rSupTemGy_CSF_Vol</th>\n      <th>lTemPo_CSF_Vol</th>\n      <th>rTemPo_CSF_Vol</th>\n      <th>lInfFroAngGy_CSF_Vol</th>\n      <th>rInfFroAngGy_CSF_Vol</th>\n      <th>lTemTraGy_CSF_Vol</th>\n      <th>rTemTraGy_CSF_Vol</th>\n    </tr>\n  </thead>\n  <tbody>\n    <tr>\n      <th>0</th>\n      <td>651</td>\n      <td>334.031002</td>\n      <td>603.083565</td>\n      <td>560.465707</td>\n      <td>0.046239</td>\n      <td>0.052240</td>\n      <td>0.063827</td>\n      <td>0.068097</td>\n      <td>0.419533</td>\n      <td>0.427702</td>\n      <td>...</td>\n      <td>9.417022</td>\n      <td>8.434683</td>\n      <td>2.347495</td>\n      <td>2.171560</td>\n      <td>5.581092</td>\n      <td>5.706735</td>\n      <td>1.890379</td>\n      <td>1.612733</td>\n      <td>0.282384</td>\n      <td>0.266220</td>\n    </tr>\n    <tr>\n      <th>1</th>\n      <td>431</td>\n      <td>300.991328</td>\n      <td>603.101354</td>\n      <td>594.425495</td>\n      <td>0.052599</td>\n      <td>0.047901</td>\n      <td>0.088186</td>\n      <td>0.105241</td>\n      <td>0.373451</td>\n      <td>0.377817</td>\n      <td>...</td>\n      <td>7.536400</td>\n      <td>9.255206</td>\n      <td>1.916260</td>\n      <td>2.486424</td>\n      <td>4.316001</td>\n      <td>4.436970</td>\n      <td>1.498470</td>\n      <td>1.539997</td>\n      <td>0.353374</td>\n      <td>0.321598</td>\n    </tr>\n    <tr>\n      <th>2</th>\n      <td>398</td>\n      <td>252.410342</td>\n      <td>641.965684</td>\n      <td>604.320324</td>\n      <td>0.063052</td>\n      <td>0.051575</td>\n      <td>0.083113</td>\n      <td>0.076834</td>\n      <td>0.447264</td>\n      <td>0.465415</td>\n      <td>...</td>\n      <td>4.173962</td>\n      <td>4.718189</td>\n      <td>1.629146</td>\n      <td>2.401178</td>\n      <td>4.425915</td>\n      <td>5.277551</td>\n      <td>1.237723</td>\n      <td>1.587169</td>\n      <td>0.268964</td>\n      <td>0.222488</td>\n    </tr>\n    <tr>\n      <th>3</th>\n      <td>419</td>\n      <td>402.533442</td>\n      <td>604.978032</td>\n      <td>490.709738</td>\n      <td>0.043962</td>\n      <td>0.041684</td>\n      <td>0.089264</td>\n      <td>0.083791</td>\n      <td>0.391540</td>\n      <td>0.388656</td>\n      <td>...</td>\n      <td>9.709334</td>\n      <td>8.910621</td>\n      <td>2.647267</td>\n      <td>2.810882</td>\n      <td>5.631827</td>\n      <td>6.304696</td>\n      <td>2.004819</td>\n      <td>1.836838</td>\n      <td>0.414907</td>\n      <td>0.470546</td>\n    </tr>\n    <tr>\n      <th>4</th>\n      <td>627</td>\n      <td>409.460047</td>\n      <td>579.029937</td>\n      <td>509.311974</td>\n      <td>0.042226</td>\n      <td>0.036072</td>\n      <td>0.073829</td>\n      <td>0.081725</td>\n      <td>0.339043</td>\n      <td>0.358513</td>\n      <td>...</td>\n      <td>9.136128</td>\n      <td>9.851541</td>\n      <td>3.001734</td>\n      <td>2.822341</td>\n      <td>6.769050</td>\n      <td>6.473654</td>\n      <td>2.135641</td>\n      <td>2.037486</td>\n      <td>0.418933</td>\n      <td>0.439689</td>\n    </tr>\n    <tr>\n      <th>...</th>\n      <td>...</td>\n      <td>...</td>\n      <td>...</td>\n      <td>...</td>\n      <td>...</td>\n      <td>...</td>\n      <td>...</td>\n      <td>...</td>\n      <td>...</td>\n      <td>...</td>\n      <td>...</td>\n      <td>...</td>\n      <td>...</td>\n      <td>...</td>\n      <td>...</td>\n      <td>...</td>\n      <td>...</td>\n      <td>...</td>\n      <td>...</td>\n      <td>...</td>\n      <td>...</td>\n    </tr>\n    <tr>\n      <th>352</th>\n      <td>126</td>\n      <td>354.368717</td>\n      <td>603.612277</td>\n      <td>538.287176</td>\n      <td>0.039361</td>\n      <td>0.039335</td>\n      <td>0.060274</td>\n      <td>0.057841</td>\n      <td>0.431451</td>\n      <td>0.417681</td>\n      <td>...</td>\n      <td>8.160665</td>\n      <td>9.731094</td>\n      <td>2.176555</td>\n      <td>2.282556</td>\n      <td>4.437240</td>\n      <td>4.504228</td>\n      <td>1.635577</td>\n      <td>1.413291</td>\n      <td>0.353791</td>\n      <td>0.299222</td>\n    </tr>\n    <tr>\n      <th>353</th>\n      <td>278</td>\n      <td>202.368505</td>\n      <td>726.632802</td>\n      <td>570.416514</td>\n      <td>0.075745</td>\n      <td>0.044148</td>\n      <td>0.074403</td>\n      <td>0.063508</td>\n      <td>0.455139</td>\n      <td>0.451087</td>\n      <td>...</td>\n      <td>4.303661</td>\n      <td>4.670829</td>\n      <td>1.475882</td>\n      <td>1.404434</td>\n      <td>3.198998</td>\n      <td>3.017578</td>\n      <td>1.199771</td>\n      <td>1.163728</td>\n      <td>0.072432</td>\n      <td>0.095027</td>\n    </tr>\n    <tr>\n      <th>354</th>\n      <td>142</td>\n      <td>347.532891</td>\n      <td>619.916238</td>\n      <td>531.700721</td>\n      <td>0.042164</td>\n      <td>0.036127</td>\n      <td>0.068018</td>\n      <td>0.056144</td>\n      <td>0.375827</td>\n      <td>0.397191</td>\n      <td>...</td>\n      <td>8.357738</td>\n      <td>8.542951</td>\n      <td>2.464557</td>\n      <td>2.947965</td>\n      <td>5.786969</td>\n      <td>6.389739</td>\n      <td>1.739823</td>\n      <td>1.873484</td>\n      <td>0.292447</td>\n      <td>0.436121</td>\n    </tr>\n    <tr>\n      <th>355</th>\n      <td>486</td>\n      <td>376.885243</td>\n      <td>557.122676</td>\n      <td>564.244986</td>\n      <td>0.077834</td>\n      <td>0.041442</td>\n      <td>0.081778</td>\n      <td>0.092392</td>\n      <td>0.466365</td>\n      <td>0.467192</td>\n      <td>...</td>\n      <td>9.664075</td>\n      <td>10.025763</td>\n      <td>2.232142</td>\n      <td>2.967895</td>\n      <td>5.573102</td>\n      <td>5.070158</td>\n      <td>1.794367</td>\n      <td>1.665238</td>\n      <td>0.270916</td>\n      <td>0.268293</td>\n    </tr>\n    <tr>\n      <th>356</th>\n      <td>292</td>\n      <td>240.494261</td>\n      <td>713.561284</td>\n      <td>544.447354</td>\n      <td>0.149486</td>\n      <td>0.105400</td>\n      <td>0.080640</td>\n      <td>0.079728</td>\n      <td>0.506300</td>\n      <td>0.508516</td>\n      <td>...</td>\n      <td>4.627744</td>\n      <td>4.707579</td>\n      <td>1.808898</td>\n      <td>2.281597</td>\n      <td>4.192093</td>\n      <td>5.280839</td>\n      <td>1.361957</td>\n      <td>1.447199</td>\n      <td>0.235381</td>\n      <td>0.247071</td>\n    </tr>\n  </tbody>\n</table>\n<p>357 rows × 288 columns</p>\n</div>"
     },
     "execution_count": 226,
     "metadata": {},
     "output_type": "execute_result"
    }
   ],
   "source": [
    "ROI"
   ],
   "metadata": {
    "collapsed": false,
    "ExecuteTime": {
     "end_time": "2024-02-04T15:51:45.870305Z",
     "start_time": "2024-02-04T15:51:45.844571Z"
    }
   },
   "id": "f18c7b288221103d"
  },
  {
   "cell_type": "code",
   "execution_count": 230,
   "outputs": [],
   "source": [
    "test = ROI_train.copy()"
   ],
   "metadata": {
    "collapsed": false,
    "ExecuteTime": {
     "end_time": "2024-02-04T16:23:06.681702Z",
     "start_time": "2024-02-04T16:23:06.654539Z"
    }
   },
   "id": "6a6871134b9f70eb"
  },
  {
   "cell_type": "code",
   "execution_count": 231,
   "outputs": [],
   "source": [
    "test[\"age\"] = y_train"
   ],
   "metadata": {
    "collapsed": false,
    "ExecuteTime": {
     "end_time": "2024-02-04T16:23:21.076637Z",
     "start_time": "2024-02-04T16:23:21.052928Z"
    }
   },
   "id": "c13cd224704a4486"
  },
  {
   "cell_type": "code",
   "execution_count": 232,
   "outputs": [
    {
     "data": {
      "text/plain": "participant_id          0.341417\nCSF_Vol                 0.802981\nGM_Vol                 -0.820098\nWM_Vol                 -0.354918\nl3thVen_GM_Vol         -0.482567\n                          ...   \nlInfFroAngGy_CSF_Vol    0.629072\nrInfFroAngGy_CSF_Vol    0.615305\nlTemTraGy_CSF_Vol       0.653696\nrTemTraGy_CSF_Vol       0.654878\nage                     1.000000\nName: age, Length: 289, dtype: float64"
     },
     "execution_count": 232,
     "metadata": {},
     "output_type": "execute_result"
    }
   ],
   "source": [
    "test.corr()[\"age\"]"
   ],
   "metadata": {
    "collapsed": false,
    "ExecuteTime": {
     "end_time": "2024-02-04T16:23:28.276927Z",
     "start_time": "2024-02-04T16:23:28.170210Z"
    }
   },
   "id": "252ccb5ed209e7f0"
  },
  {
   "cell_type": "code",
   "execution_count": 240,
   "outputs": [
    {
     "data": {
      "text/plain": "['lPCu_CSF_Vol',\n 'rPCu_CSF_Vol',\n 'lParHipGy_CSF_Vol',\n 'rParHipGy_CSF_Vol',\n 'lPosIns_CSF_Vol',\n 'rPosIns_CSF_Vol',\n 'lParOpe_CSF_Vol',\n 'rParOpe_CSF_Vol',\n 'lPoCGy_CSF_Vol',\n 'rPoCGy_CSF_Vol',\n 'lPosOrbGy_CSF_Vol',\n 'rPosOrbGy_CSF_Vol',\n 'lPla_CSF_Vol',\n 'rPla_CSF_Vol',\n 'lPrcGy_CSF_Vol',\n 'rPrcGy_CSF_Vol',\n 'lTem_CSF_Vol',\n 'rTem_CSF_Vol',\n 'lSCA_CSF_Vol',\n 'rSCA_CSF_Vol',\n 'lSupFroGy_CSF_Vol',\n 'rSupFroGy_CSF_Vol',\n 'lCbr+Mot_CSF_Vol',\n 'rCbr+Mot_CSF_Vol',\n 'lSupMarGy_CSF_Vol',\n 'rSupMarGy_CSF_Vol',\n 'lSupOccGy_CSF_Vol',\n 'rSupOccGy_CSF_Vol',\n 'lSupParLo_CSF_Vol',\n 'rSupParLo_CSF_Vol',\n 'lSupTemGy_CSF_Vol',\n 'rSupTemGy_CSF_Vol',\n 'lTemPo_CSF_Vol',\n 'rTemPo_CSF_Vol',\n 'lInfFroAngGy_CSF_Vol',\n 'rInfFroAngGy_CSF_Vol',\n 'lTemTraGy_CSF_Vol',\n 'rTemTraGy_CSF_Vol']"
     },
     "execution_count": 240,
     "metadata": {},
     "output_type": "execute_result"
    }
   ],
   "source": [
    "ROI.columns.to_list()[250:]"
   ],
   "metadata": {
    "collapsed": false,
    "ExecuteTime": {
     "end_time": "2024-02-04T17:24:12.932781Z",
     "start_time": "2024-02-04T17:24:12.913341Z"
    }
   },
   "id": "6c7965565ceac561"
  },
  {
   "cell_type": "code",
   "execution_count": null,
   "outputs": [],
   "source": [],
   "metadata": {
    "collapsed": false
   },
   "id": "d9d5b7340d7f175d"
  }
 ],
 "metadata": {
  "kernelspec": {
   "display_name": "Python 3",
   "language": "python",
   "name": "python3"
  },
  "language_info": {
   "codemirror_mode": {
    "name": "ipython",
    "version": 2
   },
   "file_extension": ".py",
   "mimetype": "text/x-python",
   "name": "python",
   "nbconvert_exporter": "python",
   "pygments_lexer": "ipython2",
   "version": "2.7.6"
  }
 },
 "nbformat": 4,
 "nbformat_minor": 5
}
