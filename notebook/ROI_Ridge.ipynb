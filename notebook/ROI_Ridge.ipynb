{
 "cells": [
  {
   "cell_type": "code",
   "execution_count": 25,
   "id": "initial_id",
   "metadata": {
    "collapsed": true,
    "ExecuteTime": {
     "end_time": "2024-02-19T16:46:17.794276Z",
     "start_time": "2024-02-19T16:46:17.772260Z"
    }
   },
   "outputs": [],
   "source": [
    "import pandas as pd\n",
    "import optuna\n",
    "import sys\n",
    "from sklearn.metrics import root_mean_squared_error, r2_score\n",
    "from sklearn.linear_model import Ridge\n",
    "import numpy as np\n",
    "sys.path.append('../scripts')\n",
    "import problem"
   ]
  },
  {
   "cell_type": "markdown",
   "source": [
    "# Import des données"
   ],
   "metadata": {
    "collapsed": false
   },
   "id": "acb5528f08b8ab7"
  },
  {
   "cell_type": "code",
   "execution_count": 26,
   "outputs": [],
   "source": [
    "ROI_train = pd.read_csv(\"../data/train_rois.csv\")\n",
    "ROI_test = pd.read_csv(\"../data/test_rois.csv\")"
   ],
   "metadata": {
    "collapsed": false,
    "ExecuteTime": {
     "end_time": "2024-02-19T16:46:18.603403Z",
     "start_time": "2024-02-19T16:46:18.565334Z"
    }
   },
   "id": "e4bb3708f7c96454"
  },
  {
   "cell_type": "code",
   "execution_count": 27,
   "outputs": [
    {
     "data": {
      "text/plain": "(357, 288)"
     },
     "execution_count": 27,
     "metadata": {},
     "output_type": "execute_result"
    }
   ],
   "source": [
    "ROI_train.shape"
   ],
   "metadata": {
    "collapsed": false,
    "ExecuteTime": {
     "end_time": "2024-02-19T16:46:18.726330Z",
     "start_time": "2024-02-19T16:46:18.711242Z"
    }
   },
   "id": "b01a42d21793fe0a"
  },
  {
   "cell_type": "code",
   "execution_count": 28,
   "outputs": [],
   "source": [
    "participants_train = pd.read_csv(\"../data/train_participants.csv\")"
   ],
   "metadata": {
    "collapsed": false,
    "ExecuteTime": {
     "end_time": "2024-02-19T16:46:18.900874Z",
     "start_time": "2024-02-19T16:46:18.862238Z"
    }
   },
   "id": "886a143ed1ff23a8"
  },
  {
   "cell_type": "code",
   "execution_count": 29,
   "outputs": [],
   "source": [
    "X_train, y_train = problem.get_train_data(True)\n",
    "X_test, y_test = problem.get_test_data(True)\n",
    "\n",
    "assert X_train.shape[1] == 284 + 331695"
   ],
   "metadata": {
    "collapsed": false,
    "ExecuteTime": {
     "end_time": "2024-02-19T16:46:29.262800Z",
     "start_time": "2024-02-19T16:46:19.008950Z"
    }
   },
   "id": "27bba4819f39c1dd"
  },
  {
   "cell_type": "markdown",
   "source": [
    "# Séparation des variables en 5 zones : \n",
    "- **Zone Corticale** : reflète les principales fonctions cognitives et sensorielles du cerveau.\n",
    "- **Zone Subcorticale** et Limbique : structures sous-corticales et les régions limbiques, impliquées dans les émotions, la mémoire, et le système de récompense.\n",
    "- **Zone des Ventricules et des Espaces Liquidiens** : Zones remplies de liquide cérébrospinal (CSF), essentielles pour la protection du cerveau, l'échange de nutriments, et l'élimination des déchets.\n",
    "- **Zone de la Matière Blanche et Motrice** : Cette catégorie combine la matière blanche, qui facilite la communication entre différentes régions du cerveau, et les structures motrices pour la coordination et le mouvement.\n",
    "- **Zone Cérébelleuse** : Catégorie distincte pour le cervelet, vu son rôle crucial dans la coordination motrice, mais également dans certaines fonctions cognitives."
   ],
   "metadata": {
    "collapsed": false
   },
   "id": "71bfde8843cc45f4"
  },
  {
   "cell_type": "code",
   "execution_count": 30,
   "outputs": [],
   "source": [
    "corticale_GM = [\"lAntIns_GM_Vol\", \"rAntIns_GM_Vol\" ,\n",
    "\"lAntOrbGy_GM_Vol\", \"rAntOrbGy_GM_Vol\" ,\n",
    "\"lFroOpe_GM_Vol\", \"rFroOpe_GM_Vol\" ,\n",
    "\"lFroPo_GM_Vol\", \"rFroPo_GM_Vol\" ,\n",
    "\"lMidFroGy_GM_Vol\", \"rMidFroGy_GM_Vol\" ,\n",
    "\"lMedFroCbr_GM_Vol\", \"rMedFroCbr_GM_Vol\" ,\n",
    "\"lSupMedFroGy_GM_Vol\", \"rSupMedFroGy_GM_Vol\" ,\n",
    "\"lInfFroGy_GM_Vol\", \"rInfFroGy_GM_Vol\" ,\n",
    "\"lInfFroOrbGy_GM_Vol\", \"rInfFroOrbGy_GM_Vol\" ,\n",
    "\"lSupFroGy_GM_Vol\", \"rSupFroGy_GM_Vol\" ,\n",
    "\"lInfFroAngGy_GM_Vol\", \"rInfFroAngGy_GM_Vol\", \n",
    "\"lAngGy_GM_Vol\", \"rAngGy_GM_Vol\",\n",
    "\"lCun_GM_Vol\", \"rCun_GM_Vol\" ,\n",
    "\"lInfOccGy_GM_Vol\", \"rInfOccGy_GM_Vol\" ,\n",
    "\"lMidOccGy_GM_Vol\", \"rMidOccGy_GM_Vol\" ,\n",
    "\"lOccPo_GM_Vol\", \"rOccPo_GM_Vol\" ,\n",
    "\"lPCu_GM_Vol\", \"rPCu_GM_Vol\" ,\n",
    "\"lParHipGy_GM_Vol\", \"rParHipGy_GM_Vol\" ,\n",
    "\"lParOpe_GM_Vol\", \"rParOpe_GM_Vol\" ,\n",
    "\"lPoCGy_GM_Vol\", \"rPoCGy_GM_Vol\" ,\n",
    "\"lSupParLo_GM_Vol\", \"rSupParLo_GM_Vol\" ,\n",
    "\"lOccFusGy_GM_Vol\", \"rOccFusGy_GM_Vol\" ,\n",
    "\"lPosOrbGy_GM_Vol\", \"rPosOrbGy_GM_Vol\",\n",
    "\"lSupOccGy_GM_Vol\", \"rSupOccGy_GM_Vol\", \n",
    "\"lEnt_GM_Vol\", \"rEnt_GM_Vol\" ,\n",
    "\"lFusGy_GM_Vol\", \"rFusGy_GM_Vol\" ,\n",
    "\"lInfTemGy_GM_Vol\", \"rInfTemGy_GM_Vol\" ,\n",
    "\"lMidTemGy_GM_Vol\", \"rMidTemGy_GM_Vol\" ,\n",
    "\"lTem_GM_Vol\", \"rTem_GM_Vol\" ,\n",
    "\"lTemPo_GM_Vol\", \"rTemPo_GM_Vol\" ,\n",
    "\"lTemTraGy_GM_Vol\", \"rTemTraGy_GM_Vol\" ,\n",
    "\"lPosIns_GM_Vol\", \"rPosIns_GM_Vol\",\n",
    "\"lPosCinGy_GM_Vol\", \"rPosCinGy_GM_Vol\" ,\n",
    "\"lCenOpe_GM_Vol\", \"rCenOpe_GM_Vol\",\n",
    "\"lCal+Cbr_GM_Vol\", \"rCal+Cbr_GM_Vol\",\n",
    "\"lRecGy_GM_Vol\", \"rRecGy_GM_Vol\" ,\n",
    "\"lLinGy_GM_Vol\", \"rLinGy_GM_Vol\" ,\n",
    "\"lLatOrbGy_GM_Vol\", \"rLatOrbGy_GM_Vol\" ,\n",
    "\"lMidCinGy_GM_Vol\", \"rMidCinGy_GM_Vol\" ,\n",
    "\"lMedOrbGy_GM_Vol\", \"rMedOrbGy_GM_Vol\" ,\n",
    "\"lMedPoCGy_GM_Vol\", \"rMedPoCGy_GM_Vol\" ,\n",
    "\"lMedPrcGy_GM_Vol\", \"rMedPrcGy_GM_Vol\" ,\n",
    "\"lPrcGy_GM_Vol\", \"rPrcGy_GM_Vol\" ,\n",
    "\"lPla_GM_Vol\", \"rPla_GM_Vol\" ,\n",
    "\"lSCA_GM_Vol\", \"rSCA_GM_Vol\" ,\n",
    "\"lSupMarGy_GM_Vol\", \"rSupMarGy_GM_Vol\", \n",
    "\"lAntCinGy_GM_Vol\", \"rAntCinGy_GM_Vol\", \n",
    "\"lOC_GM_Vol\", \"rOC_GM_Vol\"\n",
    "\n",
    "]\n",
    "corticale_CSF = [\"lCenOpe_CSF_Vol\", \"rCenOpe_CSF_Vol\" ,\n",
    "\"lFroOpe_CSF_Vol\", \"rFroOpe_CSF_Vol\" ,\n",
    "\"lFroPo_CSF_Vol\", \"rFroPo_CSF_Vol\",\n",
    "\"lMidFroGy_CSF_Vol\", \"rMidFroGy_CSF_Vol\" ,\n",
    "\"lMedFroCbr_CSF_Vol\", \"rMedFroCbr_CSF_Vol\" ,\n",
    "\"lSupMedFroGy_CSF_Vol\", \"rSupMedFroGy_CSF_Vol\" ,\n",
    "\"lLatOrbGy_CSF_Vol\", \"rLatOrbGy_CSF_Vol\" ,\n",
    "\"lMedOrbGy_CSF_Vol\", \"rMedOrbGy_CSF_Vol\" ,\n",
    "\"lInfFroGy_CSF_Vol\", \"rInfFroGy_CSF_Vol\" ,\n",
    "\"lInfFroOrbGy_CSF_Vol\", \"rInfFroOrbGy_CSF_Vol\" ,\n",
    "\"lPosIns_CSF_Vol\", \"rPosIns_CSF_Vol\" ,\n",
    "\"lSupFroGy_CSF_Vol\", \"rSupFroGy_CSF_Vol\" ,\n",
    "\"lInfFroAngGy_CSF_Vol\", \"rInfFroAngGy_CSF_Vol\" ,\n",
    "\"lPrcGy_CSF_Vol\", \"rPrcGy_CSF_Vol\", \n",
    "\"lInfOccGy_CSF_Vol\", \"rInfOccGy_CSF_Vol\" ,\n",
    "\"lMidOccGy_CSF_Vol\", \"rMidOccGy_CSF_Vol\" ,\n",
    "\"lOccPo_CSF_Vol\", \"rOccPo_CSF_Vol\" ,\n",
    "\"lOccFusGy_CSF_Vol\", \"rOccFusGy_CSF_Vol\" ,\n",
    "\"lCun_CSF_Vol\", \"rCun_CSF_Vol\" ,\n",
    "\"lPosCinGy_CSF_Vol\", \"rPosCinGy_CSF_Vol\" ,\n",
    "\"lPCu_CSF_Vol\", \"rPCu_CSF_Vol\" ,\n",
    "\"lPoCGy_CSF_Vol\", \"rPoCGy_CSF_Vol\" ,\n",
    "\"lParOpe_CSF_Vol\", \"rParOpe_CSF_Vol\" ,\n",
    "\"lSupParLo_CSF_Vol\", \"rSupParLo_CSF_Vol\" ,\n",
    "\"lSupOccGy_CSF_Vol\", \"rSupOccGy_CSF_Vol\" ,\n",
    "\"lPosOrbGy_CSF_Vol\", \"rPosOrbGy_CSF_Vol\" ,\n",
    "\"lInfTemGy_CSF_Vol\", \"rInfTemGy_CSF_Vol\" ,\n",
    "\"lMidTemGy_CSF_Vol\", \"rMidTemGy_CSF_Vol\" ,\n",
    "\"lEnt_CSF_Vol\", \"rEnt_CSF_Vol\" ,\n",
    "\"lParHipGy_CSF_Vol\", \"rParHipGy_CSF_Vol\" ,\n",
    "\"lTem_CSF_Vol\", \"rTem_CSF_Vol\" ,\n",
    "\"lSupTemGy_CSF_Vol\", \"rSupTemGy_CSF_Vol\" ,\n",
    "\"lTemPo_CSF_Vol\", \"rTemPo_CSF_Vol\" ,\n",
    "\"lTemTraGy_CSF_Vol\", \"rTemTraGy_CSF_Vol\" ,\n",
    "\"lOC_CSF_Vol\", \"rOC_CSF_Vol\" ,\n",
    "\"lAntCinGy_CSF_Vol\", \"rAntCinGy_CSF_Vol\" ,\n",
    "\"lAntIns_CSF_Vol\", \"rAntIns_CSF_Vol\" ,\n",
    "\"lAntOrbGy_CSF_Vol\", \"rAntOrbGy_CSF_Vol\" ,\n",
    "\"lAngGy_CSF_Vol\", \"rAngGy_CSF_Vol\" ,\n",
    "\"lCal+Cbr_CSF_Vol\", \"rCal+Cbr_CSF_Vol\",\n",
    "\n",
    "]"
   ],
   "metadata": {
    "collapsed": false,
    "ExecuteTime": {
     "end_time": "2024-02-19T16:46:29.283368Z",
     "start_time": "2024-02-19T16:46:29.270300Z"
    }
   },
   "id": "476320e08a5595ae"
  },
  {
   "cell_type": "code",
   "execution_count": 31,
   "outputs": [],
   "source": [
    "subcorticale_GM = [\"lAcc_GM_Vol\", \"rAcc_GM_Vol\" ,\n",
    "\"lAmy_GM_Vol\", \"rAmy_GM_Vol\" ,\n",
    "\"lBst_GM_Vol\", \"rBst_GM_Vol\" ,\n",
    "\"lCau_GM_Vol\", \"rCau_GM_Vol\" ,\n",
    "\"lPal_GM_Vol\", \"rPal_GM_Vol\" ,\n",
    "\"lPut_GM_Vol\", \"rPut_GM_Vol\" ,\n",
    "\"lThaPro_GM_Vol\", \"rThaPro_GM_Vol\", \n",
    "\"lBasCbr+FobBr_GM_Vol\", \"rBasCbr+FobBr_GM_Vol\"]\n",
    "subcorticale_CSF = [\"lAcc_CSF_Vol\", \"rAcc_CSF_Vol\" ,\n",
    "\"lAmy_CSF_Vol\", \"rAmy_CSF_Vol\" ,\n",
    "\"lBst_CSF_Vol\", \"rBst_CSF_Vol\" ,\n",
    "\"lCau_CSF_Vol\", \"rCau_CSF_Vol\" ,\n",
    "\"lPal_CSF_Vol\", \"rPal_CSF_Vol\" ,\n",
    "\"lPut_CSF_Vol\", \"rPut_CSF_Vol\" ,\n",
    "\"lThaPro_CSF_Vol\", \"rThaPro_CSF_Vol\" ,\n",
    "\"lLinGy_CSF_Vol\", \"rLinGy_CSF_Vol\" ,\n",
    "\"lMidCinGy_CSF_Vol\", \"rMidCinGy_CSF_Vol\" ,\n",
    "\"lMedPoCGy_CSF_Vol\", \"rMedPoCGy_CSF_Vol\" ,\n",
    "\"lMedPrcGy_CSF_Vol\", \"rMedPrcGy_CSF_Vol\" ,\n",
    "\"lFusGy_CSF_Vol\", \"rFusGy_CSF_Vol\" ,\n",
    "\"lRecGy_CSF_Vol\", \"rRecGy_CSF_Vol\", \n",
    "\"lBasCbr+FobBr_CSF_Vol\", \"rBasCbr+FobBr_CSF_Vol\", \n",
    "\"lPla_CSF_Vol\", \"rPla_CSF_Vol\", \n",
    "\"lSCA_CSF_Vol\", \"rSCA_CSF_Vol\", \n",
    "\"lCbr+Mot_CSF_Vol\", \"rCbr+Mot_CSF_Vol\", \n",
    "\"lSupMarGy_CSF_Vol\", \"rSupMarGy_CSF_Vol\" ]"
   ],
   "metadata": {
    "collapsed": false,
    "ExecuteTime": {
     "end_time": "2024-02-19T16:46:29.289925Z",
     "start_time": "2024-02-19T16:46:29.280487Z"
    }
   },
   "id": "da4a6e24614b38f7"
  },
  {
   "cell_type": "code",
   "execution_count": 32,
   "outputs": [],
   "source": [
    "liquidiens_GM = [\"l3thVen_GM_Vol\", \"r3thVen_GM_Vol\" ,\n",
    "\"l4thVen_GM_Vol\", \"r4thVen_GM_Vol\" ,\n",
    "\"lInfLatVen_GM_Vol\", \"rInfLatVen_GM_Vol\" ,\n",
    "\"lLatVen_GM_Vol\", \"rLatVen_GM_Vol\" ,\n",
    "\"lVenVen_GM_Vol\", \"rVenVen_GM_Vol\" ,\n",
    "]\n",
    "liquidiens_CSF = [\"l3thVen_CSF_Vol\", \"r3thVen_CSF_Vol\" ,\n",
    "\"l4thVen_CSF_Vol\", \"r4thVen_CSF_Vol\" ,\n",
    "\"lCSF_CSF_Vol\", \"rCSF_CSF_Vol\" ,\n",
    "\"lInfLatVen_CSF_Vol\", \"rInfLatVen_CSF_Vol\" ,\n",
    "\"lLatVen_CSF_Vol\", \"rLatVen_CSF_Vol\" ,\n",
    "\"lVenVen_CSF_Vol\", \"rVenVen_CSF_Vol\"]"
   ],
   "metadata": {
    "collapsed": false,
    "ExecuteTime": {
     "end_time": "2024-02-19T16:46:29.322255Z",
     "start_time": "2024-02-19T16:46:29.291803Z"
    }
   },
   "id": "9d4a161bc58e607c"
  },
  {
   "cell_type": "code",
   "execution_count": 33,
   "outputs": [],
   "source": [
    "mat_blanche_GM = [\"lCbr+Mot_GM_Vol\", \n",
    "                  \"rCbr+Mot_GM_Vol\",]\n",
    "mat_blanche_CSF = [\"lCbeWM_CSF_Vol\", \"rCbeWM_CSF_Vol\" ,\n",
    "\"lCbrWM_CSF_Vol\", \"rCbrWM_CSF_Vol\"]"
   ],
   "metadata": {
    "collapsed": false,
    "ExecuteTime": {
     "end_time": "2024-02-19T16:46:29.322718Z",
     "start_time": "2024-02-19T16:46:29.300201Z"
    }
   },
   "id": "5e2bd42b52945d8a"
  },
  {
   "cell_type": "code",
   "execution_count": 34,
   "outputs": [],
   "source": [
    "cereb_GM = [\"lExtCbe_GM_Vol\", \"rExtCbe_GM_Vol\" ,\n",
    "\"lCbeWM_GM_Vol\", \"rCbeWM_GM_Vol\" ,\n",
    "\"lCbeLoCbe1-5_GM_Vol\", \"rCbeLoCbe1-5_GM_Vol\" ,\n",
    "\"lCbeLoCbe6-7_GM_Vol\", \"rCbeLoCbe6-7_GM_Vol\" ,\n",
    "\"lCbeLoCbe8-10_GM_Vol\", \"rCbeLoCbe8-10_GM_Vol\" , \n",
    "]\n",
    "cereb_CSF = [\"lExtCbe_CSF_Vol\", \"rExtCbe_CSF_Vol\", \n",
    "\"lCbeLoCbe1-5_CSF_Vol\", \"rCbeLoCbe1-5_CSF_Vol\",\n",
    "\"lCbeLoCbe6-7_CSF_Vol\", \"rCbeLoCbe6-7_CSF_Vol\",\n",
    "\"lCbeLoCbe8-10_CSF_Vol\", \"rCbeLoCbe8-10_CSF_Vol\",\n",
    "]"
   ],
   "metadata": {
    "collapsed": false,
    "ExecuteTime": {
     "end_time": "2024-02-19T16:46:29.322875Z",
     "start_time": "2024-02-19T16:46:29.307326Z"
    }
   },
   "id": "5b95bf96eeef22e"
  },
  {
   "cell_type": "code",
   "execution_count": 35,
   "outputs": [],
   "source": [
    "autre_GM = ['lCbrWM_GM_Vol',\n",
    " 'rCbrWM_GM_Vol',\n",
    " 'lCSF_GM_Vol',\n",
    " 'rCSF_GM_Vol',\n",
    " 'lHip_GM_Vol',\n",
    " 'rHip_GM_Vol',\n",
    " 'lSupTemGy_GM_Vol',\n",
    " 'rSupTemGy_GM_Vol',\n",
    "]\n",
    "autre_CSF = [ 'lHip_CSF_Vol',\n",
    " 'rHip_CSF_Vol']"
   ],
   "metadata": {
    "collapsed": false,
    "ExecuteTime": {
     "end_time": "2024-02-19T16:46:29.322987Z",
     "start_time": "2024-02-19T16:46:29.312796Z"
    }
   },
   "id": "411337fd91967020"
  },
  {
   "cell_type": "code",
   "execution_count": 36,
   "outputs": [],
   "source": [
    "assert len(corticale_GM) + len(corticale_CSF) + len(subcorticale_CSF) + len(subcorticale_GM) + len(liquidiens_GM) + len(liquidiens_CSF) + len(mat_blanche_GM) + len(mat_blanche_CSF) + len(cereb_GM) + len(cereb_CSF) + len(autre_CSF) + len(autre_GM) == ROI_train.shape[1]-4"
   ],
   "metadata": {
    "collapsed": false,
    "ExecuteTime": {
     "end_time": "2024-02-19T16:46:29.353174Z",
     "start_time": "2024-02-19T16:46:29.322425Z"
    }
   },
   "id": "91bc042397c7062e"
  },
  {
   "cell_type": "markdown",
   "source": [
    "# Calcul des volumes de chaque partie"
   ],
   "metadata": {
    "collapsed": false
   },
   "id": "439788b525904127"
  },
  {
   "cell_type": "code",
   "execution_count": 37,
   "outputs": [],
   "source": [
    "ROI_train[\"Vol_GM_corticale\"] = ROI_train[corticale_GM].sum(axis = 1)\n",
    "ROI_train[\"Vol_CSF_corticale\"] = ROI_train[corticale_CSF].sum(axis = 1)"
   ],
   "metadata": {
    "collapsed": false,
    "ExecuteTime": {
     "end_time": "2024-02-19T16:46:29.367237Z",
     "start_time": "2024-02-19T16:46:29.330881Z"
    }
   },
   "id": "61917ce685d218d7"
  },
  {
   "cell_type": "code",
   "execution_count": 38,
   "outputs": [],
   "source": [
    "ROI_train[\"Vol_GM_subcorticale\"] = ROI_train[subcorticale_GM].sum(axis = 1)\n",
    "ROI_train[\"Vol_CSF_subcorticale\"] = ROI_train[subcorticale_CSF].sum(axis = 1)"
   ],
   "metadata": {
    "collapsed": false,
    "ExecuteTime": {
     "end_time": "2024-02-19T16:46:29.387748Z",
     "start_time": "2024-02-19T16:46:29.349202Z"
    }
   },
   "id": "d54f19af0db24be2"
  },
  {
   "cell_type": "code",
   "execution_count": 39,
   "outputs": [],
   "source": [
    "ROI_train[\"Vol_GM_liquidien\"] = ROI_train[liquidiens_GM].sum(axis = 1)\n",
    "ROI_train[\"Vol_CSF_liquidien\"] = ROI_train[liquidiens_CSF].sum(axis = 1)"
   ],
   "metadata": {
    "collapsed": false,
    "ExecuteTime": {
     "end_time": "2024-02-19T16:46:29.392808Z",
     "start_time": "2024-02-19T16:46:29.360962Z"
    }
   },
   "id": "4acf0f4d006f0621"
  },
  {
   "cell_type": "code",
   "execution_count": 40,
   "outputs": [],
   "source": [
    "ROI_train[\"Vol_GM_matblanche\"] = ROI_train[mat_blanche_GM].sum(axis = 1)\n",
    "ROI_train[\"Vol_CSF_matblanche\"] = ROI_train[mat_blanche_CSF].sum(axis = 1)"
   ],
   "metadata": {
    "collapsed": false,
    "ExecuteTime": {
     "end_time": "2024-02-19T16:46:29.411608Z",
     "start_time": "2024-02-19T16:46:29.373276Z"
    }
   },
   "id": "acd1404f677c4bde"
  },
  {
   "cell_type": "code",
   "execution_count": 41,
   "outputs": [],
   "source": [
    "ROI_train[\"Vol_GM_cereb\"] = ROI_train[cereb_GM].sum(axis = 1)\n",
    "ROI_train[\"Vol_CSF_cereb\"] = ROI_train[cereb_CSF].sum(axis = 1)"
   ],
   "metadata": {
    "collapsed": false,
    "ExecuteTime": {
     "end_time": "2024-02-19T16:46:29.431084Z",
     "start_time": "2024-02-19T16:46:29.378587Z"
    }
   },
   "id": "4a29182a6c77221a"
  },
  {
   "cell_type": "code",
   "execution_count": 42,
   "outputs": [],
   "source": [
    "ROI_train[\"Vol_GM_autre\"] = ROI_train[autre_GM].sum(axis = 1)\n",
    "ROI_train[\"Vol_CSF_autre\"] = ROI_train[autre_CSF].sum(axis = 1)"
   ],
   "metadata": {
    "collapsed": false,
    "ExecuteTime": {
     "end_time": "2024-02-19T16:46:29.467060Z",
     "start_time": "2024-02-19T16:46:29.394748Z"
    }
   },
   "id": "92d5a80a8509062a"
  },
  {
   "cell_type": "code",
   "execution_count": 43,
   "outputs": [],
   "source": [
    "ROI_test[\"Vol_GM_corticale\"] = ROI_test[corticale_GM].sum(axis=1)\n",
    "ROI_test[\"Vol_CSF_corticale\"] = ROI_test[corticale_CSF].sum(axis=1)\n",
    "ROI_test[\"Vol_GM_subcorticale\"] = ROI_test[subcorticale_GM].sum(axis=1)\n",
    "ROI_test[\"Vol_CSF_subcorticale\"] = ROI_test[subcorticale_CSF].sum(axis=1)\n",
    "ROI_test[\"Vol_GM_liquidien\"] = ROI_test[liquidiens_GM].sum(axis=1)\n",
    "ROI_test[\"Vol_CSF_liquidien\"] = ROI_test[liquidiens_CSF].sum(axis=1)\n",
    "ROI_test[\"Vol_GM_matblanche\"] = ROI_test[mat_blanche_GM].sum(axis=1)\n",
    "ROI_test[\"Vol_CSF_matblanche\"] = ROI_test[mat_blanche_CSF].sum(axis=1)\n",
    "ROI_test[\"Vol_GM_cereb\"] = ROI_test[cereb_GM].sum(axis=1)\n",
    "ROI_test[\"Vol_CSF_cereb\"] = ROI_test[cereb_CSF].sum(axis=1)\n",
    "ROI_test[\"Vol_GM_autre\"] = ROI_test[autre_GM].sum(axis=1)\n",
    "ROI_test[\"Vol_CSF_autre\"] = ROI_test[autre_CSF].sum(axis=1)"
   ],
   "metadata": {
    "collapsed": false,
    "ExecuteTime": {
     "end_time": "2024-02-19T16:46:29.654410Z",
     "start_time": "2024-02-19T16:46:29.413019Z"
    }
   },
   "id": "9751504e207a323d"
  },
  {
   "cell_type": "code",
   "execution_count": 44,
   "outputs": [],
   "source": [
    "Vol_list = [\"Vol_GM_corticale\", \"Vol_CSF_corticale\", \"Vol_GM_subcorticale\", \"Vol_CSF_subcorticale\", \"Vol_GM_liquidien\",\"Vol_CSF_liquidien\", \"Vol_GM_matblanche\",\"Vol_CSF_matblanche\", \"Vol_GM_cereb\", \"Vol_CSF_cereb\" , \"Vol_GM_autre\", \"Vol_CSF_autre\"]"
   ],
   "metadata": {
    "collapsed": false,
    "ExecuteTime": {
     "end_time": "2024-02-19T16:46:29.654738Z",
     "start_time": "2024-02-19T16:46:29.449264Z"
    }
   },
   "id": "bd3fbc08538f4505"
  },
  {
   "cell_type": "markdown",
   "source": [
    "# Modélisation"
   ],
   "metadata": {
    "collapsed": false
   },
   "id": "b9ccb39f938ea803"
  },
  {
   "cell_type": "code",
   "execution_count": 45,
   "outputs": [],
   "source": [
    "from sklearn.preprocessing import StandardScaler"
   ],
   "metadata": {
    "collapsed": false,
    "ExecuteTime": {
     "end_time": "2024-02-19T16:46:29.657186Z",
     "start_time": "2024-02-19T16:46:29.460716Z"
    }
   },
   "id": "907594292ddb171f"
  },
  {
   "cell_type": "code",
   "execution_count": 46,
   "outputs": [],
   "source": [
    "ROI_train_scaled = StandardScaler().fit_transform(ROI_train)"
   ],
   "metadata": {
    "collapsed": false,
    "ExecuteTime": {
     "end_time": "2024-02-19T16:46:29.671863Z",
     "start_time": "2024-02-19T16:46:29.475934Z"
    }
   },
   "id": "604db43c1dff5f07"
  },
  {
   "cell_type": "code",
   "execution_count": 56,
   "outputs": [],
   "source": [
    "scaler = StandardScaler()\n",
    "ROI_train_scaled = scaler.fit_transform(ROI_train)\n",
    "ROI_test_scaled = scaler.transform(ROI_test)"
   ],
   "metadata": {
    "collapsed": false,
    "ExecuteTime": {
     "end_time": "2024-02-19T16:53:47.426579Z",
     "start_time": "2024-02-19T16:53:47.416341Z"
    }
   },
   "id": "2c5c038317fb639c"
  },
  {
   "cell_type": "code",
   "execution_count": 57,
   "outputs": [
    {
     "name": "stderr",
     "output_type": "stream",
     "text": [
      "[I 2024-02-19 17:53:48,436] A new study created in memory with name: no-name-7668c570-63d8-4a6e-b9b5-944e50236325\n",
      "[I 2024-02-19 17:53:48,753] Trial 0 finished with value: 13.804305424568913 and parameters: {'alpha': 0.0003672245492260867}. Best is trial 0 with value: 13.804305424568913.\n",
      "[I 2024-02-19 17:53:49,319] Trial 1 finished with value: 13.954270531234561 and parameters: {'alpha': 3.4010601033730644e-06}. Best is trial 0 with value: 13.804305424568913.\n",
      "[I 2024-02-19 17:53:49,755] Trial 2 finished with value: 13.891734643795312 and parameters: {'alpha': 0.011585303930357125}. Best is trial 0 with value: 13.804305424568913.\n",
      "[I 2024-02-19 17:53:50,128] Trial 3 finished with value: 13.953027206961233 and parameters: {'alpha': 4.388222109401668e-06}. Best is trial 0 with value: 13.804305424568913.\n",
      "[I 2024-02-19 17:53:50,591] Trial 4 finished with value: 10.25549854185378 and parameters: {'alpha': 1.4385037396298543}. Best is trial 4 with value: 10.25549854185378.\n",
      "[I 2024-02-19 17:53:50,994] Trial 5 finished with value: 13.833361748747475 and parameters: {'alpha': 0.004051022233819181}. Best is trial 4 with value: 10.25549854185378.\n",
      "[I 2024-02-19 17:53:51,345] Trial 6 finished with value: 13.854601217781406 and parameters: {'alpha': 0.005851393073178039}. Best is trial 4 with value: 10.25549854185378.\n",
      "[I 2024-02-19 17:53:51,787] Trial 7 finished with value: 12.850905182501917 and parameters: {'alpha': 0.2902990519091786}. Best is trial 4 with value: 10.25549854185378.\n",
      "[I 2024-02-19 17:53:52,198] Trial 8 finished with value: 13.894555428721867 and parameters: {'alpha': 0.012393680038105818}. Best is trial 4 with value: 10.25549854185378.\n",
      "[I 2024-02-19 17:53:52,630] Trial 9 finished with value: 10.40370354192818 and parameters: {'alpha': 1.3290685465692929}. Best is trial 4 with value: 10.25549854185378.\n",
      "[I 2024-02-19 17:53:53,019] Trial 10 finished with value: 13.867495272646936 and parameters: {'alpha': 0.00010984531778140411}. Best is trial 4 with value: 10.25549854185378.\n",
      "[I 2024-02-19 17:53:53,414] Trial 11 finished with value: 8.947059231409243 and parameters: {'alpha': 2.990508252055117}. Best is trial 11 with value: 8.947059231409243.\n",
      "[I 2024-02-19 17:53:53,831] Trial 12 finished with value: 8.99708285784884 and parameters: {'alpha': 2.90192883520754}. Best is trial 11 with value: 8.947059231409243.\n",
      "[I 2024-02-19 17:53:54,216] Trial 13 finished with value: 13.412145832895302 and parameters: {'alpha': 0.15537830084945645}. Best is trial 11 with value: 8.947059231409243.\n",
      "[I 2024-02-19 17:53:54,578] Trial 14 finished with value: 13.533473436920785 and parameters: {'alpha': 0.1274580439633904}. Best is trial 11 with value: 8.947059231409243.\n",
      "[I 2024-02-19 17:53:54,933] Trial 15 finished with value: 9.244131998468625 and parameters: {'alpha': 2.509859212918918}. Best is trial 11 with value: 8.947059231409243.\n",
      "[I 2024-02-19 17:53:55,364] Trial 16 finished with value: 13.79514750734191 and parameters: {'alpha': 0.06394919956832452}. Best is trial 11 with value: 8.947059231409243.\n",
      "[I 2024-02-19 17:53:55,755] Trial 17 finished with value: 12.333549350990284 and parameters: {'alpha': 0.43399835943064125}. Best is trial 11 with value: 8.947059231409243.\n",
      "[I 2024-02-19 17:53:56,190] Trial 18 finished with value: 13.880092301530953 and parameters: {'alpha': 0.03733047609508426}. Best is trial 11 with value: 8.947059231409243.\n",
      "[I 2024-02-19 17:53:56,571] Trial 19 finished with value: 13.787719767642866 and parameters: {'alpha': 0.0007394052608844804}. Best is trial 11 with value: 8.947059231409243.\n",
      "[I 2024-02-19 17:53:56,944] Trial 20 finished with value: 13.905253028672703 and parameters: {'alpha': 5.154038818913984e-05}. Best is trial 11 with value: 8.947059231409243.\n",
      "[I 2024-02-19 17:53:57,380] Trial 21 finished with value: 9.147145999607051 and parameters: {'alpha': 2.655374724734251}. Best is trial 11 with value: 8.947059231409243.\n",
      "[I 2024-02-19 17:53:57,778] Trial 22 finished with value: 11.496123737286863 and parameters: {'alpha': 0.7320718989987499}. Best is trial 11 with value: 8.947059231409243.\n",
      "[I 2024-02-19 17:53:58,166] Trial 23 finished with value: 9.06105660151207 and parameters: {'alpha': 2.7934403486984714}. Best is trial 11 with value: 8.947059231409243.\n",
      "[I 2024-02-19 17:53:58,580] Trial 24 finished with value: 12.28365133442609 and parameters: {'alpha': 0.449216925136242}. Best is trial 11 with value: 8.947059231409243.\n",
      "[I 2024-02-19 17:53:58,983] Trial 25 finished with value: 13.86619354838748 and parameters: {'alpha': 0.042547434477698945}. Best is trial 11 with value: 8.947059231409243.\n",
      "[I 2024-02-19 17:53:59,363] Trial 26 finished with value: 8.979286846051965 and parameters: {'alpha': 2.9330534200704323}. Best is trial 11 with value: 8.947059231409243.\n",
      "[I 2024-02-19 17:53:59,740] Trial 27 finished with value: 11.29846434377681 and parameters: {'alpha': 0.8187035173783407}. Best is trial 11 with value: 8.947059231409243.\n",
      "[I 2024-02-19 17:54:00,211] Trial 28 finished with value: 13.44899033835386 and parameters: {'alpha': 0.14690524974471994}. Best is trial 11 with value: 8.947059231409243.\n",
      "[I 2024-02-19 17:54:00,594] Trial 29 finished with value: 13.938761925624808 and parameters: {'alpha': 1.6446390087532668e-05}. Best is trial 11 with value: 8.947059231409243.\n",
      "[I 2024-02-19 17:54:00,989] Trial 30 finished with value: 13.787749478517393 and parameters: {'alpha': 0.0010667404094998657}. Best is trial 11 with value: 8.947059231409243.\n",
      "[I 2024-02-19 17:54:01,436] Trial 31 finished with value: 8.952624996161717 and parameters: {'alpha': 2.9804838086129832}. Best is trial 11 with value: 8.947059231409243.\n",
      "[I 2024-02-19 17:54:01,844] Trial 32 finished with value: 10.971501901654824 and parameters: {'alpha': 0.9800735209259158}. Best is trial 11 with value: 8.947059231409243.\n",
      "[I 2024-02-19 17:54:02,256] Trial 33 finished with value: 12.645161001988168 and parameters: {'alpha': 0.344626421600045}. Best is trial 11 with value: 8.947059231409243.\n",
      "[I 2024-02-19 17:54:02,744] Trial 34 finished with value: 9.003678037452243 and parameters: {'alpha': 2.8905007207375926}. Best is trial 11 with value: 8.947059231409243.\n",
      "[I 2024-02-19 17:54:03,121] Trial 35 finished with value: 10.72109127662289 and parameters: {'alpha': 1.1217517269406028}. Best is trial 11 with value: 8.947059231409243.\n",
      "[I 2024-02-19 17:54:03,574] Trial 36 finished with value: 13.14407770068235 and parameters: {'alpha': 0.2179576338152634}. Best is trial 11 with value: 8.947059231409243.\n",
      "[I 2024-02-19 17:54:03,953] Trial 37 finished with value: 13.747322601645267 and parameters: {'alpha': 0.07647001686860187}. Best is trial 11 with value: 8.947059231409243.\n",
      "[I 2024-02-19 17:54:04,312] Trial 38 finished with value: 13.957305294106403 and parameters: {'alpha': 1.0310696679347669e-06}. Best is trial 11 with value: 8.947059231409243.\n",
      "[I 2024-02-19 17:54:04,723] Trial 39 finished with value: 13.896036577918265 and parameters: {'alpha': 0.012874951374360882}. Best is trial 11 with value: 8.947059231409243.\n",
      "[I 2024-02-19 17:54:05,121] Trial 40 finished with value: 11.909604985972503 and parameters: {'alpha': 0.5726609717974729}. Best is trial 11 with value: 8.947059231409243.\n",
      "[I 2024-02-19 17:54:05,576] Trial 41 finished with value: 9.940626036161708 and parameters: {'alpha': 1.7035856772216047}. Best is trial 11 with value: 8.947059231409243.\n",
      "[I 2024-02-19 17:54:05,975] Trial 42 finished with value: 8.961291801733008 and parameters: {'alpha': 2.9649593459833326}. Best is trial 11 with value: 8.947059231409243.\n",
      "[I 2024-02-19 17:54:06,374] Trial 43 finished with value: 10.088979898853479 and parameters: {'alpha': 1.5727033141159694}. Best is trial 11 with value: 8.947059231409243.\n",
      "[I 2024-02-19 17:54:06,774] Trial 44 finished with value: 11.177737683101917 and parameters: {'alpha': 0.875481067096359}. Best is trial 11 with value: 8.947059231409243.\n",
      "[I 2024-02-19 17:54:07,186] Trial 45 finished with value: 12.856722163942816 and parameters: {'alpha': 0.2888099962030169}. Best is trial 11 with value: 8.947059231409243.\n",
      "[I 2024-02-19 17:54:07,628] Trial 46 finished with value: 10.501993833656865 and parameters: {'alpha': 1.261163559704903}. Best is trial 11 with value: 8.947059231409243.\n",
      "[I 2024-02-19 17:54:08,129] Trial 47 finished with value: 13.828444381969225 and parameters: {'alpha': 0.0036998135706928924}. Best is trial 11 with value: 8.947059231409243.\n",
      "[I 2024-02-19 17:54:08,533] Trial 48 finished with value: 9.927904801542029 and parameters: {'alpha': 1.7153509065903523}. Best is trial 11 with value: 8.947059231409243.\n",
      "[I 2024-02-19 17:54:08,891] Trial 49 finished with value: 11.87192639864611 and parameters: {'alpha': 0.5861042182028428}. Best is trial 11 with value: 8.947059231409243.\n",
      "[I 2024-02-19 17:54:09,276] Trial 50 finished with value: 13.901043961126602 and parameters: {'alpha': 0.026558055592531583}. Best is trial 11 with value: 8.947059231409243.\n",
      "[I 2024-02-19 17:54:09,860] Trial 51 finished with value: 8.99979345074012 and parameters: {'alpha': 2.897224996067762}. Best is trial 11 with value: 8.947059231409243.\n",
      "[I 2024-02-19 17:54:10,287] Trial 52 finished with value: 9.038276887967365 and parameters: {'alpha': 2.8314734088004783}. Best is trial 11 with value: 8.947059231409243.\n",
      "[I 2024-02-19 17:54:10,633] Trial 53 finished with value: 9.872952301978781 and parameters: {'alpha': 1.767217739350121}. Best is trial 11 with value: 8.947059231409243.\n",
      "[I 2024-02-19 17:54:11,060] Trial 54 finished with value: 13.822701729003064 and parameters: {'alpha': 0.0002445587160317925}. Best is trial 11 with value: 8.947059231409243.\n",
      "[I 2024-02-19 17:54:11,455] Trial 55 finished with value: 13.110567922568341 and parameters: {'alpha': 0.22597618840488706}. Best is trial 11 with value: 8.947059231409243.\n",
      "[I 2024-02-19 17:54:11,811] Trial 56 finished with value: 11.667673055651301 and parameters: {'alpha': 0.6626231669901705}. Best is trial 11 with value: 8.947059231409243.\n",
      "[I 2024-02-19 17:54:12,054] Trial 57 finished with value: 9.974713427738159 and parameters: {'alpha': 1.672495409933324}. Best is trial 11 with value: 8.947059231409243.\n",
      "[I 2024-02-19 17:54:12,455] Trial 58 finished with value: 8.959067930163297 and parameters: {'alpha': 2.968933009100199}. Best is trial 11 with value: 8.947059231409243.\n",
      "[I 2024-02-19 17:54:12,811] Trial 59 finished with value: 12.4090886585771 and parameters: {'alpha': 0.4114614615446175}. Best is trial 11 with value: 8.947059231409243.\n",
      "[I 2024-02-19 17:54:13,259] Trial 60 finished with value: 13.59918342499271 and parameters: {'alpha': 0.11221066677034171}. Best is trial 11 with value: 8.947059231409243.\n",
      "[I 2024-02-19 17:54:13,700] Trial 61 finished with value: 9.101451002335132 and parameters: {'alpha': 2.7275652534842534}. Best is trial 11 with value: 8.947059231409243.\n",
      "[I 2024-02-19 17:54:14,111] Trial 62 finished with value: 10.655257988884411 and parameters: {'alpha': 1.1620109722326577}. Best is trial 11 with value: 8.947059231409243.\n",
      "[I 2024-02-19 17:54:14,501] Trial 63 finished with value: 11.260225728582341 and parameters: {'alpha': 0.8363536691080022}. Best is trial 11 with value: 8.947059231409243.\n",
      "[I 2024-02-19 17:54:15,004] Trial 64 finished with value: 8.945125364180479 and parameters: {'alpha': 2.994001399921664}. Best is trial 64 with value: 8.945125364180479.\n",
      "[I 2024-02-19 17:54:15,402] Trial 65 finished with value: 9.826365709722532 and parameters: {'alpha': 1.8125597169594454}. Best is trial 64 with value: 8.945125364180479.\n",
      "[I 2024-02-19 17:54:15,812] Trial 66 finished with value: 12.170685433800983 and parameters: {'alpha': 0.4846972903304376}. Best is trial 64 with value: 8.945125364180479.\n",
      "[I 2024-02-19 17:54:16,215] Trial 67 finished with value: 10.542117605987384 and parameters: {'alpha': 1.2344400981716428}. Best is trial 64 with value: 8.945125364180479.\n",
      "[I 2024-02-19 17:54:16,640] Trial 68 finished with value: 11.337480306832836 and parameters: {'alpha': 0.8010023043270101}. Best is trial 64 with value: 8.945125364180479.\n",
      "[I 2024-02-19 17:54:17,002] Trial 69 finished with value: 9.766604296636805 and parameters: {'alpha': 1.8726529630141935}. Best is trial 64 with value: 8.945125364180479.\n",
      "[I 2024-02-19 17:54:17,404] Trial 70 finished with value: 12.864347304936844 and parameters: {'alpha': 0.28686173102147666}. Best is trial 64 with value: 8.945125364180479.\n",
      "[I 2024-02-19 17:54:17,826] Trial 71 finished with value: 8.945182631660863 and parameters: {'alpha': 2.993897882688687}. Best is trial 64 with value: 8.945125364180479.\n",
      "[I 2024-02-19 17:54:18,219] Trial 72 finished with value: 8.988654033010825 and parameters: {'alpha': 2.9166179432092534}. Best is trial 64 with value: 8.945125364180479.\n",
      "[I 2024-02-19 17:54:18,622] Trial 73 finished with value: 9.58537940596681 and parameters: {'alpha': 2.0692931290684475}. Best is trial 64 with value: 8.945125364180479.\n",
      "[I 2024-02-19 17:54:18,999] Trial 74 finished with value: 10.893663547482614 and parameters: {'alpha': 1.022275698604851}. Best is trial 64 with value: 8.945125364180479.\n",
      "[I 2024-02-19 17:54:19,377] Trial 75 finished with value: 8.953022276874 and parameters: {'alpha': 2.9797699120100445}. Best is trial 64 with value: 8.945125364180479.\n",
      "[I 2024-02-19 17:54:19,771] Trial 76 finished with value: 10.451917603029509 and parameters: {'alpha': 1.2953163463818778}. Best is trial 64 with value: 8.945125364180479.\n",
      "[I 2024-02-19 17:54:20,149] Trial 77 finished with value: 12.012425979263595 and parameters: {'alpha': 0.5369675830715188}. Best is trial 64 with value: 8.945125364180479.\n",
      "[I 2024-02-19 17:54:20,520] Trial 78 finished with value: 9.718388348154997 and parameters: {'alpha': 1.9227877867256307}. Best is trial 64 with value: 8.945125364180479.\n",
      "[I 2024-02-19 17:54:20,877] Trial 79 finished with value: 11.302190491500841 and parameters: {'alpha': 0.8169996913292874}. Best is trial 64 with value: 8.945125364180479.\n",
      "[I 2024-02-19 17:54:21,244] Trial 80 finished with value: 10.37427033321818 and parameters: {'alpha': 1.3501061100114693}. Best is trial 64 with value: 8.945125364180479.\n",
      "[I 2024-02-19 17:54:21,625] Trial 81 finished with value: 9.174293491132037 and parameters: {'alpha': 2.6136129651985813}. Best is trial 64 with value: 8.945125364180479.\n",
      "[I 2024-02-19 17:54:21,994] Trial 82 finished with value: 8.950023128144306 and parameters: {'alpha': 2.985164657305345}. Best is trial 64 with value: 8.945125364180479.\n",
      "[I 2024-02-19 17:54:22,377] Trial 83 finished with value: 9.597754178348373 and parameters: {'alpha': 2.055128869276555}. Best is trial 64 with value: 8.945125364180479.\n",
      "[I 2024-02-19 17:54:22,760] Trial 84 finished with value: 13.92774086085505 and parameters: {'alpha': 2.6806345534879525e-05}. Best is trial 64 with value: 8.945125364180479.\n",
      "[I 2024-02-19 17:54:23,158] Trial 85 finished with value: 10.683370045163326 and parameters: {'alpha': 1.1446555378279615}. Best is trial 64 with value: 8.945125364180479.\n",
      "[I 2024-02-19 17:54:23,529] Trial 86 finished with value: 11.62278729932515 and parameters: {'alpha': 0.6803135782368859}. Best is trial 64 with value: 8.945125364180479.\n",
      "[I 2024-02-19 17:54:23,882] Trial 87 finished with value: 8.96900201468223 and parameters: {'alpha': 2.9512349662397916}. Best is trial 64 with value: 8.945125364180479.\n",
      "[I 2024-02-19 17:54:24,235] Trial 88 finished with value: 12.500052196375501 and parameters: {'alpha': 0.38508784510755767}. Best is trial 64 with value: 8.945125364180479.\n",
      "[I 2024-02-19 17:54:24,711] Trial 89 finished with value: 10.261352521623742 and parameters: {'alpha': 1.4340103543725573}. Best is trial 64 with value: 8.945125364180479.\n",
      "[I 2024-02-19 17:54:25,070] Trial 90 finished with value: 9.652014205744726 and parameters: {'alpha': 1.9943406894463667}. Best is trial 64 with value: 8.945125364180479.\n",
      "[I 2024-02-19 17:54:25,462] Trial 91 finished with value: 9.360672118104274 and parameters: {'alpha': 2.3477363893453513}. Best is trial 64 with value: 8.945125364180479.\n",
      "[I 2024-02-19 17:54:25,859] Trial 92 finished with value: 8.963644571471482 and parameters: {'alpha': 2.9607627451507286}. Best is trial 64 with value: 8.945125364180479.\n",
      "[I 2024-02-19 17:54:26,211] Trial 93 finished with value: 8.944783024597063 and parameters: {'alpha': 2.9946203115471555}. Best is trial 93 with value: 8.944783024597063.\n",
      "[I 2024-02-19 17:54:26,589] Trial 94 finished with value: 11.003756090641227 and parameters: {'alpha': 0.963041045626191}. Best is trial 93 with value: 8.944783024597063.\n",
      "[I 2024-02-19 17:54:26,954] Trial 95 finished with value: 10.183057210421547 and parameters: {'alpha': 1.4953382736761738}. Best is trial 93 with value: 8.944783024597063.\n",
      "[I 2024-02-19 17:54:27,330] Trial 96 finished with value: 9.617037824765761 and parameters: {'alpha': 2.0332815665880566}. Best is trial 93 with value: 8.944783024597063.\n",
      "[I 2024-02-19 17:54:27,766] Trial 97 finished with value: 11.020637068952981 and parameters: {'alpha': 0.9542299656678479}. Best is trial 93 with value: 8.944783024597063.\n",
      "[I 2024-02-19 17:54:28,212] Trial 98 finished with value: 10.261045915332915 and parameters: {'alpha': 1.434245337105632}. Best is trial 93 with value: 8.944783024597063.\n",
      "[I 2024-02-19 17:54:28,611] Trial 99 finished with value: 9.488780936592836 and parameters: {'alpha': 2.1838922616057888}. Best is trial 93 with value: 8.944783024597063.\n",
      "[I 2024-02-19 17:54:29,005] Trial 100 finished with value: 12.068967323964376 and parameters: {'alpha': 0.5179337860367298}. Best is trial 93 with value: 8.944783024597063.\n",
      "[I 2024-02-19 17:54:29,361] Trial 101 finished with value: 9.078117142234444 and parameters: {'alpha': 2.765376849458171}. Best is trial 93 with value: 8.944783024597063.\n",
      "[I 2024-02-19 17:54:29,745] Trial 102 finished with value: 9.367302990941335 and parameters: {'alpha': 2.3389008845868937}. Best is trial 93 with value: 8.944783024597063.\n",
      "[I 2024-02-19 17:54:30,153] Trial 103 finished with value: 9.007118213065556 and parameters: {'alpha': 2.884562251654826}. Best is trial 93 with value: 8.944783024597063.\n",
      "[I 2024-02-19 17:54:30,556] Trial 104 finished with value: 10.207889783164763 and parameters: {'alpha': 1.4755956327827122}. Best is trial 93 with value: 8.944783024597063.\n",
      "[I 2024-02-19 17:54:30,922] Trial 105 finished with value: 13.948886529793125 and parameters: {'alpha': 7.746204735114531e-06}. Best is trial 93 with value: 8.944783024597063.\n",
      "[I 2024-02-19 17:54:31,295] Trial 106 finished with value: 11.63249813502802 and parameters: {'alpha': 0.676458265927693}. Best is trial 93 with value: 8.944783024597063.\n",
      "[I 2024-02-19 17:54:31,732] Trial 107 finished with value: 8.945924450598845 and parameters: {'alpha': 2.992557377030659}. Best is trial 93 with value: 8.944783024597063.\n",
      "[I 2024-02-19 17:54:32,119] Trial 108 finished with value: 10.764528494368918 and parameters: {'alpha': 1.0959084422940972}. Best is trial 93 with value: 8.944783024597063.\n",
      "[I 2024-02-19 17:54:32,503] Trial 109 finished with value: 9.835459206680278 and parameters: {'alpha': 1.8036077308371332}. Best is trial 93 with value: 8.944783024597063.\n",
      "[I 2024-02-19 17:54:32,886] Trial 110 finished with value: 13.797726987894187 and parameters: {'alpha': 0.0017938675384710806}. Best is trial 93 with value: 8.944783024597063.\n",
      "[I 2024-02-19 17:54:33,268] Trial 111 finished with value: 8.96256369578972 and parameters: {'alpha': 2.962689746108552}. Best is trial 93 with value: 8.944783024597063.\n",
      "[I 2024-02-19 17:54:33,645] Trial 112 finished with value: 9.595783487282638 and parameters: {'alpha': 2.0573769358454888}. Best is trial 93 with value: 8.944783024597063.\n",
      "[I 2024-02-19 17:54:34,039] Trial 113 finished with value: 10.162455242315328 and parameters: {'alpha': 1.5119283888864716}. Best is trial 93 with value: 8.944783024597063.\n",
      "[I 2024-02-19 17:54:34,450] Trial 114 finished with value: 10.727449784231238 and parameters: {'alpha': 1.1179335318235144}. Best is trial 93 with value: 8.944783024597063.\n",
      "[I 2024-02-19 17:54:34,843] Trial 115 finished with value: 8.984869816430768 and parameters: {'alpha': 2.9232435170353477}. Best is trial 93 with value: 8.944783024597063.\n",
      "[I 2024-02-19 17:54:35,194] Trial 116 finished with value: 13.851570248242513 and parameters: {'alpha': 0.00014518201371276713}. Best is trial 93 with value: 8.944783024597063.\n",
      "[I 2024-02-19 17:54:35,744] Trial 117 finished with value: 11.341927125908402 and parameters: {'alpha': 0.799004208392406}. Best is trial 93 with value: 8.944783024597063.\n",
      "[I 2024-02-19 17:54:36,133] Trial 118 finished with value: 9.444111996896492 and parameters: {'alpha': 2.2394179344425416}. Best is trial 93 with value: 8.944783024597063.\n",
      "[I 2024-02-19 17:54:36,545] Trial 119 finished with value: 10.020940014233457 and parameters: {'alpha': 1.6313209040334598}. Best is trial 93 with value: 8.944783024597063.\n",
      "[I 2024-02-19 17:54:36,735] Trial 120 finished with value: 8.966198713020235 and parameters: {'alpha': 2.9562155291538628}. Best is trial 93 with value: 8.944783024597063.\n",
      "[I 2024-02-19 17:54:37,096] Trial 121 finished with value: 9.581161669446708 and parameters: {'alpha': 2.074146843150871}. Best is trial 93 with value: 8.944783024597063.\n",
      "[I 2024-02-19 17:54:37,465] Trial 122 finished with value: 10.606795242144049 and parameters: {'alpha': 1.1925199836774047}. Best is trial 93 with value: 8.944783024597063.\n",
      "[I 2024-02-19 17:54:37,881] Trial 123 finished with value: 9.455793648063198 and parameters: {'alpha': 2.2247361726060078}. Best is trial 93 with value: 8.944783024597063.\n",
      "[I 2024-02-19 17:54:38,302] Trial 124 finished with value: 9.002886438940756 and parameters: {'alpha': 2.8918693811800718}. Best is trial 93 with value: 8.944783024597063.\n",
      "[I 2024-02-19 17:54:38,679] Trial 125 finished with value: 10.052126337520162 and parameters: {'alpha': 1.604165836712854}. Best is trial 93 with value: 8.944783024597063.\n",
      "[I 2024-02-19 17:54:39,094] Trial 126 finished with value: 8.94714122875922 and parameters: {'alpha': 2.990360255185753}. Best is trial 93 with value: 8.944783024597063.\n",
      "[I 2024-02-19 17:54:39,509] Trial 127 finished with value: 10.93767285381699 and parameters: {'alpha': 0.9982212146062106}. Best is trial 93 with value: 8.944783024597063.\n",
      "[I 2024-02-19 17:54:39,869] Trial 128 finished with value: 10.356338696729834 and parameters: {'alpha': 1.363087636454084}. Best is trial 93 with value: 8.944783024597063.\n",
      "[I 2024-02-19 17:54:40,311] Trial 129 finished with value: 9.541954960142697 and parameters: {'alpha': 2.1199101444624433}. Best is trial 93 with value: 8.944783024597063.\n",
      "[I 2024-02-19 17:54:40,705] Trial 130 finished with value: 11.408955310636205 and parameters: {'alpha': 0.7693557069877116}. Best is trial 93 with value: 8.944783024597063.\n",
      "[I 2024-02-19 17:54:41,100] Trial 131 finished with value: 8.985757487805856 and parameters: {'alpha': 2.9216876262376203}. Best is trial 93 with value: 8.944783024597063.\n",
      "[I 2024-02-19 17:54:41,468] Trial 132 finished with value: 13.866382913081623 and parameters: {'alpha': 0.007146120934294682}. Best is trial 93 with value: 8.944783024597063.\n",
      "[I 2024-02-19 17:54:41,828] Trial 133 finished with value: 8.962213546946685 and parameters: {'alpha': 2.963314339490709}. Best is trial 93 with value: 8.944783024597063.\n",
      "[I 2024-02-19 17:54:42,181] Trial 134 finished with value: 9.831251307800517 and parameters: {'alpha': 1.8077439588123718}. Best is trial 93 with value: 8.944783024597063.\n",
      "[I 2024-02-19 17:54:42,594] Trial 135 finished with value: 9.52885715083949 and parameters: {'alpha': 2.135462229996868}. Best is trial 93 with value: 8.944783024597063.\n",
      "[I 2024-02-19 17:54:42,960] Trial 136 finished with value: 10.2787547566702 and parameters: {'alpha': 1.4207384007192116}. Best is trial 93 with value: 8.944783024597063.\n",
      "[I 2024-02-19 17:54:43,383] Trial 137 finished with value: 9.426469337944097 and parameters: {'alpha': 2.261811852301935}. Best is trial 93 with value: 8.944783024597063.\n",
      "[I 2024-02-19 17:54:43,770] Trial 138 finished with value: 13.957310218238277 and parameters: {'alpha': 1.0272688503488469e-06}. Best is trial 93 with value: 8.944783024597063.\n",
      "[I 2024-02-19 17:54:44,160] Trial 139 finished with value: 13.904392446840312 and parameters: {'alpha': 0.023176142845620973}. Best is trial 93 with value: 8.944783024597063.\n",
      "[I 2024-02-19 17:54:44,559] Trial 140 finished with value: 10.830750344103153 and parameters: {'alpha': 1.0575662558498296}. Best is trial 93 with value: 8.944783024597063.\n",
      "[I 2024-02-19 17:54:44,944] Trial 141 finished with value: 8.973260596058514 and parameters: {'alpha': 2.943689277372391}. Best is trial 93 with value: 8.944783024597063.\n",
      "[I 2024-02-19 17:54:45,365] Trial 142 finished with value: 9.967850029656097 and parameters: {'alpha': 1.6787049138413503}. Best is trial 93 with value: 8.944783024597063.\n",
      "[I 2024-02-19 17:54:45,735] Trial 143 finished with value: 9.378240095965417 and parameters: {'alpha': 2.3244150473942753}. Best is trial 93 with value: 8.944783024597063.\n",
      "[I 2024-02-19 17:54:46,157] Trial 144 finished with value: 9.048554946460712 and parameters: {'alpha': 2.81423277876594}. Best is trial 93 with value: 8.944783024597063.\n",
      "[I 2024-02-19 17:54:46,552] Trial 145 finished with value: 8.978198491517867 and parameters: {'alpha': 2.934970656558452}. Best is trial 93 with value: 8.944783024597063.\n",
      "[I 2024-02-19 17:54:46,969] Trial 146 finished with value: 9.993399090610126 and parameters: {'alpha': 1.6557169739316842}. Best is trial 93 with value: 8.944783024597063.\n",
      "[I 2024-02-19 17:54:47,375] Trial 147 finished with value: 10.529309300202256 and parameters: {'alpha': 1.2429099115318394}. Best is trial 93 with value: 8.944783024597063.\n",
      "[I 2024-02-19 17:54:47,811] Trial 148 finished with value: 10.015622322220212 and parameters: {'alpha': 1.6360007397980232}. Best is trial 93 with value: 8.944783024597063.\n",
      "[I 2024-02-19 17:54:48,196] Trial 149 finished with value: 8.946814448167588 and parameters: {'alpha': 2.9909501165501147}. Best is trial 93 with value: 8.944783024597063.\n",
      "[I 2024-02-19 17:54:48,642] Trial 150 finished with value: 9.531538895203601 and parameters: {'alpha': 2.1322670552780307}. Best is trial 93 with value: 8.944783024597063.\n",
      "[I 2024-02-19 17:54:49,036] Trial 151 finished with value: 8.945927172149572 and parameters: {'alpha': 2.9925524604583975}. Best is trial 93 with value: 8.944783024597063.\n",
      "[I 2024-02-19 17:54:49,421] Trial 152 finished with value: 9.554578708222584 and parameters: {'alpha': 2.105047041066415}. Best is trial 93 with value: 8.944783024597063.\n",
      "[I 2024-02-19 17:54:49,793] Trial 153 finished with value: 13.792138747480227 and parameters: {'alpha': 0.0005493960264341248}. Best is trial 93 with value: 8.944783024597063.\n",
      "[I 2024-02-19 17:54:50,171] Trial 154 finished with value: 8.94759822483677 and parameters: {'alpha': 2.9895355951466738}. Best is trial 93 with value: 8.944783024597063.\n",
      "[I 2024-02-19 17:54:50,626] Trial 155 finished with value: 10.420032400916526 and parameters: {'alpha': 1.3175400612294503}. Best is trial 93 with value: 8.944783024597063.\n",
      "[I 2024-02-19 17:54:51,081] Trial 156 finished with value: 9.742104321691476 and parameters: {'alpha': 1.8979391967820824}. Best is trial 93 with value: 8.944783024597063.\n",
      "[I 2024-02-19 17:54:51,450] Trial 157 finished with value: 11.17247481638102 and parameters: {'alpha': 0.8780276266483009}. Best is trial 93 with value: 8.944783024597063.\n",
      "[I 2024-02-19 17:54:51,826] Trial 158 finished with value: 9.396829721259449 and parameters: {'alpha': 2.3000412042396747}. Best is trial 93 with value: 8.944783024597063.\n",
      "[I 2024-02-19 17:54:52,202] Trial 159 finished with value: 10.09649096365767 and parameters: {'alpha': 1.5663726557139528}. Best is trial 93 with value: 8.944783024597063.\n",
      "[I 2024-02-19 17:54:52,636] Trial 160 finished with value: 10.641585220638307 and parameters: {'alpha': 1.1705421112583883}. Best is trial 93 with value: 8.944783024597063.\n",
      "[I 2024-02-19 17:54:53,048] Trial 161 finished with value: 8.96614830070273 and parameters: {'alpha': 2.9563051935901816}. Best is trial 93 with value: 8.944783024597063.\n",
      "[I 2024-02-19 17:54:53,411] Trial 162 finished with value: 8.977912791196943 and parameters: {'alpha': 2.9354742081850036}. Best is trial 93 with value: 8.944783024597063.\n",
      "[I 2024-02-19 17:54:53,769] Trial 163 finished with value: 9.535940782299452 and parameters: {'alpha': 2.127034625604349}. Best is trial 93 with value: 8.944783024597063.\n",
      "[I 2024-02-19 17:54:54,247] Trial 164 finished with value: 9.84439419709814 and parameters: {'alpha': 1.7948600954044538}. Best is trial 93 with value: 8.944783024597063.\n",
      "[I 2024-02-19 17:54:54,772] Trial 165 finished with value: 13.956352888129802 and parameters: {'alpha': 1.7688982230006689e-06}. Best is trial 93 with value: 8.944783024597063.\n",
      "[I 2024-02-19 17:54:55,184] Trial 166 finished with value: 9.425539421901087 and parameters: {'alpha': 2.262999620814825}. Best is trial 93 with value: 8.944783024597063.\n",
      "[I 2024-02-19 17:54:55,618] Trial 167 finished with value: 10.282694096391523 and parameters: {'alpha': 1.4177516927033185}. Best is trial 93 with value: 8.944783024597063.\n",
      "[I 2024-02-19 17:54:55,997] Trial 168 finished with value: 9.377166968015858 and parameters: {'alpha': 2.3258315674219223}. Best is trial 93 with value: 8.944783024597063.\n",
      "[I 2024-02-19 17:54:56,390] Trial 169 finished with value: 8.977865635418679 and parameters: {'alpha': 2.935557331610359}. Best is trial 93 with value: 8.944783024597063.\n",
      "[I 2024-02-19 17:54:56,793] Trial 170 finished with value: 10.02364827318403 and parameters: {'alpha': 1.6289430891470489}. Best is trial 93 with value: 8.944783024597063.\n",
      "[I 2024-02-19 17:54:57,211] Trial 171 finished with value: 9.06391222976983 and parameters: {'alpha': 2.7887181285545335}. Best is trial 93 with value: 8.944783024597063.\n",
      "[I 2024-02-19 17:54:57,621] Trial 172 finished with value: 9.364921617598583 and parameters: {'alpha': 2.3420693817048486}. Best is trial 93 with value: 8.944783024597063.\n",
      "[I 2024-02-19 17:54:58,004] Trial 173 finished with value: 9.80966916846239 and parameters: {'alpha': 1.8291268537320917}. Best is trial 93 with value: 8.944783024597063.\n",
      "[I 2024-02-19 17:54:58,394] Trial 174 finished with value: 8.987878668823896 and parameters: {'alpha': 2.917973928842924}. Best is trial 93 with value: 8.944783024597063.\n",
      "[I 2024-02-19 17:54:58,581] Trial 175 finished with value: 8.962637045535107 and parameters: {'alpha': 2.9625589265436063}. Best is trial 93 with value: 8.944783024597063.\n",
      "[I 2024-02-19 17:54:58,982] Trial 176 finished with value: 10.613798435751356 and parameters: {'alpha': 1.1880643085011793}. Best is trial 93 with value: 8.944783024597063.\n",
      "[I 2024-02-19 17:54:59,355] Trial 177 finished with value: 9.785606254749714 and parameters: {'alpha': 1.853304591116372}. Best is trial 93 with value: 8.944783024597063.\n",
      "[I 2024-02-19 17:54:59,760] Trial 178 finished with value: 8.949439163530965 and parameters: {'alpha': 2.9862165189794165}. Best is trial 93 with value: 8.944783024597063.\n",
      "[I 2024-02-19 17:55:00,179] Trial 179 finished with value: 9.496461268270524 and parameters: {'alpha': 2.174511021618067}. Best is trial 93 with value: 8.944783024597063.\n",
      "[I 2024-02-19 17:55:00,590] Trial 180 finished with value: 10.142773256372601 and parameters: {'alpha': 1.5279594310713025}. Best is trial 93 with value: 8.944783024597063.\n",
      "[I 2024-02-19 17:55:01,018] Trial 181 finished with value: 8.96537150627343 and parameters: {'alpha': 2.957687255231586}. Best is trial 93 with value: 8.944783024597063.\n",
      "[I 2024-02-19 17:55:01,421] Trial 182 finished with value: 9.501641978999906 and parameters: {'alpha': 2.1682099664589036}. Best is trial 93 with value: 8.944783024597063.\n",
      "[I 2024-02-19 17:55:01,831] Trial 183 finished with value: 8.97899347384074 and parameters: {'alpha': 2.9335700652277326}. Best is trial 93 with value: 8.944783024597063.\n",
      "[I 2024-02-19 17:55:02,259] Trial 184 finished with value: 8.950349675873728 and parameters: {'alpha': 2.9845766720305504}. Best is trial 93 with value: 8.944783024597063.\n",
      "[I 2024-02-19 17:55:02,636] Trial 185 finished with value: 9.811432516212585 and parameters: {'alpha': 1.8273691422635205}. Best is trial 93 with value: 8.944783024597063.\n",
      "[I 2024-02-19 17:55:03,019] Trial 186 finished with value: 10.403250137553941 and parameters: {'alpha': 1.3293901008638707}. Best is trial 93 with value: 8.944783024597063.\n",
      "[I 2024-02-19 17:55:03,396] Trial 187 finished with value: 9.461491710459395 and parameters: {'alpha': 2.21761641846704}. Best is trial 93 with value: 8.944783024597063.\n",
      "[I 2024-02-19 17:55:03,835] Trial 188 finished with value: 11.005545150930821 and parameters: {'alpha': 0.9621039043419393}. Best is trial 93 with value: 8.944783024597063.\n",
      "[I 2024-02-19 17:55:04,221] Trial 189 finished with value: 9.977723317180702 and parameters: {'alpha': 1.6697802199037666}. Best is trial 93 with value: 8.944783024597063.\n",
      "[I 2024-02-19 17:55:04,630] Trial 190 finished with value: 8.946855000464423 and parameters: {'alpha': 2.9908769087969262}. Best is trial 93 with value: 8.944783024597063.\n",
      "[I 2024-02-19 17:55:04,974] Trial 191 finished with value: 9.420692993506776 and parameters: {'alpha': 2.2692020120619265}. Best is trial 93 with value: 8.944783024597063.\n",
      "[I 2024-02-19 17:55:05,435] Trial 192 finished with value: 9.015214252455992 and parameters: {'alpha': 2.870647699194617}. Best is trial 93 with value: 8.944783024597063.\n",
      "[I 2024-02-19 17:55:05,760] Trial 193 finished with value: 9.491358947357604 and parameters: {'alpha': 2.180737971899341}. Best is trial 93 with value: 8.944783024597063.\n",
      "[I 2024-02-19 17:55:06,133] Trial 194 finished with value: 8.970486375467312 and parameters: {'alpha': 2.948602065075235}. Best is trial 93 with value: 8.944783024597063.\n",
      "[I 2024-02-19 17:55:06,493] Trial 195 finished with value: 9.897318764207014 and parameters: {'alpha': 1.7440077258359687}. Best is trial 93 with value: 8.944783024597063.\n",
      "[I 2024-02-19 17:55:06,907] Trial 196 finished with value: 8.96070548579398 and parameters: {'alpha': 2.9660063295634083}. Best is trial 93 with value: 8.944783024597063.\n",
      "[I 2024-02-19 17:55:07,289] Trial 197 finished with value: 9.453803353564613 and parameters: {'alpha': 2.227229478267235}. Best is trial 93 with value: 8.944783024597063.\n",
      "[I 2024-02-19 17:55:07,644] Trial 198 finished with value: 10.38829643988534 and parameters: {'alpha': 1.3400392767982727}. Best is trial 93 with value: 8.944783024597063.\n",
      "[I 2024-02-19 17:55:08,026] Trial 199 finished with value: 9.887064092004858 and parameters: {'alpha': 1.753734114304297}. Best is trial 93 with value: 8.944783024597063.\n",
      "[I 2024-02-19 17:55:08,454] Trial 200 finished with value: 8.953067748580619 and parameters: {'alpha': 2.9796882152030273}. Best is trial 93 with value: 8.944783024597063.\n",
      "[I 2024-02-19 17:55:08,826] Trial 201 finished with value: 8.964090189634543 and parameters: {'alpha': 2.959968755790436}. Best is trial 93 with value: 8.944783024597063.\n",
      "[I 2024-02-19 17:55:09,244] Trial 202 finished with value: 9.491488084526738 and parameters: {'alpha': 2.180580110167512}. Best is trial 93 with value: 8.944783024597063.\n",
      "[I 2024-02-19 17:55:09,674] Trial 203 finished with value: 9.442606457989731 and parameters: {'alpha': 2.241318538518719}. Best is trial 93 with value: 8.944783024597063.\n",
      "[I 2024-02-19 17:55:10,053] Trial 204 finished with value: 8.961024809663735 and parameters: {'alpha': 2.9654360549039622}. Best is trial 93 with value: 8.944783024597063.\n",
      "[I 2024-02-19 17:55:10,469] Trial 205 finished with value: 8.948163262387327 and parameters: {'alpha': 2.9885163733454774}. Best is trial 93 with value: 8.944783024597063.\n",
      "[I 2024-02-19 17:55:10,875] Trial 206 finished with value: 10.11293016006785 and parameters: {'alpha': 1.55261190269922}. Best is trial 93 with value: 8.944783024597063.\n",
      "[I 2024-02-19 17:55:11,311] Trial 207 finished with value: 9.498642875699046 and parameters: {'alpha': 2.171854992542775}. Best is trial 93 with value: 8.944783024597063.\n",
      "[I 2024-02-19 17:55:11,726] Trial 208 finished with value: 8.952001360442663 and parameters: {'alpha': 2.981604896024197}. Best is trial 93 with value: 8.944783024597063.\n",
      "[I 2024-02-19 17:55:12,103] Trial 209 finished with value: 9.844572614671678 and parameters: {'alpha': 1.794685904151907}. Best is trial 93 with value: 8.944783024597063.\n",
      "[I 2024-02-19 17:55:12,519] Trial 210 finished with value: 10.562125952291213 and parameters: {'alpha': 1.2213216005056347}. Best is trial 93 with value: 8.944783024597063.\n",
      "[I 2024-02-19 17:55:12,889] Trial 211 finished with value: 9.424247309398778 and parameters: {'alpha': 2.2646512590701393}. Best is trial 93 with value: 8.944783024597063.\n",
      "[I 2024-02-19 17:55:13,334] Trial 212 finished with value: 9.39947546997826 and parameters: {'alpha': 2.296597301452855}. Best is trial 93 with value: 8.944783024597063.\n",
      "[I 2024-02-19 17:55:13,737] Trial 213 finished with value: 8.98243678676256 and parameters: {'alpha': 2.9275134831202894}. Best is trial 93 with value: 8.944783024597063.\n",
      "[I 2024-02-19 17:55:14,161] Trial 214 finished with value: 8.949645423250155 and parameters: {'alpha': 2.985844941223601}. Best is trial 93 with value: 8.944783024597063.\n",
      "[I 2024-02-19 17:55:14,540] Trial 215 finished with value: 13.907982073187515 and parameters: {'alpha': 4.823614662886033e-05}. Best is trial 93 with value: 8.944783024597063.\n",
      "[I 2024-02-19 17:55:14,942] Trial 216 finished with value: 9.875459008936938 and parameters: {'alpha': 1.7648142026650784}. Best is trial 93 with value: 8.944783024597063.\n",
      "[I 2024-02-19 17:55:15,336] Trial 217 finished with value: 8.946707905372914 and parameters: {'alpha': 2.991142465726478}. Best is trial 93 with value: 8.944783024597063.\n",
      "[I 2024-02-19 17:55:15,735] Trial 218 finished with value: 9.430077205132477 and parameters: {'alpha': 2.2572106406191748}. Best is trial 93 with value: 8.944783024597063.\n",
      "[I 2024-02-19 17:55:16,129] Trial 219 finished with value: 10.210530840577688 and parameters: {'alpha': 1.4735120584168944}. Best is trial 93 with value: 8.944783024597063.\n",
      "[I 2024-02-19 17:55:16,518] Trial 220 finished with value: 13.809548765745891 and parameters: {'alpha': 0.0024929968807835823}. Best is trial 93 with value: 8.944783024597063.\n",
      "[I 2024-02-19 17:55:16,942] Trial 221 finished with value: 8.971222062229739 and parameters: {'alpha': 2.9472982416565623}. Best is trial 93 with value: 8.944783024597063.\n",
      "[I 2024-02-19 17:55:17,323] Trial 222 finished with value: 8.96852952829396 and parameters: {'alpha': 2.95207367253889}. Best is trial 93 with value: 8.944783024597063.\n",
      "[I 2024-02-19 17:55:17,751] Trial 223 finished with value: 9.491481284141859 and parameters: {'alpha': 2.1805884228539467}. Best is trial 93 with value: 8.944783024597063.\n",
      "[I 2024-02-19 17:55:18,099] Trial 224 finished with value: 9.453581398713526 and parameters: {'alpha': 2.2275077348556027}. Best is trial 93 with value: 8.944783024597063.\n",
      "[I 2024-02-19 17:55:18,492] Trial 225 finished with value: 9.890326389686109 and parameters: {'alpha': 1.7506333544093082}. Best is trial 93 with value: 8.944783024597063.\n",
      "[I 2024-02-19 17:55:18,899] Trial 226 finished with value: 8.942401712414727 and parameters: {'alpha': 2.998929984449839}. Best is trial 226 with value: 8.942401712414727.\n",
      "[I 2024-02-19 17:55:19,284] Trial 227 finished with value: 8.94543169744111 and parameters: {'alpha': 2.993447722246715}. Best is trial 226 with value: 8.942401712414727.\n",
      "[I 2024-02-19 17:55:19,684] Trial 228 finished with value: 9.488089292332964 and parameters: {'alpha': 2.184739434788765}. Best is trial 226 with value: 8.942401712414727.\n",
      "[I 2024-02-19 17:55:20,063] Trial 229 finished with value: 9.943754074674299 and parameters: {'alpha': 1.7007063577960013}. Best is trial 226 with value: 8.942401712414727.\n",
      "[I 2024-02-19 17:55:20,463] Trial 230 finished with value: 9.403385306806262 and parameters: {'alpha': 2.291519318651011}. Best is trial 226 with value: 8.942401712414727.\n",
      "[I 2024-02-19 17:55:20,817] Trial 231 finished with value: 8.97299847212202 and parameters: {'alpha': 2.9441530189574743}. Best is trial 226 with value: 8.942401712414727.\n",
      "[I 2024-02-19 17:55:21,193] Trial 232 finished with value: 8.9635619205609 and parameters: {'alpha': 2.9609100399660324}. Best is trial 226 with value: 8.942401712414727.\n",
      "[I 2024-02-19 17:55:21,618] Trial 233 finished with value: 9.483096673789923 and parameters: {'alpha': 2.190866326863914}. Best is trial 226 with value: 8.942401712414727.\n",
      "[I 2024-02-19 17:55:22,025] Trial 234 finished with value: 8.976816979049095 and parameters: {'alpha': 2.937406615540805}. Best is trial 226 with value: 8.942401712414727.\n",
      "[I 2024-02-19 17:55:22,403] Trial 235 finished with value: 9.676909021113813 and parameters: {'alpha': 1.9671499149665366}. Best is trial 226 with value: 8.942401712414727.\n",
      "[I 2024-02-19 17:55:22,777] Trial 236 finished with value: 10.23904242915839 and parameters: {'alpha': 1.4512135580574714}. Best is trial 226 with value: 8.942401712414727.\n",
      "[I 2024-02-19 17:55:23,200] Trial 237 finished with value: 8.944284158744493 and parameters: {'alpha': 2.9955224978590858}. Best is trial 226 with value: 8.942401712414727.\n",
      "[I 2024-02-19 17:55:23,583] Trial 238 finished with value: 9.46126714709789 and parameters: {'alpha': 2.217896496568864}. Best is trial 226 with value: 8.942401712414727.\n",
      "[I 2024-02-19 17:55:24,005] Trial 239 finished with value: 13.805033070254286 and parameters: {'alpha': 0.061237980001074555}. Best is trial 226 with value: 8.942401712414727.\n",
      "[I 2024-02-19 17:55:24,472] Trial 240 finished with value: 9.919105176740826 and parameters: {'alpha': 1.7235417192037923}. Best is trial 226 with value: 8.942401712414727.\n",
      "[I 2024-02-19 17:55:24,870] Trial 241 finished with value: 9.371795968554506 and parameters: {'alpha': 2.3329369239410793}. Best is trial 226 with value: 8.942401712414727.\n",
      "[I 2024-02-19 17:55:25,336] Trial 242 finished with value: 8.959341280443041 and parameters: {'alpha': 2.9684442147494043}. Best is trial 226 with value: 8.942401712414727.\n",
      "[I 2024-02-19 17:55:25,713] Trial 243 finished with value: 9.528685774245746 and parameters: {'alpha': 2.1356666092839776}. Best is trial 226 with value: 8.942401712414727.\n",
      "[I 2024-02-19 17:55:26,097] Trial 244 finished with value: 8.961453668410327 and parameters: {'alpha': 2.964670383899827}. Best is trial 226 with value: 8.942401712414727.\n",
      "[I 2024-02-19 17:55:26,539] Trial 245 finished with value: 8.983363183969887 and parameters: {'alpha': 2.9258867218162803}. Best is trial 226 with value: 8.942401712414727.\n",
      "[I 2024-02-19 17:55:26,918] Trial 246 finished with value: 9.840150113018073 and parameters: {'alpha': 1.7990092391533135}. Best is trial 226 with value: 8.942401712414727.\n",
      "[I 2024-02-19 17:55:27,286] Trial 247 finished with value: 9.362983217786233 and parameters: {'alpha': 2.3446523200699474}. Best is trial 226 with value: 8.942401712414727.\n",
      "[I 2024-02-19 17:55:27,701] Trial 248 finished with value: 8.943415317629691 and parameters: {'alpha': 2.9970946045084683}. Best is trial 226 with value: 8.942401712414727.\n",
      "[I 2024-02-19 17:55:28,090] Trial 249 finished with value: 10.117445275791438 and parameters: {'alpha': 1.548855074849942}. Best is trial 226 with value: 8.942401712414727.\n"
     ]
    },
    {
     "name": "stdout",
     "output_type": "stream",
     "text": [
      "Meilleurs hyperparamètres : {'alpha': 2.998929984449839}\n",
      "Meilleure RMSE : 8.942401712414727\n"
     ]
    },
    {
     "data": {
      "text/plain": "Ridge(alpha=2.998929984449839, random_state=42)",
      "text/html": "<style>#sk-container-id-3 {\n  /* Definition of color scheme common for light and dark mode */\n  --sklearn-color-text: black;\n  --sklearn-color-line: gray;\n  /* Definition of color scheme for unfitted estimators */\n  --sklearn-color-unfitted-level-0: #fff5e6;\n  --sklearn-color-unfitted-level-1: #f6e4d2;\n  --sklearn-color-unfitted-level-2: #ffe0b3;\n  --sklearn-color-unfitted-level-3: chocolate;\n  /* Definition of color scheme for fitted estimators */\n  --sklearn-color-fitted-level-0: #f0f8ff;\n  --sklearn-color-fitted-level-1: #d4ebff;\n  --sklearn-color-fitted-level-2: #b3dbfd;\n  --sklearn-color-fitted-level-3: cornflowerblue;\n\n  /* Specific color for light theme */\n  --sklearn-color-text-on-default-background: var(--sg-text-color, var(--theme-code-foreground, var(--jp-content-font-color1, black)));\n  --sklearn-color-background: var(--sg-background-color, var(--theme-background, var(--jp-layout-color0, white)));\n  --sklearn-color-border-box: var(--sg-text-color, var(--theme-code-foreground, var(--jp-content-font-color1, black)));\n  --sklearn-color-icon: #696969;\n\n  @media (prefers-color-scheme: dark) {\n    /* Redefinition of color scheme for dark theme */\n    --sklearn-color-text-on-default-background: var(--sg-text-color, var(--theme-code-foreground, var(--jp-content-font-color1, white)));\n    --sklearn-color-background: var(--sg-background-color, var(--theme-background, var(--jp-layout-color0, #111)));\n    --sklearn-color-border-box: var(--sg-text-color, var(--theme-code-foreground, var(--jp-content-font-color1, white)));\n    --sklearn-color-icon: #878787;\n  }\n}\n\n#sk-container-id-3 {\n  color: var(--sklearn-color-text);\n}\n\n#sk-container-id-3 pre {\n  padding: 0;\n}\n\n#sk-container-id-3 input.sk-hidden--visually {\n  border: 0;\n  clip: rect(1px 1px 1px 1px);\n  clip: rect(1px, 1px, 1px, 1px);\n  height: 1px;\n  margin: -1px;\n  overflow: hidden;\n  padding: 0;\n  position: absolute;\n  width: 1px;\n}\n\n#sk-container-id-3 div.sk-dashed-wrapped {\n  border: 1px dashed var(--sklearn-color-line);\n  margin: 0 0.4em 0.5em 0.4em;\n  box-sizing: border-box;\n  padding-bottom: 0.4em;\n  background-color: var(--sklearn-color-background);\n}\n\n#sk-container-id-3 div.sk-container {\n  /* jupyter's `normalize.less` sets `[hidden] { display: none; }`\n     but bootstrap.min.css set `[hidden] { display: none !important; }`\n     so we also need the `!important` here to be able to override the\n     default hidden behavior on the sphinx rendered scikit-learn.org.\n     See: https://github.com/scikit-learn/scikit-learn/issues/21755 */\n  display: inline-block !important;\n  position: relative;\n}\n\n#sk-container-id-3 div.sk-text-repr-fallback {\n  display: none;\n}\n\ndiv.sk-parallel-item,\ndiv.sk-serial,\ndiv.sk-item {\n  /* draw centered vertical line to link estimators */\n  background-image: linear-gradient(var(--sklearn-color-text-on-default-background), var(--sklearn-color-text-on-default-background));\n  background-size: 2px 100%;\n  background-repeat: no-repeat;\n  background-position: center center;\n}\n\n/* Parallel-specific style estimator block */\n\n#sk-container-id-3 div.sk-parallel-item::after {\n  content: \"\";\n  width: 100%;\n  border-bottom: 2px solid var(--sklearn-color-text-on-default-background);\n  flex-grow: 1;\n}\n\n#sk-container-id-3 div.sk-parallel {\n  display: flex;\n  align-items: stretch;\n  justify-content: center;\n  background-color: var(--sklearn-color-background);\n  position: relative;\n}\n\n#sk-container-id-3 div.sk-parallel-item {\n  display: flex;\n  flex-direction: column;\n}\n\n#sk-container-id-3 div.sk-parallel-item:first-child::after {\n  align-self: flex-end;\n  width: 50%;\n}\n\n#sk-container-id-3 div.sk-parallel-item:last-child::after {\n  align-self: flex-start;\n  width: 50%;\n}\n\n#sk-container-id-3 div.sk-parallel-item:only-child::after {\n  width: 0;\n}\n\n/* Serial-specific style estimator block */\n\n#sk-container-id-3 div.sk-serial {\n  display: flex;\n  flex-direction: column;\n  align-items: center;\n  background-color: var(--sklearn-color-background);\n  padding-right: 1em;\n  padding-left: 1em;\n}\n\n\n/* Toggleable style: style used for estimator/Pipeline/ColumnTransformer box that is\nclickable and can be expanded/collapsed.\n- Pipeline and ColumnTransformer use this feature and define the default style\n- Estimators will overwrite some part of the style using the `sk-estimator` class\n*/\n\n/* Pipeline and ColumnTransformer style (default) */\n\n#sk-container-id-3 div.sk-toggleable {\n  /* Default theme specific background. It is overwritten whether we have a\n  specific estimator or a Pipeline/ColumnTransformer */\n  background-color: var(--sklearn-color-background);\n}\n\n/* Toggleable label */\n#sk-container-id-3 label.sk-toggleable__label {\n  cursor: pointer;\n  display: block;\n  width: 100%;\n  margin-bottom: 0;\n  padding: 0.5em;\n  box-sizing: border-box;\n  text-align: center;\n}\n\n#sk-container-id-3 label.sk-toggleable__label-arrow:before {\n  /* Arrow on the left of the label */\n  content: \"▸\";\n  float: left;\n  margin-right: 0.25em;\n  color: var(--sklearn-color-icon);\n}\n\n#sk-container-id-3 label.sk-toggleable__label-arrow:hover:before {\n  color: var(--sklearn-color-text);\n}\n\n/* Toggleable content - dropdown */\n\n#sk-container-id-3 div.sk-toggleable__content {\n  max-height: 0;\n  max-width: 0;\n  overflow: hidden;\n  text-align: left;\n  /* unfitted */\n  background-color: var(--sklearn-color-unfitted-level-0);\n}\n\n#sk-container-id-3 div.sk-toggleable__content.fitted {\n  /* fitted */\n  background-color: var(--sklearn-color-fitted-level-0);\n}\n\n#sk-container-id-3 div.sk-toggleable__content pre {\n  margin: 0.2em;\n  border-radius: 0.25em;\n  color: var(--sklearn-color-text);\n  /* unfitted */\n  background-color: var(--sklearn-color-unfitted-level-0);\n}\n\n#sk-container-id-3 div.sk-toggleable__content.fitted pre {\n  /* unfitted */\n  background-color: var(--sklearn-color-fitted-level-0);\n}\n\n#sk-container-id-3 input.sk-toggleable__control:checked~div.sk-toggleable__content {\n  /* Expand drop-down */\n  max-height: 200px;\n  max-width: 100%;\n  overflow: auto;\n}\n\n#sk-container-id-3 input.sk-toggleable__control:checked~label.sk-toggleable__label-arrow:before {\n  content: \"▾\";\n}\n\n/* Pipeline/ColumnTransformer-specific style */\n\n#sk-container-id-3 div.sk-label input.sk-toggleable__control:checked~label.sk-toggleable__label {\n  color: var(--sklearn-color-text);\n  background-color: var(--sklearn-color-unfitted-level-2);\n}\n\n#sk-container-id-3 div.sk-label.fitted input.sk-toggleable__control:checked~label.sk-toggleable__label {\n  background-color: var(--sklearn-color-fitted-level-2);\n}\n\n/* Estimator-specific style */\n\n/* Colorize estimator box */\n#sk-container-id-3 div.sk-estimator input.sk-toggleable__control:checked~label.sk-toggleable__label {\n  /* unfitted */\n  background-color: var(--sklearn-color-unfitted-level-2);\n}\n\n#sk-container-id-3 div.sk-estimator.fitted input.sk-toggleable__control:checked~label.sk-toggleable__label {\n  /* fitted */\n  background-color: var(--sklearn-color-fitted-level-2);\n}\n\n#sk-container-id-3 div.sk-label label.sk-toggleable__label,\n#sk-container-id-3 div.sk-label label {\n  /* The background is the default theme color */\n  color: var(--sklearn-color-text-on-default-background);\n}\n\n/* On hover, darken the color of the background */\n#sk-container-id-3 div.sk-label:hover label.sk-toggleable__label {\n  color: var(--sklearn-color-text);\n  background-color: var(--sklearn-color-unfitted-level-2);\n}\n\n/* Label box, darken color on hover, fitted */\n#sk-container-id-3 div.sk-label.fitted:hover label.sk-toggleable__label.fitted {\n  color: var(--sklearn-color-text);\n  background-color: var(--sklearn-color-fitted-level-2);\n}\n\n/* Estimator label */\n\n#sk-container-id-3 div.sk-label label {\n  font-family: monospace;\n  font-weight: bold;\n  display: inline-block;\n  line-height: 1.2em;\n}\n\n#sk-container-id-3 div.sk-label-container {\n  text-align: center;\n}\n\n/* Estimator-specific */\n#sk-container-id-3 div.sk-estimator {\n  font-family: monospace;\n  border: 1px dotted var(--sklearn-color-border-box);\n  border-radius: 0.25em;\n  box-sizing: border-box;\n  margin-bottom: 0.5em;\n  /* unfitted */\n  background-color: var(--sklearn-color-unfitted-level-0);\n}\n\n#sk-container-id-3 div.sk-estimator.fitted {\n  /* fitted */\n  background-color: var(--sklearn-color-fitted-level-0);\n}\n\n/* on hover */\n#sk-container-id-3 div.sk-estimator:hover {\n  /* unfitted */\n  background-color: var(--sklearn-color-unfitted-level-2);\n}\n\n#sk-container-id-3 div.sk-estimator.fitted:hover {\n  /* fitted */\n  background-color: var(--sklearn-color-fitted-level-2);\n}\n\n/* Specification for estimator info (e.g. \"i\" and \"?\") */\n\n/* Common style for \"i\" and \"?\" */\n\n.sk-estimator-doc-link,\na:link.sk-estimator-doc-link,\na:visited.sk-estimator-doc-link {\n  float: right;\n  font-size: smaller;\n  line-height: 1em;\n  font-family: monospace;\n  background-color: var(--sklearn-color-background);\n  border-radius: 1em;\n  height: 1em;\n  width: 1em;\n  text-decoration: none !important;\n  margin-left: 1ex;\n  /* unfitted */\n  border: var(--sklearn-color-unfitted-level-1) 1pt solid;\n  color: var(--sklearn-color-unfitted-level-1);\n}\n\n.sk-estimator-doc-link.fitted,\na:link.sk-estimator-doc-link.fitted,\na:visited.sk-estimator-doc-link.fitted {\n  /* fitted */\n  border: var(--sklearn-color-fitted-level-1) 1pt solid;\n  color: var(--sklearn-color-fitted-level-1);\n}\n\n/* On hover */\ndiv.sk-estimator:hover .sk-estimator-doc-link:hover,\n.sk-estimator-doc-link:hover,\ndiv.sk-label-container:hover .sk-estimator-doc-link:hover,\n.sk-estimator-doc-link:hover {\n  /* unfitted */\n  background-color: var(--sklearn-color-unfitted-level-3);\n  color: var(--sklearn-color-background);\n  text-decoration: none;\n}\n\ndiv.sk-estimator.fitted:hover .sk-estimator-doc-link.fitted:hover,\n.sk-estimator-doc-link.fitted:hover,\ndiv.sk-label-container:hover .sk-estimator-doc-link.fitted:hover,\n.sk-estimator-doc-link.fitted:hover {\n  /* fitted */\n  background-color: var(--sklearn-color-fitted-level-3);\n  color: var(--sklearn-color-background);\n  text-decoration: none;\n}\n\n/* Span, style for the box shown on hovering the info icon */\n.sk-estimator-doc-link span {\n  display: none;\n  z-index: 9999;\n  position: relative;\n  font-weight: normal;\n  right: .2ex;\n  padding: .5ex;\n  margin: .5ex;\n  width: min-content;\n  min-width: 20ex;\n  max-width: 50ex;\n  color: var(--sklearn-color-text);\n  box-shadow: 2pt 2pt 4pt #999;\n  /* unfitted */\n  background: var(--sklearn-color-unfitted-level-0);\n  border: .5pt solid var(--sklearn-color-unfitted-level-3);\n}\n\n.sk-estimator-doc-link.fitted span {\n  /* fitted */\n  background: var(--sklearn-color-fitted-level-0);\n  border: var(--sklearn-color-fitted-level-3);\n}\n\n.sk-estimator-doc-link:hover span {\n  display: block;\n}\n\n/* \"?\"-specific style due to the `<a>` HTML tag */\n\n#sk-container-id-3 a.estimator_doc_link {\n  float: right;\n  font-size: 1rem;\n  line-height: 1em;\n  font-family: monospace;\n  background-color: var(--sklearn-color-background);\n  border-radius: 1rem;\n  height: 1rem;\n  width: 1rem;\n  text-decoration: none;\n  /* unfitted */\n  color: var(--sklearn-color-unfitted-level-1);\n  border: var(--sklearn-color-unfitted-level-1) 1pt solid;\n}\n\n#sk-container-id-3 a.estimator_doc_link.fitted {\n  /* fitted */\n  border: var(--sklearn-color-fitted-level-1) 1pt solid;\n  color: var(--sklearn-color-fitted-level-1);\n}\n\n/* On hover */\n#sk-container-id-3 a.estimator_doc_link:hover {\n  /* unfitted */\n  background-color: var(--sklearn-color-unfitted-level-3);\n  color: var(--sklearn-color-background);\n  text-decoration: none;\n}\n\n#sk-container-id-3 a.estimator_doc_link.fitted:hover {\n  /* fitted */\n  background-color: var(--sklearn-color-fitted-level-3);\n}\n</style><div id=\"sk-container-id-3\" class=\"sk-top-container\"><div class=\"sk-text-repr-fallback\"><pre>Ridge(alpha=2.998929984449839, random_state=42)</pre><b>In a Jupyter environment, please rerun this cell to show the HTML representation or trust the notebook. <br />On GitHub, the HTML representation is unable to render, please try loading this page with nbviewer.org.</b></div><div class=\"sk-container\" hidden><div class=\"sk-item\"><div class=\"sk-estimator fitted sk-toggleable\"><input class=\"sk-toggleable__control sk-hidden--visually\" id=\"sk-estimator-id-3\" type=\"checkbox\" checked><label for=\"sk-estimator-id-3\" class=\"sk-toggleable__label fitted sk-toggleable__label-arrow fitted\">&nbsp;&nbsp;Ridge<a class=\"sk-estimator-doc-link fitted\" rel=\"noreferrer\" target=\"_blank\" href=\"https://scikit-learn.org/1.4/modules/generated/sklearn.linear_model.Ridge.html\">?<span>Documentation for Ridge</span></a><span class=\"sk-estimator-doc-link fitted\">i<span>Fitted</span></span></label><div class=\"sk-toggleable__content fitted\"><pre>Ridge(alpha=2.998929984449839, random_state=42)</pre></div> </div></div></div></div>"
     },
     "execution_count": 57,
     "metadata": {},
     "output_type": "execute_result"
    }
   ],
   "source": [
    "def objective(trial):\n",
    "    # Hyperparamètres à optimiser\n",
    "    alpha = trial.suggest_float(\"alpha\", 1e-6, 3.0, log=True)\n",
    "\n",
    "    # Modèle Lasso\n",
    "    model = Ridge(alpha=alpha)\n",
    "\n",
    "    model.fit(ROI_train_scaled, y_train)\n",
    "    y_pred = model.predict(ROI_test_scaled)\n",
    "    rmse = root_mean_squared_error(y_test, y_pred)\n",
    "\n",
    "    return rmse\n",
    "\n",
    "study = optuna.create_study(direction='minimize')\n",
    "study.optimize(objective, n_trials=250) # Modifiez n_trials selon vos besoins\n",
    "\n",
    "# Affichage des meilleurs hyperparamètres\n",
    "print(f\"Meilleurs hyperparamètres : {study.best_params}\")\n",
    "print(f\"Meilleure RMSE : {study.best_value}\")\n",
    "\n",
    "# Entraînement du modèle Lasso avec les meilleurs hyperparamètres\n",
    "best_alpha = study.best_params['alpha']\n",
    "best_model = Ridge(alpha=best_alpha, random_state=42)\n",
    "best_model.fit(ROI_train_scaled, y_train)"
   ],
   "metadata": {
    "collapsed": false,
    "ExecuteTime": {
     "end_time": "2024-02-19T16:55:28.494667Z",
     "start_time": "2024-02-19T16:53:48.438591Z"
    }
   },
   "id": "6b27677f74deb177"
  },
  {
   "cell_type": "code",
   "execution_count": 58,
   "outputs": [],
   "source": [
    "pred = best_model.predict(ROI_test_scaled)"
   ],
   "metadata": {
    "collapsed": false,
    "ExecuteTime": {
     "end_time": "2024-02-19T16:55:40.782029Z",
     "start_time": "2024-02-19T16:55:40.718741Z"
    }
   },
   "id": "81b3135b981432da"
  },
  {
   "cell_type": "code",
   "execution_count": 59,
   "outputs": [
    {
     "data": {
      "text/plain": "0.7462814592854186"
     },
     "execution_count": 59,
     "metadata": {},
     "output_type": "execute_result"
    }
   ],
   "source": [
    "r2_score(y_test, pred)"
   ],
   "metadata": {
    "collapsed": false,
    "ExecuteTime": {
     "end_time": "2024-02-19T16:55:40.907659Z",
     "start_time": "2024-02-19T16:55:40.898209Z"
    }
   },
   "id": "a5497ad7c15e460c"
  },
  {
   "cell_type": "code",
   "execution_count": 60,
   "outputs": [
    {
     "data": {
      "text/plain": "8.942401712414727"
     },
     "execution_count": 60,
     "metadata": {},
     "output_type": "execute_result"
    }
   ],
   "source": [
    "root_mean_squared_error(y_test, pred)"
   ],
   "metadata": {
    "collapsed": false,
    "ExecuteTime": {
     "end_time": "2024-02-19T16:55:41.075080Z",
     "start_time": "2024-02-19T16:55:41.064547Z"
    }
   },
   "id": "c8d26e3e7660a5d7"
  },
  {
   "cell_type": "code",
   "execution_count": 61,
   "outputs": [],
   "source": [
    "non_zero_coefficients = best_model.coef_ != 0"
   ],
   "metadata": {
    "collapsed": false,
    "ExecuteTime": {
     "end_time": "2024-02-19T16:55:41.920872Z",
     "start_time": "2024-02-19T16:55:41.905394Z"
    }
   },
   "id": "31f9d31d34433b28"
  },
  {
   "cell_type": "code",
   "execution_count": 62,
   "outputs": [],
   "source": [
    "selected_features = np.array(ROI_train.columns.to_list())[non_zero_coefficients]"
   ],
   "metadata": {
    "collapsed": false,
    "ExecuteTime": {
     "end_time": "2024-02-19T16:55:42.247360Z",
     "start_time": "2024-02-19T16:55:42.232682Z"
    }
   },
   "id": "b8e10698f620d2e2"
  },
  {
   "cell_type": "code",
   "execution_count": 63,
   "outputs": [
    {
     "data": {
      "text/plain": "['participant_id',\n 'CSF_Vol',\n 'GM_Vol',\n 'WM_Vol',\n 'l3thVen_GM_Vol',\n 'r3thVen_GM_Vol',\n 'l4thVen_GM_Vol',\n 'r4thVen_GM_Vol',\n 'lAcc_GM_Vol',\n 'rAcc_GM_Vol',\n 'lAmy_GM_Vol',\n 'rAmy_GM_Vol',\n 'lBst_GM_Vol',\n 'rBst_GM_Vol',\n 'lCau_GM_Vol',\n 'rCau_GM_Vol',\n 'lExtCbe_GM_Vol',\n 'rExtCbe_GM_Vol',\n 'lCbeWM_GM_Vol',\n 'rCbeWM_GM_Vol',\n 'lCbrWM_GM_Vol',\n 'rCbrWM_GM_Vol',\n 'lCSF_GM_Vol',\n 'rCSF_GM_Vol',\n 'lHip_GM_Vol',\n 'rHip_GM_Vol',\n 'rInfLatVen_GM_Vol',\n 'lLatVen_GM_Vol',\n 'rLatVen_GM_Vol',\n 'lPal_GM_Vol',\n 'rPal_GM_Vol',\n 'lPut_GM_Vol',\n 'rPut_GM_Vol',\n 'lThaPro_GM_Vol',\n 'rThaPro_GM_Vol',\n 'lVenVen_GM_Vol',\n 'rVenVen_GM_Vol',\n 'rOC_GM_Vol',\n 'lCbeLoCbe1-5_GM_Vol',\n 'rCbeLoCbe1-5_GM_Vol',\n 'lCbeLoCbe6-7_GM_Vol',\n 'rCbeLoCbe6-7_GM_Vol',\n 'lCbeLoCbe8-10_GM_Vol',\n 'rCbeLoCbe8-10_GM_Vol',\n 'lBasCbr+FobBr_GM_Vol',\n 'rBasCbr+FobBr_GM_Vol',\n 'lAntCinGy_GM_Vol',\n 'rAntCinGy_GM_Vol',\n 'lAntIns_GM_Vol',\n 'rAntIns_GM_Vol',\n 'lAntOrbGy_GM_Vol',\n 'rAntOrbGy_GM_Vol',\n 'lAngGy_GM_Vol',\n 'rAngGy_GM_Vol',\n 'lCal+Cbr_GM_Vol',\n 'rCal+Cbr_GM_Vol',\n 'lCenOpe_GM_Vol',\n 'rCenOpe_GM_Vol',\n 'lCun_GM_Vol',\n 'rCun_GM_Vol',\n 'lEnt_GM_Vol',\n 'rEnt_GM_Vol',\n 'lFroOpe_GM_Vol',\n 'rFroOpe_GM_Vol',\n 'lFroPo_GM_Vol',\n 'rFroPo_GM_Vol',\n 'lFusGy_GM_Vol',\n 'rFusGy_GM_Vol',\n 'lRecGy_GM_Vol',\n 'rRecGy_GM_Vol',\n 'lInfOccGy_GM_Vol',\n 'rInfOccGy_GM_Vol',\n 'lInfTemGy_GM_Vol',\n 'rInfTemGy_GM_Vol',\n 'lLinGy_GM_Vol',\n 'rLinGy_GM_Vol',\n 'lLatOrbGy_GM_Vol',\n 'rLatOrbGy_GM_Vol',\n 'lMidCinGy_GM_Vol',\n 'rMidCinGy_GM_Vol',\n 'lMedFroCbr_GM_Vol',\n 'rMedFroCbr_GM_Vol',\n 'lMidFroGy_GM_Vol',\n 'rMidFroGy_GM_Vol',\n 'lMidOccGy_GM_Vol',\n 'rMidOccGy_GM_Vol',\n 'lMedOrbGy_GM_Vol',\n 'rMedOrbGy_GM_Vol',\n 'lMedPoCGy_GM_Vol',\n 'rMedPoCGy_GM_Vol',\n 'lMedPrcGy_GM_Vol',\n 'rMedPrcGy_GM_Vol',\n 'lSupMedFroGy_GM_Vol',\n 'rSupMedFroGy_GM_Vol',\n 'lMidTemGy_GM_Vol',\n 'rMidTemGy_GM_Vol',\n 'lOccPo_GM_Vol',\n 'rOccPo_GM_Vol',\n 'lOccFusGy_GM_Vol',\n 'rOccFusGy_GM_Vol',\n 'lInfFroGy_GM_Vol',\n 'rInfFroGy_GM_Vol',\n 'lInfFroOrbGy_GM_Vol',\n 'rInfFroOrbGy_GM_Vol',\n 'lPosCinGy_GM_Vol',\n 'rPosCinGy_GM_Vol',\n 'lPCu_GM_Vol',\n 'rPCu_GM_Vol',\n 'lParHipGy_GM_Vol',\n 'rParHipGy_GM_Vol',\n 'lPosIns_GM_Vol',\n 'rPosIns_GM_Vol',\n 'lParOpe_GM_Vol',\n 'rParOpe_GM_Vol',\n 'lPoCGy_GM_Vol',\n 'rPoCGy_GM_Vol',\n 'lPosOrbGy_GM_Vol',\n 'rPosOrbGy_GM_Vol',\n 'lPla_GM_Vol',\n 'rPla_GM_Vol',\n 'lPrcGy_GM_Vol',\n 'rPrcGy_GM_Vol',\n 'lTem_GM_Vol',\n 'rTem_GM_Vol',\n 'lSCA_GM_Vol',\n 'rSCA_GM_Vol',\n 'lSupFroGy_GM_Vol',\n 'rSupFroGy_GM_Vol',\n 'lCbr+Mot_GM_Vol',\n 'rCbr+Mot_GM_Vol',\n 'lSupMarGy_GM_Vol',\n 'rSupMarGy_GM_Vol',\n 'lSupOccGy_GM_Vol',\n 'rSupOccGy_GM_Vol',\n 'lSupParLo_GM_Vol',\n 'rSupParLo_GM_Vol',\n 'lSupTemGy_GM_Vol',\n 'rSupTemGy_GM_Vol',\n 'lTemPo_GM_Vol',\n 'rTemPo_GM_Vol',\n 'lInfFroAngGy_GM_Vol',\n 'rInfFroAngGy_GM_Vol',\n 'lTemTraGy_GM_Vol',\n 'rTemTraGy_GM_Vol',\n 'l3thVen_CSF_Vol',\n 'r3thVen_CSF_Vol',\n 'l4thVen_CSF_Vol',\n 'r4thVen_CSF_Vol',\n 'lAcc_CSF_Vol',\n 'rAcc_CSF_Vol',\n 'lAmy_CSF_Vol',\n 'rAmy_CSF_Vol',\n 'lBst_CSF_Vol',\n 'rBst_CSF_Vol',\n 'lCau_CSF_Vol',\n 'rCau_CSF_Vol',\n 'lExtCbe_CSF_Vol',\n 'rExtCbe_CSF_Vol',\n 'lCbeWM_CSF_Vol',\n 'rCbeWM_CSF_Vol',\n 'lCbrWM_CSF_Vol',\n 'rCbrWM_CSF_Vol',\n 'lCSF_CSF_Vol',\n 'rCSF_CSF_Vol',\n 'lHip_CSF_Vol',\n 'rHip_CSF_Vol',\n 'rInfLatVen_CSF_Vol',\n 'lLatVen_CSF_Vol',\n 'rLatVen_CSF_Vol',\n 'lPal_CSF_Vol',\n 'rPal_CSF_Vol',\n 'lPut_CSF_Vol',\n 'rPut_CSF_Vol',\n 'lThaPro_CSF_Vol',\n 'rThaPro_CSF_Vol',\n 'lVenVen_CSF_Vol',\n 'rVenVen_CSF_Vol',\n 'rOC_CSF_Vol',\n 'lCbeLoCbe1-5_CSF_Vol',\n 'rCbeLoCbe1-5_CSF_Vol',\n 'lCbeLoCbe6-7_CSF_Vol',\n 'rCbeLoCbe6-7_CSF_Vol',\n 'lCbeLoCbe8-10_CSF_Vol',\n 'rCbeLoCbe8-10_CSF_Vol',\n 'lBasCbr+FobBr_CSF_Vol',\n 'rBasCbr+FobBr_CSF_Vol',\n 'lAntCinGy_CSF_Vol',\n 'rAntCinGy_CSF_Vol',\n 'lAntIns_CSF_Vol',\n 'rAntIns_CSF_Vol',\n 'lAntOrbGy_CSF_Vol',\n 'rAntOrbGy_CSF_Vol',\n 'lAngGy_CSF_Vol',\n 'rAngGy_CSF_Vol',\n 'lCal+Cbr_CSF_Vol',\n 'rCal+Cbr_CSF_Vol',\n 'lCenOpe_CSF_Vol',\n 'rCenOpe_CSF_Vol',\n 'lCun_CSF_Vol',\n 'rCun_CSF_Vol',\n 'lEnt_CSF_Vol',\n 'rEnt_CSF_Vol',\n 'lFroOpe_CSF_Vol',\n 'rFroOpe_CSF_Vol',\n 'lFroPo_CSF_Vol',\n 'rFroPo_CSF_Vol',\n 'lFusGy_CSF_Vol',\n 'rFusGy_CSF_Vol',\n 'lRecGy_CSF_Vol',\n 'rRecGy_CSF_Vol',\n 'lInfOccGy_CSF_Vol',\n 'rInfOccGy_CSF_Vol',\n 'lInfTemGy_CSF_Vol',\n 'rInfTemGy_CSF_Vol',\n 'lLinGy_CSF_Vol',\n 'rLinGy_CSF_Vol',\n 'lLatOrbGy_CSF_Vol',\n 'rLatOrbGy_CSF_Vol',\n 'lMidCinGy_CSF_Vol',\n 'rMidCinGy_CSF_Vol',\n 'lMedFroCbr_CSF_Vol',\n 'rMedFroCbr_CSF_Vol',\n 'lMidFroGy_CSF_Vol',\n 'rMidFroGy_CSF_Vol',\n 'lMidOccGy_CSF_Vol',\n 'rMidOccGy_CSF_Vol',\n 'lMedOrbGy_CSF_Vol',\n 'rMedOrbGy_CSF_Vol',\n 'lMedPoCGy_CSF_Vol',\n 'rMedPoCGy_CSF_Vol',\n 'lMedPrcGy_CSF_Vol',\n 'rMedPrcGy_CSF_Vol',\n 'lSupMedFroGy_CSF_Vol',\n 'rSupMedFroGy_CSF_Vol',\n 'lMidTemGy_CSF_Vol',\n 'rMidTemGy_CSF_Vol',\n 'lOccPo_CSF_Vol',\n 'rOccPo_CSF_Vol',\n 'lOccFusGy_CSF_Vol',\n 'rOccFusGy_CSF_Vol',\n 'lInfFroGy_CSF_Vol',\n 'rInfFroGy_CSF_Vol',\n 'lInfFroOrbGy_CSF_Vol',\n 'rInfFroOrbGy_CSF_Vol',\n 'lPosCinGy_CSF_Vol',\n 'rPosCinGy_CSF_Vol',\n 'lPCu_CSF_Vol',\n 'rPCu_CSF_Vol',\n 'lParHipGy_CSF_Vol',\n 'rParHipGy_CSF_Vol',\n 'lPosIns_CSF_Vol',\n 'rPosIns_CSF_Vol',\n 'lParOpe_CSF_Vol',\n 'rParOpe_CSF_Vol',\n 'lPoCGy_CSF_Vol',\n 'rPoCGy_CSF_Vol',\n 'lPosOrbGy_CSF_Vol',\n 'rPosOrbGy_CSF_Vol',\n 'lPla_CSF_Vol',\n 'rPla_CSF_Vol',\n 'lPrcGy_CSF_Vol',\n 'rPrcGy_CSF_Vol',\n 'lTem_CSF_Vol',\n 'rTem_CSF_Vol',\n 'lSCA_CSF_Vol',\n 'rSCA_CSF_Vol',\n 'lSupFroGy_CSF_Vol',\n 'rSupFroGy_CSF_Vol',\n 'lCbr+Mot_CSF_Vol',\n 'rCbr+Mot_CSF_Vol',\n 'lSupMarGy_CSF_Vol',\n 'rSupMarGy_CSF_Vol',\n 'lSupOccGy_CSF_Vol',\n 'rSupOccGy_CSF_Vol',\n 'lSupParLo_CSF_Vol',\n 'rSupParLo_CSF_Vol',\n 'lSupTemGy_CSF_Vol',\n 'rSupTemGy_CSF_Vol',\n 'lTemPo_CSF_Vol',\n 'rTemPo_CSF_Vol',\n 'lInfFroAngGy_CSF_Vol',\n 'rInfFroAngGy_CSF_Vol',\n 'lTemTraGy_CSF_Vol',\n 'rTemTraGy_CSF_Vol',\n 'Vol_GM_corticale',\n 'Vol_CSF_corticale',\n 'Vol_GM_subcorticale',\n 'Vol_CSF_subcorticale',\n 'Vol_GM_liquidien',\n 'Vol_CSF_liquidien',\n 'Vol_GM_matblanche',\n 'Vol_CSF_matblanche',\n 'Vol_GM_cereb',\n 'Vol_CSF_cereb',\n 'Vol_GM_autre',\n 'Vol_CSF_autre']"
     },
     "execution_count": 63,
     "metadata": {},
     "output_type": "execute_result"
    }
   ],
   "source": [
    "list(selected_features)"
   ],
   "metadata": {
    "collapsed": false,
    "ExecuteTime": {
     "end_time": "2024-02-19T16:55:42.861669Z",
     "start_time": "2024-02-19T16:55:42.856140Z"
    }
   },
   "id": "9dc411ecd0816fb0"
  },
  {
   "cell_type": "code",
   "execution_count": null,
   "outputs": [],
   "source": [],
   "metadata": {
    "collapsed": false
   },
   "id": "44aae76da693e0cb"
  }
 ],
 "metadata": {
  "kernelspec": {
   "display_name": "Python 3",
   "language": "python",
   "name": "python3"
  },
  "language_info": {
   "codemirror_mode": {
    "name": "ipython",
    "version": 2
   },
   "file_extension": ".py",
   "mimetype": "text/x-python",
   "name": "python",
   "nbconvert_exporter": "python",
   "pygments_lexer": "ipython2",
   "version": "2.7.6"
  }
 },
 "nbformat": 4,
 "nbformat_minor": 5
}
