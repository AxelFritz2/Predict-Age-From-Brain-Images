{
 "cells": [
  {
   "cell_type": "code",
   "execution_count": 1,
   "id": "initial_id",
   "metadata": {
    "collapsed": true,
    "ExecuteTime": {
     "end_time": "2024-02-20T17:06:25.008813Z",
     "start_time": "2024-02-20T17:06:14.709331Z"
    }
   },
   "outputs": [],
   "source": [
    "import pandas as pd\n",
    "import optuna\n",
    "import sys\n",
    "from sklearn.metrics import root_mean_squared_error, r2_score\n",
    "from sklearn.linear_model import Lasso\n",
    "import numpy as np\n",
    "sys.path.append('../scripts')\n",
    "import problem"
   ]
  },
  {
   "cell_type": "markdown",
   "source": [
    "# Import des données"
   ],
   "metadata": {
    "collapsed": false
   },
   "id": "acb5528f08b8ab7"
  },
  {
   "cell_type": "code",
   "execution_count": 2,
   "outputs": [],
   "source": [
    "ROI_train = pd.read_csv(\"../data/train_rois.csv\")\n",
    "ROI_test = pd.read_csv(\"../data/test_rois.csv\")"
   ],
   "metadata": {
    "collapsed": false,
    "ExecuteTime": {
     "end_time": "2024-02-20T17:06:25.042088Z",
     "start_time": "2024-02-20T17:06:25.009436Z"
    }
   },
   "id": "e4bb3708f7c96454"
  },
  {
   "cell_type": "code",
   "execution_count": 3,
   "outputs": [
    {
     "data": {
      "text/plain": "(357, 288)"
     },
     "execution_count": 3,
     "metadata": {},
     "output_type": "execute_result"
    }
   ],
   "source": [
    "ROI_train.shape"
   ],
   "metadata": {
    "collapsed": false,
    "ExecuteTime": {
     "end_time": "2024-02-20T17:06:25.049118Z",
     "start_time": "2024-02-20T17:06:25.044521Z"
    }
   },
   "id": "b01a42d21793fe0a"
  },
  {
   "cell_type": "code",
   "execution_count": 4,
   "outputs": [],
   "source": [
    "participants_train = pd.read_csv(\"../data/train_participants.csv\")"
   ],
   "metadata": {
    "collapsed": false,
    "ExecuteTime": {
     "end_time": "2024-02-20T17:06:25.056065Z",
     "start_time": "2024-02-20T17:06:25.049322Z"
    }
   },
   "id": "886a143ed1ff23a8"
  },
  {
   "cell_type": "code",
   "execution_count": 5,
   "outputs": [],
   "source": [
    "X_train, y_train = problem.get_train_data(True)\n",
    "X_test, y_test = problem.get_test_data(True)\n",
    "\n",
    "assert X_train.shape[1] == 284 + 331695"
   ],
   "metadata": {
    "collapsed": false,
    "ExecuteTime": {
     "end_time": "2024-02-20T17:06:34.125443Z",
     "start_time": "2024-02-20T17:06:25.056825Z"
    }
   },
   "id": "27bba4819f39c1dd"
  },
  {
   "cell_type": "markdown",
   "source": [
    "# Séparation des variables en 5 zones : \n",
    "- **Zone Corticale** : reflète les principales fonctions cognitives et sensorielles du cerveau.\n",
    "- **Zone Subcorticale** et Limbique : structures sous-corticales et les régions limbiques, impliquées dans les émotions, la mémoire, et le système de récompense.\n",
    "- **Zone des Ventricules et des Espaces Liquidiens** : Zones remplies de liquide cérébrospinal (CSF), essentielles pour la protection du cerveau, l'échange de nutriments, et l'élimination des déchets.\n",
    "- **Zone de la Matière Blanche et Motrice** : Cette catégorie combine la matière blanche, qui facilite la communication entre différentes régions du cerveau, et les structures motrices pour la coordination et le mouvement.\n",
    "- **Zone Cérébelleuse** : Catégorie distincte pour le cervelet, vu son rôle crucial dans la coordination motrice, mais également dans certaines fonctions cognitives."
   ],
   "metadata": {
    "collapsed": false
   },
   "id": "71bfde8843cc45f4"
  },
  {
   "cell_type": "code",
   "execution_count": 6,
   "outputs": [],
   "source": [
    "corticale_GM = [\"lAntIns_GM_Vol\", \"rAntIns_GM_Vol\" ,\n",
    "\"lAntOrbGy_GM_Vol\", \"rAntOrbGy_GM_Vol\" ,\n",
    "\"lFroOpe_GM_Vol\", \"rFroOpe_GM_Vol\" ,\n",
    "\"lFroPo_GM_Vol\", \"rFroPo_GM_Vol\" ,\n",
    "\"lMidFroGy_GM_Vol\", \"rMidFroGy_GM_Vol\" ,\n",
    "\"lMedFroCbr_GM_Vol\", \"rMedFroCbr_GM_Vol\" ,\n",
    "\"lSupMedFroGy_GM_Vol\", \"rSupMedFroGy_GM_Vol\" ,\n",
    "\"lInfFroGy_GM_Vol\", \"rInfFroGy_GM_Vol\" ,\n",
    "\"lInfFroOrbGy_GM_Vol\", \"rInfFroOrbGy_GM_Vol\" ,\n",
    "\"lSupFroGy_GM_Vol\", \"rSupFroGy_GM_Vol\" ,\n",
    "\"lInfFroAngGy_GM_Vol\", \"rInfFroAngGy_GM_Vol\", \n",
    "\"lAngGy_GM_Vol\", \"rAngGy_GM_Vol\",\n",
    "\"lCun_GM_Vol\", \"rCun_GM_Vol\" ,\n",
    "\"lInfOccGy_GM_Vol\", \"rInfOccGy_GM_Vol\" ,\n",
    "\"lMidOccGy_GM_Vol\", \"rMidOccGy_GM_Vol\" ,\n",
    "\"lOccPo_GM_Vol\", \"rOccPo_GM_Vol\" ,\n",
    "\"lPCu_GM_Vol\", \"rPCu_GM_Vol\" ,\n",
    "\"lParHipGy_GM_Vol\", \"rParHipGy_GM_Vol\" ,\n",
    "\"lParOpe_GM_Vol\", \"rParOpe_GM_Vol\" ,\n",
    "\"lPoCGy_GM_Vol\", \"rPoCGy_GM_Vol\" ,\n",
    "\"lSupParLo_GM_Vol\", \"rSupParLo_GM_Vol\" ,\n",
    "\"lOccFusGy_GM_Vol\", \"rOccFusGy_GM_Vol\" ,\n",
    "\"lPosOrbGy_GM_Vol\", \"rPosOrbGy_GM_Vol\",\n",
    "\"lSupOccGy_GM_Vol\", \"rSupOccGy_GM_Vol\", \n",
    "\"lEnt_GM_Vol\", \"rEnt_GM_Vol\" ,\n",
    "\"lFusGy_GM_Vol\", \"rFusGy_GM_Vol\" ,\n",
    "\"lInfTemGy_GM_Vol\", \"rInfTemGy_GM_Vol\" ,\n",
    "\"lMidTemGy_GM_Vol\", \"rMidTemGy_GM_Vol\" ,\n",
    "\"lTem_GM_Vol\", \"rTem_GM_Vol\" ,\n",
    "\"lTemPo_GM_Vol\", \"rTemPo_GM_Vol\" ,\n",
    "\"lTemTraGy_GM_Vol\", \"rTemTraGy_GM_Vol\" ,\n",
    "\"lPosIns_GM_Vol\", \"rPosIns_GM_Vol\",\n",
    "\"lPosCinGy_GM_Vol\", \"rPosCinGy_GM_Vol\" ,\n",
    "\"lCenOpe_GM_Vol\", \"rCenOpe_GM_Vol\",\n",
    "\"lCal+Cbr_GM_Vol\", \"rCal+Cbr_GM_Vol\",\n",
    "\"lRecGy_GM_Vol\", \"rRecGy_GM_Vol\" ,\n",
    "\"lLinGy_GM_Vol\", \"rLinGy_GM_Vol\" ,\n",
    "\"lLatOrbGy_GM_Vol\", \"rLatOrbGy_GM_Vol\" ,\n",
    "\"lMidCinGy_GM_Vol\", \"rMidCinGy_GM_Vol\" ,\n",
    "\"lMedOrbGy_GM_Vol\", \"rMedOrbGy_GM_Vol\" ,\n",
    "\"lMedPoCGy_GM_Vol\", \"rMedPoCGy_GM_Vol\" ,\n",
    "\"lMedPrcGy_GM_Vol\", \"rMedPrcGy_GM_Vol\" ,\n",
    "\"lPrcGy_GM_Vol\", \"rPrcGy_GM_Vol\" ,\n",
    "\"lPla_GM_Vol\", \"rPla_GM_Vol\" ,\n",
    "\"lSCA_GM_Vol\", \"rSCA_GM_Vol\" ,\n",
    "\"lSupMarGy_GM_Vol\", \"rSupMarGy_GM_Vol\", \n",
    "\"lAntCinGy_GM_Vol\", \"rAntCinGy_GM_Vol\", \n",
    "\"lOC_GM_Vol\", \"rOC_GM_Vol\"\n",
    "\n",
    "]\n",
    "corticale_CSF = [\"lCenOpe_CSF_Vol\", \"rCenOpe_CSF_Vol\" ,\n",
    "\"lFroOpe_CSF_Vol\", \"rFroOpe_CSF_Vol\" ,\n",
    "\"lFroPo_CSF_Vol\", \"rFroPo_CSF_Vol\",\n",
    "\"lMidFroGy_CSF_Vol\", \"rMidFroGy_CSF_Vol\" ,\n",
    "\"lMedFroCbr_CSF_Vol\", \"rMedFroCbr_CSF_Vol\" ,\n",
    "\"lSupMedFroGy_CSF_Vol\", \"rSupMedFroGy_CSF_Vol\" ,\n",
    "\"lLatOrbGy_CSF_Vol\", \"rLatOrbGy_CSF_Vol\" ,\n",
    "\"lMedOrbGy_CSF_Vol\", \"rMedOrbGy_CSF_Vol\" ,\n",
    "\"lInfFroGy_CSF_Vol\", \"rInfFroGy_CSF_Vol\" ,\n",
    "\"lInfFroOrbGy_CSF_Vol\", \"rInfFroOrbGy_CSF_Vol\" ,\n",
    "\"lPosIns_CSF_Vol\", \"rPosIns_CSF_Vol\" ,\n",
    "\"lSupFroGy_CSF_Vol\", \"rSupFroGy_CSF_Vol\" ,\n",
    "\"lInfFroAngGy_CSF_Vol\", \"rInfFroAngGy_CSF_Vol\" ,\n",
    "\"lPrcGy_CSF_Vol\", \"rPrcGy_CSF_Vol\", \n",
    "\"lInfOccGy_CSF_Vol\", \"rInfOccGy_CSF_Vol\" ,\n",
    "\"lMidOccGy_CSF_Vol\", \"rMidOccGy_CSF_Vol\" ,\n",
    "\"lOccPo_CSF_Vol\", \"rOccPo_CSF_Vol\" ,\n",
    "\"lOccFusGy_CSF_Vol\", \"rOccFusGy_CSF_Vol\" ,\n",
    "\"lCun_CSF_Vol\", \"rCun_CSF_Vol\" ,\n",
    "\"lPosCinGy_CSF_Vol\", \"rPosCinGy_CSF_Vol\" ,\n",
    "\"lPCu_CSF_Vol\", \"rPCu_CSF_Vol\" ,\n",
    "\"lPoCGy_CSF_Vol\", \"rPoCGy_CSF_Vol\" ,\n",
    "\"lParOpe_CSF_Vol\", \"rParOpe_CSF_Vol\" ,\n",
    "\"lSupParLo_CSF_Vol\", \"rSupParLo_CSF_Vol\" ,\n",
    "\"lSupOccGy_CSF_Vol\", \"rSupOccGy_CSF_Vol\" ,\n",
    "\"lPosOrbGy_CSF_Vol\", \"rPosOrbGy_CSF_Vol\" ,\n",
    "\"lInfTemGy_CSF_Vol\", \"rInfTemGy_CSF_Vol\" ,\n",
    "\"lMidTemGy_CSF_Vol\", \"rMidTemGy_CSF_Vol\" ,\n",
    "\"lEnt_CSF_Vol\", \"rEnt_CSF_Vol\" ,\n",
    "\"lParHipGy_CSF_Vol\", \"rParHipGy_CSF_Vol\" ,\n",
    "\"lTem_CSF_Vol\", \"rTem_CSF_Vol\" ,\n",
    "\"lSupTemGy_CSF_Vol\", \"rSupTemGy_CSF_Vol\" ,\n",
    "\"lTemPo_CSF_Vol\", \"rTemPo_CSF_Vol\" ,\n",
    "\"lTemTraGy_CSF_Vol\", \"rTemTraGy_CSF_Vol\" ,\n",
    "\"lOC_CSF_Vol\", \"rOC_CSF_Vol\" ,\n",
    "\"lAntCinGy_CSF_Vol\", \"rAntCinGy_CSF_Vol\" ,\n",
    "\"lAntIns_CSF_Vol\", \"rAntIns_CSF_Vol\" ,\n",
    "\"lAntOrbGy_CSF_Vol\", \"rAntOrbGy_CSF_Vol\" ,\n",
    "\"lAngGy_CSF_Vol\", \"rAngGy_CSF_Vol\" ,\n",
    "\"lCal+Cbr_CSF_Vol\", \"rCal+Cbr_CSF_Vol\",\n",
    "\n",
    "]"
   ],
   "metadata": {
    "collapsed": false,
    "ExecuteTime": {
     "end_time": "2024-02-20T17:06:34.136372Z",
     "start_time": "2024-02-20T17:06:34.133578Z"
    }
   },
   "id": "476320e08a5595ae"
  },
  {
   "cell_type": "code",
   "execution_count": 7,
   "outputs": [],
   "source": [
    "subcorticale_GM = [\"lAcc_GM_Vol\", \"rAcc_GM_Vol\" ,\n",
    "\"lAmy_GM_Vol\", \"rAmy_GM_Vol\" ,\n",
    "\"lBst_GM_Vol\", \"rBst_GM_Vol\" ,\n",
    "\"lCau_GM_Vol\", \"rCau_GM_Vol\" ,\n",
    "\"lPal_GM_Vol\", \"rPal_GM_Vol\" ,\n",
    "\"lPut_GM_Vol\", \"rPut_GM_Vol\" ,\n",
    "\"lThaPro_GM_Vol\", \"rThaPro_GM_Vol\", \n",
    "\"lBasCbr+FobBr_GM_Vol\", \"rBasCbr+FobBr_GM_Vol\"]\n",
    "subcorticale_CSF = [\"lAcc_CSF_Vol\", \"rAcc_CSF_Vol\" ,\n",
    "\"lAmy_CSF_Vol\", \"rAmy_CSF_Vol\" ,\n",
    "\"lBst_CSF_Vol\", \"rBst_CSF_Vol\" ,\n",
    "\"lCau_CSF_Vol\", \"rCau_CSF_Vol\" ,\n",
    "\"lPal_CSF_Vol\", \"rPal_CSF_Vol\" ,\n",
    "\"lPut_CSF_Vol\", \"rPut_CSF_Vol\" ,\n",
    "\"lThaPro_CSF_Vol\", \"rThaPro_CSF_Vol\" ,\n",
    "\"lLinGy_CSF_Vol\", \"rLinGy_CSF_Vol\" ,\n",
    "\"lMidCinGy_CSF_Vol\", \"rMidCinGy_CSF_Vol\" ,\n",
    "\"lMedPoCGy_CSF_Vol\", \"rMedPoCGy_CSF_Vol\" ,\n",
    "\"lMedPrcGy_CSF_Vol\", \"rMedPrcGy_CSF_Vol\" ,\n",
    "\"lFusGy_CSF_Vol\", \"rFusGy_CSF_Vol\" ,\n",
    "\"lRecGy_CSF_Vol\", \"rRecGy_CSF_Vol\", \n",
    "\"lBasCbr+FobBr_CSF_Vol\", \"rBasCbr+FobBr_CSF_Vol\", \n",
    "\"lPla_CSF_Vol\", \"rPla_CSF_Vol\", \n",
    "\"lSCA_CSF_Vol\", \"rSCA_CSF_Vol\", \n",
    "\"lCbr+Mot_CSF_Vol\", \"rCbr+Mot_CSF_Vol\", \n",
    "\"lSupMarGy_CSF_Vol\", \"rSupMarGy_CSF_Vol\" ]"
   ],
   "metadata": {
    "collapsed": false,
    "ExecuteTime": {
     "end_time": "2024-02-20T17:06:34.144884Z",
     "start_time": "2024-02-20T17:06:34.138037Z"
    }
   },
   "id": "da4a6e24614b38f7"
  },
  {
   "cell_type": "code",
   "execution_count": 8,
   "outputs": [],
   "source": [
    "liquidiens_GM = [\"l3thVen_GM_Vol\", \"r3thVen_GM_Vol\" ,\n",
    "\"l4thVen_GM_Vol\", \"r4thVen_GM_Vol\" ,\n",
    "\"lInfLatVen_GM_Vol\", \"rInfLatVen_GM_Vol\" ,\n",
    "\"lLatVen_GM_Vol\", \"rLatVen_GM_Vol\" ,\n",
    "\"lVenVen_GM_Vol\", \"rVenVen_GM_Vol\" ,\n",
    "]\n",
    "liquidiens_CSF = [\"l3thVen_CSF_Vol\", \"r3thVen_CSF_Vol\" ,\n",
    "\"l4thVen_CSF_Vol\", \"r4thVen_CSF_Vol\" ,\n",
    "\"lCSF_CSF_Vol\", \"rCSF_CSF_Vol\" ,\n",
    "\"lInfLatVen_CSF_Vol\", \"rInfLatVen_CSF_Vol\" ,\n",
    "\"lLatVen_CSF_Vol\", \"rLatVen_CSF_Vol\" ,\n",
    "\"lVenVen_CSF_Vol\", \"rVenVen_CSF_Vol\"]"
   ],
   "metadata": {
    "collapsed": false,
    "ExecuteTime": {
     "end_time": "2024-02-20T17:06:34.154200Z",
     "start_time": "2024-02-20T17:06:34.143880Z"
    }
   },
   "id": "9d4a161bc58e607c"
  },
  {
   "cell_type": "code",
   "execution_count": 9,
   "outputs": [],
   "source": [
    "mat_blanche_GM = [\"lCbr+Mot_GM_Vol\", \n",
    "                  \"rCbr+Mot_GM_Vol\",]\n",
    "mat_blanche_CSF = [\"lCbeWM_CSF_Vol\", \"rCbeWM_CSF_Vol\" ,\n",
    "\"lCbrWM_CSF_Vol\", \"rCbrWM_CSF_Vol\"]"
   ],
   "metadata": {
    "collapsed": false,
    "ExecuteTime": {
     "end_time": "2024-02-20T17:06:34.165426Z",
     "start_time": "2024-02-20T17:06:34.149721Z"
    }
   },
   "id": "5e2bd42b52945d8a"
  },
  {
   "cell_type": "code",
   "execution_count": 10,
   "outputs": [],
   "source": [
    "cereb_GM = [\"lExtCbe_GM_Vol\", \"rExtCbe_GM_Vol\" ,\n",
    "\"lCbeWM_GM_Vol\", \"rCbeWM_GM_Vol\" ,\n",
    "\"lCbeLoCbe1-5_GM_Vol\", \"rCbeLoCbe1-5_GM_Vol\" ,\n",
    "\"lCbeLoCbe6-7_GM_Vol\", \"rCbeLoCbe6-7_GM_Vol\" ,\n",
    "\"lCbeLoCbe8-10_GM_Vol\", \"rCbeLoCbe8-10_GM_Vol\" , \n",
    "]\n",
    "cereb_CSF = [\"lExtCbe_CSF_Vol\", \"rExtCbe_CSF_Vol\", \n",
    "\"lCbeLoCbe1-5_CSF_Vol\", \"rCbeLoCbe1-5_CSF_Vol\",\n",
    "\"lCbeLoCbe6-7_CSF_Vol\", \"rCbeLoCbe6-7_CSF_Vol\",\n",
    "\"lCbeLoCbe8-10_CSF_Vol\", \"rCbeLoCbe8-10_CSF_Vol\",\n",
    "]"
   ],
   "metadata": {
    "collapsed": false,
    "ExecuteTime": {
     "end_time": "2024-02-20T17:06:34.166815Z",
     "start_time": "2024-02-20T17:06:34.155451Z"
    }
   },
   "id": "5b95bf96eeef22e"
  },
  {
   "cell_type": "code",
   "execution_count": 11,
   "outputs": [],
   "source": [
    "autre_GM = ['lCbrWM_GM_Vol',\n",
    " 'rCbrWM_GM_Vol',\n",
    " 'lCSF_GM_Vol',\n",
    " 'rCSF_GM_Vol',\n",
    " 'lHip_GM_Vol',\n",
    " 'rHip_GM_Vol',\n",
    " 'lSupTemGy_GM_Vol',\n",
    " 'rSupTemGy_GM_Vol',\n",
    "]\n",
    "autre_CSF = [ 'lHip_CSF_Vol',\n",
    " 'rHip_CSF_Vol']"
   ],
   "metadata": {
    "collapsed": false,
    "ExecuteTime": {
     "end_time": "2024-02-20T17:06:34.166951Z",
     "start_time": "2024-02-20T17:06:34.159746Z"
    }
   },
   "id": "411337fd91967020"
  },
  {
   "cell_type": "code",
   "execution_count": 12,
   "outputs": [],
   "source": [
    "assert len(corticale_GM) + len(corticale_CSF) + len(subcorticale_CSF) + len(subcorticale_GM) + len(liquidiens_GM) + len(liquidiens_CSF) + len(mat_blanche_GM) + len(mat_blanche_CSF) + len(cereb_GM) + len(cereb_CSF) + len(autre_CSF) + len(autre_GM) == ROI_train.shape[1]-4"
   ],
   "metadata": {
    "collapsed": false,
    "ExecuteTime": {
     "end_time": "2024-02-20T17:06:34.169689Z",
     "start_time": "2024-02-20T17:06:34.164689Z"
    }
   },
   "id": "91bc042397c7062e"
  },
  {
   "cell_type": "markdown",
   "source": [
    "# Calcul des volumes de chaque partie"
   ],
   "metadata": {
    "collapsed": false
   },
   "id": "439788b525904127"
  },
  {
   "cell_type": "code",
   "execution_count": 13,
   "outputs": [],
   "source": [
    "ROI_train[\"Vol_GM_corticale\"] = ROI_train[corticale_GM].sum(axis = 1)\n",
    "ROI_train[\"Vol_CSF_corticale\"] = ROI_train[corticale_CSF].sum(axis = 1)"
   ],
   "metadata": {
    "collapsed": false,
    "ExecuteTime": {
     "end_time": "2024-02-20T17:06:34.181263Z",
     "start_time": "2024-02-20T17:06:34.170759Z"
    }
   },
   "id": "61917ce685d218d7"
  },
  {
   "cell_type": "code",
   "execution_count": 14,
   "outputs": [],
   "source": [
    "ROI_train[\"Vol_GM_subcorticale\"] = ROI_train[subcorticale_GM].sum(axis = 1)\n",
    "ROI_train[\"Vol_CSF_subcorticale\"] = ROI_train[subcorticale_CSF].sum(axis = 1)"
   ],
   "metadata": {
    "collapsed": false,
    "ExecuteTime": {
     "end_time": "2024-02-20T17:06:34.200024Z",
     "start_time": "2024-02-20T17:06:34.182477Z"
    }
   },
   "id": "d54f19af0db24be2"
  },
  {
   "cell_type": "code",
   "execution_count": 15,
   "outputs": [],
   "source": [
    "ROI_train[\"Vol_GM_liquidien\"] = ROI_train[liquidiens_GM].sum(axis = 1)\n",
    "ROI_train[\"Vol_CSF_liquidien\"] = ROI_train[liquidiens_CSF].sum(axis = 1)"
   ],
   "metadata": {
    "collapsed": false,
    "ExecuteTime": {
     "end_time": "2024-02-20T17:06:34.200700Z",
     "start_time": "2024-02-20T17:06:34.190491Z"
    }
   },
   "id": "4acf0f4d006f0621"
  },
  {
   "cell_type": "code",
   "execution_count": 16,
   "outputs": [],
   "source": [
    "ROI_train[\"Vol_GM_matblanche\"] = ROI_train[mat_blanche_GM].sum(axis = 1)\n",
    "ROI_train[\"Vol_CSF_matblanche\"] = ROI_train[mat_blanche_CSF].sum(axis = 1)"
   ],
   "metadata": {
    "collapsed": false,
    "ExecuteTime": {
     "end_time": "2024-02-20T17:06:34.202509Z",
     "start_time": "2024-02-20T17:06:34.197687Z"
    }
   },
   "id": "acd1404f677c4bde"
  },
  {
   "cell_type": "code",
   "execution_count": 17,
   "outputs": [],
   "source": [
    "ROI_train[\"Vol_GM_cereb\"] = ROI_train[cereb_GM].sum(axis = 1)\n",
    "ROI_train[\"Vol_CSF_cereb\"] = ROI_train[cereb_CSF].sum(axis = 1)"
   ],
   "metadata": {
    "collapsed": false,
    "ExecuteTime": {
     "end_time": "2024-02-20T17:06:34.214144Z",
     "start_time": "2024-02-20T17:06:34.203333Z"
    }
   },
   "id": "4a29182a6c77221a"
  },
  {
   "cell_type": "code",
   "execution_count": 18,
   "outputs": [],
   "source": [
    "ROI_train[\"Vol_GM_autre\"] = ROI_train[autre_GM].sum(axis = 1)\n",
    "ROI_train[\"Vol_CSF_autre\"] = ROI_train[autre_CSF].sum(axis = 1)"
   ],
   "metadata": {
    "collapsed": false,
    "ExecuteTime": {
     "end_time": "2024-02-20T17:06:34.223308Z",
     "start_time": "2024-02-20T17:06:34.213083Z"
    }
   },
   "id": "92d5a80a8509062a"
  },
  {
   "cell_type": "code",
   "execution_count": 19,
   "outputs": [],
   "source": [
    "ROI_test[\"Vol_GM_corticale\"] = ROI_test[corticale_GM].sum(axis=1)\n",
    "ROI_test[\"Vol_CSF_corticale\"] = ROI_test[corticale_CSF].sum(axis=1)\n",
    "ROI_test[\"Vol_GM_subcorticale\"] = ROI_test[subcorticale_GM].sum(axis=1)\n",
    "ROI_test[\"Vol_CSF_subcorticale\"] = ROI_test[subcorticale_CSF].sum(axis=1)\n",
    "ROI_test[\"Vol_GM_liquidien\"] = ROI_test[liquidiens_GM].sum(axis=1)\n",
    "ROI_test[\"Vol_CSF_liquidien\"] = ROI_test[liquidiens_CSF].sum(axis=1)\n",
    "ROI_test[\"Vol_GM_matblanche\"] = ROI_test[mat_blanche_GM].sum(axis=1)\n",
    "ROI_test[\"Vol_CSF_matblanche\"] = ROI_test[mat_blanche_CSF].sum(axis=1)\n",
    "ROI_test[\"Vol_GM_cereb\"] = ROI_test[cereb_GM].sum(axis=1)\n",
    "ROI_test[\"Vol_CSF_cereb\"] = ROI_test[cereb_CSF].sum(axis=1)\n",
    "ROI_test[\"Vol_GM_autre\"] = ROI_test[autre_GM].sum(axis=1)\n",
    "ROI_test[\"Vol_CSF_autre\"] = ROI_test[autre_CSF].sum(axis=1)"
   ],
   "metadata": {
    "collapsed": false,
    "ExecuteTime": {
     "end_time": "2024-02-20T17:06:34.242328Z",
     "start_time": "2024-02-20T17:06:34.221719Z"
    }
   },
   "id": "9751504e207a323d"
  },
  {
   "cell_type": "code",
   "execution_count": 20,
   "outputs": [],
   "source": [
    "Vol_list = [\"Vol_GM_corticale\", \"Vol_CSF_corticale\", \"Vol_GM_subcorticale\", \"Vol_CSF_subcorticale\", \"Vol_GM_liquidien\",\"Vol_CSF_liquidien\", \"Vol_GM_matblanche\",\"Vol_CSF_matblanche\", \"Vol_GM_cereb\", \"Vol_CSF_cereb\" , \"Vol_GM_autre\", \"Vol_CSF_autre\"]"
   ],
   "metadata": {
    "collapsed": false,
    "ExecuteTime": {
     "end_time": "2024-02-20T17:06:34.242531Z",
     "start_time": "2024-02-20T17:06:34.235037Z"
    }
   },
   "id": "bd3fbc08538f4505"
  },
  {
   "cell_type": "markdown",
   "source": [
    "# Modélisation"
   ],
   "metadata": {
    "collapsed": false
   },
   "id": "b9ccb39f938ea803"
  },
  {
   "cell_type": "code",
   "execution_count": 21,
   "outputs": [],
   "source": [
    "from sklearn.preprocessing import StandardScaler"
   ],
   "metadata": {
    "collapsed": false,
    "ExecuteTime": {
     "end_time": "2024-02-20T17:06:34.244542Z",
     "start_time": "2024-02-20T17:06:34.239112Z"
    }
   },
   "id": "907594292ddb171f"
  },
  {
   "cell_type": "code",
   "execution_count": 22,
   "outputs": [],
   "source": [
    "ROI_train_scaled = StandardScaler().fit_transform(ROI_train)"
   ],
   "metadata": {
    "collapsed": false,
    "ExecuteTime": {
     "end_time": "2024-02-20T17:06:34.255056Z",
     "start_time": "2024-02-20T17:06:34.247447Z"
    }
   },
   "id": "604db43c1dff5f07"
  },
  {
   "cell_type": "code",
   "execution_count": 23,
   "outputs": [],
   "source": [
    "ROI_test_scaled = StandardScaler().fit_transform(ROI_test)"
   ],
   "metadata": {
    "collapsed": false,
    "ExecuteTime": {
     "end_time": "2024-02-20T17:06:34.272718Z",
     "start_time": "2024-02-20T17:06:34.259483Z"
    }
   },
   "id": "2c5c038317fb639c"
  },
  {
   "cell_type": "code",
   "execution_count": 24,
   "outputs": [
    {
     "name": "stderr",
     "output_type": "stream",
     "text": [
      "[I 2024-02-19 17:35:55,110] A new study created in memory with name: no-name-37f695b0-13b5-4799-9519-5c85e22ee785\n",
      "/Users/axel/Documents/École/Université/M2/M2_S1/Machine Learning/Challenge/venv/lib/python3.9/site-packages/sklearn/linear_model/_coordinate_descent.py:678: ConvergenceWarning: Objective did not converge. You might want to increase the number of iterations, check the scale of the features or consider increasing regularisation. Duality gap: 7.652e+02, tolerance: 9.223e+00\n",
      "  model = cd_fast.enet_coordinate_descent(\n",
      "[I 2024-02-19 17:35:55,456] Trial 0 finished with value: 8.318624854873715 and parameters: {'alpha': 0.009773175324210178}. Best is trial 0 with value: 8.318624854873715.\n",
      "/Users/axel/Documents/École/Université/M2/M2_S1/Machine Learning/Challenge/venv/lib/python3.9/site-packages/sklearn/linear_model/_coordinate_descent.py:678: ConvergenceWarning: Objective did not converge. You might want to increase the number of iterations, check the scale of the features or consider increasing regularisation. Duality gap: 8.571e+02, tolerance: 9.223e+00\n",
      "  model = cd_fast.enet_coordinate_descent(\n",
      "[I 2024-02-19 17:35:55,723] Trial 1 finished with value: 11.156395251643646 and parameters: {'alpha': 0.0016527169007546744}. Best is trial 0 with value: 8.318624854873715.\n",
      "[I 2024-02-19 17:35:56,011] Trial 2 finished with value: 6.054717887144446 and parameters: {'alpha': 0.11745884088929068}. Best is trial 2 with value: 6.054717887144446.\n",
      "/Users/axel/Documents/École/Université/M2/M2_S1/Machine Learning/Challenge/venv/lib/python3.9/site-packages/sklearn/linear_model/_coordinate_descent.py:678: ConvergenceWarning: Objective did not converge. You might want to increase the number of iterations, check the scale of the features or consider increasing regularisation. Duality gap: 1.253e+03, tolerance: 9.223e+00\n",
      "  model = cd_fast.enet_coordinate_descent(\n",
      "[I 2024-02-19 17:35:56,481] Trial 3 finished with value: 12.42074720542949 and parameters: {'alpha': 9.556026861517188e-06}. Best is trial 2 with value: 6.054717887144446.\n",
      "/Users/axel/Documents/École/Université/M2/M2_S1/Machine Learning/Challenge/venv/lib/python3.9/site-packages/sklearn/linear_model/_coordinate_descent.py:678: ConvergenceWarning: Objective did not converge. You might want to increase the number of iterations, check the scale of the features or consider increasing regularisation. Duality gap: 7.553e+02, tolerance: 9.223e+00\n",
      "  model = cd_fast.enet_coordinate_descent(\n",
      "[I 2024-02-19 17:35:57,197] Trial 4 finished with value: 8.344488942026912 and parameters: {'alpha': 0.009600615291101563}. Best is trial 2 with value: 6.054717887144446.\n",
      "[I 2024-02-19 17:35:57,451] Trial 5 finished with value: 7.869850908906096 and parameters: {'alpha': 0.8789028038167886}. Best is trial 2 with value: 6.054717887144446.\n",
      "/Users/axel/Documents/École/Université/M2/M2_S1/Machine Learning/Challenge/venv/lib/python3.9/site-packages/sklearn/linear_model/_coordinate_descent.py:678: ConvergenceWarning: Objective did not converge. You might want to increase the number of iterations, check the scale of the features or consider increasing regularisation. Duality gap: 5.209e+02, tolerance: 9.223e+00\n",
      "  model = cd_fast.enet_coordinate_descent(\n",
      "[I 2024-02-19 17:35:57,882] Trial 6 finished with value: 10.05271957232207 and parameters: {'alpha': 0.003668173375689044}. Best is trial 2 with value: 6.054717887144446.\n",
      "/Users/axel/Documents/École/Université/M2/M2_S1/Machine Learning/Challenge/venv/lib/python3.9/site-packages/sklearn/linear_model/_coordinate_descent.py:678: ConvergenceWarning: Objective did not converge. You might want to increase the number of iterations, check the scale of the features or consider increasing regularisation. Duality gap: 1.249e+03, tolerance: 9.223e+00\n",
      "  model = cd_fast.enet_coordinate_descent(\n",
      "[I 2024-02-19 17:35:58,464] Trial 7 finished with value: 12.415434156967562 and parameters: {'alpha': 1.5649487296606206e-05}. Best is trial 2 with value: 6.054717887144446.\n",
      "/Users/axel/Documents/École/Université/M2/M2_S1/Machine Learning/Challenge/venv/lib/python3.9/site-packages/sklearn/linear_model/_coordinate_descent.py:678: ConvergenceWarning: Objective did not converge. You might want to increase the number of iterations, check the scale of the features or consider increasing regularisation. Duality gap: 4.741e+02, tolerance: 9.223e+00\n",
      "  model = cd_fast.enet_coordinate_descent(\n",
      "[I 2024-02-19 17:35:58,859] Trial 8 finished with value: 6.881503040562881 and parameters: {'alpha': 0.02888795896162592}. Best is trial 2 with value: 6.054717887144446.\n",
      "/Users/axel/Documents/École/Université/M2/M2_S1/Machine Learning/Challenge/venv/lib/python3.9/site-packages/sklearn/linear_model/_coordinate_descent.py:678: ConvergenceWarning: Objective did not converge. You might want to increase the number of iterations, check the scale of the features or consider increasing regularisation. Duality gap: 1.257e+03, tolerance: 9.223e+00\n",
      "  model = cd_fast.enet_coordinate_descent(\n",
      "[I 2024-02-19 17:35:59,182] Trial 9 finished with value: 12.426706819810258 and parameters: {'alpha': 2.726421843270401e-06}. Best is trial 2 with value: 6.054717887144446.\n",
      "[I 2024-02-19 17:35:59,413] Trial 10 finished with value: 7.929939597524294 and parameters: {'alpha': 0.9201685940465156}. Best is trial 2 with value: 6.054717887144446.\n",
      "/Users/axel/Documents/École/Université/M2/M2_S1/Machine Learning/Challenge/venv/lib/python3.9/site-packages/sklearn/linear_model/_coordinate_descent.py:678: ConvergenceWarning: Objective did not converge. You might want to increase the number of iterations, check the scale of the features or consider increasing regularisation. Duality gap: 2.813e+01, tolerance: 9.223e+00\n",
      "  model = cd_fast.enet_coordinate_descent(\n",
      "[I 2024-02-19 17:35:59,712] Trial 11 finished with value: 6.0015992090987496 and parameters: {'alpha': 0.08509841042546538}. Best is trial 11 with value: 6.0015992090987496.\n",
      "[I 2024-02-19 17:36:00,061] Trial 12 finished with value: 6.015910710738751 and parameters: {'alpha': 0.09358142333428295}. Best is trial 11 with value: 6.0015992090987496.\n",
      "/Users/axel/Documents/École/Université/M2/M2_S1/Machine Learning/Challenge/venv/lib/python3.9/site-packages/sklearn/linear_model/_coordinate_descent.py:678: ConvergenceWarning: Objective did not converge. You might want to increase the number of iterations, check the scale of the features or consider increasing regularisation. Duality gap: 1.169e+03, tolerance: 9.223e+00\n",
      "  model = cd_fast.enet_coordinate_descent(\n",
      "[I 2024-02-19 17:36:00,519] Trial 13 finished with value: 12.297629961263256 and parameters: {'alpha': 0.0001517008984934372}. Best is trial 11 with value: 6.0015992090987496.\n",
      "[I 2024-02-19 17:36:00,767] Trial 14 finished with value: 6.080242640528778 and parameters: {'alpha': 0.1410126758291572}. Best is trial 11 with value: 6.0015992090987496.\n",
      "/Users/axel/Documents/École/Université/M2/M2_S1/Machine Learning/Challenge/venv/lib/python3.9/site-packages/sklearn/linear_model/_coordinate_descent.py:678: ConvergenceWarning: Objective did not converge. You might want to increase the number of iterations, check the scale of the features or consider increasing regularisation. Duality gap: 1.391e+02, tolerance: 9.223e+00\n",
      "  model = cd_fast.enet_coordinate_descent(\n",
      "[I 2024-02-19 17:36:01,095] Trial 15 finished with value: 6.149577446035284 and parameters: {'alpha': 0.06119067623820616}. Best is trial 11 with value: 6.0015992090987496.\n",
      "/Users/axel/Documents/École/Université/M2/M2_S1/Machine Learning/Challenge/venv/lib/python3.9/site-packages/sklearn/linear_model/_coordinate_descent.py:678: ConvergenceWarning: Objective did not converge. You might want to increase the number of iterations, check the scale of the features or consider increasing regularisation. Duality gap: 1.074e+03, tolerance: 9.223e+00\n",
      "  model = cd_fast.enet_coordinate_descent(\n",
      "[I 2024-02-19 17:36:01,443] Trial 16 finished with value: 12.143330077996785 and parameters: {'alpha': 0.00033342062545474026}. Best is trial 11 with value: 6.0015992090987496.\n",
      "[I 2024-02-19 17:36:01,656] Trial 17 finished with value: 6.288391967746961 and parameters: {'alpha': 0.2554935415530853}. Best is trial 11 with value: 6.0015992090987496.\n",
      "/Users/axel/Documents/École/Université/M2/M2_S1/Machine Learning/Challenge/venv/lib/python3.9/site-packages/sklearn/linear_model/_coordinate_descent.py:678: ConvergenceWarning: Objective did not converge. You might want to increase the number of iterations, check the scale of the features or consider increasing regularisation. Duality gap: 1.057e+03, tolerance: 9.223e+00\n",
      "  model = cd_fast.enet_coordinate_descent(\n",
      "[I 2024-02-19 17:36:02,078] Trial 18 finished with value: 12.115908878498725 and parameters: {'alpha': 0.0003670715275698154}. Best is trial 11 with value: 6.0015992090987496.\n",
      "/Users/axel/Documents/École/Université/M2/M2_S1/Machine Learning/Challenge/venv/lib/python3.9/site-packages/sklearn/linear_model/_coordinate_descent.py:678: ConvergenceWarning: Objective did not converge. You might want to increase the number of iterations, check the scale of the features or consider increasing regularisation. Duality gap: 9.064e+02, tolerance: 9.223e+00\n",
      "  model = cd_fast.enet_coordinate_descent(\n",
      "[I 2024-02-19 17:36:02,389] Trial 19 finished with value: 7.197799238861366 and parameters: {'alpha': 0.021653732972543083}. Best is trial 11 with value: 6.0015992090987496.\n",
      "/Users/axel/Documents/École/Université/M2/M2_S1/Machine Learning/Challenge/venv/lib/python3.9/site-packages/sklearn/linear_model/_coordinate_descent.py:678: ConvergenceWarning: Objective did not converge. You might want to increase the number of iterations, check the scale of the features or consider increasing regularisation. Duality gap: 7.017e+02, tolerance: 9.223e+00\n",
      "  model = cd_fast.enet_coordinate_descent(\n",
      "[I 2024-02-19 17:36:02,796] Trial 20 finished with value: 10.534076396087862 and parameters: {'alpha': 0.0027738385433122145}. Best is trial 11 with value: 6.0015992090987496.\n",
      "[I 2024-02-19 17:36:02,996] Trial 21 finished with value: 6.102980137186774 and parameters: {'alpha': 0.1687581345570031}. Best is trial 11 with value: 6.0015992090987496.\n",
      "[I 2024-02-19 17:36:03,307] Trial 22 finished with value: 6.0139209853406435 and parameters: {'alpha': 0.0924691693268061}. Best is trial 11 with value: 6.0015992090987496.\n",
      "[I 2024-02-19 17:36:03,513] Trial 23 finished with value: 6.821530754783086 and parameters: {'alpha': 0.41108443549152884}. Best is trial 11 with value: 6.0015992090987496.\n",
      "/Users/axel/Documents/École/Université/M2/M2_S1/Machine Learning/Challenge/venv/lib/python3.9/site-packages/sklearn/linear_model/_coordinate_descent.py:678: ConvergenceWarning: Objective did not converge. You might want to increase the number of iterations, check the scale of the features or consider increasing regularisation. Duality gap: 3.125e+02, tolerance: 9.223e+00\n",
      "  model = cd_fast.enet_coordinate_descent(\n",
      "[I 2024-02-19 17:36:03,810] Trial 24 finished with value: 6.354062956550195 and parameters: {'alpha': 0.04666197874764141}. Best is trial 11 with value: 6.0015992090987496.\n",
      "/Users/axel/Documents/École/Université/M2/M2_S1/Machine Learning/Challenge/venv/lib/python3.9/site-packages/sklearn/linear_model/_coordinate_descent.py:678: ConvergenceWarning: Objective did not converge. You might want to increase the number of iterations, check the scale of the features or consider increasing regularisation. Duality gap: 7.852e+02, tolerance: 9.223e+00\n",
      "  model = cd_fast.enet_coordinate_descent(\n",
      "[I 2024-02-19 17:36:04,206] Trial 25 finished with value: 8.14313522885935 and parameters: {'alpha': 0.011101123494825548}. Best is trial 11 with value: 6.0015992090987496.\n",
      "/Users/axel/Documents/École/Université/M2/M2_S1/Machine Learning/Challenge/venv/lib/python3.9/site-packages/sklearn/linear_model/_coordinate_descent.py:678: ConvergenceWarning: Objective did not converge. You might want to increase the number of iterations, check the scale of the features or consider increasing regularisation. Duality gap: 5.998e+01, tolerance: 9.223e+00\n",
      "  model = cd_fast.enet_coordinate_descent(\n",
      "[I 2024-02-19 17:36:04,569] Trial 26 finished with value: 6.0544598118298 and parameters: {'alpha': 0.07295892070446677}. Best is trial 11 with value: 6.0015992090987496.\n",
      "[I 2024-02-19 17:36:04,798] Trial 27 finished with value: 7.117170334741479 and parameters: {'alpha': 0.49902536787796214}. Best is trial 11 with value: 6.0015992090987496.\n",
      "/Users/axel/Documents/École/Université/M2/M2_S1/Machine Learning/Challenge/venv/lib/python3.9/site-packages/sklearn/linear_model/_coordinate_descent.py:678: ConvergenceWarning: Objective did not converge. You might want to increase the number of iterations, check the scale of the features or consider increasing regularisation. Duality gap: 9.029e+02, tolerance: 9.223e+00\n",
      "  model = cd_fast.enet_coordinate_descent(\n",
      "[I 2024-02-19 17:36:05,187] Trial 28 finished with value: 11.824371706738352 and parameters: {'alpha': 0.0007263336697307817}. Best is trial 11 with value: 6.0015992090987496.\n",
      "/Users/axel/Documents/École/Université/M2/M2_S1/Machine Learning/Challenge/venv/lib/python3.9/site-packages/sklearn/linear_model/_coordinate_descent.py:678: ConvergenceWarning: Objective did not converge. You might want to increase the number of iterations, check the scale of the features or consider increasing regularisation. Duality gap: 4.958e+02, tolerance: 9.223e+00\n",
      "  model = cd_fast.enet_coordinate_descent(\n",
      "[I 2024-02-19 17:36:05,509] Trial 29 finished with value: 8.76886862356136 and parameters: {'alpha': 0.007473138576936968}. Best is trial 11 with value: 6.0015992090987496.\n",
      "/Users/axel/Documents/École/Université/M2/M2_S1/Machine Learning/Challenge/venv/lib/python3.9/site-packages/sklearn/linear_model/_coordinate_descent.py:678: ConvergenceWarning: Objective did not converge. You might want to increase the number of iterations, check the scale of the features or consider increasing regularisation. Duality gap: 8.963e+02, tolerance: 9.223e+00\n",
      "  model = cd_fast.enet_coordinate_descent(\n",
      "[I 2024-02-19 17:36:05,925] Trial 30 finished with value: 7.22550145740798 and parameters: {'alpha': 0.02000046480417184}. Best is trial 11 with value: 6.0015992090987496.\n",
      "/Users/axel/Documents/École/Université/M2/M2_S1/Machine Learning/Challenge/venv/lib/python3.9/site-packages/sklearn/linear_model/_coordinate_descent.py:678: ConvergenceWarning: Objective did not converge. You might want to increase the number of iterations, check the scale of the features or consider increasing regularisation. Duality gap: 6.001e+01, tolerance: 9.223e+00\n",
      "  model = cd_fast.enet_coordinate_descent(\n",
      "[I 2024-02-19 17:36:06,222] Trial 31 finished with value: 6.054280215065889 and parameters: {'alpha': 0.0729918476406473}. Best is trial 11 with value: 6.0015992090987496.\n",
      "[I 2024-02-19 17:36:06,400] Trial 32 finished with value: 6.380481927654759 and parameters: {'alpha': 0.28563920592934267}. Best is trial 11 with value: 6.0015992090987496.\n",
      "/Users/axel/Documents/École/Université/M2/M2_S1/Machine Learning/Challenge/venv/lib/python3.9/site-packages/sklearn/linear_model/_coordinate_descent.py:678: ConvergenceWarning: Objective did not converge. You might want to increase the number of iterations, check the scale of the features or consider increasing regularisation. Duality gap: 2.717e+01, tolerance: 9.223e+00\n",
      "  model = cd_fast.enet_coordinate_descent(\n",
      "[I 2024-02-19 17:36:06,688] Trial 33 finished with value: 6.00127029123775 and parameters: {'alpha': 0.08652366887678446}. Best is trial 33 with value: 6.00127029123775.\n",
      "/Users/axel/Documents/École/Université/M2/M2_S1/Machine Learning/Challenge/venv/lib/python3.9/site-packages/sklearn/linear_model/_coordinate_descent.py:678: ConvergenceWarning: Objective did not converge. You might want to increase the number of iterations, check the scale of the features or consider increasing regularisation. Duality gap: 6.655e+02, tolerance: 9.223e+00\n",
      "  model = cd_fast.enet_coordinate_descent(\n",
      "[I 2024-02-19 17:36:07,054] Trial 34 finished with value: 6.583006073854771 and parameters: {'alpha': 0.03582919463216086}. Best is trial 33 with value: 6.00127029123775.\n",
      "[I 2024-02-19 17:36:07,287] Trial 35 finished with value: 6.052208331499849 and parameters: {'alpha': 0.11659956723008758}. Best is trial 33 with value: 6.00127029123775.\n",
      "/Users/axel/Documents/École/Université/M2/M2_S1/Machine Learning/Challenge/venv/lib/python3.9/site-packages/sklearn/linear_model/_coordinate_descent.py:678: ConvergenceWarning: Objective did not converge. You might want to increase the number of iterations, check the scale of the features or consider increasing regularisation. Duality gap: 6.358e+02, tolerance: 9.223e+00\n",
      "  model = cd_fast.enet_coordinate_descent(\n",
      "[I 2024-02-19 17:36:07,652] Trial 36 finished with value: 9.20607702609274 and parameters: {'alpha': 0.005846639780270018}. Best is trial 33 with value: 6.00127029123775.\n",
      "/Users/axel/Documents/École/Université/M2/M2_S1/Machine Learning/Challenge/venv/lib/python3.9/site-packages/sklearn/linear_model/_coordinate_descent.py:678: ConvergenceWarning: Objective did not converge. You might want to increase the number of iterations, check the scale of the features or consider increasing regularisation. Duality gap: 1.204e+03, tolerance: 9.223e+00\n",
      "  model = cd_fast.enet_coordinate_descent(\n",
      "[I 2024-02-19 17:36:08,053] Trial 37 finished with value: 7.467818979690865 and parameters: {'alpha': 0.015974734027084735}. Best is trial 33 with value: 6.00127029123775.\n",
      "/Users/axel/Documents/École/Université/M2/M2_S1/Machine Learning/Challenge/venv/lib/python3.9/site-packages/sklearn/linear_model/_coordinate_descent.py:678: ConvergenceWarning: Objective did not converge. You might want to increase the number of iterations, check the scale of the features or consider increasing regularisation. Duality gap: 1.232e+03, tolerance: 9.223e+00\n",
      "  model = cd_fast.enet_coordinate_descent(\n",
      "[I 2024-02-19 17:36:08,413] Trial 38 finished with value: 12.390995363840263 and parameters: {'alpha': 4.372790160224784e-05}. Best is trial 33 with value: 6.00127029123775.\n",
      "/Users/axel/Documents/École/Université/M2/M2_S1/Machine Learning/Challenge/venv/lib/python3.9/site-packages/sklearn/linear_model/_coordinate_descent.py:678: ConvergenceWarning: Objective did not converge. You might want to increase the number of iterations, check the scale of the features or consider increasing regularisation. Duality gap: 7.814e+02, tolerance: 9.223e+00\n",
      "  model = cd_fast.enet_coordinate_descent(\n",
      "[I 2024-02-19 17:36:08,788] Trial 39 finished with value: 11.556499548862162 and parameters: {'alpha': 0.001092004478381319}. Best is trial 33 with value: 6.00127029123775.\n",
      "/Users/axel/Documents/École/Université/M2/M2_S1/Machine Learning/Challenge/venv/lib/python3.9/site-packages/sklearn/linear_model/_coordinate_descent.py:678: ConvergenceWarning: Objective did not converge. You might want to increase the number of iterations, check the scale of the features or consider increasing regularisation. Duality gap: 6.664e+02, tolerance: 9.223e+00\n",
      "  model = cd_fast.enet_coordinate_descent(\n",
      "[I 2024-02-19 17:36:09,187] Trial 40 finished with value: 10.709981785878188 and parameters: {'alpha': 0.002426364120936663}. Best is trial 33 with value: 6.00127029123775.\n",
      "[I 2024-02-19 17:36:09,430] Trial 41 finished with value: 6.027355199027349 and parameters: {'alpha': 0.10407420919781511}. Best is trial 33 with value: 6.00127029123775.\n",
      "[I 2024-02-19 17:36:09,722] Trial 42 finished with value: 6.07026679087762 and parameters: {'alpha': 0.12684501552662159}. Best is trial 33 with value: 6.00127029123775.\n",
      "[I 2024-02-19 17:36:09,856] Trial 43 finished with value: 7.422503477650225 and parameters: {'alpha': 0.6283915007839782}. Best is trial 33 with value: 6.00127029123775.\n",
      "[I 2024-02-19 17:36:10,012] Trial 44 finished with value: 6.240790591609079 and parameters: {'alpha': 0.2364751651144824}. Best is trial 33 with value: 6.00127029123775.\n",
      "/Users/axel/Documents/École/Université/M2/M2_S1/Machine Learning/Challenge/venv/lib/python3.9/site-packages/sklearn/linear_model/_coordinate_descent.py:678: ConvergenceWarning: Objective did not converge. You might want to increase the number of iterations, check the scale of the features or consider increasing regularisation. Duality gap: 3.062e+02, tolerance: 9.223e+00\n",
      "  model = cd_fast.enet_coordinate_descent(\n",
      "[I 2024-02-19 17:36:10,317] Trial 45 finished with value: 6.344806235966328 and parameters: {'alpha': 0.04764190638857434}. Best is trial 33 with value: 6.00127029123775.\n",
      "[I 2024-02-19 17:36:10,641] Trial 46 finished with value: 6.005509737116894 and parameters: {'alpha': 0.08836534179202914}. Best is trial 33 with value: 6.00127029123775.\n",
      "[I 2024-02-19 17:36:10,806] Trial 47 finished with value: 7.918591183940113 and parameters: {'alpha': 0.9125916814462622}. Best is trial 33 with value: 6.00127029123775.\n",
      "/Users/axel/Documents/École/Université/M2/M2_S1/Machine Learning/Challenge/venv/lib/python3.9/site-packages/sklearn/linear_model/_coordinate_descent.py:678: ConvergenceWarning: Objective did not converge. You might want to increase the number of iterations, check the scale of the features or consider increasing regularisation. Duality gap: 4.473e+02, tolerance: 9.223e+00\n",
      "  model = cd_fast.enet_coordinate_descent(\n",
      "[I 2024-02-19 17:36:11,171] Trial 48 finished with value: 6.92619816805754 and parameters: {'alpha': 0.028099560020966356}. Best is trial 33 with value: 6.00127029123775.\n",
      "/Users/axel/Documents/École/Université/M2/M2_S1/Machine Learning/Challenge/venv/lib/python3.9/site-packages/sklearn/linear_model/_coordinate_descent.py:678: ConvergenceWarning: Objective did not converge. You might want to increase the number of iterations, check the scale of the features or consider increasing regularisation. Duality gap: 1.258e+03, tolerance: 9.223e+00\n",
      "  model = cd_fast.enet_coordinate_descent(\n",
      "[I 2024-02-19 17:36:11,500] Trial 49 finished with value: 12.42815025722548 and parameters: {'alpha': 1.072916031033138e-06}. Best is trial 33 with value: 6.00127029123775.\n",
      "[I 2024-02-19 17:36:11,683] Trial 50 finished with value: 6.600704683977596 and parameters: {'alpha': 0.34637003345199074}. Best is trial 33 with value: 6.00127029123775.\n",
      "[I 2024-02-19 17:36:12,012] Trial 51 finished with value: 6.013587224530574 and parameters: {'alpha': 0.09227638542342691}. Best is trial 33 with value: 6.00127029123775.\n",
      "[I 2024-02-19 17:36:12,206] Trial 52 finished with value: 6.121707924205282 and parameters: {'alpha': 0.1848129658828285}. Best is trial 33 with value: 6.00127029123775.\n",
      "/Users/axel/Documents/École/Université/M2/M2_S1/Machine Learning/Challenge/venv/lib/python3.9/site-packages/sklearn/linear_model/_coordinate_descent.py:678: ConvergenceWarning: Objective did not converge. You might want to increase the number of iterations, check the scale of the features or consider increasing regularisation. Duality gap: 7.240e+02, tolerance: 9.223e+00\n",
      "  model = cd_fast.enet_coordinate_descent(\n",
      "[I 2024-02-19 17:36:12,569] Trial 53 finished with value: 7.905301292120416 and parameters: {'alpha': 0.012746620929555148}. Best is trial 33 with value: 6.00127029123775.\n",
      "[I 2024-02-19 17:36:12,836] Trial 54 finished with value: 6.011754693945313 and parameters: {'alpha': 0.09120782063032248}. Best is trial 33 with value: 6.00127029123775.\n",
      "/Users/axel/Documents/École/Université/M2/M2_S1/Machine Learning/Challenge/venv/lib/python3.9/site-packages/sklearn/linear_model/_coordinate_descent.py:678: ConvergenceWarning: Objective did not converge. You might want to increase the number of iterations, check the scale of the features or consider increasing regularisation. Duality gap: 2.894e+02, tolerance: 9.223e+00\n",
      "  model = cd_fast.enet_coordinate_descent(\n",
      "[I 2024-02-19 17:36:13,156] Trial 55 finished with value: 6.400758965218903 and parameters: {'alpha': 0.04311937801699941}. Best is trial 33 with value: 6.00127029123775.\n",
      "/Users/axel/Documents/École/Université/M2/M2_S1/Machine Learning/Challenge/venv/lib/python3.9/site-packages/sklearn/linear_model/_coordinate_descent.py:678: ConvergenceWarning: Objective did not converge. You might want to increase the number of iterations, check the scale of the features or consider increasing regularisation. Duality gap: 5.757e+01, tolerance: 9.223e+00\n",
      "  model = cd_fast.enet_coordinate_descent(\n",
      "[I 2024-02-19 17:36:13,471] Trial 56 finished with value: 6.066849502709393 and parameters: {'alpha': 0.07091554412170167}. Best is trial 33 with value: 6.00127029123775.\n",
      "/Users/axel/Documents/École/Université/M2/M2_S1/Machine Learning/Challenge/venv/lib/python3.9/site-packages/sklearn/linear_model/_coordinate_descent.py:678: ConvergenceWarning: Objective did not converge. You might want to increase the number of iterations, check the scale of the features or consider increasing regularisation. Duality gap: 6.043e+02, tolerance: 9.223e+00\n",
      "  model = cd_fast.enet_coordinate_descent(\n",
      "[I 2024-02-19 17:36:13,820] Trial 57 finished with value: 7.092502642657942 and parameters: {'alpha': 0.024846783834990935}. Best is trial 33 with value: 6.00127029123775.\n",
      "/Users/axel/Documents/École/Université/M2/M2_S1/Machine Learning/Challenge/venv/lib/python3.9/site-packages/sklearn/linear_model/_coordinate_descent.py:678: ConvergenceWarning: Objective did not converge. You might want to increase the number of iterations, check the scale of the features or consider increasing regularisation. Duality gap: 6.545e+02, tolerance: 9.223e+00\n",
      "  model = cd_fast.enet_coordinate_descent(\n",
      "[I 2024-02-19 17:36:14,281] Trial 58 finished with value: 9.263157579158511 and parameters: {'alpha': 0.005649871000617223}. Best is trial 33 with value: 6.00127029123775.\n",
      "[I 2024-02-19 17:36:14,496] Trial 59 finished with value: 7.2504018032926805 and parameters: {'alpha': 0.5424550582223079}. Best is trial 33 with value: 6.00127029123775.\n",
      "[I 2024-02-19 17:36:14,629] Trial 60 finished with value: 6.168728039412784 and parameters: {'alpha': 0.20587961646270792}. Best is trial 33 with value: 6.00127029123775.\n",
      "/Users/axel/Documents/École/Université/M2/M2_S1/Machine Learning/Challenge/venv/lib/python3.9/site-packages/sklearn/linear_model/_coordinate_descent.py:678: ConvergenceWarning: Objective did not converge. You might want to increase the number of iterations, check the scale of the features or consider increasing regularisation. Duality gap: 4.372e+01, tolerance: 9.223e+00\n",
      "  model = cd_fast.enet_coordinate_descent(\n",
      "[I 2024-02-19 17:36:14,924] Trial 61 finished with value: 6.027441147607116 and parameters: {'alpha': 0.07825802467475186}. Best is trial 33 with value: 6.00127029123775.\n",
      "[I 2024-02-19 17:36:15,173] Trial 62 finished with value: 6.074263236799734 and parameters: {'alpha': 0.13250390408550983}. Best is trial 33 with value: 6.00127029123775.\n",
      "/Users/axel/Documents/École/Université/M2/M2_S1/Machine Learning/Challenge/venv/lib/python3.9/site-packages/sklearn/linear_model/_coordinate_descent.py:678: ConvergenceWarning: Objective did not converge. You might want to increase the number of iterations, check the scale of the features or consider increasing regularisation. Duality gap: 2.848e+02, tolerance: 9.223e+00\n",
      "  model = cd_fast.enet_coordinate_descent(\n",
      "[I 2024-02-19 17:36:15,521] Trial 63 finished with value: 6.330872965575889 and parameters: {'alpha': 0.04897636236345369}. Best is trial 33 with value: 6.00127029123775.\n",
      "[I 2024-02-19 17:36:16,090] Trial 64 finished with value: 6.013614185861702 and parameters: {'alpha': 0.09230639106081506}. Best is trial 33 with value: 6.00127029123775.\n",
      "[I 2024-02-19 17:36:16,209] Trial 65 finished with value: 6.6568934375011475 and parameters: {'alpha': 0.3615384207174497}. Best is trial 33 with value: 6.00127029123775.\n",
      "/Users/axel/Documents/École/Université/M2/M2_S1/Machine Learning/Challenge/venv/lib/python3.9/site-packages/sklearn/linear_model/_coordinate_descent.py:678: ConvergenceWarning: Objective did not converge. You might want to increase the number of iterations, check the scale of the features or consider increasing regularisation. Duality gap: 4.930e+02, tolerance: 9.223e+00\n",
      "  model = cd_fast.enet_coordinate_descent(\n",
      "[I 2024-02-19 17:36:16,530] Trial 66 finished with value: 6.846701714470563 and parameters: {'alpha': 0.029572378540367178}. Best is trial 33 with value: 6.00127029123775.\n",
      "[I 2024-02-19 17:36:16,806] Trial 67 finished with value: 6.104681748515866 and parameters: {'alpha': 0.1719480345217333}. Best is trial 33 with value: 6.00127029123775.\n",
      "/Users/axel/Documents/École/Université/M2/M2_S1/Machine Learning/Challenge/venv/lib/python3.9/site-packages/sklearn/linear_model/_coordinate_descent.py:678: ConvergenceWarning: Objective did not converge. You might want to increase the number of iterations, check the scale of the features or consider increasing regularisation. Duality gap: 1.025e+03, tolerance: 9.223e+00\n",
      "  model = cd_fast.enet_coordinate_descent(\n",
      "[I 2024-02-19 17:36:17,182] Trial 68 finished with value: 7.2743759382440025 and parameters: {'alpha': 0.01828033019456707}. Best is trial 33 with value: 6.00127029123775.\n",
      "[I 2024-02-19 17:36:17,489] Trial 69 finished with value: 6.004973052483426 and parameters: {'alpha': 0.08816934068167015}. Best is trial 33 with value: 6.00127029123775.\n",
      "/Users/axel/Documents/École/Université/M2/M2_S1/Machine Learning/Challenge/venv/lib/python3.9/site-packages/sklearn/linear_model/_coordinate_descent.py:678: ConvergenceWarning: Objective did not converge. You might want to increase the number of iterations, check the scale of the features or consider increasing regularisation. Duality gap: 1.140e+02, tolerance: 9.223e+00\n",
      "  model = cd_fast.enet_coordinate_descent(\n",
      "[I 2024-02-19 17:36:17,869] Trial 70 finished with value: 6.21648050308347 and parameters: {'alpha': 0.05688468736439089}. Best is trial 33 with value: 6.00127029123775.\n",
      "[I 2024-02-19 17:36:18,228] Trial 71 finished with value: 6.018255244623417 and parameters: {'alpha': 0.09603895164336089}. Best is trial 33 with value: 6.00127029123775.\n",
      "/Users/axel/Documents/École/Université/M2/M2_S1/Machine Learning/Challenge/venv/lib/python3.9/site-packages/sklearn/linear_model/_coordinate_descent.py:678: ConvergenceWarning: Objective did not converge. You might want to increase the number of iterations, check the scale of the features or consider increasing regularisation. Duality gap: 6.664e+02, tolerance: 9.223e+00\n",
      "  model = cd_fast.enet_coordinate_descent(\n",
      "[I 2024-02-19 17:36:18,618] Trial 72 finished with value: 6.587792200067577 and parameters: {'alpha': 0.0356944200862788}. Best is trial 33 with value: 6.00127029123775.\n",
      "[I 2024-02-19 17:36:18,886] Trial 73 finished with value: 6.3970845918851245 and parameters: {'alpha': 0.2905469689118574}. Best is trial 33 with value: 6.00127029123775.\n",
      "[I 2024-02-19 17:36:19,206] Trial 74 finished with value: 6.010976883866017 and parameters: {'alpha': 0.09069363748966583}. Best is trial 33 with value: 6.00127029123775.\n",
      "[I 2024-02-19 17:36:19,390] Trial 75 finished with value: 6.097831867235819 and parameters: {'alpha': 0.1577431521807802}. Best is trial 33 with value: 6.00127029123775.\n",
      "/Users/axel/Documents/École/Université/M2/M2_S1/Machine Learning/Challenge/venv/lib/python3.9/site-packages/sklearn/linear_model/_coordinate_descent.py:678: ConvergenceWarning: Objective did not converge. You might want to increase the number of iterations, check the scale of the features or consider increasing regularisation. Duality gap: 7.904e+02, tolerance: 9.223e+00\n",
      "  model = cd_fast.enet_coordinate_descent(\n",
      "[I 2024-02-19 17:36:19,877] Trial 76 finished with value: 8.21188720160431 and parameters: {'alpha': 0.010550785509598891}. Best is trial 33 with value: 6.00127029123775.\n",
      "/Users/axel/Documents/École/Université/M2/M2_S1/Machine Learning/Challenge/venv/lib/python3.9/site-packages/sklearn/linear_model/_coordinate_descent.py:678: ConvergenceWarning: Objective did not converge. You might want to increase the number of iterations, check the scale of the features or consider increasing regularisation. Duality gap: 1.229e+03, tolerance: 9.223e+00\n",
      "  model = cd_fast.enet_coordinate_descent(\n",
      "[I 2024-02-19 17:36:20,269] Trial 77 finished with value: 12.386535889152203 and parameters: {'alpha': 4.8854695537889365e-05}. Best is trial 33 with value: 6.00127029123775.\n",
      "/Users/axel/Documents/École/Université/M2/M2_S1/Machine Learning/Challenge/venv/lib/python3.9/site-packages/sklearn/linear_model/_coordinate_descent.py:678: ConvergenceWarning: Objective did not converge. You might want to increase the number of iterations, check the scale of the features or consider increasing regularisation. Duality gap: 1.383e+02, tolerance: 9.223e+00\n",
      "  model = cd_fast.enet_coordinate_descent(\n",
      "[I 2024-02-19 17:36:20,610] Trial 78 finished with value: 6.133949407975943 and parameters: {'alpha': 0.06254739519985278}. Best is trial 33 with value: 6.00127029123775.\n",
      "[I 2024-02-19 17:36:20,845] Trial 79 finished with value: 7.5827378350427015 and parameters: {'alpha': 0.7045314174820093}. Best is trial 33 with value: 6.00127029123775.\n",
      "[I 2024-02-19 17:36:20,964] Trial 80 finished with value: 6.24745570439509 and parameters: {'alpha': 0.23912920450629338}. Best is trial 33 with value: 6.00127029123775.\n",
      "[I 2024-02-19 17:36:21,276] Trial 81 finished with value: 6.069603690002012 and parameters: {'alpha': 0.1256538598533801}. Best is trial 33 with value: 6.00127029123775.\n",
      "[I 2024-02-19 17:36:21,619] Trial 82 finished with value: 6.014001567386523 and parameters: {'alpha': 0.09252045729527214}. Best is trial 33 with value: 6.00127029123775.\n",
      "/Users/axel/Documents/École/Université/M2/M2_S1/Machine Learning/Challenge/venv/lib/python3.9/site-packages/sklearn/linear_model/_coordinate_descent.py:678: ConvergenceWarning: Objective did not converge. You might want to increase the number of iterations, check the scale of the features or consider increasing regularisation. Duality gap: 6.313e+02, tolerance: 9.223e+00\n",
      "  model = cd_fast.enet_coordinate_descent(\n",
      "[I 2024-02-19 17:36:22,068] Trial 83 finished with value: 6.541973450035817 and parameters: {'alpha': 0.03701600614374967}. Best is trial 33 with value: 6.00127029123775.\n",
      "[I 2024-02-19 17:36:22,372] Trial 84 finished with value: 6.011188542331915 and parameters: {'alpha': 0.09084386915804334}. Best is trial 33 with value: 6.00127029123775.\n",
      "/Users/axel/Documents/École/Université/M2/M2_S1/Machine Learning/Challenge/venv/lib/python3.9/site-packages/sklearn/linear_model/_coordinate_descent.py:678: ConvergenceWarning: Objective did not converge. You might want to increase the number of iterations, check the scale of the features or consider increasing regularisation. Duality gap: 1.213e+03, tolerance: 9.223e+00\n",
      "  model = cd_fast.enet_coordinate_descent(\n",
      "[I 2024-02-19 17:36:22,862] Trial 85 finished with value: 7.486073572929056 and parameters: {'alpha': 0.015817633149561666}. Best is trial 33 with value: 6.00127029123775.\n",
      "/Users/axel/Documents/École/Université/M2/M2_S1/Machine Learning/Challenge/venv/lib/python3.9/site-packages/sklearn/linear_model/_coordinate_descent.py:678: ConvergenceWarning: Objective did not converge. You might want to increase the number of iterations, check the scale of the features or consider increasing regularisation. Duality gap: 8.050e+01, tolerance: 9.223e+00\n",
      "  model = cd_fast.enet_coordinate_descent(\n",
      "[I 2024-02-19 17:36:23,177] Trial 86 finished with value: 6.096477434232883 and parameters: {'alpha': 0.0667484903776305}. Best is trial 33 with value: 6.00127029123775.\n",
      "[I 2024-02-19 17:36:23,458] Trial 87 finished with value: 6.02874920886118 and parameters: {'alpha': 0.10519953538685065}. Best is trial 33 with value: 6.00127029123775.\n",
      "[I 2024-02-19 17:36:23,743] Trial 88 finished with value: 6.086433631470393 and parameters: {'alpha': 0.14806296547607498}. Best is trial 33 with value: 6.00127029123775.\n",
      "[I 2024-02-19 17:36:23,892] Trial 89 finished with value: 6.913450453684598 and parameters: {'alpha': 0.43884485608954815}. Best is trial 33 with value: 6.00127029123775.\n",
      "/Users/axel/Documents/École/Université/M2/M2_S1/Machine Learning/Challenge/venv/lib/python3.9/site-packages/sklearn/linear_model/_coordinate_descent.py:678: ConvergenceWarning: Objective did not converge. You might want to increase the number of iterations, check the scale of the features or consider increasing regularisation. Duality gap: 2.884e+02, tolerance: 9.223e+00\n",
      "  model = cd_fast.enet_coordinate_descent(\n",
      "[I 2024-02-19 17:36:24,229] Trial 90 finished with value: 6.3346184921103275 and parameters: {'alpha': 0.04864872932298249}. Best is trial 33 with value: 6.00127029123775.\n",
      "/Users/axel/Documents/École/Université/M2/M2_S1/Machine Learning/Challenge/venv/lib/python3.9/site-packages/sklearn/linear_model/_coordinate_descent.py:678: ConvergenceWarning: Objective did not converge. You might want to increase the number of iterations, check the scale of the features or consider increasing regularisation. Duality gap: 2.865e+01, tolerance: 9.223e+00\n",
      "  model = cd_fast.enet_coordinate_descent(\n",
      "[I 2024-02-19 17:36:24,731] Trial 91 finished with value: 6.001061338976515 and parameters: {'alpha': 0.08596852946089345}. Best is trial 91 with value: 6.001061338976515.\n",
      "/Users/axel/Documents/École/Université/M2/M2_S1/Machine Learning/Challenge/venv/lib/python3.9/site-packages/sklearn/linear_model/_coordinate_descent.py:678: ConvergenceWarning: Objective did not converge. You might want to increase the number of iterations, check the scale of the features or consider increasing regularisation. Duality gap: 6.172e+02, tolerance: 9.223e+00\n",
      "  model = cd_fast.enet_coordinate_descent(\n",
      "[I 2024-02-19 17:36:25,001] Trial 92 finished with value: 7.097805018810502 and parameters: {'alpha': 0.024710294699127493}. Best is trial 91 with value: 6.001061338976515.\n",
      "[I 2024-02-19 17:36:25,298] Trial 93 finished with value: 6.156789959467679 and parameters: {'alpha': 0.20098193746743712}. Best is trial 91 with value: 6.001061338976515.\n",
      "/Users/axel/Documents/École/Université/M2/M2_S1/Machine Learning/Challenge/venv/lib/python3.9/site-packages/sklearn/linear_model/_coordinate_descent.py:678: ConvergenceWarning: Objective did not converge. You might want to increase the number of iterations, check the scale of the features or consider increasing regularisation. Duality gap: 2.849e+01, tolerance: 9.223e+00\n",
      "  model = cd_fast.enet_coordinate_descent(\n",
      "[I 2024-02-19 17:36:25,579] Trial 94 finished with value: 6.001212993043481 and parameters: {'alpha': 0.08545123105742536}. Best is trial 91 with value: 6.001061338976515.\n",
      "[I 2024-02-19 17:36:25,717] Trial 95 finished with value: 6.386257928686641 and parameters: {'alpha': 0.28735432846790837}. Best is trial 91 with value: 6.001061338976515.\n",
      "/Users/axel/Documents/École/Université/M2/M2_S1/Machine Learning/Challenge/venv/lib/python3.9/site-packages/sklearn/linear_model/_coordinate_descent.py:678: ConvergenceWarning: Objective did not converge. You might want to increase the number of iterations, check the scale of the features or consider increasing regularisation. Duality gap: 6.217e+02, tolerance: 9.223e+00\n",
      "  model = cd_fast.enet_coordinate_descent(\n",
      "[I 2024-02-19 17:36:26,033] Trial 96 finished with value: 6.725924136899439 and parameters: {'alpha': 0.03225494502362053}. Best is trial 91 with value: 6.001061338976515.\n",
      "/Users/axel/Documents/École/Université/M2/M2_S1/Machine Learning/Challenge/venv/lib/python3.9/site-packages/sklearn/linear_model/_coordinate_descent.py:678: ConvergenceWarning: Objective did not converge. You might want to increase the number of iterations, check the scale of the features or consider increasing regularisation. Duality gap: 1.243e+02, tolerance: 9.223e+00\n",
      "  model = cd_fast.enet_coordinate_descent(\n",
      "[I 2024-02-19 17:36:26,423] Trial 97 finished with value: 6.1830804631503 and parameters: {'alpha': 0.058960033725753265}. Best is trial 91 with value: 6.001061338976515.\n",
      "[I 2024-02-19 17:36:26,628] Trial 98 finished with value: 6.072677611342004 and parameters: {'alpha': 0.12918861084486008}. Best is trial 91 with value: 6.001061338976515.\n",
      "[I 2024-02-19 17:36:26,965] Trial 99 finished with value: 6.007219043817234 and parameters: {'alpha': 0.0889746927142125}. Best is trial 91 with value: 6.001061338976515.\n",
      "/Users/axel/Documents/École/Université/M2/M2_S1/Machine Learning/Challenge/venv/lib/python3.9/site-packages/sklearn/linear_model/_coordinate_descent.py:678: ConvergenceWarning: Objective did not converge. You might want to increase the number of iterations, check the scale of the features or consider increasing regularisation. Duality gap: 1.253e+03, tolerance: 9.223e+00\n",
      "  model = cd_fast.enet_coordinate_descent(\n",
      "[I 2024-02-19 17:36:27,308] Trial 100 finished with value: 12.420986553562567 and parameters: {'alpha': 9.281650092214982e-06}. Best is trial 91 with value: 6.001061338976515.\n",
      "/Users/axel/Documents/École/Université/M2/M2_S1/Machine Learning/Challenge/venv/lib/python3.9/site-packages/sklearn/linear_model/_coordinate_descent.py:678: ConvergenceWarning: Objective did not converge. You might want to increase the number of iterations, check the scale of the features or consider increasing regularisation. Duality gap: 5.054e+01, tolerance: 9.223e+00\n",
      "  model = cd_fast.enet_coordinate_descent(\n",
      "[I 2024-02-19 17:36:27,679] Trial 101 finished with value: 6.033550324046785 and parameters: {'alpha': 0.07698088186439166}. Best is trial 91 with value: 6.001061338976515.\n",
      "/Users/axel/Documents/École/Université/M2/M2_S1/Machine Learning/Challenge/venv/lib/python3.9/site-packages/sklearn/linear_model/_coordinate_descent.py:678: ConvergenceWarning: Objective did not converge. You might want to increase the number of iterations, check the scale of the features or consider increasing regularisation. Duality gap: 2.885e+02, tolerance: 9.223e+00\n",
      "  model = cd_fast.enet_coordinate_descent(\n",
      "[I 2024-02-19 17:36:28,010] Trial 102 finished with value: 6.4045560659686 and parameters: {'alpha': 0.04278563760875201}. Best is trial 91 with value: 6.001061338976515.\n",
      "[I 2024-02-19 17:36:28,296] Trial 103 finished with value: 6.119196709677413 and parameters: {'alpha': 0.1835218538856445}. Best is trial 91 with value: 6.001061338976515.\n",
      "[I 2024-02-19 17:36:28,594] Trial 104 finished with value: 6.017271430003136 and parameters: {'alpha': 0.09511577074179857}. Best is trial 91 with value: 6.001061338976515.\n",
      "/Users/axel/Documents/École/Université/M2/M2_S1/Machine Learning/Challenge/venv/lib/python3.9/site-packages/sklearn/linear_model/_coordinate_descent.py:678: ConvergenceWarning: Objective did not converge. You might want to increase the number of iterations, check the scale of the features or consider increasing regularisation. Duality gap: 6.003e+01, tolerance: 9.223e+00\n",
      "  model = cd_fast.enet_coordinate_descent(\n",
      "[I 2024-02-19 17:36:28,926] Trial 105 finished with value: 6.053405695944077 and parameters: {'alpha': 0.07315263859225592}. Best is trial 91 with value: 6.001061338976515.\n",
      "/Users/axel/Documents/École/Université/M2/M2_S1/Machine Learning/Challenge/venv/lib/python3.9/site-packages/sklearn/linear_model/_coordinate_descent.py:678: ConvergenceWarning: Objective did not converge. You might want to increase the number of iterations, check the scale of the features or consider increasing regularisation. Duality gap: 8.572e+02, tolerance: 9.223e+00\n",
      "  model = cd_fast.enet_coordinate_descent(\n",
      "[I 2024-02-19 17:36:29,277] Trial 106 finished with value: 7.1830616352563466 and parameters: {'alpha': 0.022154055017617566}. Best is trial 91 with value: 6.001061338976515.\n",
      "/Users/axel/Documents/École/Université/M2/M2_S1/Machine Learning/Challenge/venv/lib/python3.9/site-packages/sklearn/linear_model/_coordinate_descent.py:678: ConvergenceWarning: Objective did not converge. You might want to increase the number of iterations, check the scale of the features or consider increasing regularisation. Duality gap: 1.149e+02, tolerance: 9.223e+00\n",
      "  model = cd_fast.enet_coordinate_descent(\n",
      "[I 2024-02-19 17:36:29,729] Trial 107 finished with value: 6.211804747681054 and parameters: {'alpha': 0.05718267298524852}. Best is trial 91 with value: 6.001061338976515.\n",
      "[I 2024-02-19 17:36:29,928] Trial 108 finished with value: 6.602005063138828 and parameters: {'alpha': 0.3467303362369903}. Best is trial 91 with value: 6.001061338976515.\n",
      "[I 2024-02-19 17:36:30,221] Trial 109 finished with value: 6.0699866969145315 and parameters: {'alpha': 0.12643053893613662}. Best is trial 91 with value: 6.001061338976515.\n",
      "[I 2024-02-19 17:36:30,515] Trial 110 finished with value: 6.202812501121474 and parameters: {'alpha': 0.22062590812491215}. Best is trial 91 with value: 6.001061338976515.\n",
      "/Users/axel/Documents/École/Université/M2/M2_S1/Machine Learning/Challenge/venv/lib/python3.9/site-packages/sklearn/linear_model/_coordinate_descent.py:678: ConvergenceWarning: Objective did not converge. You might want to increase the number of iterations, check the scale of the features or consider increasing regularisation. Duality gap: 2.636e+01, tolerance: 9.223e+00\n",
      "  model = cd_fast.enet_coordinate_descent(\n",
      "[I 2024-02-19 17:36:30,800] Trial 111 finished with value: 6.003128196058518 and parameters: {'alpha': 0.08447305147537781}. Best is trial 91 with value: 6.001061338976515.\n",
      "/Users/axel/Documents/École/Université/M2/M2_S1/Machine Learning/Challenge/venv/lib/python3.9/site-packages/sklearn/linear_model/_coordinate_descent.py:678: ConvergenceWarning: Objective did not converge. You might want to increase the number of iterations, check the scale of the features or consider increasing regularisation. Duality gap: 2.909e+02, tolerance: 9.223e+00\n",
      "  model = cd_fast.enet_coordinate_descent(\n",
      "[I 2024-02-19 17:36:31,156] Trial 112 finished with value: 6.40966560437335 and parameters: {'alpha': 0.04238199456440324}. Best is trial 91 with value: 6.001061338976515.\n",
      "[I 2024-02-19 17:36:31,347] Trial 113 finished with value: 6.088695470330681 and parameters: {'alpha': 0.1499319865482155}. Best is trial 91 with value: 6.001061338976515.\n",
      "[I 2024-02-19 17:36:31,690] Trial 114 finished with value: 6.0143897569062705 and parameters: {'alpha': 0.09273216824824954}. Best is trial 91 with value: 6.001061338976515.\n",
      "/Users/axel/Documents/École/Université/M2/M2_S1/Machine Learning/Challenge/venv/lib/python3.9/site-packages/sklearn/linear_model/_coordinate_descent.py:678: ConvergenceWarning: Objective did not converge. You might want to increase the number of iterations, check the scale of the features or consider increasing regularisation. Duality gap: 1.211e+02, tolerance: 9.223e+00\n",
      "  model = cd_fast.enet_coordinate_descent(\n",
      "[I 2024-02-19 17:36:31,980] Trial 115 finished with value: 6.186489008552638 and parameters: {'alpha': 0.058750727093777946}. Best is trial 91 with value: 6.001061338976515.\n",
      "/Users/axel/Documents/École/Université/M2/M2_S1/Machine Learning/Challenge/venv/lib/python3.9/site-packages/sklearn/linear_model/_coordinate_descent.py:678: ConvergenceWarning: Objective did not converge. You might want to increase the number of iterations, check the scale of the features or consider increasing regularisation. Duality gap: 5.151e+02, tolerance: 9.223e+00\n",
      "  model = cd_fast.enet_coordinate_descent(\n",
      "[I 2024-02-19 17:36:32,347] Trial 116 finished with value: 6.799246067720448 and parameters: {'alpha': 0.030648423096050856}. Best is trial 91 with value: 6.001061338976515.\n",
      "[I 2024-02-19 17:36:32,697] Trial 117 finished with value: 6.038282528665947 and parameters: {'alpha': 0.11003799928384694}. Best is trial 91 with value: 6.001061338976515.\n",
      "/Users/axel/Documents/École/Université/M2/M2_S1/Machine Learning/Challenge/venv/lib/python3.9/site-packages/sklearn/linear_model/_coordinate_descent.py:678: ConvergenceWarning: Objective did not converge. You might want to increase the number of iterations, check the scale of the features or consider increasing regularisation. Duality gap: 1.095e+03, tolerance: 9.223e+00\n",
      "  model = cd_fast.enet_coordinate_descent(\n",
      "[I 2024-02-19 17:36:33,098] Trial 118 finished with value: 12.179886445443405 and parameters: {'alpha': 0.0002898230699645784}. Best is trial 91 with value: 6.001061338976515.\n",
      "/Users/axel/Documents/École/Université/M2/M2_S1/Machine Learning/Challenge/venv/lib/python3.9/site-packages/sklearn/linear_model/_coordinate_descent.py:678: ConvergenceWarning: Objective did not converge. You might want to increase the number of iterations, check the scale of the features or consider increasing regularisation. Duality gap: 7.745e+02, tolerance: 9.223e+00\n",
      "  model = cd_fast.enet_coordinate_descent(\n",
      "[I 2024-02-19 17:36:33,628] Trial 119 finished with value: 7.74878473026197 and parameters: {'alpha': 0.013876533904105906}. Best is trial 91 with value: 6.001061338976515.\n",
      "[I 2024-02-19 17:36:33,827] Trial 120 finished with value: 6.30789552219093 and parameters: {'alpha': 0.2622884193472846}. Best is trial 91 with value: 6.001061338976515.\n",
      "/Users/axel/Documents/École/Université/M2/M2_S1/Machine Learning/Challenge/venv/lib/python3.9/site-packages/sklearn/linear_model/_coordinate_descent.py:678: ConvergenceWarning: Objective did not converge. You might want to increase the number of iterations, check the scale of the features or consider increasing regularisation. Duality gap: 2.128e+01, tolerance: 9.223e+00\n",
      "  model = cd_fast.enet_coordinate_descent(\n",
      "[I 2024-02-19 17:36:34,182] Trial 121 finished with value: 6.0141835533540124 and parameters: {'alpha': 0.08110564448238444}. Best is trial 91 with value: 6.001061338976515.\n",
      "[I 2024-02-19 17:36:34,408] Trial 122 finished with value: 6.085775659862257 and parameters: {'alpha': 0.1474335806051966}. Best is trial 91 with value: 6.001061338976515.\n",
      "/Users/axel/Documents/École/Université/M2/M2_S1/Machine Learning/Challenge/venv/lib/python3.9/site-packages/sklearn/linear_model/_coordinate_descent.py:678: ConvergenceWarning: Objective did not converge. You might want to increase the number of iterations, check the scale of the features or consider increasing regularisation. Duality gap: 2.838e+01, tolerance: 9.223e+00\n",
      "  model = cd_fast.enet_coordinate_descent(\n",
      "[I 2024-02-19 17:36:34,724] Trial 123 finished with value: 6.001381421094965 and parameters: {'alpha': 0.08530119299448342}. Best is trial 91 with value: 6.001061338976515.\n",
      "/Users/axel/Documents/École/Université/M2/M2_S1/Machine Learning/Challenge/venv/lib/python3.9/site-packages/sklearn/linear_model/_coordinate_descent.py:678: ConvergenceWarning: Objective did not converge. You might want to increase the number of iterations, check the scale of the features or consider increasing regularisation. Duality gap: 3.100e+02, tolerance: 9.223e+00\n",
      "  model = cd_fast.enet_coordinate_descent(\n",
      "[I 2024-02-19 17:36:35,043] Trial 124 finished with value: 6.414728853911412 and parameters: {'alpha': 0.04204044993114999}. Best is trial 91 with value: 6.001061338976515.\n",
      "/Users/axel/Documents/École/Université/M2/M2_S1/Machine Learning/Challenge/venv/lib/python3.9/site-packages/sklearn/linear_model/_coordinate_descent.py:678: ConvergenceWarning: Objective did not converge. You might want to increase the number of iterations, check the scale of the features or consider increasing regularisation. Duality gap: 5.518e+01, tolerance: 9.223e+00\n",
      "  model = cd_fast.enet_coordinate_descent(\n",
      "[I 2024-02-19 17:36:35,337] Trial 125 finished with value: 6.041752883458662 and parameters: {'alpha': 0.07534587890832009}. Best is trial 91 with value: 6.001061338976515.\n",
      "[I 2024-02-19 17:36:35,501] Trial 126 finished with value: 6.125884186322451 and parameters: {'alpha': 0.1868975057389224}. Best is trial 91 with value: 6.001061338976515.\n",
      "/Users/axel/Documents/École/Université/M2/M2_S1/Machine Learning/Challenge/venv/lib/python3.9/site-packages/sklearn/linear_model/_coordinate_descent.py:678: ConvergenceWarning: Objective did not converge. You might want to increase the number of iterations, check the scale of the features or consider increasing regularisation. Duality gap: 1.117e+02, tolerance: 9.223e+00\n",
      "  model = cd_fast.enet_coordinate_descent(\n",
      "[I 2024-02-19 17:36:35,802] Trial 127 finished with value: 6.240557355007604 and parameters: {'alpha': 0.05534544702023065}. Best is trial 91 with value: 6.001061338976515.\n",
      "[I 2024-02-19 17:36:36,091] Trial 128 finished with value: 6.0405976421906935 and parameters: {'alpha': 0.11178754129420203}. Best is trial 91 with value: 6.001061338976515.\n",
      "/Users/axel/Documents/École/Université/M2/M2_S1/Machine Learning/Challenge/venv/lib/python3.9/site-packages/sklearn/linear_model/_coordinate_descent.py:678: ConvergenceWarning: Objective did not converge. You might want to increase the number of iterations, check the scale of the features or consider increasing regularisation. Duality gap: 6.233e+02, tolerance: 9.223e+00\n",
      "  model = cd_fast.enet_coordinate_descent(\n",
      "[I 2024-02-19 17:36:36,435] Trial 129 finished with value: 6.724298061183025 and parameters: {'alpha': 0.0322922999611923}. Best is trial 91 with value: 6.001061338976515.\n",
      "/Users/axel/Documents/École/Université/M2/M2_S1/Machine Learning/Challenge/venv/lib/python3.9/site-packages/sklearn/linear_model/_coordinate_descent.py:678: ConvergenceWarning: Objective did not converge. You might want to increase the number of iterations, check the scale of the features or consider increasing regularisation. Duality gap: 5.777e+02, tolerance: 9.223e+00\n",
      "  model = cd_fast.enet_coordinate_descent(\n",
      "[I 2024-02-19 17:36:36,756] Trial 130 finished with value: 8.646670354473533 and parameters: {'alpha': 0.008054927389490107}. Best is trial 91 with value: 6.001061338976515.\n",
      "/Users/axel/Documents/École/Université/M2/M2_S1/Machine Learning/Challenge/venv/lib/python3.9/site-packages/sklearn/linear_model/_coordinate_descent.py:678: ConvergenceWarning: Objective did not converge. You might want to increase the number of iterations, check the scale of the features or consider increasing regularisation. Duality gap: 2.285e+01, tolerance: 9.223e+00\n",
      "  model = cd_fast.enet_coordinate_descent(\n",
      "[I 2024-02-19 17:36:37,265] Trial 131 finished with value: 6.0018816293754265 and parameters: {'alpha': 0.08703043308121083}. Best is trial 91 with value: 6.001061338976515.\n",
      "/Users/axel/Documents/École/Université/M2/M2_S1/Machine Learning/Challenge/venv/lib/python3.9/site-packages/sklearn/linear_model/_coordinate_descent.py:678: ConvergenceWarning: Objective did not converge. You might want to increase the number of iterations, check the scale of the features or consider increasing regularisation. Duality gap: 2.843e+01, tolerance: 9.223e+00\n",
      "  model = cd_fast.enet_coordinate_descent(\n",
      "[I 2024-02-19 17:36:37,701] Trial 132 finished with value: 6.001307716592516 and parameters: {'alpha': 0.08536565881983678}. Best is trial 91 with value: 6.001061338976515.\n",
      "/Users/axel/Documents/École/Université/M2/M2_S1/Machine Learning/Challenge/venv/lib/python3.9/site-packages/sklearn/linear_model/_coordinate_descent.py:678: ConvergenceWarning: Objective did not converge. You might want to increase the number of iterations, check the scale of the features or consider increasing regularisation. Duality gap: 7.144e+01, tolerance: 9.223e+00\n",
      "  model = cd_fast.enet_coordinate_descent(\n",
      "[I 2024-02-19 17:36:38,088] Trial 133 finished with value: 6.091599509469898 and parameters: {'alpha': 0.0673322315126204}. Best is trial 91 with value: 6.001061338976515.\n",
      "[I 2024-02-19 17:36:38,262] Trial 134 finished with value: 6.0991637054143375 and parameters: {'alpha': 0.15987278078406314}. Best is trial 91 with value: 6.001061338976515.\n",
      "[I 2024-02-19 17:36:38,613] Trial 135 finished with value: 6.0366939159860085 and parameters: {'alpha': 0.10961504482926934}. Best is trial 91 with value: 6.001061338976515.\n",
      "/Users/axel/Documents/École/Université/M2/M2_S1/Machine Learning/Challenge/venv/lib/python3.9/site-packages/sklearn/linear_model/_coordinate_descent.py:678: ConvergenceWarning: Objective did not converge. You might want to increase the number of iterations, check the scale of the features or consider increasing regularisation. Duality gap: 3.100e+02, tolerance: 9.223e+00\n",
      "  model = cd_fast.enet_coordinate_descent(\n",
      "[I 2024-02-19 17:36:38,912] Trial 136 finished with value: 6.350121137270195 and parameters: {'alpha': 0.04705487671972423}. Best is trial 91 with value: 6.001061338976515.\n",
      "/Users/axel/Documents/École/Université/M2/M2_S1/Machine Learning/Challenge/venv/lib/python3.9/site-packages/sklearn/linear_model/_coordinate_descent.py:678: ConvergenceWarning: Objective did not converge. You might want to increase the number of iterations, check the scale of the features or consider increasing regularisation. Duality gap: 2.566e+01, tolerance: 9.223e+00\n",
      "  model = cd_fast.enet_coordinate_descent(\n",
      "[I 2024-02-19 17:36:39,244] Trial 137 finished with value: 6.004557651701711 and parameters: {'alpha': 0.08394281600058072}. Best is trial 91 with value: 6.001061338976515.\n",
      "/Users/axel/Documents/École/Université/M2/M2_S1/Machine Learning/Challenge/venv/lib/python3.9/site-packages/sklearn/linear_model/_coordinate_descent.py:678: ConvergenceWarning: Objective did not converge. You might want to increase the number of iterations, check the scale of the features or consider increasing regularisation. Duality gap: 5.665e+01, tolerance: 9.223e+00\n",
      "  model = cd_fast.enet_coordinate_descent(\n",
      "[I 2024-02-19 17:36:39,581] Trial 138 finished with value: 6.043992335779226 and parameters: {'alpha': 0.07492201298304042}. Best is trial 91 with value: 6.001061338976515.\n",
      "[I 2024-02-19 17:36:39,796] Trial 139 finished with value: 6.073335478085787 and parameters: {'alpha': 0.13036992703891137}. Best is trial 91 with value: 6.001061338976515.\n",
      "[I 2024-02-19 17:36:39,911] Trial 140 finished with value: 6.185041842008812 and parameters: {'alpha': 0.2127215157214385}. Best is trial 91 with value: 6.001061338976515.\n",
      "[I 2024-02-19 17:36:40,225] Trial 141 finished with value: 6.011309768139394 and parameters: {'alpha': 0.09090252651032477}. Best is trial 91 with value: 6.001061338976515.\n",
      "/Users/axel/Documents/École/Université/M2/M2_S1/Machine Learning/Challenge/venv/lib/python3.9/site-packages/sklearn/linear_model/_coordinate_descent.py:678: ConvergenceWarning: Objective did not converge. You might want to increase the number of iterations, check the scale of the features or consider increasing regularisation. Duality gap: 1.690e+02, tolerance: 9.223e+00\n",
      "  model = cd_fast.enet_coordinate_descent(\n",
      "[I 2024-02-19 17:36:40,598] Trial 142 finished with value: 6.283942801518813 and parameters: {'alpha': 0.05267353972593505}. Best is trial 91 with value: 6.001061338976515.\n",
      "[I 2024-02-19 17:36:40,941] Trial 143 finished with value: 6.009570029977271 and parameters: {'alpha': 0.08985347688745182}. Best is trial 91 with value: 6.001061338976515.\n",
      "/Users/axel/Documents/École/Université/M2/M2_S1/Machine Learning/Challenge/venv/lib/python3.9/site-packages/sklearn/linear_model/_coordinate_descent.py:678: ConvergenceWarning: Objective did not converge. You might want to increase the number of iterations, check the scale of the features or consider increasing regularisation. Duality gap: 1.297e+02, tolerance: 9.223e+00\n",
      "  model = cd_fast.enet_coordinate_descent(\n",
      "[I 2024-02-19 17:36:41,312] Trial 144 finished with value: 6.176122946727084 and parameters: {'alpha': 0.05939275324455118}. Best is trial 91 with value: 6.001061338976515.\n",
      "/Users/axel/Documents/École/Université/M2/M2_S1/Machine Learning/Challenge/venv/lib/python3.9/site-packages/sklearn/linear_model/_coordinate_descent.py:678: ConvergenceWarning: Objective did not converge. You might want to increase the number of iterations, check the scale of the features or consider increasing regularisation. Duality gap: 6.664e+02, tolerance: 9.223e+00\n",
      "  model = cd_fast.enet_coordinate_descent(\n",
      "[I 2024-02-19 17:36:41,682] Trial 145 finished with value: 6.599422250240346 and parameters: {'alpha': 0.03537287435062917}. Best is trial 91 with value: 6.001061338976515.\n",
      "[I 2024-02-19 17:36:41,982] Trial 146 finished with value: 6.064531128032713 and parameters: {'alpha': 0.12166022934237587}. Best is trial 91 with value: 6.001061338976515.\n",
      "[I 2024-02-19 17:36:42,219] Trial 147 finished with value: 6.101198555715246 and parameters: {'alpha': 0.16271038733811274}. Best is trial 91 with value: 6.001061338976515.\n",
      "/Users/axel/Documents/École/Université/M2/M2_S1/Machine Learning/Challenge/venv/lib/python3.9/site-packages/sklearn/linear_model/_coordinate_descent.py:678: ConvergenceWarning: Objective did not converge. You might want to increase the number of iterations, check the scale of the features or consider increasing regularisation. Duality gap: 2.375e+01, tolerance: 9.223e+00\n",
      "  model = cd_fast.enet_coordinate_descent(\n",
      "[I 2024-02-19 17:36:42,603] Trial 148 finished with value: 6.006442322204526 and parameters: {'alpha': 0.08323528857255395}. Best is trial 91 with value: 6.001061338976515.\n",
      "/Users/axel/Documents/École/Université/M2/M2_S1/Machine Learning/Challenge/venv/lib/python3.9/site-packages/sklearn/linear_model/_coordinate_descent.py:678: ConvergenceWarning: Objective did not converge. You might want to increase the number of iterations, check the scale of the features or consider increasing regularisation. Duality gap: 7.839e+02, tolerance: 9.223e+00\n",
      "  model = cd_fast.enet_coordinate_descent(\n",
      "[I 2024-02-19 17:36:42,995] Trial 149 finished with value: 7.162930651002904 and parameters: {'alpha': 0.022843452099156603}. Best is trial 91 with value: 6.001061338976515.\n",
      "/Users/axel/Documents/École/Université/M2/M2_S1/Machine Learning/Challenge/venv/lib/python3.9/site-packages/sklearn/linear_model/_coordinate_descent.py:678: ConvergenceWarning: Objective did not converge. You might want to increase the number of iterations, check the scale of the features or consider increasing regularisation. Duality gap: 6.470e+01, tolerance: 9.223e+00\n",
      "  model = cd_fast.enet_coordinate_descent(\n",
      "[I 2024-02-19 17:36:43,275] Trial 150 finished with value: 6.087995896116472 and parameters: {'alpha': 0.06776756448976776}. Best is trial 91 with value: 6.001061338976515.\n",
      "[I 2024-02-19 17:36:43,667] Trial 151 finished with value: 6.017396600499115 and parameters: {'alpha': 0.0952406076466054}. Best is trial 91 with value: 6.001061338976515.\n",
      "/Users/axel/Documents/École/Université/M2/M2_S1/Machine Learning/Challenge/venv/lib/python3.9/site-packages/sklearn/linear_model/_coordinate_descent.py:678: ConvergenceWarning: Objective did not converge. You might want to increase the number of iterations, check the scale of the features or consider increasing regularisation. Duality gap: 8.492e+02, tolerance: 9.223e+00\n",
      "  model = cd_fast.enet_coordinate_descent(\n",
      "[I 2024-02-19 17:36:44,065] Trial 152 finished with value: 11.297848542376583 and parameters: {'alpha': 0.00144130529407076}. Best is trial 91 with value: 6.001061338976515.\n",
      "/Users/axel/Documents/École/Université/M2/M2_S1/Machine Learning/Challenge/venv/lib/python3.9/site-packages/sklearn/linear_model/_coordinate_descent.py:678: ConvergenceWarning: Objective did not converge. You might want to increase the number of iterations, check the scale of the features or consider increasing regularisation. Duality gap: 2.957e+01, tolerance: 9.223e+00\n",
      "  model = cd_fast.enet_coordinate_descent(\n",
      "[I 2024-02-19 17:36:44,483] Trial 153 finished with value: 6.0203997801371125 and parameters: {'alpha': 0.07979921325631929}. Best is trial 91 with value: 6.001061338976515.\n",
      "/Users/axel/Documents/École/Université/M2/M2_S1/Machine Learning/Challenge/venv/lib/python3.9/site-packages/sklearn/linear_model/_coordinate_descent.py:678: ConvergenceWarning: Objective did not converge. You might want to increase the number of iterations, check the scale of the features or consider increasing regularisation. Duality gap: 3.045e+02, tolerance: 9.223e+00\n",
      "  model = cd_fast.enet_coordinate_descent(\n",
      "[I 2024-02-19 17:36:44,778] Trial 154 finished with value: 6.4132414948804115 and parameters: {'alpha': 0.042132875941366235}. Best is trial 91 with value: 6.001061338976515.\n",
      "[I 2024-02-19 17:36:45,096] Trial 155 finished with value: 6.056269332296138 and parameters: {'alpha': 0.11803397260507173}. Best is trial 91 with value: 6.001061338976515.\n",
      "[I 2024-02-19 17:36:45,255] Trial 156 finished with value: 6.269466548174381 and parameters: {'alpha': 0.24865961030855782}. Best is trial 91 with value: 6.001061338976515.\n",
      "/Users/axel/Documents/École/Université/M2/M2_S1/Machine Learning/Challenge/venv/lib/python3.9/site-packages/sklearn/linear_model/_coordinate_descent.py:678: ConvergenceWarning: Objective did not converge. You might want to increase the number of iterations, check the scale of the features or consider increasing regularisation. Duality gap: 1.550e+02, tolerance: 9.223e+00\n",
      "  model = cd_fast.enet_coordinate_descent(\n",
      "[I 2024-02-19 17:36:45,558] Trial 157 finished with value: 6.277993137400036 and parameters: {'alpha': 0.053132556532601447}. Best is trial 91 with value: 6.001061338976515.\n",
      "[I 2024-02-19 17:36:45,742] Trial 158 finished with value: 6.102511983442637 and parameters: {'alpha': 0.16772596415878546}. Best is trial 91 with value: 6.001061338976515.\n",
      "/Users/axel/Documents/École/Université/M2/M2_S1/Machine Learning/Challenge/venv/lib/python3.9/site-packages/sklearn/linear_model/_coordinate_descent.py:678: ConvergenceWarning: Objective did not converge. You might want to increase the number of iterations, check the scale of the features or consider increasing regularisation. Duality gap: 2.385e+01, tolerance: 9.223e+00\n",
      "  model = cd_fast.enet_coordinate_descent(\n",
      "[I 2024-02-19 17:36:46,050] Trial 159 finished with value: 6.006362175479306 and parameters: {'alpha': 0.08326245610182738}. Best is trial 91 with value: 6.001061338976515.\n",
      "/Users/axel/Documents/École/Université/M2/M2_S1/Machine Learning/Challenge/venv/lib/python3.9/site-packages/sklearn/linear_model/_coordinate_descent.py:678: ConvergenceWarning: Objective did not converge. You might want to increase the number of iterations, check the scale of the features or consider increasing regularisation. Duality gap: 5.590e+01, tolerance: 9.223e+00\n",
      "  model = cd_fast.enet_coordinate_descent(\n",
      "[I 2024-02-19 17:36:46,363] Trial 160 finished with value: 6.0720062056693225 and parameters: {'alpha': 0.07002685400413727}. Best is trial 91 with value: 6.001061338976515.\n",
      "[I 2024-02-19 17:36:46,687] Trial 161 finished with value: 6.0065775837538675 and parameters: {'alpha': 0.08874896459703115}. Best is trial 91 with value: 6.001061338976515.\n",
      "[I 2024-02-19 17:36:46,960] Trial 162 finished with value: 6.034319444337107 and parameters: {'alpha': 0.10816982730856961}. Best is trial 91 with value: 6.001061338976515.\n",
      "[I 2024-02-19 17:36:47,212] Trial 163 finished with value: 6.081896974895596 and parameters: {'alpha': 0.14324160225028532}. Best is trial 91 with value: 6.001061338976515.\n",
      "/Users/axel/Documents/École/Université/M2/M2_S1/Machine Learning/Challenge/venv/lib/python3.9/site-packages/sklearn/linear_model/_coordinate_descent.py:678: ConvergenceWarning: Objective did not converge. You might want to increase the number of iterations, check the scale of the features or consider increasing regularisation. Duality gap: 1.980e+01, tolerance: 9.223e+00\n",
      "  model = cd_fast.enet_coordinate_descent(\n",
      "[I 2024-02-19 17:36:47,507] Trial 164 finished with value: 6.013288871542306 and parameters: {'alpha': 0.08131362414819039}. Best is trial 91 with value: 6.001061338976515.\n",
      "/Users/axel/Documents/École/Université/M2/M2_S1/Machine Learning/Challenge/venv/lib/python3.9/site-packages/sklearn/linear_model/_coordinate_descent.py:678: ConvergenceWarning: Objective did not converge. You might want to increase the number of iterations, check the scale of the features or consider increasing regularisation. Duality gap: 2.892e+02, tolerance: 9.223e+00\n",
      "  model = cd_fast.enet_coordinate_descent(\n",
      "[I 2024-02-19 17:36:47,924] Trial 165 finished with value: 6.335827095589592 and parameters: {'alpha': 0.04854316043685025}. Best is trial 91 with value: 6.001061338976515.\n",
      "/Users/axel/Documents/École/Université/M2/M2_S1/Machine Learning/Challenge/venv/lib/python3.9/site-packages/sklearn/linear_model/_coordinate_descent.py:678: ConvergenceWarning: Objective did not converge. You might want to increase the number of iterations, check the scale of the features or consider increasing regularisation. Duality gap: 1.380e+02, tolerance: 9.223e+00\n",
      "  model = cd_fast.enet_coordinate_descent(\n",
      "[I 2024-02-19 17:36:48,219] Trial 166 finished with value: 6.132839135483258 and parameters: {'alpha': 0.06264743953143574}. Best is trial 91 with value: 6.001061338976515.\n",
      "[I 2024-02-19 17:36:48,562] Trial 167 finished with value: 6.023697520804692 and parameters: {'alpha': 0.09977710885355831}. Best is trial 91 with value: 6.001061338976515.\n",
      "[I 2024-02-19 17:36:48,745] Trial 168 finished with value: 6.117283176911793 and parameters: {'alpha': 0.1825122437898457}. Best is trial 91 with value: 6.001061338976515.\n",
      "/Users/axel/Documents/École/Université/M2/M2_S1/Machine Learning/Challenge/venv/lib/python3.9/site-packages/sklearn/linear_model/_coordinate_descent.py:678: ConvergenceWarning: Objective did not converge. You might want to increase the number of iterations, check the scale of the features or consider increasing regularisation. Duality gap: 5.347e+02, tolerance: 9.223e+00\n",
      "  model = cd_fast.enet_coordinate_descent(\n",
      "[I 2024-02-19 17:36:49,149] Trial 169 finished with value: 6.487717799165208 and parameters: {'alpha': 0.03854612981374431}. Best is trial 91 with value: 6.001061338976515.\n",
      "[I 2024-02-19 17:36:49,338] Trial 170 finished with value: 6.074087865029137 and parameters: {'alpha': 0.13221896390250026}. Best is trial 91 with value: 6.001061338976515.\n",
      "/Users/axel/Documents/École/Université/M2/M2_S1/Machine Learning/Challenge/venv/lib/python3.9/site-packages/sklearn/linear_model/_coordinate_descent.py:678: ConvergenceWarning: Objective did not converge. You might want to increase the number of iterations, check the scale of the features or consider increasing regularisation. Duality gap: 2.866e+01, tolerance: 9.223e+00\n",
      "  model = cd_fast.enet_coordinate_descent(\n",
      "[I 2024-02-19 17:36:49,656] Trial 171 finished with value: 6.0010595488535605 and parameters: {'alpha': 0.08580747215317372}. Best is trial 171 with value: 6.0010595488535605.\n",
      "/Users/axel/Documents/École/Université/M2/M2_S1/Machine Learning/Challenge/venv/lib/python3.9/site-packages/sklearn/linear_model/_coordinate_descent.py:678: ConvergenceWarning: Objective did not converge. You might want to increase the number of iterations, check the scale of the features or consider increasing regularisation. Duality gap: 2.589e+01, tolerance: 9.223e+00\n",
      "  model = cd_fast.enet_coordinate_descent(\n",
      "[I 2024-02-19 17:36:50,003] Trial 172 finished with value: 6.017631760921722 and parameters: {'alpha': 0.08037084995807697}. Best is trial 171 with value: 6.0010595488535605.\n",
      "/Users/axel/Documents/École/Université/M2/M2_S1/Machine Learning/Challenge/venv/lib/python3.9/site-packages/sklearn/linear_model/_coordinate_descent.py:678: ConvergenceWarning: Objective did not converge. You might want to increase the number of iterations, check the scale of the features or consider increasing regularisation. Duality gap: 1.397e+02, tolerance: 9.223e+00\n",
      "  model = cd_fast.enet_coordinate_descent(\n",
      "[I 2024-02-19 17:36:50,372] Trial 173 finished with value: 6.138808423986758 and parameters: {'alpha': 0.06211136294441558}. Best is trial 171 with value: 6.0010595488535605.\n",
      "[I 2024-02-19 17:36:50,715] Trial 174 finished with value: 6.044813114629724 and parameters: {'alpha': 0.11390649399708073}. Best is trial 171 with value: 6.0010595488535605.\n",
      "/Users/axel/Documents/École/Université/M2/M2_S1/Machine Learning/Challenge/venv/lib/python3.9/site-packages/sklearn/linear_model/_coordinate_descent.py:678: ConvergenceWarning: Objective did not converge. You might want to increase the number of iterations, check the scale of the features or consider increasing regularisation. Duality gap: 2.620e+01, tolerance: 9.223e+00\n",
      "  model = cd_fast.enet_coordinate_descent(\n",
      "[I 2024-02-19 17:36:51,002] Trial 175 finished with value: 6.003662136969666 and parameters: {'alpha': 0.0842754736477084}. Best is trial 171 with value: 6.0010595488535605.\n",
      "/Users/axel/Documents/École/Université/M2/M2_S1/Machine Learning/Challenge/venv/lib/python3.9/site-packages/sklearn/linear_model/_coordinate_descent.py:678: ConvergenceWarning: Objective did not converge. You might want to increase the number of iterations, check the scale of the features or consider increasing regularisation. Duality gap: 2.741e+02, tolerance: 9.223e+00\n",
      "  model = cd_fast.enet_coordinate_descent(\n",
      "[I 2024-02-19 17:36:51,318] Trial 176 finished with value: 6.324012639187539 and parameters: {'alpha': 0.04955566063236226}. Best is trial 171 with value: 6.0010595488535605.\n",
      "/Users/axel/Documents/École/Université/M2/M2_S1/Machine Learning/Challenge/venv/lib/python3.9/site-packages/sklearn/linear_model/_coordinate_descent.py:678: ConvergenceWarning: Objective did not converge. You might want to increase the number of iterations, check the scale of the features or consider increasing regularisation. Duality gap: 5.987e+01, tolerance: 9.223e+00\n",
      "  model = cd_fast.enet_coordinate_descent(\n",
      "[I 2024-02-19 17:36:51,721] Trial 177 finished with value: 6.055618001319917 and parameters: {'alpha': 0.0727559625557277}. Best is trial 171 with value: 6.0010595488535605.\n",
      "[I 2024-02-19 17:36:51,955] Trial 178 finished with value: 6.080325828091136 and parameters: {'alpha': 0.14112759452817608}. Best is trial 171 with value: 6.0010595488535605.\n",
      "/Users/axel/Documents/École/Université/M2/M2_S1/Machine Learning/Challenge/venv/lib/python3.9/site-packages/sklearn/linear_model/_coordinate_descent.py:678: ConvergenceWarning: Objective did not converge. You might want to increase the number of iterations, check the scale of the features or consider increasing regularisation. Duality gap: 2.866e+01, tolerance: 9.223e+00\n",
      "  model = cd_fast.enet_coordinate_descent(\n",
      "[I 2024-02-19 17:36:52,261] Trial 179 finished with value: 6.001058843378696 and parameters: {'alpha': 0.08581707228921756}. Best is trial 179 with value: 6.001058843378696.\n",
      "/Users/axel/Documents/École/Université/M2/M2_S1/Machine Learning/Challenge/venv/lib/python3.9/site-packages/sklearn/linear_model/_coordinate_descent.py:678: ConvergenceWarning: Objective did not converge. You might want to increase the number of iterations, check the scale of the features or consider increasing regularisation. Duality gap: 5.057e+02, tolerance: 9.223e+00\n",
      "  model = cd_fast.enet_coordinate_descent(\n",
      "[I 2024-02-19 17:36:52,608] Trial 180 finished with value: 6.807489613236992 and parameters: {'alpha': 0.03044941315888828}. Best is trial 179 with value: 6.001058843378696.\n",
      "[I 2024-02-19 17:36:52,948] Trial 181 finished with value: 6.017311643983531 and parameters: {'alpha': 0.09514839854042254}. Best is trial 179 with value: 6.001058843378696.\n",
      "/Users/axel/Documents/École/Université/M2/M2_S1/Machine Learning/Challenge/venv/lib/python3.9/site-packages/sklearn/linear_model/_coordinate_descent.py:678: ConvergenceWarning: Objective did not converge. You might want to increase the number of iterations, check the scale of the features or consider increasing regularisation. Duality gap: 6.044e+01, tolerance: 9.223e+00\n",
      "  model = cd_fast.enet_coordinate_descent(\n",
      "[I 2024-02-19 17:36:53,343] Trial 182 finished with value: 6.085805044262223 and parameters: {'alpha': 0.0680371660385511}. Best is trial 179 with value: 6.001058843378696.\n",
      "[I 2024-02-19 17:36:53,622] Trial 183 finished with value: 6.026663943361366 and parameters: {'alpha': 0.10315250124673514}. Best is trial 179 with value: 6.001058843378696.\n",
      "[I 2024-02-19 17:36:53,814] Trial 184 finished with value: 6.150199589888892 and parameters: {'alpha': 0.19813563105836124}. Best is trial 179 with value: 6.001058843378696.\n",
      "/Users/axel/Documents/École/Université/M2/M2_S1/Machine Learning/Challenge/venv/lib/python3.9/site-packages/sklearn/linear_model/_coordinate_descent.py:678: ConvergenceWarning: Objective did not converge. You might want to increase the number of iterations, check the scale of the features or consider increasing regularisation. Duality gap: 1.096e+02, tolerance: 9.223e+00\n",
      "  model = cd_fast.enet_coordinate_descent(\n",
      "[I 2024-02-19 17:36:54,099] Trial 185 finished with value: 6.229981563586975 and parameters: {'alpha': 0.05601765045260708}. Best is trial 179 with value: 6.001058843378696.\n",
      "/Users/axel/Documents/École/Université/M2/M2_S1/Machine Learning/Challenge/venv/lib/python3.9/site-packages/sklearn/linear_model/_coordinate_descent.py:678: ConvergenceWarning: Objective did not converge. You might want to increase the number of iterations, check the scale of the features or consider increasing regularisation. Duality gap: 1.979e+01, tolerance: 9.223e+00\n",
      "  model = cd_fast.enet_coordinate_descent(\n",
      "[I 2024-02-19 17:36:54,395] Trial 186 finished with value: 6.00244019298806 and parameters: {'alpha': 0.08734016513300659}. Best is trial 179 with value: 6.001058843378696.\n",
      "[I 2024-02-19 17:36:54,727] Trial 187 finished with value: 6.070354640907232 and parameters: {'alpha': 0.1269784878170715}. Best is trial 179 with value: 6.001058843378696.\n",
      "/Users/axel/Documents/École/Université/M2/M2_S1/Machine Learning/Challenge/venv/lib/python3.9/site-packages/sklearn/linear_model/_coordinate_descent.py:678: ConvergenceWarning: Objective did not converge. You might want to increase the number of iterations, check the scale of the features or consider increasing regularisation. Duality gap: 3.835e+02, tolerance: 9.223e+00\n",
      "  model = cd_fast.enet_coordinate_descent(\n",
      "[I 2024-02-19 17:36:55,032] Trial 188 finished with value: 6.440222917939798 and parameters: {'alpha': 0.040516121953208514}. Best is trial 179 with value: 6.001058843378696.\n",
      "/Users/axel/Documents/École/Université/M2/M2_S1/Machine Learning/Challenge/venv/lib/python3.9/site-packages/sklearn/linear_model/_coordinate_descent.py:678: ConvergenceWarning: Objective did not converge. You might want to increase the number of iterations, check the scale of the features or consider increasing regularisation. Duality gap: 1.213e+03, tolerance: 9.223e+00\n",
      "  model = cd_fast.enet_coordinate_descent(\n",
      "[I 2024-02-19 17:36:55,437] Trial 189 finished with value: 12.362704949420271 and parameters: {'alpha': 7.636893134587756e-05}. Best is trial 179 with value: 6.001058843378696.\n",
      "/Users/axel/Documents/École/Université/M2/M2_S1/Machine Learning/Challenge/venv/lib/python3.9/site-packages/sklearn/linear_model/_coordinate_descent.py:678: ConvergenceWarning: Objective did not converge. You might want to increase the number of iterations, check the scale of the features or consider increasing regularisation. Duality gap: 4.919e+01, tolerance: 9.223e+00\n",
      "  model = cd_fast.enet_coordinate_descent(\n",
      "[I 2024-02-19 17:36:55,806] Trial 190 finished with value: 6.032543171912462 and parameters: {'alpha': 0.0771880320390173}. Best is trial 179 with value: 6.001058843378696.\n",
      "[I 2024-02-19 17:36:56,148] Trial 191 finished with value: 6.012902219283124 and parameters: {'alpha': 0.09189416593437313}. Best is trial 179 with value: 6.001058843378696.\n",
      "/Users/axel/Documents/École/Université/M2/M2_S1/Machine Learning/Challenge/venv/lib/python3.9/site-packages/sklearn/linear_model/_coordinate_descent.py:678: ConvergenceWarning: Objective did not converge. You might want to increase the number of iterations, check the scale of the features or consider increasing regularisation. Duality gap: 1.471e+02, tolerance: 9.223e+00\n",
      "  model = cd_fast.enet_coordinate_descent(\n",
      "[I 2024-02-19 17:36:56,522] Trial 192 finished with value: 6.268610991581829 and parameters: {'alpha': 0.053732837252684795}. Best is trial 179 with value: 6.001058843378696.\n",
      "[I 2024-02-19 17:36:56,862] Trial 193 finished with value: 6.039237895113717 and parameters: {'alpha': 0.11105829874115032}. Best is trial 179 with value: 6.001058843378696.\n",
      "/Users/axel/Documents/École/Université/M2/M2_S1/Machine Learning/Challenge/venv/lib/python3.9/site-packages/sklearn/linear_model/_coordinate_descent.py:678: ConvergenceWarning: Objective did not converge. You might want to increase the number of iterations, check the scale of the features or consider increasing regularisation. Duality gap: 5.457e+01, tolerance: 9.223e+00\n",
      "  model = cd_fast.enet_coordinate_descent(\n",
      "[I 2024-02-19 17:36:57,158] Trial 194 finished with value: 6.040969409759879 and parameters: {'alpha': 0.07549451811214714}. Best is trial 179 with value: 6.001058843378696.\n",
      "[I 2024-02-19 17:36:57,450] Trial 195 finished with value: 6.101634513633947 and parameters: {'alpha': 0.16408693188368925}. Best is trial 179 with value: 6.001058843378696.\n",
      "[I 2024-02-19 17:36:57,748] Trial 196 finished with value: 6.0097492702761075 and parameters: {'alpha': 0.0899476069845771}. Best is trial 179 with value: 6.001058843378696.\n",
      "[I 2024-02-19 17:36:57,907] Trial 197 finished with value: 6.0728353502636665 and parameters: {'alpha': 0.12937672046037582}. Best is trial 179 with value: 6.001058843378696.\n",
      "/Users/axel/Documents/École/Université/M2/M2_S1/Machine Learning/Challenge/venv/lib/python3.9/site-packages/sklearn/linear_model/_coordinate_descent.py:678: ConvergenceWarning: Objective did not converge. You might want to increase the number of iterations, check the scale of the features or consider increasing regularisation. Duality gap: 1.280e+02, tolerance: 9.223e+00\n",
      "  model = cd_fast.enet_coordinate_descent(\n",
      "[I 2024-02-19 17:36:58,214] Trial 198 finished with value: 6.1229556141234776 and parameters: {'alpha': 0.06360630534522872}. Best is trial 179 with value: 6.001058843378696.\n",
      "/Users/axel/Documents/École/Université/M2/M2_S1/Machine Learning/Challenge/venv/lib/python3.9/site-packages/sklearn/linear_model/_coordinate_descent.py:678: ConvergenceWarning: Objective did not converge. You might want to increase the number of iterations, check the scale of the features or consider increasing regularisation. Duality gap: 2.619e+01, tolerance: 9.223e+00\n",
      "  model = cd_fast.enet_coordinate_descent(\n",
      "[I 2024-02-19 17:36:58,618] Trial 199 finished with value: 6.003300358916072 and parameters: {'alpha': 0.08440863122419287}. Best is trial 179 with value: 6.001058843378696.\n",
      "/Users/axel/Documents/École/Université/M2/M2_S1/Machine Learning/Challenge/venv/lib/python3.9/site-packages/sklearn/linear_model/_coordinate_descent.py:678: ConvergenceWarning: Objective did not converge. You might want to increase the number of iterations, check the scale of the features or consider increasing regularisation. Duality gap: 2.886e+02, tolerance: 9.223e+00\n",
      "  model = cd_fast.enet_coordinate_descent(\n",
      "[I 2024-02-19 17:36:58,947] Trial 200 finished with value: 6.407270335220183 and parameters: {'alpha': 0.04256615855406014}. Best is trial 179 with value: 6.001058843378696.\n",
      "/Users/axel/Documents/École/Université/M2/M2_S1/Machine Learning/Challenge/venv/lib/python3.9/site-packages/sklearn/linear_model/_coordinate_descent.py:678: ConvergenceWarning: Objective did not converge. You might want to increase the number of iterations, check the scale of the features or consider increasing regularisation. Duality gap: 2.286e+01, tolerance: 9.223e+00\n",
      "  model = cd_fast.enet_coordinate_descent(\n",
      "[I 2024-02-19 17:36:59,358] Trial 201 finished with value: 6.007095056133023 and parameters: {'alpha': 0.08301980843582167}. Best is trial 179 with value: 6.001058843378696.\n",
      "/Users/axel/Documents/École/Université/M2/M2_S1/Machine Learning/Challenge/venv/lib/python3.9/site-packages/sklearn/linear_model/_coordinate_descent.py:678: ConvergenceWarning: Objective did not converge. You might want to increase the number of iterations, check the scale of the features or consider increasing regularisation. Duality gap: 1.088e+02, tolerance: 9.223e+00\n",
      "  model = cd_fast.enet_coordinate_descent(\n",
      "[I 2024-02-19 17:36:59,865] Trial 202 finished with value: 6.111880724595534 and parameters: {'alpha': 0.0648175871002089}. Best is trial 179 with value: 6.001058843378696.\n",
      "[I 2024-02-19 17:37:00,130] Trial 203 finished with value: 6.051876671396872 and parameters: {'alpha': 0.11648277125458067}. Best is trial 179 with value: 6.001058843378696.\n",
      "/Users/axel/Documents/École/Université/M2/M2_S1/Machine Learning/Challenge/venv/lib/python3.9/site-packages/sklearn/linear_model/_coordinate_descent.py:678: ConvergenceWarning: Objective did not converge. You might want to increase the number of iterations, check the scale of the features or consider increasing regularisation. Duality gap: 2.443e+01, tolerance: 9.223e+00\n",
      "  model = cd_fast.enet_coordinate_descent(\n",
      "[I 2024-02-19 17:37:00,423] Trial 204 finished with value: 6.005828186515693 and parameters: {'alpha': 0.08344841202872334}. Best is trial 179 with value: 6.001058843378696.\n",
      "/Users/axel/Documents/École/Université/M2/M2_S1/Machine Learning/Challenge/venv/lib/python3.9/site-packages/sklearn/linear_model/_coordinate_descent.py:678: ConvergenceWarning: Objective did not converge. You might want to increase the number of iterations, check the scale of the features or consider increasing regularisation. Duality gap: 5.488e+02, tolerance: 9.223e+00\n",
      "  model = cd_fast.enet_coordinate_descent(\n",
      "[I 2024-02-19 17:37:00,806] Trial 205 finished with value: 10.401952120199955 and parameters: {'alpha': 0.0030012383114990083}. Best is trial 179 with value: 6.001058843378696.\n",
      "/Users/axel/Documents/École/Université/M2/M2_S1/Machine Learning/Challenge/venv/lib/python3.9/site-packages/sklearn/linear_model/_coordinate_descent.py:678: ConvergenceWarning: Objective did not converge. You might want to increase the number of iterations, check the scale of the features or consider increasing regularisation. Duality gap: 9.623e+02, tolerance: 9.223e+00\n",
      "  model = cd_fast.enet_coordinate_descent(\n",
      "[I 2024-02-19 17:37:01,208] Trial 206 finished with value: 11.946610668175438 and parameters: {'alpha': 0.000574824081323176}. Best is trial 179 with value: 6.001058843378696.\n",
      "/Users/axel/Documents/École/Université/M2/M2_S1/Machine Learning/Challenge/venv/lib/python3.9/site-packages/sklearn/linear_model/_coordinate_descent.py:678: ConvergenceWarning: Objective did not converge. You might want to increase the number of iterations, check the scale of the features or consider increasing regularisation. Duality gap: 4.353e+01, tolerance: 9.223e+00\n",
      "  model = cd_fast.enet_coordinate_descent(\n",
      "[I 2024-02-19 17:37:01,540] Trial 207 finished with value: 6.027297422629363 and parameters: {'alpha': 0.07828917994811939}. Best is trial 179 with value: 6.001058843378696.\n",
      "/Users/axel/Documents/École/Université/M2/M2_S1/Machine Learning/Challenge/venv/lib/python3.9/site-packages/sklearn/linear_model/_coordinate_descent.py:678: ConvergenceWarning: Objective did not converge. You might want to increase the number of iterations, check the scale of the features or consider increasing regularisation. Duality gap: 1.253e+03, tolerance: 9.223e+00\n",
      "  model = cd_fast.enet_coordinate_descent(\n",
      "[I 2024-02-19 17:37:01,912] Trial 208 finished with value: 12.42064073035392 and parameters: {'alpha': 9.678058316148756e-06}. Best is trial 179 with value: 6.001058843378696.\n",
      "/Users/axel/Documents/École/Université/M2/M2_S1/Machine Learning/Challenge/venv/lib/python3.9/site-packages/sklearn/linear_model/_coordinate_descent.py:678: ConvergenceWarning: Objective did not converge. You might want to increase the number of iterations, check the scale of the features or consider increasing regularisation. Duality gap: 2.277e+02, tolerance: 9.223e+00\n",
      "  model = cd_fast.enet_coordinate_descent(\n",
      "[I 2024-02-19 17:37:02,215] Trial 209 finished with value: 6.303865540230196 and parameters: {'alpha': 0.05107846543558618}. Best is trial 179 with value: 6.001058843378696.\n",
      "[I 2024-02-19 17:37:02,460] Trial 210 finished with value: 6.093504995718946 and parameters: {'alpha': 0.1537616085588704}. Best is trial 179 with value: 6.001058843378696.\n",
      "[I 2024-02-19 17:37:02,737] Trial 211 finished with value: 6.021915694908713 and parameters: {'alpha': 0.09870407588747852}. Best is trial 179 with value: 6.001058843378696.\n",
      "/Users/axel/Documents/École/Université/M2/M2_S1/Machine Learning/Challenge/venv/lib/python3.9/site-packages/sklearn/linear_model/_coordinate_descent.py:678: ConvergenceWarning: Objective did not converge. You might want to increase the number of iterations, check the scale of the features or consider increasing regularisation. Duality gap: 3.095e+01, tolerance: 9.223e+00\n",
      "  model = cd_fast.enet_coordinate_descent(\n",
      "[I 2024-02-19 17:37:03,037] Trial 212 finished with value: 6.020868227764199 and parameters: {'alpha': 0.0797008425078167}. Best is trial 179 with value: 6.001058843378696.\n",
      "/Users/axel/Documents/École/Université/M2/M2_S1/Machine Learning/Challenge/venv/lib/python3.9/site-packages/sklearn/linear_model/_coordinate_descent.py:678: ConvergenceWarning: Objective did not converge. You might want to increase the number of iterations, check the scale of the features or consider increasing regularisation. Duality gap: 1.205e+02, tolerance: 9.223e+00\n",
      "  model = cd_fast.enet_coordinate_descent(\n",
      "[I 2024-02-19 17:37:03,350] Trial 213 finished with value: 6.187093860322221 and parameters: {'alpha': 0.05871377519632043}. Best is trial 179 with value: 6.001058843378696.\n",
      "[I 2024-02-19 17:37:03,629] Trial 214 finished with value: 6.066167030599377 and parameters: {'alpha': 0.12282413345628673}. Best is trial 179 with value: 6.001058843378696.\n",
      "[I 2024-02-19 17:37:03,933] Trial 215 finished with value: 6.017735160267582 and parameters: {'alpha': 0.09555412293377162}. Best is trial 179 with value: 6.001058843378696.\n",
      "/Users/axel/Documents/École/Université/M2/M2_S1/Machine Learning/Challenge/venv/lib/python3.9/site-packages/sklearn/linear_model/_coordinate_descent.py:678: ConvergenceWarning: Objective did not converge. You might want to increase the number of iterations, check the scale of the features or consider increasing regularisation. Duality gap: 5.469e+01, tolerance: 9.223e+00\n",
      "  model = cd_fast.enet_coordinate_descent(\n",
      "[I 2024-02-19 17:37:04,249] Trial 216 finished with value: 6.075083853851333 and parameters: {'alpha': 0.06952681299499092}. Best is trial 179 with value: 6.001058843378696.\n",
      "[I 2024-02-19 17:37:04,562] Trial 217 finished with value: 6.0324701723172645 and parameters: {'alpha': 0.10718173194437756}. Best is trial 179 with value: 6.001058843378696.\n",
      "/Users/axel/Documents/École/Université/M2/M2_S1/Machine Learning/Challenge/venv/lib/python3.9/site-packages/sklearn/linear_model/_coordinate_descent.py:678: ConvergenceWarning: Objective did not converge. You might want to increase the number of iterations, check the scale of the features or consider increasing regularisation. Duality gap: 1.558e+02, tolerance: 9.223e+00\n",
      "  model = cd_fast.enet_coordinate_descent(\n",
      "[I 2024-02-19 17:37:04,926] Trial 218 finished with value: 6.278733018261564 and parameters: {'alpha': 0.05307850783285493}. Best is trial 179 with value: 6.001058843378696.\n",
      "[I 2024-02-19 17:37:05,207] Trial 219 finished with value: 6.095174105056377 and parameters: {'alpha': 0.1551517250956004}. Best is trial 179 with value: 6.001058843378696.\n",
      "[I 2024-02-19 17:37:05,528] Trial 220 finished with value: 6.0100512095496255 and parameters: {'alpha': 0.09009867687974141}. Best is trial 179 with value: 6.001058843378696.\n",
      "/Users/axel/Documents/École/Université/M2/M2_S1/Machine Learning/Challenge/venv/lib/python3.9/site-packages/sklearn/linear_model/_coordinate_descent.py:678: ConvergenceWarning: Objective did not converge. You might want to increase the number of iterations, check the scale of the features or consider increasing regularisation. Duality gap: 2.853e+01, tolerance: 9.223e+00\n",
      "  model = cd_fast.enet_coordinate_descent(\n",
      "[I 2024-02-19 17:37:05,807] Trial 221 finished with value: 6.0200517809815794 and parameters: {'alpha': 0.07987188623142423}. Best is trial 179 with value: 6.001058843378696.\n",
      "[I 2024-02-19 17:37:06,107] Trial 222 finished with value: 6.053235427937363 and parameters: {'alpha': 0.11695851401664342}. Best is trial 179 with value: 6.001058843378696.\n",
      "/Users/axel/Documents/École/Université/M2/M2_S1/Machine Learning/Challenge/venv/lib/python3.9/site-packages/sklearn/linear_model/_coordinate_descent.py:678: ConvergenceWarning: Objective did not converge. You might want to increase the number of iterations, check the scale of the features or consider increasing regularisation. Duality gap: 5.280e+01, tolerance: 9.223e+00\n",
      "  model = cd_fast.enet_coordinate_descent(\n",
      "[I 2024-02-19 17:37:06,407] Trial 223 finished with value: 6.078349646889404 and parameters: {'alpha': 0.06903019353845208}. Best is trial 179 with value: 6.001058843378696.\n",
      "[I 2024-02-19 17:37:06,751] Trial 224 finished with value: 6.013028521407469 and parameters: {'alpha': 0.0919672828442135}. Best is trial 179 with value: 6.001058843378696.\n",
      "[I 2024-02-19 17:37:06,963] Trial 225 finished with value: 6.078370477545178 and parameters: {'alpha': 0.1380330851388947}. Best is trial 179 with value: 6.001058843378696.\n",
      "/Users/axel/Documents/École/Université/M2/M2_S1/Machine Learning/Challenge/venv/lib/python3.9/site-packages/sklearn/linear_model/_coordinate_descent.py:678: ConvergenceWarning: Objective did not converge. You might want to increase the number of iterations, check the scale of the features or consider increasing regularisation. Duality gap: 1.398e+02, tolerance: 9.223e+00\n",
      "  model = cd_fast.enet_coordinate_descent(\n",
      "[I 2024-02-19 17:37:07,289] Trial 226 finished with value: 6.146222488272746 and parameters: {'alpha': 0.06147040200842127}. Best is trial 179 with value: 6.001058843378696.\n",
      "[I 2024-02-19 17:37:07,454] Trial 227 finished with value: 6.152743102829421 and parameters: {'alpha': 0.19924378904758014}. Best is trial 179 with value: 6.001058843378696.\n",
      "/Users/axel/Documents/École/Université/M2/M2_S1/Machine Learning/Challenge/venv/lib/python3.9/site-packages/sklearn/linear_model/_coordinate_descent.py:678: ConvergenceWarning: Objective did not converge. You might want to increase the number of iterations, check the scale of the features or consider increasing regularisation. Duality gap: 2.988e+02, tolerance: 9.223e+00\n",
      "  model = cd_fast.enet_coordinate_descent(\n",
      "[I 2024-02-19 17:37:07,749] Trial 228 finished with value: 6.390919961200377 and parameters: {'alpha': 0.043993636866856915}. Best is trial 179 with value: 6.001058843378696.\n",
      "/Users/axel/Documents/École/Université/M2/M2_S1/Machine Learning/Challenge/venv/lib/python3.9/site-packages/sklearn/linear_model/_coordinate_descent.py:678: ConvergenceWarning: Objective did not converge. You might want to increase the number of iterations, check the scale of the features or consider increasing regularisation. Duality gap: 2.550e+01, tolerance: 9.223e+00\n",
      "  model = cd_fast.enet_coordinate_descent(\n",
      "[I 2024-02-19 17:37:08,083] Trial 229 finished with value: 6.004760134680283 and parameters: {'alpha': 0.08386293684335983}. Best is trial 179 with value: 6.001058843378696.\n",
      "/Users/axel/Documents/École/Université/M2/M2_S1/Machine Learning/Challenge/venv/lib/python3.9/site-packages/sklearn/linear_model/_coordinate_descent.py:678: ConvergenceWarning: Objective did not converge. You might want to increase the number of iterations, check the scale of the features or consider increasing regularisation. Duality gap: 4.124e+01, tolerance: 9.223e+00\n",
      "  model = cd_fast.enet_coordinate_descent(\n",
      "[I 2024-02-19 17:37:08,389] Trial 230 finished with value: 6.025569709589001 and parameters: {'alpha': 0.07866584670063753}. Best is trial 179 with value: 6.001058843378696.\n",
      "[I 2024-02-19 17:37:08,694] Trial 231 finished with value: 6.023764688205642 and parameters: {'alpha': 0.09981790219810781}. Best is trial 179 with value: 6.001058843378696.\n",
      "/Users/axel/Documents/École/Université/M2/M2_S1/Machine Learning/Challenge/venv/lib/python3.9/site-packages/sklearn/linear_model/_coordinate_descent.py:678: ConvergenceWarning: Objective did not converge. You might want to increase the number of iterations, check the scale of the features or consider increasing regularisation. Duality gap: 2.865e+01, tolerance: 9.223e+00\n",
      "  model = cd_fast.enet_coordinate_descent(\n",
      "[I 2024-02-19 17:37:09,005] Trial 232 finished with value: 6.0010615399454155 and parameters: {'alpha': 0.08597229355842029}. Best is trial 179 with value: 6.001058843378696.\n",
      "/Users/axel/Documents/École/Université/M2/M2_S1/Machine Learning/Challenge/venv/lib/python3.9/site-packages/sklearn/linear_model/_coordinate_descent.py:678: ConvergenceWarning: Objective did not converge. You might want to increase the number of iterations, check the scale of the features or consider increasing regularisation. Duality gap: 1.399e+02, tolerance: 9.223e+00\n",
      "  model = cd_fast.enet_coordinate_descent(\n",
      "[I 2024-02-19 17:37:09,313] Trial 233 finished with value: 6.1457707649295585 and parameters: {'alpha': 0.061508543861451034}. Best is trial 179 with value: 6.001058843378696.\n",
      "[I 2024-02-19 17:37:09,661] Trial 234 finished with value: 6.052141936916029 and parameters: {'alpha': 0.11656993347534295}. Best is trial 179 with value: 6.001058843378696.\n",
      "/Users/axel/Documents/École/Université/M2/M2_S1/Machine Learning/Challenge/venv/lib/python3.9/site-packages/sklearn/linear_model/_coordinate_descent.py:678: ConvergenceWarning: Objective did not converge. You might want to increase the number of iterations, check the scale of the features or consider increasing regularisation. Duality gap: 4.046e+01, tolerance: 9.223e+00\n",
      "  model = cd_fast.enet_coordinate_descent(\n",
      "[I 2024-02-19 17:37:09,944] Trial 235 finished with value: 6.0249811835795075 and parameters: {'alpha': 0.07879558793259693}. Best is trial 179 with value: 6.001058843378696.\n",
      "/Users/axel/Documents/École/Université/M2/M2_S1/Machine Learning/Challenge/venv/lib/python3.9/site-packages/sklearn/linear_model/_coordinate_descent.py:678: ConvergenceWarning: Objective did not converge. You might want to increase the number of iterations, check the scale of the features or consider increasing regularisation. Duality gap: 2.552e+02, tolerance: 9.223e+00\n",
      "  model = cd_fast.enet_coordinate_descent(\n",
      "[I 2024-02-19 17:37:10,272] Trial 236 finished with value: 6.315123036420543 and parameters: {'alpha': 0.05027261809846145}. Best is trial 179 with value: 6.001058843378696.\n",
      "[I 2024-02-19 17:37:10,483] Trial 237 finished with value: 6.078421630206984 and parameters: {'alpha': 0.13810044851711373}. Best is trial 179 with value: 6.001058843378696.\n",
      "[I 2024-02-19 17:37:10,784] Trial 238 finished with value: 6.016725567945049 and parameters: {'alpha': 0.09453326325171091}. Best is trial 179 with value: 6.001058843378696.\n",
      "/Users/axel/Documents/École/Université/M2/M2_S1/Machine Learning/Challenge/venv/lib/python3.9/site-packages/sklearn/linear_model/_coordinate_descent.py:678: ConvergenceWarning: Objective did not converge. You might want to increase the number of iterations, check the scale of the features or consider increasing regularisation. Duality gap: 5.082e+01, tolerance: 9.223e+00\n",
      "  model = cd_fast.enet_coordinate_descent(\n",
      "[I 2024-02-19 17:37:11,080] Trial 239 finished with value: 6.0808078640657035 and parameters: {'alpha': 0.0686713824817781}. Best is trial 179 with value: 6.001058843378696.\n",
      "[I 2024-02-19 17:37:11,358] Trial 240 finished with value: 6.040108574796223 and parameters: {'alpha': 0.11152592712843033}. Best is trial 179 with value: 6.001058843378696.\n",
      "/Users/axel/Documents/École/Université/M2/M2_S1/Machine Learning/Challenge/venv/lib/python3.9/site-packages/sklearn/linear_model/_coordinate_descent.py:678: ConvergenceWarning: Objective did not converge. You might want to increase the number of iterations, check the scale of the features or consider increasing regularisation. Duality gap: 4.564e+01, tolerance: 9.223e+00\n",
      "  model = cd_fast.enet_coordinate_descent(\n",
      "[I 2024-02-19 17:37:11,678] Trial 241 finished with value: 6.028952153271647 and parameters: {'alpha': 0.07793058011980991}. Best is trial 179 with value: 6.001058843378696.\n",
      "[I 2024-02-19 17:37:12,008] Trial 242 finished with value: 6.012343109076967 and parameters: {'alpha': 0.0915457818083819}. Best is trial 179 with value: 6.001058843378696.\n",
      "/Users/axel/Documents/École/Université/M2/M2_S1/Machine Learning/Challenge/venv/lib/python3.9/site-packages/sklearn/linear_model/_coordinate_descent.py:678: ConvergenceWarning: Objective did not converge. You might want to increase the number of iterations, check the scale of the features or consider increasing regularisation. Duality gap: 2.839e+01, tolerance: 9.223e+00\n",
      "  model = cd_fast.enet_coordinate_descent(\n",
      "[I 2024-02-19 17:37:12,310] Trial 243 finished with value: 6.001362480830046 and parameters: {'alpha': 0.08531766050098127}. Best is trial 179 with value: 6.001058843378696.\n",
      "/Users/axel/Documents/École/Université/M2/M2_S1/Machine Learning/Challenge/venv/lib/python3.9/site-packages/sklearn/linear_model/_coordinate_descent.py:678: ConvergenceWarning: Objective did not converge. You might want to increase the number of iterations, check the scale of the features or consider increasing regularisation. Duality gap: 1.400e+02, tolerance: 9.223e+00\n",
      "  model = cd_fast.enet_coordinate_descent(\n",
      "[I 2024-02-19 17:37:12,721] Trial 244 finished with value: 6.1415904653087985 and parameters: {'alpha': 0.06186716018292181}. Best is trial 179 with value: 6.001058843378696.\n",
      "[I 2024-02-19 17:37:12,971] Trial 245 finished with value: 6.058377116567894 and parameters: {'alpha': 0.11897487394435614}. Best is trial 179 with value: 6.001058843378696.\n",
      "/Users/axel/Documents/École/Université/M2/M2_S1/Machine Learning/Challenge/venv/lib/python3.9/site-packages/sklearn/linear_model/_coordinate_descent.py:678: ConvergenceWarning: Objective did not converge. You might want to increase the number of iterations, check the scale of the features or consider increasing regularisation. Duality gap: 2.886e+02, tolerance: 9.223e+00\n",
      "  model = cd_fast.enet_coordinate_descent(\n",
      "[I 2024-02-19 17:37:13,383] Trial 246 finished with value: 6.334943529289262 and parameters: {'alpha': 0.04862054953657684}. Best is trial 179 with value: 6.001058843378696.\n",
      "/Users/axel/Documents/École/Université/M2/M2_S1/Machine Learning/Challenge/venv/lib/python3.9/site-packages/sklearn/linear_model/_coordinate_descent.py:678: ConvergenceWarning: Objective did not converge. You might want to increase the number of iterations, check the scale of the features or consider increasing regularisation. Duality gap: 4.336e+01, tolerance: 9.223e+00\n",
      "  model = cd_fast.enet_coordinate_descent(\n",
      "[I 2024-02-19 17:37:13,957] Trial 247 finished with value: 6.0271653831748875 and parameters: {'alpha': 0.07831780572422034}. Best is trial 179 with value: 6.001058843378696.\n",
      "[I 2024-02-19 17:37:14,471] Trial 248 finished with value: 6.035491479085448 and parameters: {'alpha': 0.1087556664775489}. Best is trial 179 with value: 6.001058843378696.\n",
      "[I 2024-02-19 17:37:14,758] Trial 249 finished with value: 6.090135268922884 and parameters: {'alpha': 0.15094365419331515}. Best is trial 179 with value: 6.001058843378696.\n"
     ]
    },
    {
     "name": "stdout",
     "output_type": "stream",
     "text": [
      "Meilleurs hyperparamètres : {'alpha': 0.08581707228921756}\n",
      "Meilleure RMSE : 6.001058843378696\n"
     ]
    },
    {
     "name": "stderr",
     "output_type": "stream",
     "text": [
      "/Users/axel/Documents/École/Université/M2/M2_S1/Machine Learning/Challenge/venv/lib/python3.9/site-packages/sklearn/linear_model/_coordinate_descent.py:678: ConvergenceWarning: Objective did not converge. You might want to increase the number of iterations, check the scale of the features or consider increasing regularisation. Duality gap: 2.866e+01, tolerance: 9.223e+00\n",
      "  model = cd_fast.enet_coordinate_descent(\n"
     ]
    },
    {
     "data": {
      "text/plain": "Lasso(alpha=0.08581707228921756, random_state=42)",
      "text/html": "<style>#sk-container-id-1 {\n  /* Definition of color scheme common for light and dark mode */\n  --sklearn-color-text: black;\n  --sklearn-color-line: gray;\n  /* Definition of color scheme for unfitted estimators */\n  --sklearn-color-unfitted-level-0: #fff5e6;\n  --sklearn-color-unfitted-level-1: #f6e4d2;\n  --sklearn-color-unfitted-level-2: #ffe0b3;\n  --sklearn-color-unfitted-level-3: chocolate;\n  /* Definition of color scheme for fitted estimators */\n  --sklearn-color-fitted-level-0: #f0f8ff;\n  --sklearn-color-fitted-level-1: #d4ebff;\n  --sklearn-color-fitted-level-2: #b3dbfd;\n  --sklearn-color-fitted-level-3: cornflowerblue;\n\n  /* Specific color for light theme */\n  --sklearn-color-text-on-default-background: var(--sg-text-color, var(--theme-code-foreground, var(--jp-content-font-color1, black)));\n  --sklearn-color-background: var(--sg-background-color, var(--theme-background, var(--jp-layout-color0, white)));\n  --sklearn-color-border-box: var(--sg-text-color, var(--theme-code-foreground, var(--jp-content-font-color1, black)));\n  --sklearn-color-icon: #696969;\n\n  @media (prefers-color-scheme: dark) {\n    /* Redefinition of color scheme for dark theme */\n    --sklearn-color-text-on-default-background: var(--sg-text-color, var(--theme-code-foreground, var(--jp-content-font-color1, white)));\n    --sklearn-color-background: var(--sg-background-color, var(--theme-background, var(--jp-layout-color0, #111)));\n    --sklearn-color-border-box: var(--sg-text-color, var(--theme-code-foreground, var(--jp-content-font-color1, white)));\n    --sklearn-color-icon: #878787;\n  }\n}\n\n#sk-container-id-1 {\n  color: var(--sklearn-color-text);\n}\n\n#sk-container-id-1 pre {\n  padding: 0;\n}\n\n#sk-container-id-1 input.sk-hidden--visually {\n  border: 0;\n  clip: rect(1px 1px 1px 1px);\n  clip: rect(1px, 1px, 1px, 1px);\n  height: 1px;\n  margin: -1px;\n  overflow: hidden;\n  padding: 0;\n  position: absolute;\n  width: 1px;\n}\n\n#sk-container-id-1 div.sk-dashed-wrapped {\n  border: 1px dashed var(--sklearn-color-line);\n  margin: 0 0.4em 0.5em 0.4em;\n  box-sizing: border-box;\n  padding-bottom: 0.4em;\n  background-color: var(--sklearn-color-background);\n}\n\n#sk-container-id-1 div.sk-container {\n  /* jupyter's `normalize.less` sets `[hidden] { display: none; }`\n     but bootstrap.min.css set `[hidden] { display: none !important; }`\n     so we also need the `!important` here to be able to override the\n     default hidden behavior on the sphinx rendered scikit-learn.org.\n     See: https://github.com/scikit-learn/scikit-learn/issues/21755 */\n  display: inline-block !important;\n  position: relative;\n}\n\n#sk-container-id-1 div.sk-text-repr-fallback {\n  display: none;\n}\n\ndiv.sk-parallel-item,\ndiv.sk-serial,\ndiv.sk-item {\n  /* draw centered vertical line to link estimators */\n  background-image: linear-gradient(var(--sklearn-color-text-on-default-background), var(--sklearn-color-text-on-default-background));\n  background-size: 2px 100%;\n  background-repeat: no-repeat;\n  background-position: center center;\n}\n\n/* Parallel-specific style estimator block */\n\n#sk-container-id-1 div.sk-parallel-item::after {\n  content: \"\";\n  width: 100%;\n  border-bottom: 2px solid var(--sklearn-color-text-on-default-background);\n  flex-grow: 1;\n}\n\n#sk-container-id-1 div.sk-parallel {\n  display: flex;\n  align-items: stretch;\n  justify-content: center;\n  background-color: var(--sklearn-color-background);\n  position: relative;\n}\n\n#sk-container-id-1 div.sk-parallel-item {\n  display: flex;\n  flex-direction: column;\n}\n\n#sk-container-id-1 div.sk-parallel-item:first-child::after {\n  align-self: flex-end;\n  width: 50%;\n}\n\n#sk-container-id-1 div.sk-parallel-item:last-child::after {\n  align-self: flex-start;\n  width: 50%;\n}\n\n#sk-container-id-1 div.sk-parallel-item:only-child::after {\n  width: 0;\n}\n\n/* Serial-specific style estimator block */\n\n#sk-container-id-1 div.sk-serial {\n  display: flex;\n  flex-direction: column;\n  align-items: center;\n  background-color: var(--sklearn-color-background);\n  padding-right: 1em;\n  padding-left: 1em;\n}\n\n\n/* Toggleable style: style used for estimator/Pipeline/ColumnTransformer box that is\nclickable and can be expanded/collapsed.\n- Pipeline and ColumnTransformer use this feature and define the default style\n- Estimators will overwrite some part of the style using the `sk-estimator` class\n*/\n\n/* Pipeline and ColumnTransformer style (default) */\n\n#sk-container-id-1 div.sk-toggleable {\n  /* Default theme specific background. It is overwritten whether we have a\n  specific estimator or a Pipeline/ColumnTransformer */\n  background-color: var(--sklearn-color-background);\n}\n\n/* Toggleable label */\n#sk-container-id-1 label.sk-toggleable__label {\n  cursor: pointer;\n  display: block;\n  width: 100%;\n  margin-bottom: 0;\n  padding: 0.5em;\n  box-sizing: border-box;\n  text-align: center;\n}\n\n#sk-container-id-1 label.sk-toggleable__label-arrow:before {\n  /* Arrow on the left of the label */\n  content: \"▸\";\n  float: left;\n  margin-right: 0.25em;\n  color: var(--sklearn-color-icon);\n}\n\n#sk-container-id-1 label.sk-toggleable__label-arrow:hover:before {\n  color: var(--sklearn-color-text);\n}\n\n/* Toggleable content - dropdown */\n\n#sk-container-id-1 div.sk-toggleable__content {\n  max-height: 0;\n  max-width: 0;\n  overflow: hidden;\n  text-align: left;\n  /* unfitted */\n  background-color: var(--sklearn-color-unfitted-level-0);\n}\n\n#sk-container-id-1 div.sk-toggleable__content.fitted {\n  /* fitted */\n  background-color: var(--sklearn-color-fitted-level-0);\n}\n\n#sk-container-id-1 div.sk-toggleable__content pre {\n  margin: 0.2em;\n  border-radius: 0.25em;\n  color: var(--sklearn-color-text);\n  /* unfitted */\n  background-color: var(--sklearn-color-unfitted-level-0);\n}\n\n#sk-container-id-1 div.sk-toggleable__content.fitted pre {\n  /* unfitted */\n  background-color: var(--sklearn-color-fitted-level-0);\n}\n\n#sk-container-id-1 input.sk-toggleable__control:checked~div.sk-toggleable__content {\n  /* Expand drop-down */\n  max-height: 200px;\n  max-width: 100%;\n  overflow: auto;\n}\n\n#sk-container-id-1 input.sk-toggleable__control:checked~label.sk-toggleable__label-arrow:before {\n  content: \"▾\";\n}\n\n/* Pipeline/ColumnTransformer-specific style */\n\n#sk-container-id-1 div.sk-label input.sk-toggleable__control:checked~label.sk-toggleable__label {\n  color: var(--sklearn-color-text);\n  background-color: var(--sklearn-color-unfitted-level-2);\n}\n\n#sk-container-id-1 div.sk-label.fitted input.sk-toggleable__control:checked~label.sk-toggleable__label {\n  background-color: var(--sklearn-color-fitted-level-2);\n}\n\n/* Estimator-specific style */\n\n/* Colorize estimator box */\n#sk-container-id-1 div.sk-estimator input.sk-toggleable__control:checked~label.sk-toggleable__label {\n  /* unfitted */\n  background-color: var(--sklearn-color-unfitted-level-2);\n}\n\n#sk-container-id-1 div.sk-estimator.fitted input.sk-toggleable__control:checked~label.sk-toggleable__label {\n  /* fitted */\n  background-color: var(--sklearn-color-fitted-level-2);\n}\n\n#sk-container-id-1 div.sk-label label.sk-toggleable__label,\n#sk-container-id-1 div.sk-label label {\n  /* The background is the default theme color */\n  color: var(--sklearn-color-text-on-default-background);\n}\n\n/* On hover, darken the color of the background */\n#sk-container-id-1 div.sk-label:hover label.sk-toggleable__label {\n  color: var(--sklearn-color-text);\n  background-color: var(--sklearn-color-unfitted-level-2);\n}\n\n/* Label box, darken color on hover, fitted */\n#sk-container-id-1 div.sk-label.fitted:hover label.sk-toggleable__label.fitted {\n  color: var(--sklearn-color-text);\n  background-color: var(--sklearn-color-fitted-level-2);\n}\n\n/* Estimator label */\n\n#sk-container-id-1 div.sk-label label {\n  font-family: monospace;\n  font-weight: bold;\n  display: inline-block;\n  line-height: 1.2em;\n}\n\n#sk-container-id-1 div.sk-label-container {\n  text-align: center;\n}\n\n/* Estimator-specific */\n#sk-container-id-1 div.sk-estimator {\n  font-family: monospace;\n  border: 1px dotted var(--sklearn-color-border-box);\n  border-radius: 0.25em;\n  box-sizing: border-box;\n  margin-bottom: 0.5em;\n  /* unfitted */\n  background-color: var(--sklearn-color-unfitted-level-0);\n}\n\n#sk-container-id-1 div.sk-estimator.fitted {\n  /* fitted */\n  background-color: var(--sklearn-color-fitted-level-0);\n}\n\n/* on hover */\n#sk-container-id-1 div.sk-estimator:hover {\n  /* unfitted */\n  background-color: var(--sklearn-color-unfitted-level-2);\n}\n\n#sk-container-id-1 div.sk-estimator.fitted:hover {\n  /* fitted */\n  background-color: var(--sklearn-color-fitted-level-2);\n}\n\n/* Specification for estimator info (e.g. \"i\" and \"?\") */\n\n/* Common style for \"i\" and \"?\" */\n\n.sk-estimator-doc-link,\na:link.sk-estimator-doc-link,\na:visited.sk-estimator-doc-link {\n  float: right;\n  font-size: smaller;\n  line-height: 1em;\n  font-family: monospace;\n  background-color: var(--sklearn-color-background);\n  border-radius: 1em;\n  height: 1em;\n  width: 1em;\n  text-decoration: none !important;\n  margin-left: 1ex;\n  /* unfitted */\n  border: var(--sklearn-color-unfitted-level-1) 1pt solid;\n  color: var(--sklearn-color-unfitted-level-1);\n}\n\n.sk-estimator-doc-link.fitted,\na:link.sk-estimator-doc-link.fitted,\na:visited.sk-estimator-doc-link.fitted {\n  /* fitted */\n  border: var(--sklearn-color-fitted-level-1) 1pt solid;\n  color: var(--sklearn-color-fitted-level-1);\n}\n\n/* On hover */\ndiv.sk-estimator:hover .sk-estimator-doc-link:hover,\n.sk-estimator-doc-link:hover,\ndiv.sk-label-container:hover .sk-estimator-doc-link:hover,\n.sk-estimator-doc-link:hover {\n  /* unfitted */\n  background-color: var(--sklearn-color-unfitted-level-3);\n  color: var(--sklearn-color-background);\n  text-decoration: none;\n}\n\ndiv.sk-estimator.fitted:hover .sk-estimator-doc-link.fitted:hover,\n.sk-estimator-doc-link.fitted:hover,\ndiv.sk-label-container:hover .sk-estimator-doc-link.fitted:hover,\n.sk-estimator-doc-link.fitted:hover {\n  /* fitted */\n  background-color: var(--sklearn-color-fitted-level-3);\n  color: var(--sklearn-color-background);\n  text-decoration: none;\n}\n\n/* Span, style for the box shown on hovering the info icon */\n.sk-estimator-doc-link span {\n  display: none;\n  z-index: 9999;\n  position: relative;\n  font-weight: normal;\n  right: .2ex;\n  padding: .5ex;\n  margin: .5ex;\n  width: min-content;\n  min-width: 20ex;\n  max-width: 50ex;\n  color: var(--sklearn-color-text);\n  box-shadow: 2pt 2pt 4pt #999;\n  /* unfitted */\n  background: var(--sklearn-color-unfitted-level-0);\n  border: .5pt solid var(--sklearn-color-unfitted-level-3);\n}\n\n.sk-estimator-doc-link.fitted span {\n  /* fitted */\n  background: var(--sklearn-color-fitted-level-0);\n  border: var(--sklearn-color-fitted-level-3);\n}\n\n.sk-estimator-doc-link:hover span {\n  display: block;\n}\n\n/* \"?\"-specific style due to the `<a>` HTML tag */\n\n#sk-container-id-1 a.estimator_doc_link {\n  float: right;\n  font-size: 1rem;\n  line-height: 1em;\n  font-family: monospace;\n  background-color: var(--sklearn-color-background);\n  border-radius: 1rem;\n  height: 1rem;\n  width: 1rem;\n  text-decoration: none;\n  /* unfitted */\n  color: var(--sklearn-color-unfitted-level-1);\n  border: var(--sklearn-color-unfitted-level-1) 1pt solid;\n}\n\n#sk-container-id-1 a.estimator_doc_link.fitted {\n  /* fitted */\n  border: var(--sklearn-color-fitted-level-1) 1pt solid;\n  color: var(--sklearn-color-fitted-level-1);\n}\n\n/* On hover */\n#sk-container-id-1 a.estimator_doc_link:hover {\n  /* unfitted */\n  background-color: var(--sklearn-color-unfitted-level-3);\n  color: var(--sklearn-color-background);\n  text-decoration: none;\n}\n\n#sk-container-id-1 a.estimator_doc_link.fitted:hover {\n  /* fitted */\n  background-color: var(--sklearn-color-fitted-level-3);\n}\n</style><div id=\"sk-container-id-1\" class=\"sk-top-container\"><div class=\"sk-text-repr-fallback\"><pre>Lasso(alpha=0.08581707228921756, random_state=42)</pre><b>In a Jupyter environment, please rerun this cell to show the HTML representation or trust the notebook. <br />On GitHub, the HTML representation is unable to render, please try loading this page with nbviewer.org.</b></div><div class=\"sk-container\" hidden><div class=\"sk-item\"><div class=\"sk-estimator fitted sk-toggleable\"><input class=\"sk-toggleable__control sk-hidden--visually\" id=\"sk-estimator-id-1\" type=\"checkbox\" checked><label for=\"sk-estimator-id-1\" class=\"sk-toggleable__label fitted sk-toggleable__label-arrow fitted\">&nbsp;&nbsp;Lasso<a class=\"sk-estimator-doc-link fitted\" rel=\"noreferrer\" target=\"_blank\" href=\"https://scikit-learn.org/1.4/modules/generated/sklearn.linear_model.Lasso.html\">?<span>Documentation for Lasso</span></a><span class=\"sk-estimator-doc-link fitted\">i<span>Fitted</span></span></label><div class=\"sk-toggleable__content fitted\"><pre>Lasso(alpha=0.08581707228921756, random_state=42)</pre></div> </div></div></div></div>"
     },
     "execution_count": 24,
     "metadata": {},
     "output_type": "execute_result"
    }
   ],
   "source": [
    "def objective(trial):\n",
    "    # Hyperparamètres à optimiser\n",
    "    alpha = trial.suggest_float(\"alpha\", 1e-6, 1.0, log=True)\n",
    "\n",
    "    # Modèle Lasso\n",
    "    model = Lasso(alpha=alpha)\n",
    "\n",
    "    model.fit(ROI_train_scaled, y_train)\n",
    "    y_pred = model.predict(ROI_test_scaled)\n",
    "    rmse = root_mean_squared_error(y_test, y_pred)\n",
    "\n",
    "    return rmse\n",
    "\n",
    "study = optuna.create_study(direction='minimize')\n",
    "study.optimize(objective, n_trials=250) # Modifiez n_trials selon vos besoins\n",
    "\n",
    "# Affichage des meilleurs hyperparamètres\n",
    "print(f\"Meilleurs hyperparamètres : {study.best_params}\")\n",
    "print(f\"Meilleure RMSE : {study.best_value}\")\n",
    "\n",
    "# Entraînement du modèle Lasso avec les meilleurs hyperparamètres\n",
    "best_alpha = study.best_params['alpha']\n",
    "best_model = Lasso(alpha=best_alpha, random_state=42)\n",
    "best_model.fit(ROI_train_scaled, y_train)"
   ],
   "metadata": {
    "collapsed": false,
    "ExecuteTime": {
     "end_time": "2024-02-19T16:37:15.071580Z",
     "start_time": "2024-02-19T16:35:55.111687Z"
    }
   },
   "id": "6b27677f74deb177"
  },
  {
   "cell_type": "code",
   "execution_count": 24,
   "outputs": [
    {
     "name": "stderr",
     "output_type": "stream",
     "text": [
      "/Users/axel/Documents/École/Université/M2/M2_S1/Machine Learning/Challenge/venv/lib/python3.9/site-packages/sklearn/linear_model/_coordinate_descent.py:678: ConvergenceWarning: Objective did not converge. You might want to increase the number of iterations, check the scale of the features or consider increasing regularisation. Duality gap: 2.866e+01, tolerance: 9.223e+00\n",
      "  model = cd_fast.enet_coordinate_descent(\n"
     ]
    }
   ],
   "source": [
    "pred = best_model.predict(ROI_test_scaled)"
   ],
   "metadata": {
    "collapsed": false,
    "ExecuteTime": {
     "end_time": "2024-02-20T17:06:48.908284Z",
     "start_time": "2024-02-20T17:06:48.588306Z"
    }
   },
   "id": "81b3135b981432da"
  },
  {
   "cell_type": "code",
   "execution_count": 25,
   "outputs": [
    {
     "data": {
      "text/plain": "0.8857385780311983"
     },
     "execution_count": 25,
     "metadata": {},
     "output_type": "execute_result"
    }
   ],
   "source": [
    "r2_score(y_test, pred)"
   ],
   "metadata": {
    "collapsed": false,
    "ExecuteTime": {
     "end_time": "2024-02-20T17:06:50.670276Z",
     "start_time": "2024-02-20T17:06:50.657305Z"
    }
   },
   "id": "a5497ad7c15e460c"
  },
  {
   "cell_type": "code",
   "execution_count": 26,
   "outputs": [
    {
     "data": {
      "text/plain": "6.001058843378696"
     },
     "execution_count": 26,
     "metadata": {},
     "output_type": "execute_result"
    }
   ],
   "source": [
    "root_mean_squared_error(y_test, pred)"
   ],
   "metadata": {
    "collapsed": false,
    "ExecuteTime": {
     "end_time": "2024-02-20T17:06:51.461931Z",
     "start_time": "2024-02-20T17:06:51.450046Z"
    }
   },
   "id": "c8d26e3e7660a5d7"
  },
  {
   "cell_type": "code",
   "execution_count": 35,
   "outputs": [],
   "source": [
    "non_zero_coefficients = best_model.coef_ != 0"
   ],
   "metadata": {
    "collapsed": false,
    "ExecuteTime": {
     "end_time": "2024-02-20T17:08:40.598262Z",
     "start_time": "2024-02-20T17:08:40.585153Z"
    }
   },
   "id": "31f9d31d34433b28"
  },
  {
   "cell_type": "code",
   "execution_count": 38,
   "outputs": [],
   "source": [
    "selected_features = np.array(ROI_train.columns.to_list())[non_zero_coefficients]"
   ],
   "metadata": {
    "collapsed": false,
    "ExecuteTime": {
     "end_time": "2024-02-20T17:09:04.898838Z",
     "start_time": "2024-02-20T17:09:04.893901Z"
    }
   },
   "id": "b8e10698f620d2e2"
  },
  {
   "cell_type": "code",
   "execution_count": 43,
   "outputs": [
    {
     "name": "stdout",
     "output_type": "stream",
     "text": [
      "     Coefficient          Variable\n",
      "263     2.589846      rPla_CSF_Vol\n",
      "159     2.394059   rExtCbe_CSF_Vol\n",
      "179     2.250526   rVenVen_CSF_Vol\n",
      "146     2.098990   l3thVen_CSF_Vol\n",
      "29     -2.071931    rLatVen_GM_Vol\n",
      "64     -1.992618    lFroOpe_GM_Vol\n",
      "34      1.859760    lThaPro_GM_Vol\n",
      "118    -1.732790  lPosOrbGy_GM_Vol\n",
      "123    -1.616528     rPrcGy_GM_Vol\n",
      "14     -1.607591       lCau_GM_Vol\n"
     ]
    }
   ],
   "source": [
    "list(selected_features)"
   ],
   "metadata": {
    "collapsed": false,
    "ExecuteTime": {
     "end_time": "2024-02-20T17:10:32.529126Z",
     "start_time": "2024-02-20T17:10:32.512554Z"
    }
   },
   "id": "9dc411ecd0816fb0"
  }
 ],
 "metadata": {
  "kernelspec": {
   "display_name": "Python 3",
   "language": "python",
   "name": "python3"
  },
  "language_info": {
   "codemirror_mode": {
    "name": "ipython",
    "version": 2
   },
   "file_extension": ".py",
   "mimetype": "text/x-python",
   "name": "python",
   "nbconvert_exporter": "python",
   "pygments_lexer": "ipython2",
   "version": "2.7.6"
  }
 },
 "nbformat": 4,
 "nbformat_minor": 5
}
