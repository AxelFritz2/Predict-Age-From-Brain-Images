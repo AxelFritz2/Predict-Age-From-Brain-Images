{
 "cells": [
  {
   "cell_type": "code",
   "execution_count": 1,
   "id": "initial_id",
   "metadata": {
    "collapsed": true,
    "ExecuteTime": {
     "end_time": "2024-02-16T10:23:08.868672Z",
     "start_time": "2024-02-16T10:23:06.986010Z"
    }
   },
   "outputs": [],
   "source": [
    "import pandas as pd\n",
    "import optuna\n",
    "import sys\n",
    "from sklearn.metrics import root_mean_squared_error, r2_score\n",
    "from sklearn.linear_model import LinearRegression\n",
    "import numpy as np\n",
    "sys.path.append('../scripts')\n",
    "import problem"
   ]
  },
  {
   "cell_type": "markdown",
   "source": [
    "# Import des données"
   ],
   "metadata": {
    "collapsed": false
   },
   "id": "acb5528f08b8ab7"
  },
  {
   "cell_type": "code",
   "execution_count": 2,
   "outputs": [],
   "source": [
    "ROI_train = pd.read_csv(\"../data/train_rois.csv\")\n",
    "ROI_test = pd.read_csv(\"../data/test_rois.csv\")"
   ],
   "metadata": {
    "collapsed": false,
    "ExecuteTime": {
     "end_time": "2024-02-16T10:23:08.905265Z",
     "start_time": "2024-02-16T10:23:08.868576Z"
    }
   },
   "id": "e4bb3708f7c96454"
  },
  {
   "cell_type": "code",
   "execution_count": 3,
   "outputs": [
    {
     "data": {
      "text/plain": "(357, 288)"
     },
     "execution_count": 3,
     "metadata": {},
     "output_type": "execute_result"
    }
   ],
   "source": [
    "ROI_train.shape"
   ],
   "metadata": {
    "collapsed": false,
    "ExecuteTime": {
     "end_time": "2024-02-16T10:23:08.908057Z",
     "start_time": "2024-02-16T10:23:08.903647Z"
    }
   },
   "id": "b01a42d21793fe0a"
  },
  {
   "cell_type": "code",
   "execution_count": 4,
   "outputs": [],
   "source": [
    "participants_train = pd.read_csv(\"../data/train_participants.csv\")"
   ],
   "metadata": {
    "collapsed": false,
    "ExecuteTime": {
     "end_time": "2024-02-16T10:23:08.920567Z",
     "start_time": "2024-02-16T10:23:08.908256Z"
    }
   },
   "id": "886a143ed1ff23a8"
  },
  {
   "cell_type": "code",
   "execution_count": 5,
   "outputs": [],
   "source": [
    "X_train, y_train = problem.get_train_data(True)\n",
    "X_test, y_test = problem.get_test_data(True)\n",
    "\n",
    "assert X_train.shape[1] == 284 + 331695"
   ],
   "metadata": {
    "collapsed": false,
    "ExecuteTime": {
     "end_time": "2024-02-16T10:23:18.690583Z",
     "start_time": "2024-02-16T10:23:08.915271Z"
    }
   },
   "id": "27bba4819f39c1dd"
  },
  {
   "cell_type": "markdown",
   "source": [
    "# Séparation des variables en 5 zones : \n",
    "- **Zone Corticale** : reflète les principales fonctions cognitives et sensorielles du cerveau.\n",
    "- **Zone Subcorticale** et Limbique : structures sous-corticales et les régions limbiques, impliquées dans les émotions, la mémoire, et le système de récompense.\n",
    "- **Zone des Ventricules et des Espaces Liquidiens** : Zones remplies de liquide cérébrospinal (CSF), essentielles pour la protection du cerveau, l'échange de nutriments, et l'élimination des déchets.\n",
    "- **Zone de la Matière Blanche et Motrice** : Cette catégorie combine la matière blanche, qui facilite la communication entre différentes régions du cerveau, et les structures motrices pour la coordination et le mouvement.\n",
    "- **Zone Cérébelleuse** : Catégorie distincte pour le cervelet, vu son rôle crucial dans la coordination motrice, mais également dans certaines fonctions cognitives."
   ],
   "metadata": {
    "collapsed": false
   },
   "id": "71bfde8843cc45f4"
  },
  {
   "cell_type": "code",
   "execution_count": 6,
   "outputs": [],
   "source": [
    "corticale_GM = [\"lAntIns_GM_Vol\", \"rAntIns_GM_Vol\" ,\n",
    "\"lAntOrbGy_GM_Vol\", \"rAntOrbGy_GM_Vol\" ,\n",
    "\"lFroOpe_GM_Vol\", \"rFroOpe_GM_Vol\" ,\n",
    "\"lFroPo_GM_Vol\", \"rFroPo_GM_Vol\" ,\n",
    "\"lMidFroGy_GM_Vol\", \"rMidFroGy_GM_Vol\" ,\n",
    "\"lMedFroCbr_GM_Vol\", \"rMedFroCbr_GM_Vol\" ,\n",
    "\"lSupMedFroGy_GM_Vol\", \"rSupMedFroGy_GM_Vol\" ,\n",
    "\"lInfFroGy_GM_Vol\", \"rInfFroGy_GM_Vol\" ,\n",
    "\"lInfFroOrbGy_GM_Vol\", \"rInfFroOrbGy_GM_Vol\" ,\n",
    "\"lSupFroGy_GM_Vol\", \"rSupFroGy_GM_Vol\" ,\n",
    "\"lInfFroAngGy_GM_Vol\", \"rInfFroAngGy_GM_Vol\", \n",
    "\"lAngGy_GM_Vol\", \"rAngGy_GM_Vol\",\n",
    "\"lCun_GM_Vol\", \"rCun_GM_Vol\" ,\n",
    "\"lInfOccGy_GM_Vol\", \"rInfOccGy_GM_Vol\" ,\n",
    "\"lMidOccGy_GM_Vol\", \"rMidOccGy_GM_Vol\" ,\n",
    "\"lOccPo_GM_Vol\", \"rOccPo_GM_Vol\" ,\n",
    "\"lPCu_GM_Vol\", \"rPCu_GM_Vol\" ,\n",
    "\"lParHipGy_GM_Vol\", \"rParHipGy_GM_Vol\" ,\n",
    "\"lParOpe_GM_Vol\", \"rParOpe_GM_Vol\" ,\n",
    "\"lPoCGy_GM_Vol\", \"rPoCGy_GM_Vol\" ,\n",
    "\"lSupParLo_GM_Vol\", \"rSupParLo_GM_Vol\" ,\n",
    "\"lOccFusGy_GM_Vol\", \"rOccFusGy_GM_Vol\" ,\n",
    "\"lPosOrbGy_GM_Vol\", \"rPosOrbGy_GM_Vol\",\n",
    "\"lSupOccGy_GM_Vol\", \"rSupOccGy_GM_Vol\", \n",
    "\"lEnt_GM_Vol\", \"rEnt_GM_Vol\" ,\n",
    "\"lFusGy_GM_Vol\", \"rFusGy_GM_Vol\" ,\n",
    "\"lInfTemGy_GM_Vol\", \"rInfTemGy_GM_Vol\" ,\n",
    "\"lMidTemGy_GM_Vol\", \"rMidTemGy_GM_Vol\" ,\n",
    "\"lTem_GM_Vol\", \"rTem_GM_Vol\" ,\n",
    "\"lTemPo_GM_Vol\", \"rTemPo_GM_Vol\" ,\n",
    "\"lTemTraGy_GM_Vol\", \"rTemTraGy_GM_Vol\" ,\n",
    "\"lPosIns_GM_Vol\", \"rPosIns_GM_Vol\",\n",
    "\"lPosCinGy_GM_Vol\", \"rPosCinGy_GM_Vol\" ,\n",
    "\"lCenOpe_GM_Vol\", \"rCenOpe_GM_Vol\",\n",
    "\"lCal+Cbr_GM_Vol\", \"rCal+Cbr_GM_Vol\",\n",
    "\"lRecGy_GM_Vol\", \"rRecGy_GM_Vol\" ,\n",
    "\"lLinGy_GM_Vol\", \"rLinGy_GM_Vol\" ,\n",
    "\"lLatOrbGy_GM_Vol\", \"rLatOrbGy_GM_Vol\" ,\n",
    "\"lMidCinGy_GM_Vol\", \"rMidCinGy_GM_Vol\" ,\n",
    "\"lMedOrbGy_GM_Vol\", \"rMedOrbGy_GM_Vol\" ,\n",
    "\"lMedPoCGy_GM_Vol\", \"rMedPoCGy_GM_Vol\" ,\n",
    "\"lMedPrcGy_GM_Vol\", \"rMedPrcGy_GM_Vol\" ,\n",
    "\"lPrcGy_GM_Vol\", \"rPrcGy_GM_Vol\" ,\n",
    "\"lPla_GM_Vol\", \"rPla_GM_Vol\" ,\n",
    "\"lSCA_GM_Vol\", \"rSCA_GM_Vol\" ,\n",
    "\"lSupMarGy_GM_Vol\", \"rSupMarGy_GM_Vol\", \n",
    "\"lAntCinGy_GM_Vol\", \"rAntCinGy_GM_Vol\", \n",
    "\"lOC_GM_Vol\", \"rOC_GM_Vol\"\n",
    "\n",
    "]\n",
    "corticale_CSF = [\"lCenOpe_CSF_Vol\", \"rCenOpe_CSF_Vol\" ,\n",
    "\"lFroOpe_CSF_Vol\", \"rFroOpe_CSF_Vol\" ,\n",
    "\"lFroPo_CSF_Vol\", \"rFroPo_CSF_Vol\",\n",
    "\"lMidFroGy_CSF_Vol\", \"rMidFroGy_CSF_Vol\" ,\n",
    "\"lMedFroCbr_CSF_Vol\", \"rMedFroCbr_CSF_Vol\" ,\n",
    "\"lSupMedFroGy_CSF_Vol\", \"rSupMedFroGy_CSF_Vol\" ,\n",
    "\"lLatOrbGy_CSF_Vol\", \"rLatOrbGy_CSF_Vol\" ,\n",
    "\"lMedOrbGy_CSF_Vol\", \"rMedOrbGy_CSF_Vol\" ,\n",
    "\"lInfFroGy_CSF_Vol\", \"rInfFroGy_CSF_Vol\" ,\n",
    "\"lInfFroOrbGy_CSF_Vol\", \"rInfFroOrbGy_CSF_Vol\" ,\n",
    "\"lPosIns_CSF_Vol\", \"rPosIns_CSF_Vol\" ,\n",
    "\"lSupFroGy_CSF_Vol\", \"rSupFroGy_CSF_Vol\" ,\n",
    "\"lInfFroAngGy_CSF_Vol\", \"rInfFroAngGy_CSF_Vol\" ,\n",
    "\"lPrcGy_CSF_Vol\", \"rPrcGy_CSF_Vol\", \n",
    "\"lInfOccGy_CSF_Vol\", \"rInfOccGy_CSF_Vol\" ,\n",
    "\"lMidOccGy_CSF_Vol\", \"rMidOccGy_CSF_Vol\" ,\n",
    "\"lOccPo_CSF_Vol\", \"rOccPo_CSF_Vol\" ,\n",
    "\"lOccFusGy_CSF_Vol\", \"rOccFusGy_CSF_Vol\" ,\n",
    "\"lCun_CSF_Vol\", \"rCun_CSF_Vol\" ,\n",
    "\"lPosCinGy_CSF_Vol\", \"rPosCinGy_CSF_Vol\" ,\n",
    "\"lPCu_CSF_Vol\", \"rPCu_CSF_Vol\" ,\n",
    "\"lPoCGy_CSF_Vol\", \"rPoCGy_CSF_Vol\" ,\n",
    "\"lParOpe_CSF_Vol\", \"rParOpe_CSF_Vol\" ,\n",
    "\"lSupParLo_CSF_Vol\", \"rSupParLo_CSF_Vol\" ,\n",
    "\"lSupOccGy_CSF_Vol\", \"rSupOccGy_CSF_Vol\" ,\n",
    "\"lPosOrbGy_CSF_Vol\", \"rPosOrbGy_CSF_Vol\" ,\n",
    "\"lInfTemGy_CSF_Vol\", \"rInfTemGy_CSF_Vol\" ,\n",
    "\"lMidTemGy_CSF_Vol\", \"rMidTemGy_CSF_Vol\" ,\n",
    "\"lEnt_CSF_Vol\", \"rEnt_CSF_Vol\" ,\n",
    "\"lParHipGy_CSF_Vol\", \"rParHipGy_CSF_Vol\" ,\n",
    "\"lTem_CSF_Vol\", \"rTem_CSF_Vol\" ,\n",
    "\"lSupTemGy_CSF_Vol\", \"rSupTemGy_CSF_Vol\" ,\n",
    "\"lTemPo_CSF_Vol\", \"rTemPo_CSF_Vol\" ,\n",
    "\"lTemTraGy_CSF_Vol\", \"rTemTraGy_CSF_Vol\" ,\n",
    "\"lOC_CSF_Vol\", \"rOC_CSF_Vol\" ,\n",
    "\"lAntCinGy_CSF_Vol\", \"rAntCinGy_CSF_Vol\" ,\n",
    "\"lAntIns_CSF_Vol\", \"rAntIns_CSF_Vol\" ,\n",
    "\"lAntOrbGy_CSF_Vol\", \"rAntOrbGy_CSF_Vol\" ,\n",
    "\"lAngGy_CSF_Vol\", \"rAngGy_CSF_Vol\" ,\n",
    "\"lCal+Cbr_CSF_Vol\", \"rCal+Cbr_CSF_Vol\",\n",
    "\n",
    "]"
   ],
   "metadata": {
    "collapsed": false,
    "ExecuteTime": {
     "end_time": "2024-02-16T10:23:18.700570Z",
     "start_time": "2024-02-16T10:23:18.689295Z"
    }
   },
   "id": "476320e08a5595ae"
  },
  {
   "cell_type": "code",
   "execution_count": 7,
   "outputs": [],
   "source": [
    "subcorticale_GM = [\"lAcc_GM_Vol\", \"rAcc_GM_Vol\" ,\n",
    "\"lAmy_GM_Vol\", \"rAmy_GM_Vol\" ,\n",
    "\"lBst_GM_Vol\", \"rBst_GM_Vol\" ,\n",
    "\"lCau_GM_Vol\", \"rCau_GM_Vol\" ,\n",
    "\"lPal_GM_Vol\", \"rPal_GM_Vol\" ,\n",
    "\"lPut_GM_Vol\", \"rPut_GM_Vol\" ,\n",
    "\"lThaPro_GM_Vol\", \"rThaPro_GM_Vol\", \n",
    "\"lBasCbr+FobBr_GM_Vol\", \"rBasCbr+FobBr_GM_Vol\"]\n",
    "subcorticale_CSF = [\"lAcc_CSF_Vol\", \"rAcc_CSF_Vol\" ,\n",
    "\"lAmy_CSF_Vol\", \"rAmy_CSF_Vol\" ,\n",
    "\"lBst_CSF_Vol\", \"rBst_CSF_Vol\" ,\n",
    "\"lCau_CSF_Vol\", \"rCau_CSF_Vol\" ,\n",
    "\"lPal_CSF_Vol\", \"rPal_CSF_Vol\" ,\n",
    "\"lPut_CSF_Vol\", \"rPut_CSF_Vol\" ,\n",
    "\"lThaPro_CSF_Vol\", \"rThaPro_CSF_Vol\" ,\n",
    "\"lLinGy_CSF_Vol\", \"rLinGy_CSF_Vol\" ,\n",
    "\"lMidCinGy_CSF_Vol\", \"rMidCinGy_CSF_Vol\" ,\n",
    "\"lMedPoCGy_CSF_Vol\", \"rMedPoCGy_CSF_Vol\" ,\n",
    "\"lMedPrcGy_CSF_Vol\", \"rMedPrcGy_CSF_Vol\" ,\n",
    "\"lFusGy_CSF_Vol\", \"rFusGy_CSF_Vol\" ,\n",
    "\"lRecGy_CSF_Vol\", \"rRecGy_CSF_Vol\", \n",
    "\"lBasCbr+FobBr_CSF_Vol\", \"rBasCbr+FobBr_CSF_Vol\", \n",
    "\"lPla_CSF_Vol\", \"rPla_CSF_Vol\", \n",
    "\"lSCA_CSF_Vol\", \"rSCA_CSF_Vol\", \n",
    "\"lCbr+Mot_CSF_Vol\", \"rCbr+Mot_CSF_Vol\", \n",
    "\"lSupMarGy_CSF_Vol\", \"rSupMarGy_CSF_Vol\" ]"
   ],
   "metadata": {
    "collapsed": false,
    "ExecuteTime": {
     "end_time": "2024-02-16T10:23:18.710165Z",
     "start_time": "2024-02-16T10:23:18.702963Z"
    }
   },
   "id": "da4a6e24614b38f7"
  },
  {
   "cell_type": "code",
   "execution_count": 8,
   "outputs": [],
   "source": [
    "liquidiens_GM = [\"l3thVen_GM_Vol\", \"r3thVen_GM_Vol\" ,\n",
    "\"l4thVen_GM_Vol\", \"r4thVen_GM_Vol\" ,\n",
    "\"lInfLatVen_GM_Vol\", \"rInfLatVen_GM_Vol\" ,\n",
    "\"lLatVen_GM_Vol\", \"rLatVen_GM_Vol\" ,\n",
    "\"lVenVen_GM_Vol\", \"rVenVen_GM_Vol\" ,\n",
    "]\n",
    "liquidiens_CSF = [\"l3thVen_CSF_Vol\", \"r3thVen_CSF_Vol\" ,\n",
    "\"l4thVen_CSF_Vol\", \"r4thVen_CSF_Vol\" ,\n",
    "\"lCSF_CSF_Vol\", \"rCSF_CSF_Vol\" ,\n",
    "\"lInfLatVen_CSF_Vol\", \"rInfLatVen_CSF_Vol\" ,\n",
    "\"lLatVen_CSF_Vol\", \"rLatVen_CSF_Vol\" ,\n",
    "\"lVenVen_CSF_Vol\", \"rVenVen_CSF_Vol\"]"
   ],
   "metadata": {
    "collapsed": false,
    "ExecuteTime": {
     "end_time": "2024-02-16T10:23:18.712485Z",
     "start_time": "2024-02-16T10:23:18.707981Z"
    }
   },
   "id": "9d4a161bc58e607c"
  },
  {
   "cell_type": "code",
   "execution_count": 9,
   "outputs": [],
   "source": [
    "mat_blanche_GM = [\"lCbr+Mot_GM_Vol\", \n",
    "                  \"rCbr+Mot_GM_Vol\",]\n",
    "mat_blanche_CSF = [\"lCbeWM_CSF_Vol\", \"rCbeWM_CSF_Vol\" ,\n",
    "\"lCbrWM_CSF_Vol\", \"rCbrWM_CSF_Vol\"]"
   ],
   "metadata": {
    "collapsed": false,
    "ExecuteTime": {
     "end_time": "2024-02-16T10:23:18.724208Z",
     "start_time": "2024-02-16T10:23:18.712176Z"
    }
   },
   "id": "5e2bd42b52945d8a"
  },
  {
   "cell_type": "code",
   "execution_count": 10,
   "outputs": [],
   "source": [
    "cereb_GM = [\"lExtCbe_GM_Vol\", \"rExtCbe_GM_Vol\" ,\n",
    "\"lCbeWM_GM_Vol\", \"rCbeWM_GM_Vol\" ,\n",
    "\"lCbeLoCbe1-5_GM_Vol\", \"rCbeLoCbe1-5_GM_Vol\" ,\n",
    "\"lCbeLoCbe6-7_GM_Vol\", \"rCbeLoCbe6-7_GM_Vol\" ,\n",
    "\"lCbeLoCbe8-10_GM_Vol\", \"rCbeLoCbe8-10_GM_Vol\" , \n",
    "]\n",
    "cereb_CSF = [\"lExtCbe_CSF_Vol\", \"rExtCbe_CSF_Vol\", \n",
    "\"lCbeLoCbe1-5_CSF_Vol\", \"rCbeLoCbe1-5_CSF_Vol\",\n",
    "\"lCbeLoCbe6-7_CSF_Vol\", \"rCbeLoCbe6-7_CSF_Vol\",\n",
    "\"lCbeLoCbe8-10_CSF_Vol\", \"rCbeLoCbe8-10_CSF_Vol\",\n",
    "]"
   ],
   "metadata": {
    "collapsed": false,
    "ExecuteTime": {
     "end_time": "2024-02-16T10:23:18.724396Z",
     "start_time": "2024-02-16T10:23:18.715910Z"
    }
   },
   "id": "5b95bf96eeef22e"
  },
  {
   "cell_type": "code",
   "execution_count": 11,
   "outputs": [],
   "source": [
    "autre_GM = ['lCbrWM_GM_Vol',\n",
    " 'rCbrWM_GM_Vol',\n",
    " 'lCSF_GM_Vol',\n",
    " 'rCSF_GM_Vol',\n",
    " 'lHip_GM_Vol',\n",
    " 'rHip_GM_Vol',\n",
    " 'lSupTemGy_GM_Vol',\n",
    " 'rSupTemGy_GM_Vol',\n",
    "]\n",
    "autre_CSF = [ 'lHip_CSF_Vol',\n",
    " 'rHip_CSF_Vol']"
   ],
   "metadata": {
    "collapsed": false,
    "ExecuteTime": {
     "end_time": "2024-02-16T10:23:18.724480Z",
     "start_time": "2024-02-16T10:23:18.719341Z"
    }
   },
   "id": "411337fd91967020"
  },
  {
   "cell_type": "code",
   "execution_count": 12,
   "outputs": [],
   "source": [
    "assert len(corticale_GM) + len(corticale_CSF) + len(subcorticale_CSF) + len(subcorticale_GM) + len(liquidiens_GM) + len(liquidiens_CSF) + len(mat_blanche_GM) + len(mat_blanche_CSF) + len(cereb_GM) + len(cereb_CSF) + len(autre_CSF) + len(autre_GM) == ROI_train.shape[1]-4"
   ],
   "metadata": {
    "collapsed": false,
    "ExecuteTime": {
     "end_time": "2024-02-16T10:23:18.738869Z",
     "start_time": "2024-02-16T10:23:18.723179Z"
    }
   },
   "id": "91bc042397c7062e"
  },
  {
   "cell_type": "markdown",
   "source": [
    "# Calcul des volumes de chaque partie"
   ],
   "metadata": {
    "collapsed": false
   },
   "id": "439788b525904127"
  },
  {
   "cell_type": "code",
   "execution_count": 13,
   "outputs": [],
   "source": [
    "ROI_train[\"Vol_GM_corticale\"] = ROI_train[corticale_GM].sum(axis = 1)\n",
    "ROI_train[\"Vol_CSF_corticale\"] = ROI_train[corticale_CSF].sum(axis = 1)"
   ],
   "metadata": {
    "collapsed": false,
    "ExecuteTime": {
     "end_time": "2024-02-16T10:23:18.739481Z",
     "start_time": "2024-02-16T10:23:18.727380Z"
    }
   },
   "id": "61917ce685d218d7"
  },
  {
   "cell_type": "code",
   "execution_count": 14,
   "outputs": [],
   "source": [
    "ROI_train[\"Vol_GM_subcorticale\"] = ROI_train[subcorticale_GM].sum(axis = 1)\n",
    "ROI_train[\"Vol_CSF_subcorticale\"] = ROI_train[subcorticale_CSF].sum(axis = 1)"
   ],
   "metadata": {
    "collapsed": false,
    "ExecuteTime": {
     "end_time": "2024-02-16T10:23:18.739574Z",
     "start_time": "2024-02-16T10:23:18.734288Z"
    }
   },
   "id": "d54f19af0db24be2"
  },
  {
   "cell_type": "code",
   "execution_count": 15,
   "outputs": [],
   "source": [
    "ROI_train[\"Vol_GM_liquidien\"] = ROI_train[liquidiens_GM].sum(axis = 1)\n",
    "ROI_train[\"Vol_CSF_liquidien\"] = ROI_train[liquidiens_CSF].sum(axis = 1)"
   ],
   "metadata": {
    "collapsed": false,
    "ExecuteTime": {
     "end_time": "2024-02-16T10:23:18.752114Z",
     "start_time": "2024-02-16T10:23:18.741047Z"
    }
   },
   "id": "4acf0f4d006f0621"
  },
  {
   "cell_type": "code",
   "execution_count": 16,
   "outputs": [],
   "source": [
    "ROI_train[\"Vol_GM_matblanche\"] = ROI_train[mat_blanche_GM].sum(axis = 1)\n",
    "ROI_train[\"Vol_CSF_matblanche\"] = ROI_train[mat_blanche_CSF].sum(axis = 1)"
   ],
   "metadata": {
    "collapsed": false,
    "ExecuteTime": {
     "end_time": "2024-02-16T10:23:18.762997Z",
     "start_time": "2024-02-16T10:23:18.749150Z"
    }
   },
   "id": "acd1404f677c4bde"
  },
  {
   "cell_type": "code",
   "execution_count": 17,
   "outputs": [],
   "source": [
    "ROI_train[\"Vol_GM_cereb\"] = ROI_train[cereb_GM].sum(axis = 1)\n",
    "ROI_train[\"Vol_CSF_cereb\"] = ROI_train[cereb_CSF].sum(axis = 1)"
   ],
   "metadata": {
    "collapsed": false,
    "ExecuteTime": {
     "end_time": "2024-02-16T10:23:18.764847Z",
     "start_time": "2024-02-16T10:23:18.754263Z"
    }
   },
   "id": "4a29182a6c77221a"
  },
  {
   "cell_type": "code",
   "execution_count": 18,
   "outputs": [],
   "source": [
    "ROI_train[\"Vol_GM_autre\"] = ROI_train[autre_GM].sum(axis = 1)\n",
    "ROI_train[\"Vol_CSF_autre\"] = ROI_train[autre_CSF].sum(axis = 1)"
   ],
   "metadata": {
    "collapsed": false,
    "ExecuteTime": {
     "end_time": "2024-02-16T10:23:18.765Z",
     "start_time": "2024-02-16T10:23:18.760544Z"
    }
   },
   "id": "92d5a80a8509062a"
  },
  {
   "cell_type": "code",
   "execution_count": 19,
   "outputs": [],
   "source": [
    "ROI_test[\"Vol_GM_corticale\"] = ROI_test[corticale_GM].sum(axis=1)\n",
    "ROI_test[\"Vol_CSF_corticale\"] = ROI_test[corticale_CSF].sum(axis=1)\n",
    "ROI_test[\"Vol_GM_subcorticale\"] = ROI_test[subcorticale_GM].sum(axis=1)\n",
    "ROI_test[\"Vol_CSF_subcorticale\"] = ROI_test[subcorticale_CSF].sum(axis=1)\n",
    "ROI_test[\"Vol_GM_liquidien\"] = ROI_test[liquidiens_GM].sum(axis=1)\n",
    "ROI_test[\"Vol_CSF_liquidien\"] = ROI_test[liquidiens_CSF].sum(axis=1)\n",
    "ROI_test[\"Vol_GM_matblanche\"] = ROI_test[mat_blanche_GM].sum(axis=1)\n",
    "ROI_test[\"Vol_CSF_matblanche\"] = ROI_test[mat_blanche_CSF].sum(axis=1)\n",
    "ROI_test[\"Vol_GM_cereb\"] = ROI_test[cereb_GM].sum(axis=1)\n",
    "ROI_test[\"Vol_CSF_cereb\"] = ROI_test[cereb_CSF].sum(axis=1)\n",
    "ROI_test[\"Vol_GM_autre\"] = ROI_test[autre_GM].sum(axis=1)\n",
    "ROI_test[\"Vol_CSF_autre\"] = ROI_test[autre_CSF].sum(axis=1)"
   ],
   "metadata": {
    "collapsed": false,
    "ExecuteTime": {
     "end_time": "2024-02-16T10:23:18.779562Z",
     "start_time": "2024-02-16T10:23:18.766349Z"
    }
   },
   "id": "9751504e207a323d"
  },
  {
   "cell_type": "code",
   "execution_count": 20,
   "outputs": [],
   "source": [
    "Vol_list = [\"Vol_GM_corticale\", \"Vol_CSF_corticale\", \"Vol_GM_subcorticale\", \"Vol_CSF_subcorticale\", \"Vol_GM_liquidien\",\"Vol_CSF_liquidien\", \"Vol_GM_matblanche\",\"Vol_CSF_matblanche\", \"Vol_GM_cereb\", \"Vol_CSF_cereb\" , \"Vol_GM_autre\", \"Vol_CSF_autre\"]"
   ],
   "metadata": {
    "collapsed": false,
    "ExecuteTime": {
     "end_time": "2024-02-16T10:23:18.781818Z",
     "start_time": "2024-02-16T10:23:18.778134Z"
    }
   },
   "id": "bd3fbc08538f4505"
  },
  {
   "cell_type": "markdown",
   "source": [
    "# Modélisation"
   ],
   "metadata": {
    "collapsed": false
   },
   "id": "b9ccb39f938ea803"
  },
  {
   "cell_type": "code",
   "execution_count": 21,
   "outputs": [],
   "source": [
    "from sklearn.preprocessing import StandardScaler"
   ],
   "metadata": {
    "collapsed": false,
    "ExecuteTime": {
     "end_time": "2024-02-16T10:23:18.798102Z",
     "start_time": "2024-02-16T10:23:18.781134Z"
    }
   },
   "id": "907594292ddb171f"
  },
  {
   "cell_type": "code",
   "execution_count": 22,
   "outputs": [],
   "source": [
    "ROI_train_scaled = StandardScaler().fit_transform(ROI_train)"
   ],
   "metadata": {
    "collapsed": false,
    "ExecuteTime": {
     "end_time": "2024-02-16T10:23:18.798578Z",
     "start_time": "2024-02-16T10:23:18.784040Z"
    }
   },
   "id": "604db43c1dff5f07"
  },
  {
   "cell_type": "code",
   "execution_count": 23,
   "outputs": [],
   "source": [
    "ROI_test_scaled = StandardScaler().fit_transform(ROI_test)"
   ],
   "metadata": {
    "collapsed": false,
    "ExecuteTime": {
     "end_time": "2024-02-16T10:23:18.810518Z",
     "start_time": "2024-02-16T10:23:18.796881Z"
    }
   },
   "id": "2c5c038317fb639c"
  },
  {
   "cell_type": "code",
   "execution_count": 24,
   "outputs": [
    {
     "data": {
      "text/plain": "LinearRegression()",
      "text/html": "<style>#sk-container-id-1 {\n  /* Definition of color scheme common for light and dark mode */\n  --sklearn-color-text: black;\n  --sklearn-color-line: gray;\n  /* Definition of color scheme for unfitted estimators */\n  --sklearn-color-unfitted-level-0: #fff5e6;\n  --sklearn-color-unfitted-level-1: #f6e4d2;\n  --sklearn-color-unfitted-level-2: #ffe0b3;\n  --sklearn-color-unfitted-level-3: chocolate;\n  /* Definition of color scheme for fitted estimators */\n  --sklearn-color-fitted-level-0: #f0f8ff;\n  --sklearn-color-fitted-level-1: #d4ebff;\n  --sklearn-color-fitted-level-2: #b3dbfd;\n  --sklearn-color-fitted-level-3: cornflowerblue;\n\n  /* Specific color for light theme */\n  --sklearn-color-text-on-default-background: var(--sg-text-color, var(--theme-code-foreground, var(--jp-content-font-color1, black)));\n  --sklearn-color-background: var(--sg-background-color, var(--theme-background, var(--jp-layout-color0, white)));\n  --sklearn-color-border-box: var(--sg-text-color, var(--theme-code-foreground, var(--jp-content-font-color1, black)));\n  --sklearn-color-icon: #696969;\n\n  @media (prefers-color-scheme: dark) {\n    /* Redefinition of color scheme for dark theme */\n    --sklearn-color-text-on-default-background: var(--sg-text-color, var(--theme-code-foreground, var(--jp-content-font-color1, white)));\n    --sklearn-color-background: var(--sg-background-color, var(--theme-background, var(--jp-layout-color0, #111)));\n    --sklearn-color-border-box: var(--sg-text-color, var(--theme-code-foreground, var(--jp-content-font-color1, white)));\n    --sklearn-color-icon: #878787;\n  }\n}\n\n#sk-container-id-1 {\n  color: var(--sklearn-color-text);\n}\n\n#sk-container-id-1 pre {\n  padding: 0;\n}\n\n#sk-container-id-1 input.sk-hidden--visually {\n  border: 0;\n  clip: rect(1px 1px 1px 1px);\n  clip: rect(1px, 1px, 1px, 1px);\n  height: 1px;\n  margin: -1px;\n  overflow: hidden;\n  padding: 0;\n  position: absolute;\n  width: 1px;\n}\n\n#sk-container-id-1 div.sk-dashed-wrapped {\n  border: 1px dashed var(--sklearn-color-line);\n  margin: 0 0.4em 0.5em 0.4em;\n  box-sizing: border-box;\n  padding-bottom: 0.4em;\n  background-color: var(--sklearn-color-background);\n}\n\n#sk-container-id-1 div.sk-container {\n  /* jupyter's `normalize.less` sets `[hidden] { display: none; }`\n     but bootstrap.min.css set `[hidden] { display: none !important; }`\n     so we also need the `!important` here to be able to override the\n     default hidden behavior on the sphinx rendered scikit-learn.org.\n     See: https://github.com/scikit-learn/scikit-learn/issues/21755 */\n  display: inline-block !important;\n  position: relative;\n}\n\n#sk-container-id-1 div.sk-text-repr-fallback {\n  display: none;\n}\n\ndiv.sk-parallel-item,\ndiv.sk-serial,\ndiv.sk-item {\n  /* draw centered vertical line to link estimators */\n  background-image: linear-gradient(var(--sklearn-color-text-on-default-background), var(--sklearn-color-text-on-default-background));\n  background-size: 2px 100%;\n  background-repeat: no-repeat;\n  background-position: center center;\n}\n\n/* Parallel-specific style estimator block */\n\n#sk-container-id-1 div.sk-parallel-item::after {\n  content: \"\";\n  width: 100%;\n  border-bottom: 2px solid var(--sklearn-color-text-on-default-background);\n  flex-grow: 1;\n}\n\n#sk-container-id-1 div.sk-parallel {\n  display: flex;\n  align-items: stretch;\n  justify-content: center;\n  background-color: var(--sklearn-color-background);\n  position: relative;\n}\n\n#sk-container-id-1 div.sk-parallel-item {\n  display: flex;\n  flex-direction: column;\n}\n\n#sk-container-id-1 div.sk-parallel-item:first-child::after {\n  align-self: flex-end;\n  width: 50%;\n}\n\n#sk-container-id-1 div.sk-parallel-item:last-child::after {\n  align-self: flex-start;\n  width: 50%;\n}\n\n#sk-container-id-1 div.sk-parallel-item:only-child::after {\n  width: 0;\n}\n\n/* Serial-specific style estimator block */\n\n#sk-container-id-1 div.sk-serial {\n  display: flex;\n  flex-direction: column;\n  align-items: center;\n  background-color: var(--sklearn-color-background);\n  padding-right: 1em;\n  padding-left: 1em;\n}\n\n\n/* Toggleable style: style used for estimator/Pipeline/ColumnTransformer box that is\nclickable and can be expanded/collapsed.\n- Pipeline and ColumnTransformer use this feature and define the default style\n- Estimators will overwrite some part of the style using the `sk-estimator` class\n*/\n\n/* Pipeline and ColumnTransformer style (default) */\n\n#sk-container-id-1 div.sk-toggleable {\n  /* Default theme specific background. It is overwritten whether we have a\n  specific estimator or a Pipeline/ColumnTransformer */\n  background-color: var(--sklearn-color-background);\n}\n\n/* Toggleable label */\n#sk-container-id-1 label.sk-toggleable__label {\n  cursor: pointer;\n  display: block;\n  width: 100%;\n  margin-bottom: 0;\n  padding: 0.5em;\n  box-sizing: border-box;\n  text-align: center;\n}\n\n#sk-container-id-1 label.sk-toggleable__label-arrow:before {\n  /* Arrow on the left of the label */\n  content: \"▸\";\n  float: left;\n  margin-right: 0.25em;\n  color: var(--sklearn-color-icon);\n}\n\n#sk-container-id-1 label.sk-toggleable__label-arrow:hover:before {\n  color: var(--sklearn-color-text);\n}\n\n/* Toggleable content - dropdown */\n\n#sk-container-id-1 div.sk-toggleable__content {\n  max-height: 0;\n  max-width: 0;\n  overflow: hidden;\n  text-align: left;\n  /* unfitted */\n  background-color: var(--sklearn-color-unfitted-level-0);\n}\n\n#sk-container-id-1 div.sk-toggleable__content.fitted {\n  /* fitted */\n  background-color: var(--sklearn-color-fitted-level-0);\n}\n\n#sk-container-id-1 div.sk-toggleable__content pre {\n  margin: 0.2em;\n  border-radius: 0.25em;\n  color: var(--sklearn-color-text);\n  /* unfitted */\n  background-color: var(--sklearn-color-unfitted-level-0);\n}\n\n#sk-container-id-1 div.sk-toggleable__content.fitted pre {\n  /* unfitted */\n  background-color: var(--sklearn-color-fitted-level-0);\n}\n\n#sk-container-id-1 input.sk-toggleable__control:checked~div.sk-toggleable__content {\n  /* Expand drop-down */\n  max-height: 200px;\n  max-width: 100%;\n  overflow: auto;\n}\n\n#sk-container-id-1 input.sk-toggleable__control:checked~label.sk-toggleable__label-arrow:before {\n  content: \"▾\";\n}\n\n/* Pipeline/ColumnTransformer-specific style */\n\n#sk-container-id-1 div.sk-label input.sk-toggleable__control:checked~label.sk-toggleable__label {\n  color: var(--sklearn-color-text);\n  background-color: var(--sklearn-color-unfitted-level-2);\n}\n\n#sk-container-id-1 div.sk-label.fitted input.sk-toggleable__control:checked~label.sk-toggleable__label {\n  background-color: var(--sklearn-color-fitted-level-2);\n}\n\n/* Estimator-specific style */\n\n/* Colorize estimator box */\n#sk-container-id-1 div.sk-estimator input.sk-toggleable__control:checked~label.sk-toggleable__label {\n  /* unfitted */\n  background-color: var(--sklearn-color-unfitted-level-2);\n}\n\n#sk-container-id-1 div.sk-estimator.fitted input.sk-toggleable__control:checked~label.sk-toggleable__label {\n  /* fitted */\n  background-color: var(--sklearn-color-fitted-level-2);\n}\n\n#sk-container-id-1 div.sk-label label.sk-toggleable__label,\n#sk-container-id-1 div.sk-label label {\n  /* The background is the default theme color */\n  color: var(--sklearn-color-text-on-default-background);\n}\n\n/* On hover, darken the color of the background */\n#sk-container-id-1 div.sk-label:hover label.sk-toggleable__label {\n  color: var(--sklearn-color-text);\n  background-color: var(--sklearn-color-unfitted-level-2);\n}\n\n/* Label box, darken color on hover, fitted */\n#sk-container-id-1 div.sk-label.fitted:hover label.sk-toggleable__label.fitted {\n  color: var(--sklearn-color-text);\n  background-color: var(--sklearn-color-fitted-level-2);\n}\n\n/* Estimator label */\n\n#sk-container-id-1 div.sk-label label {\n  font-family: monospace;\n  font-weight: bold;\n  display: inline-block;\n  line-height: 1.2em;\n}\n\n#sk-container-id-1 div.sk-label-container {\n  text-align: center;\n}\n\n/* Estimator-specific */\n#sk-container-id-1 div.sk-estimator {\n  font-family: monospace;\n  border: 1px dotted var(--sklearn-color-border-box);\n  border-radius: 0.25em;\n  box-sizing: border-box;\n  margin-bottom: 0.5em;\n  /* unfitted */\n  background-color: var(--sklearn-color-unfitted-level-0);\n}\n\n#sk-container-id-1 div.sk-estimator.fitted {\n  /* fitted */\n  background-color: var(--sklearn-color-fitted-level-0);\n}\n\n/* on hover */\n#sk-container-id-1 div.sk-estimator:hover {\n  /* unfitted */\n  background-color: var(--sklearn-color-unfitted-level-2);\n}\n\n#sk-container-id-1 div.sk-estimator.fitted:hover {\n  /* fitted */\n  background-color: var(--sklearn-color-fitted-level-2);\n}\n\n/* Specification for estimator info (e.g. \"i\" and \"?\") */\n\n/* Common style for \"i\" and \"?\" */\n\n.sk-estimator-doc-link,\na:link.sk-estimator-doc-link,\na:visited.sk-estimator-doc-link {\n  float: right;\n  font-size: smaller;\n  line-height: 1em;\n  font-family: monospace;\n  background-color: var(--sklearn-color-background);\n  border-radius: 1em;\n  height: 1em;\n  width: 1em;\n  text-decoration: none !important;\n  margin-left: 1ex;\n  /* unfitted */\n  border: var(--sklearn-color-unfitted-level-1) 1pt solid;\n  color: var(--sklearn-color-unfitted-level-1);\n}\n\n.sk-estimator-doc-link.fitted,\na:link.sk-estimator-doc-link.fitted,\na:visited.sk-estimator-doc-link.fitted {\n  /* fitted */\n  border: var(--sklearn-color-fitted-level-1) 1pt solid;\n  color: var(--sklearn-color-fitted-level-1);\n}\n\n/* On hover */\ndiv.sk-estimator:hover .sk-estimator-doc-link:hover,\n.sk-estimator-doc-link:hover,\ndiv.sk-label-container:hover .sk-estimator-doc-link:hover,\n.sk-estimator-doc-link:hover {\n  /* unfitted */\n  background-color: var(--sklearn-color-unfitted-level-3);\n  color: var(--sklearn-color-background);\n  text-decoration: none;\n}\n\ndiv.sk-estimator.fitted:hover .sk-estimator-doc-link.fitted:hover,\n.sk-estimator-doc-link.fitted:hover,\ndiv.sk-label-container:hover .sk-estimator-doc-link.fitted:hover,\n.sk-estimator-doc-link.fitted:hover {\n  /* fitted */\n  background-color: var(--sklearn-color-fitted-level-3);\n  color: var(--sklearn-color-background);\n  text-decoration: none;\n}\n\n/* Span, style for the box shown on hovering the info icon */\n.sk-estimator-doc-link span {\n  display: none;\n  z-index: 9999;\n  position: relative;\n  font-weight: normal;\n  right: .2ex;\n  padding: .5ex;\n  margin: .5ex;\n  width: min-content;\n  min-width: 20ex;\n  max-width: 50ex;\n  color: var(--sklearn-color-text);\n  box-shadow: 2pt 2pt 4pt #999;\n  /* unfitted */\n  background: var(--sklearn-color-unfitted-level-0);\n  border: .5pt solid var(--sklearn-color-unfitted-level-3);\n}\n\n.sk-estimator-doc-link.fitted span {\n  /* fitted */\n  background: var(--sklearn-color-fitted-level-0);\n  border: var(--sklearn-color-fitted-level-3);\n}\n\n.sk-estimator-doc-link:hover span {\n  display: block;\n}\n\n/* \"?\"-specific style due to the `<a>` HTML tag */\n\n#sk-container-id-1 a.estimator_doc_link {\n  float: right;\n  font-size: 1rem;\n  line-height: 1em;\n  font-family: monospace;\n  background-color: var(--sklearn-color-background);\n  border-radius: 1rem;\n  height: 1rem;\n  width: 1rem;\n  text-decoration: none;\n  /* unfitted */\n  color: var(--sklearn-color-unfitted-level-1);\n  border: var(--sklearn-color-unfitted-level-1) 1pt solid;\n}\n\n#sk-container-id-1 a.estimator_doc_link.fitted {\n  /* fitted */\n  border: var(--sklearn-color-fitted-level-1) 1pt solid;\n  color: var(--sklearn-color-fitted-level-1);\n}\n\n/* On hover */\n#sk-container-id-1 a.estimator_doc_link:hover {\n  /* unfitted */\n  background-color: var(--sklearn-color-unfitted-level-3);\n  color: var(--sklearn-color-background);\n  text-decoration: none;\n}\n\n#sk-container-id-1 a.estimator_doc_link.fitted:hover {\n  /* fitted */\n  background-color: var(--sklearn-color-fitted-level-3);\n}\n</style><div id=\"sk-container-id-1\" class=\"sk-top-container\"><div class=\"sk-text-repr-fallback\"><pre>LinearRegression()</pre><b>In a Jupyter environment, please rerun this cell to show the HTML representation or trust the notebook. <br />On GitHub, the HTML representation is unable to render, please try loading this page with nbviewer.org.</b></div><div class=\"sk-container\" hidden><div class=\"sk-item\"><div class=\"sk-estimator fitted sk-toggleable\"><input class=\"sk-toggleable__control sk-hidden--visually\" id=\"sk-estimator-id-1\" type=\"checkbox\" checked><label for=\"sk-estimator-id-1\" class=\"sk-toggleable__label fitted sk-toggleable__label-arrow fitted\">&nbsp;&nbsp;LinearRegression<a class=\"sk-estimator-doc-link fitted\" rel=\"noreferrer\" target=\"_blank\" href=\"https://scikit-learn.org/1.4/modules/generated/sklearn.linear_model.LinearRegression.html\">?<span>Documentation for LinearRegression</span></a><span class=\"sk-estimator-doc-link fitted\">i<span>Fitted</span></span></label><div class=\"sk-toggleable__content fitted\"><pre>LinearRegression()</pre></div> </div></div></div></div>"
     },
     "execution_count": 24,
     "metadata": {},
     "output_type": "execute_result"
    }
   ],
   "source": [
    "model = LinearRegression()\n",
    "model.fit(ROI_train_scaled, y_train)"
   ],
   "metadata": {
    "collapsed": false,
    "ExecuteTime": {
     "end_time": "2024-02-16T10:23:34.816473Z",
     "start_time": "2024-02-16T10:23:34.685234Z"
    }
   },
   "id": "c1a7c9c297ca8f86"
  },
  {
   "cell_type": "code",
   "execution_count": 25,
   "outputs": [],
   "source": [
    "pred = model.predict(ROI_test_scaled)"
   ],
   "metadata": {
    "collapsed": false,
    "ExecuteTime": {
     "end_time": "2024-02-16T10:23:36.012018Z",
     "start_time": "2024-02-16T10:23:35.954635Z"
    }
   },
   "id": "81b3135b981432da"
  },
  {
   "cell_type": "code",
   "execution_count": 26,
   "outputs": [
    {
     "data": {
      "text/plain": "0.43741600570087835"
     },
     "execution_count": 26,
     "metadata": {},
     "output_type": "execute_result"
    }
   ],
   "source": [
    "r2_score(y_test, pred)"
   ],
   "metadata": {
    "collapsed": false,
    "ExecuteTime": {
     "end_time": "2024-02-16T10:23:36.595600Z",
     "start_time": "2024-02-16T10:23:36.582281Z"
    }
   },
   "id": "a5497ad7c15e460c"
  },
  {
   "cell_type": "code",
   "execution_count": 28,
   "outputs": [
    {
     "data": {
      "text/plain": "13.315937838177303"
     },
     "execution_count": 28,
     "metadata": {},
     "output_type": "execute_result"
    }
   ],
   "source": [
    "root_mean_squared_error(y_test, pred)"
   ],
   "metadata": {
    "collapsed": false,
    "ExecuteTime": {
     "end_time": "2024-02-16T10:23:49.962646Z",
     "start_time": "2024-02-16T10:23:49.946369Z"
    }
   },
   "id": "2fb7d2a688bada20"
  }
 ],
 "metadata": {
  "kernelspec": {
   "display_name": "Python 3",
   "language": "python",
   "name": "python3"
  },
  "language_info": {
   "codemirror_mode": {
    "name": "ipython",
    "version": 2
   },
   "file_extension": ".py",
   "mimetype": "text/x-python",
   "name": "python",
   "nbconvert_exporter": "python",
   "pygments_lexer": "ipython2",
   "version": "2.7.6"
  }
 },
 "nbformat": 4,
 "nbformat_minor": 5
}
